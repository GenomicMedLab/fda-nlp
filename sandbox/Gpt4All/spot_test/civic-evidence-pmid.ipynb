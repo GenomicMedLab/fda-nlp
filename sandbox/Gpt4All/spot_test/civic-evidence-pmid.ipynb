{
 "cells": [
  {
   "cell_type": "code",
   "execution_count": 3,
   "metadata": {},
   "outputs": [
    {
     "data": {
      "text/plain": [
       "' {\\n\"outcome\": {\\n\"metric\": \"overall survival\",\\n\"value\": 84,\\n\"additional_descriptors\": [\"vemurafenib group\"]\\n},\\n{\\n\"outcome\": {\\n\"metric\": \"progression-free survival\",\\n\"value\": 74,\\n\"additional_descriptors\": [\"vemurafenib group\"]\\n}\\n}'"
      ]
     },
     "execution_count": 3,
     "metadata": {},
     "output_type": "execute_result"
    }
   ],
   "source": [
    "# CIVIC EID https://civicdb.org/evidence/1409/summary\n",
    "# PMID https://pubmed.ncbi.nlm.nih.gov/21639808/\n",
    "\n",
    "import llm\n",
    "model = llm.get_model('mistral-7b-instruct-v0')\n",
    "\n",
    "abstract = \"\"\"\n",
    "Background\n",
    "Phase 1 and 2 clinical trials of the BRAF kinase inhibitor vemurafenib (PLX4032) have shown response rates of more than 50% in patients with metastatic melanoma with the BRAF V600E mutation.\n",
    "\n",
    "Methods\n",
    "We conducted a phase 3 randomized clinical trial comparing vemurafenib with dacarbazine in 675 patients with previously untreated, metastatic melanoma with the BRAF V600E mutation. Patients were randomly assigned to receive either vemurafenib (960 mg orally twice daily) or dacarbazine (1000 mg per square meter of body-surface area intravenously every 3 weeks). Coprimary end points were rates of overall and progression-free survival. Secondary end points included the response rate, response duration, and safety. A final analysis was planned after 196 deaths and an interim analysis after 98 deaths.\n",
    "\n",
    "Results\n",
    "At 6 months, overall survival was 84% (95% confidence interval [CI], 78 to 89) in the vemurafenib group and 64% (95% CI, 56 to 73) in the dacarbazine group. In the interim analysis for overall survival and final analysis for progression-free survival, vemurafenib was associated with a relative reduction of 63% in the risk of death and of 74% in the risk of either death or disease progression, as compared with dacarbazine (P<0.001 for both comparisons). After review of the interim analysis by an independent data and safety monitoring board, crossover from dacarbazine to vemurafenib was recommended. Response rates were 48% for vemurafenib and 5% for dacarbazine. Common adverse events associated with vemurafenib were arthralgia, rash, fatigue, alopecia, keratoacanthoma or squamous-cell carcinoma, photosensitivity, nausea, and diarrhea; 38% of patients required dose modification because of toxic effects.\n",
    "\n",
    "Conclusions\n",
    "Vemurafenib produced improved rates of overall and progression-free survival in patients with previously untreated melanoma with the BRAF V600E mutation. (Funded by Hoffmann–La Roche; BRIM-3 ClinicalTrials.gov number, NCT01006980.)\n",
    "\"\"\"\n",
    "\n",
    "\n",
    "response = model.prompt(f'Read the follow clinical studies for PLX4032. Identify the primary treatment outcomes for each patient group. Format your answer using this JSON format: {{\"outcome\": {{\"metric\":<value>, \"value\":<value>,\"additional_descriptors\":[<value>] }} }} \\n Text: {abstract}')\n",
    "\n",
    "response.text()\n"
   ]
  },
  {
   "cell_type": "code",
   "execution_count": 4,
   "metadata": {},
   "outputs": [
    {
     "data": {
      "text/plain": [
       "' {\\n\"outcome\": {\\n\"metric\": \"overall survival\",\\n\"value\": \"9 months\",\\n\"additional_descriptors\": [\"triplet-therapy group\"]\\n},\\n{\\n\"outcome\": {\\n\"metric\": \"objective response rate\",\\n\"value\": \"26%\",\\n\"additional_descriptors\": [\"triplet-therapy group\"]\\n}\\n},\\n{\\n\"outcome\": {\\n\"metric\": \"overall survival\",\\n\"value\": \"8.4 months\",\\n\"additional_descriptors\": [\"doublet-therapy group\"]\\n}\\n}'"
      ]
     },
     "execution_count": 4,
     "metadata": {},
     "output_type": "execute_result"
    }
   ],
   "source": [
    "# CIVIC EID https://civicdb.org/evidence/7612/summary\n",
    "# PMID https://pubmed.ncbi.nlm.nih.gov/31566309/\n",
    "\n",
    "import llm\n",
    "model = llm.get_model('mistral-7b-instruct-v0')\n",
    "\n",
    "abstract = \"\"\"\n",
    "Background: Patients with metastatic colorectal cancer with the BRAF V600E mutation have a poor prognosis, with a median overall survival of 4 to 6 months after failure of initial therapy. Inhibition of BRAF alone has limited activity because of pathway reactivation through epidermal growth factor receptor signaling.\n",
    "\n",
    "Methods: In this open-label, phase 3 trial, we enrolled 665 patients with BRAF V600E-mutated metastatic colorectal cancer who had had disease progression after one or two previous regimens. Patients were randomly assigned in a 1:1:1 ratio to receive encorafenib, binimetinib, and cetuximab (triplet-therapy group); encorafenib and cetuximab (doublet-therapy group); or the investigators' choice of either cetuximab and irinotecan or cetuximab and FOLFIRI (folinic acid, fluorouracil, and irinotecan) (control group). The primary end points were overall survival and objective response rate in the triplet-therapy group as compared with the control group. A secondary end point was overall survival in the doublet-therapy group as compared with the control group. We report here the results of a prespecified interim analysis.\n",
    "\n",
    "Results: The median overall survival was 9.0 months in the triplet-therapy group and 5.4 months in the control group (hazard ratio for death, 0.52; 95% confidence interval [CI], 0.39 to 0.70; P<0.001). The confirmed response rate was 26% (95% CI, 18 to 35) in the triplet-therapy group and 2% (95% CI, 0 to 7) in the control group (P<0.001). The median overall survival in the doublet-therapy group was 8.4 months (hazard ratio for death vs. control, 0.60; 95% CI, 0.45 to 0.79; P<0.001). Adverse events of grade 3 or higher occurred in 58% of patients in the triplet-therapy group, in 50% in the doublet-therapy group, and in 61% in the control group.\n",
    "\n",
    "Conclusions: A combination of encorafenib, cetuximab, and binimetinib resulted in significantly longer overall survival and a higher response rate than standard therapy in patients with metastatic colorectal cancer with the BRAF V600E mutation. (Funded by Array BioPharma and others; BEACON CRC ClinicalTrials.gov number, NCT02928224; EudraCT number, 2015-005805-35.).\n",
    "\"\"\"\n",
    "\n",
    "response = model.prompt(f'Read the follow clinical studies for a combination therapy of encorafenib, binimetinib, and cetuximab. Identify the primary treatment outcomes for each patient group. Format your answer using this JSON format: {{\"outcome\": {{\"metric\":<value>, \"value\":<value>,\"additional_descriptors\":[<value>] }} }} \\n Text: {abstract}')\n",
    "\n",
    "response.text()\n"
   ]
  }
 ],
 "metadata": {
  "kernelspec": {
   "display_name": "projectname",
   "language": "python",
   "name": "projectname"
  },
  "language_info": {
   "codemirror_mode": {
    "name": "ipython",
    "version": 3
   },
   "file_extension": ".py",
   "mimetype": "text/x-python",
   "name": "python",
   "nbconvert_exporter": "python",
   "pygments_lexer": "ipython3",
   "version": "3.10.4"
  }
 },
 "nbformat": 4,
 "nbformat_minor": 2
}

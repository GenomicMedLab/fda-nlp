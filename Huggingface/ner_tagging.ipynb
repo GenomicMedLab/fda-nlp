{
 "cells": [
  {
   "cell_type": "markdown",
   "metadata": {},
   "source": [
    "## Background\n",
    "The aim of this research is to use AI-assisted technology to automatically generate interaction claims from additional, previously under utilized sources of data. In doing so, we can increase data parity between the published state of knowledge and what is available in databases.  \n",
    "  \n",
    "**Approach**:  \n",
    "  \n",
    "1. Take an existing pretrained model and use train it to perform **entity recognition** of drugs, genes, variants, and phenotypes. \n",
    "2. Either (1): identify a suitable model or, (2): train an existing pretrained model further to perform **text summarization** to summarize a label to link drugs, genes, variants, phenotypes within one individual 'claim'. (**relationship classification**??)"
   ]
  },
  {
   "cell_type": "markdown",
   "metadata": {},
   "source": [
    "## Load Labels using Datasets\n",
    "Dataset is obtained from OpenFDA json resource. Pre-sectioned labels were imported using the json library and converted to a pandas dataframe. "
   ]
  },
  {
   "cell_type": "code",
   "execution_count": 1,
   "metadata": {},
   "outputs": [
    {
     "data": {
      "text/html": [
       "<div>\n",
       "<style scoped>\n",
       "    .dataframe tbody tr th:only-of-type {\n",
       "        vertical-align: middle;\n",
       "    }\n",
       "\n",
       "    .dataframe tbody tr th {\n",
       "        vertical-align: top;\n",
       "    }\n",
       "\n",
       "    .dataframe thead th {\n",
       "        text-align: right;\n",
       "    }\n",
       "</style>\n",
       "<table border=\"1\" class=\"dataframe\">\n",
       "  <thead>\n",
       "    <tr style=\"text-align: right;\">\n",
       "      <th></th>\n",
       "      <th>brand_name</th>\n",
       "      <th>adverse_reactions</th>\n",
       "      <th>indications_and_usage</th>\n",
       "      <th>contraindications</th>\n",
       "      <th>warnings_and_cautions</th>\n",
       "      <th>warnings</th>\n",
       "      <th>precautions</th>\n",
       "      <th>pharmacokinetics</th>\n",
       "      <th>purpose</th>\n",
       "      <th>clinical_pharmacology</th>\n",
       "      <th>active_ingredient</th>\n",
       "      <th>stop_use</th>\n",
       "      <th>boxed_warning</th>\n",
       "      <th>pharmacodynamics</th>\n",
       "      <th>pharmacogenomics</th>\n",
       "    </tr>\n",
       "  </thead>\n",
       "  <tbody>\n",
       "    <tr>\n",
       "      <th>0</th>\n",
       "      <td>AMOXICILLIN AND CLAVULANATE POTASSIUM</td>\n",
       "      <td>ADVERSE REACTIONS SECTION The following are di...</td>\n",
       "      <td>INDICATIONS &amp; USAGE SECTION To reduce the deve...</td>\n",
       "      <td>CONTRAINDICATIONS SECTION Amoxicillinfor oral ...</td>\n",
       "      <td>WARNINGS AND PRECAUTIONS SECTION 5.1 Anaphylac...</td>\n",
       "      <td>NaN</td>\n",
       "      <td>NaN</td>\n",
       "      <td>NaN</td>\n",
       "      <td>NaN</td>\n",
       "      <td>CLINICAL PHARMACOLOGY SECTION 12.1 Mechanism o...</td>\n",
       "      <td>NaN</td>\n",
       "      <td>NaN</td>\n",
       "      <td>NaN</td>\n",
       "      <td>NaN</td>\n",
       "      <td>NaN</td>\n",
       "    </tr>\n",
       "    <tr>\n",
       "      <th>1</th>\n",
       "      <td>UNDA 312</td>\n",
       "      <td>NaN</td>\n",
       "      <td>Uses For the relief of symptoms associated wit...</td>\n",
       "      <td>NaN</td>\n",
       "      <td>NaN</td>\n",
       "      <td>Warnings Sore throat warning: Severe or persis...</td>\n",
       "      <td>NaN</td>\n",
       "      <td>NaN</td>\n",
       "      <td>Uses For the relief of symptoms associated wit...</td>\n",
       "      <td>NaN</td>\n",
       "      <td>Active ingredients Each drop contains: Angelic...</td>\n",
       "      <td>Stop use and ask a doctor if Cough persists fo...</td>\n",
       "      <td>NaN</td>\n",
       "      <td>NaN</td>\n",
       "      <td>NaN</td>\n",
       "    </tr>\n",
       "    <tr>\n",
       "      <th>2</th>\n",
       "      <td>SUN PROTECT LIP BALM SPF 30</td>\n",
       "      <td>NaN</td>\n",
       "      <td>Uses Helps prevent sunburn. If used as directe...</td>\n",
       "      <td>NaN</td>\n",
       "      <td>NaN</td>\n",
       "      <td>Warnings For external use only. Do not use on ...</td>\n",
       "      <td>NaN</td>\n",
       "      <td>NaN</td>\n",
       "      <td>Purpose Sunscreen</td>\n",
       "      <td>NaN</td>\n",
       "      <td>Drug Facts Active ingredients Non Nano Zinc Ox...</td>\n",
       "      <td>NaN</td>\n",
       "      <td>NaN</td>\n",
       "      <td>NaN</td>\n",
       "      <td>NaN</td>\n",
       "    </tr>\n",
       "    <tr>\n",
       "      <th>3</th>\n",
       "      <td>LOSARTAN POTASSIUM AND HYDROCHLOROTHIAZIDE</td>\n",
       "      <td>NaN</td>\n",
       "      <td>NaN</td>\n",
       "      <td>NaN</td>\n",
       "      <td>NaN</td>\n",
       "      <td>NaN</td>\n",
       "      <td>NaN</td>\n",
       "      <td>NaN</td>\n",
       "      <td>NaN</td>\n",
       "      <td>NaN</td>\n",
       "      <td>NaN</td>\n",
       "      <td>NaN</td>\n",
       "      <td>NaN</td>\n",
       "      <td>NaN</td>\n",
       "      <td>NaN</td>\n",
       "    </tr>\n",
       "    <tr>\n",
       "      <th>4</th>\n",
       "      <td>Potassium Phosphates</td>\n",
       "      <td>6 ADVERSE REACTIONS The following clinically s...</td>\n",
       "      <td>1 INDICATIONS AND USAGE Potassium Phosphates I...</td>\n",
       "      <td>4 CONTRAINDICATIONS Potassium Phosphates Injec...</td>\n",
       "      <td>5 WARNINGS AND PRECAUTIONS Serious Cardiac Adv...</td>\n",
       "      <td>NaN</td>\n",
       "      <td>NaN</td>\n",
       "      <td>12.3 Pharmacokinetics Distribution Approximate...</td>\n",
       "      <td>NaN</td>\n",
       "      <td>12 CLINICAL PHARMACOLOGY 12.1 Mechanism of Act...</td>\n",
       "      <td>NaN</td>\n",
       "      <td>NaN</td>\n",
       "      <td>NaN</td>\n",
       "      <td>NaN</td>\n",
       "      <td>NaN</td>\n",
       "    </tr>\n",
       "    <tr>\n",
       "      <th>...</th>\n",
       "      <td>...</td>\n",
       "      <td>...</td>\n",
       "      <td>...</td>\n",
       "      <td>...</td>\n",
       "      <td>...</td>\n",
       "      <td>...</td>\n",
       "      <td>...</td>\n",
       "      <td>...</td>\n",
       "      <td>...</td>\n",
       "      <td>...</td>\n",
       "      <td>...</td>\n",
       "      <td>...</td>\n",
       "      <td>...</td>\n",
       "      <td>...</td>\n",
       "      <td>...</td>\n",
       "    </tr>\n",
       "    <tr>\n",
       "      <th>215910</th>\n",
       "      <td>Carbidopa and Levodopa</td>\n",
       "      <td>ADVERSE REACTIONS The most common adverse reac...</td>\n",
       "      <td>INDICATIONS AND USAGE Carbidopa and levodopa t...</td>\n",
       "      <td>CONTRAINDICATIONS Nonselective monoamine oxida...</td>\n",
       "      <td>NaN</td>\n",
       "      <td>WARNINGS When carbidopa and levodopa tablets a...</td>\n",
       "      <td>PRECAUTIONS General As with levodopa, periodic...</td>\n",
       "      <td>Pharmacokinetics Carbidopa reduces the amount ...</td>\n",
       "      <td>NaN</td>\n",
       "      <td>CLINICAL PHARMACOLOGY Mechanism of Action Park...</td>\n",
       "      <td>NaN</td>\n",
       "      <td>NaN</td>\n",
       "      <td>NaN</td>\n",
       "      <td>Pharmacodynamics When levodopa is administered...</td>\n",
       "      <td>NaN</td>\n",
       "    </tr>\n",
       "    <tr>\n",
       "      <th>215911</th>\n",
       "      <td>REFRESH Optive Mega-3</td>\n",
       "      <td>NaN</td>\n",
       "      <td>Uses For the temporary relief of burning, irri...</td>\n",
       "      <td>NaN</td>\n",
       "      <td>NaN</td>\n",
       "      <td>Warnings For external use only. To avoid conta...</td>\n",
       "      <td>NaN</td>\n",
       "      <td>NaN</td>\n",
       "      <td>Purpose Eye lubricant Eye lubricant Eye lubricant</td>\n",
       "      <td>NaN</td>\n",
       "      <td>Active ingredients Carboxymethylcellulose sodi...</td>\n",
       "      <td>Stop use and ask a doctor if you experience ey...</td>\n",
       "      <td>NaN</td>\n",
       "      <td>NaN</td>\n",
       "      <td>NaN</td>\n",
       "    </tr>\n",
       "    <tr>\n",
       "      <th>215912</th>\n",
       "      <td>Creon</td>\n",
       "      <td>6 ADVERSE REACTIONS The most serious adverse r...</td>\n",
       "      <td>1 INDICATIONS AND USAGE CREON ® is indicated f...</td>\n",
       "      <td>4 CONTRAINDICATIONS None. None ( 4 )</td>\n",
       "      <td>5 WARNINGS AND PRECAUTIONS Fibrosing colonopat...</td>\n",
       "      <td>NaN</td>\n",
       "      <td>NaN</td>\n",
       "      <td>12.3 Pharmacokinetics The pancreatic enzymes i...</td>\n",
       "      <td>NaN</td>\n",
       "      <td>12 CLINICAL PHARMACOLOGY 12.1 Mechanism of Act...</td>\n",
       "      <td>NaN</td>\n",
       "      <td>NaN</td>\n",
       "      <td>NaN</td>\n",
       "      <td>NaN</td>\n",
       "      <td>NaN</td>\n",
       "    </tr>\n",
       "    <tr>\n",
       "      <th>215913</th>\n",
       "      <td>Losartan Potassium and Hydrochlorothiazide</td>\n",
       "      <td>6 ADVERSE REACTIONS Most common adverse reacti...</td>\n",
       "      <td>1 INDICATIONS AND USAGE Losartan potassium and...</td>\n",
       "      <td>4 CONTRAINDICATIONS Losartan potassium and hyd...</td>\n",
       "      <td>5 WARNINGS AND PRECAUTIONS Hypotension: Correc...</td>\n",
       "      <td>NaN</td>\n",
       "      <td>NaN</td>\n",
       "      <td>12.3 Pharmacokinetics Losartan Potassium Absor...</td>\n",
       "      <td>NaN</td>\n",
       "      <td>12 CLINICAL PHARMACOLOGY 12.1 Mechanism of Act...</td>\n",
       "      <td>NaN</td>\n",
       "      <td>NaN</td>\n",
       "      <td>WARNING: FETAL TOXICITY When pregnancy is dete...</td>\n",
       "      <td>12.2 Pharmacodynamics Losartan Potassium Losar...</td>\n",
       "      <td>NaN</td>\n",
       "    </tr>\n",
       "    <tr>\n",
       "      <th>215914</th>\n",
       "      <td>Valsartan and Hydrochlorothiazide</td>\n",
       "      <td>6 ADVERSE REACTIONS The most common reasons fo...</td>\n",
       "      <td>1 INDICATIONS AND USAGE Valsartan and hydrochl...</td>\n",
       "      <td>4 CONTRAINDICATIONS Valsartan and hydrochlorot...</td>\n",
       "      <td>5 WARNINGS AND PRECAUTIONS Hypotension: Correc...</td>\n",
       "      <td>NaN</td>\n",
       "      <td>NaN</td>\n",
       "      <td>12.3 Pharmacokinetics Valsartan: Valsartan pea...</td>\n",
       "      <td>NaN</td>\n",
       "      <td>12 CLINICAL PHARMACOLOGY 12.1 Mechanism of Act...</td>\n",
       "      <td>NaN</td>\n",
       "      <td>NaN</td>\n",
       "      <td>WARNING: FETAL TOXICITY •When pregnancy is det...</td>\n",
       "      <td>12.2 Pharmacodynamics Valsartan: Valsartan inh...</td>\n",
       "      <td>NaN</td>\n",
       "    </tr>\n",
       "  </tbody>\n",
       "</table>\n",
       "<p>215915 rows × 15 columns</p>\n",
       "</div>"
      ],
      "text/plain": [
       "                                        brand_name  \\\n",
       "0            AMOXICILLIN AND CLAVULANATE POTASSIUM   \n",
       "1                                         UNDA 312   \n",
       "2                      SUN PROTECT LIP BALM SPF 30   \n",
       "3       LOSARTAN POTASSIUM AND HYDROCHLOROTHIAZIDE   \n",
       "4                             Potassium Phosphates   \n",
       "...                                            ...   \n",
       "215910                      Carbidopa and Levodopa   \n",
       "215911                       REFRESH Optive Mega-3   \n",
       "215912                                       Creon   \n",
       "215913  Losartan Potassium and Hydrochlorothiazide   \n",
       "215914           Valsartan and Hydrochlorothiazide   \n",
       "\n",
       "                                        adverse_reactions  \\\n",
       "0       ADVERSE REACTIONS SECTION The following are di...   \n",
       "1                                                     NaN   \n",
       "2                                                     NaN   \n",
       "3                                                     NaN   \n",
       "4       6 ADVERSE REACTIONS The following clinically s...   \n",
       "...                                                   ...   \n",
       "215910  ADVERSE REACTIONS The most common adverse reac...   \n",
       "215911                                                NaN   \n",
       "215912  6 ADVERSE REACTIONS The most serious adverse r...   \n",
       "215913  6 ADVERSE REACTIONS Most common adverse reacti...   \n",
       "215914  6 ADVERSE REACTIONS The most common reasons fo...   \n",
       "\n",
       "                                    indications_and_usage  \\\n",
       "0       INDICATIONS & USAGE SECTION To reduce the deve...   \n",
       "1       Uses For the relief of symptoms associated wit...   \n",
       "2       Uses Helps prevent sunburn. If used as directe...   \n",
       "3                                                     NaN   \n",
       "4       1 INDICATIONS AND USAGE Potassium Phosphates I...   \n",
       "...                                                   ...   \n",
       "215910  INDICATIONS AND USAGE Carbidopa and levodopa t...   \n",
       "215911  Uses For the temporary relief of burning, irri...   \n",
       "215912  1 INDICATIONS AND USAGE CREON ® is indicated f...   \n",
       "215913  1 INDICATIONS AND USAGE Losartan potassium and...   \n",
       "215914  1 INDICATIONS AND USAGE Valsartan and hydrochl...   \n",
       "\n",
       "                                        contraindications  \\\n",
       "0       CONTRAINDICATIONS SECTION Amoxicillinfor oral ...   \n",
       "1                                                     NaN   \n",
       "2                                                     NaN   \n",
       "3                                                     NaN   \n",
       "4       4 CONTRAINDICATIONS Potassium Phosphates Injec...   \n",
       "...                                                   ...   \n",
       "215910  CONTRAINDICATIONS Nonselective monoamine oxida...   \n",
       "215911                                                NaN   \n",
       "215912               4 CONTRAINDICATIONS None. None ( 4 )   \n",
       "215913  4 CONTRAINDICATIONS Losartan potassium and hyd...   \n",
       "215914  4 CONTRAINDICATIONS Valsartan and hydrochlorot...   \n",
       "\n",
       "                                    warnings_and_cautions  \\\n",
       "0       WARNINGS AND PRECAUTIONS SECTION 5.1 Anaphylac...   \n",
       "1                                                     NaN   \n",
       "2                                                     NaN   \n",
       "3                                                     NaN   \n",
       "4       5 WARNINGS AND PRECAUTIONS Serious Cardiac Adv...   \n",
       "...                                                   ...   \n",
       "215910                                                NaN   \n",
       "215911                                                NaN   \n",
       "215912  5 WARNINGS AND PRECAUTIONS Fibrosing colonopat...   \n",
       "215913  5 WARNINGS AND PRECAUTIONS Hypotension: Correc...   \n",
       "215914  5 WARNINGS AND PRECAUTIONS Hypotension: Correc...   \n",
       "\n",
       "                                                 warnings  \\\n",
       "0                                                     NaN   \n",
       "1       Warnings Sore throat warning: Severe or persis...   \n",
       "2       Warnings For external use only. Do not use on ...   \n",
       "3                                                     NaN   \n",
       "4                                                     NaN   \n",
       "...                                                   ...   \n",
       "215910  WARNINGS When carbidopa and levodopa tablets a...   \n",
       "215911  Warnings For external use only. To avoid conta...   \n",
       "215912                                                NaN   \n",
       "215913                                                NaN   \n",
       "215914                                                NaN   \n",
       "\n",
       "                                              precautions  \\\n",
       "0                                                     NaN   \n",
       "1                                                     NaN   \n",
       "2                                                     NaN   \n",
       "3                                                     NaN   \n",
       "4                                                     NaN   \n",
       "...                                                   ...   \n",
       "215910  PRECAUTIONS General As with levodopa, periodic...   \n",
       "215911                                                NaN   \n",
       "215912                                                NaN   \n",
       "215913                                                NaN   \n",
       "215914                                                NaN   \n",
       "\n",
       "                                         pharmacokinetics  \\\n",
       "0                                                     NaN   \n",
       "1                                                     NaN   \n",
       "2                                                     NaN   \n",
       "3                                                     NaN   \n",
       "4       12.3 Pharmacokinetics Distribution Approximate...   \n",
       "...                                                   ...   \n",
       "215910  Pharmacokinetics Carbidopa reduces the amount ...   \n",
       "215911                                                NaN   \n",
       "215912  12.3 Pharmacokinetics The pancreatic enzymes i...   \n",
       "215913  12.3 Pharmacokinetics Losartan Potassium Absor...   \n",
       "215914  12.3 Pharmacokinetics Valsartan: Valsartan pea...   \n",
       "\n",
       "                                                  purpose  \\\n",
       "0                                                     NaN   \n",
       "1       Uses For the relief of symptoms associated wit...   \n",
       "2                                       Purpose Sunscreen   \n",
       "3                                                     NaN   \n",
       "4                                                     NaN   \n",
       "...                                                   ...   \n",
       "215910                                                NaN   \n",
       "215911  Purpose Eye lubricant Eye lubricant Eye lubricant   \n",
       "215912                                                NaN   \n",
       "215913                                                NaN   \n",
       "215914                                                NaN   \n",
       "\n",
       "                                    clinical_pharmacology  \\\n",
       "0       CLINICAL PHARMACOLOGY SECTION 12.1 Mechanism o...   \n",
       "1                                                     NaN   \n",
       "2                                                     NaN   \n",
       "3                                                     NaN   \n",
       "4       12 CLINICAL PHARMACOLOGY 12.1 Mechanism of Act...   \n",
       "...                                                   ...   \n",
       "215910  CLINICAL PHARMACOLOGY Mechanism of Action Park...   \n",
       "215911                                                NaN   \n",
       "215912  12 CLINICAL PHARMACOLOGY 12.1 Mechanism of Act...   \n",
       "215913  12 CLINICAL PHARMACOLOGY 12.1 Mechanism of Act...   \n",
       "215914  12 CLINICAL PHARMACOLOGY 12.1 Mechanism of Act...   \n",
       "\n",
       "                                        active_ingredient  \\\n",
       "0                                                     NaN   \n",
       "1       Active ingredients Each drop contains: Angelic...   \n",
       "2       Drug Facts Active ingredients Non Nano Zinc Ox...   \n",
       "3                                                     NaN   \n",
       "4                                                     NaN   \n",
       "...                                                   ...   \n",
       "215910                                                NaN   \n",
       "215911  Active ingredients Carboxymethylcellulose sodi...   \n",
       "215912                                                NaN   \n",
       "215913                                                NaN   \n",
       "215914                                                NaN   \n",
       "\n",
       "                                                 stop_use  \\\n",
       "0                                                     NaN   \n",
       "1       Stop use and ask a doctor if Cough persists fo...   \n",
       "2                                                     NaN   \n",
       "3                                                     NaN   \n",
       "4                                                     NaN   \n",
       "...                                                   ...   \n",
       "215910                                                NaN   \n",
       "215911  Stop use and ask a doctor if you experience ey...   \n",
       "215912                                                NaN   \n",
       "215913                                                NaN   \n",
       "215914                                                NaN   \n",
       "\n",
       "                                            boxed_warning  \\\n",
       "0                                                     NaN   \n",
       "1                                                     NaN   \n",
       "2                                                     NaN   \n",
       "3                                                     NaN   \n",
       "4                                                     NaN   \n",
       "...                                                   ...   \n",
       "215910                                                NaN   \n",
       "215911                                                NaN   \n",
       "215912                                                NaN   \n",
       "215913  WARNING: FETAL TOXICITY When pregnancy is dete...   \n",
       "215914  WARNING: FETAL TOXICITY •When pregnancy is det...   \n",
       "\n",
       "                                         pharmacodynamics pharmacogenomics  \n",
       "0                                                     NaN              NaN  \n",
       "1                                                     NaN              NaN  \n",
       "2                                                     NaN              NaN  \n",
       "3                                                     NaN              NaN  \n",
       "4                                                     NaN              NaN  \n",
       "...                                                   ...              ...  \n",
       "215910  Pharmacodynamics When levodopa is administered...              NaN  \n",
       "215911                                                NaN              NaN  \n",
       "215912                                                NaN              NaN  \n",
       "215913  12.2 Pharmacodynamics Losartan Potassium Losar...              NaN  \n",
       "215914  12.2 Pharmacodynamics Valsartan: Valsartan inh...              NaN  \n",
       "\n",
       "[215915 rows x 15 columns]"
      ]
     },
     "execution_count": 1,
     "metadata": {},
     "output_type": "execute_result"
    }
   ],
   "source": [
    "from datasets import Dataset\n",
    "import pandas as pd\n",
    "\n",
    "drugs_at_fda = pd.read_excel('../data/openfda.xlsx').reset_index(drop=True).drop('Unnamed: 0', axis=1)\n",
    "\n",
    "drugs_at_fda\n"
   ]
  },
  {
   "cell_type": "markdown",
   "metadata": {},
   "source": [
    "## Named Entity Recognition (NER) for Pharmacokinetics / Pharmacodynamics / Pharmacogenomics\n",
    "The model being utilizes for tag generation for this section is the bioNLP System for BioNER and BioNEN: https://github.com/librairy/bio-ner, \n",
    "\n",
    "- Genetics: https://huggingface.co/alvaroalon2/biobert_genetic_ner  \n",
    "- Diseases: https://huggingface.co/alvaroalon2/biobert_diseases_ner\n",
    "- Chemicals: https://huggingface.co/alvaroalon2/biobert_chemical_ner\n",
    "  \n",
    "Example: https://user-images.githubusercontent.com/72864707/120455516-20a28f80-c395-11eb-97a8-fb54b017eaab.png\n",
    "  \n",
    "Biomedical Named Entity Recognition and Normalization of Diseases, Chemicals, and Genetic entity classes through the use of state-of-the-art models. The core piece in the modelling of the text entities recognition will be BioBERT. The model was a fine-tuned version of BioBERT for other instances of genetico, quimicos, and enfermedades as a part of a master's thesis from the Escuela Tecnica Superior (ETS) Universidad Politecnica de Madrid. Two additional corpi were used to train each entity class: Diseases (BC5CDR - Diseases, NCBI - Diseases), Chemicals (BC4CHEMD, BC5CDR - Chemicals), and Genes/Proteins (JNLPBA, BC2GM)\n",
    "  \n",
    "https://oa.upm.es/67933/1/TFM_ALVARO_ALONSO_CASERO.pdf "
   ]
  },
  {
   "cell_type": "markdown",
   "metadata": {},
   "source": [
    "### Main NER Pipeline\n",
    "Given a header corresponding to a labels from Drugs@FDA, utilize a series of fine-tuned BioBERT transformer models to perform named entity recognition for all Chemical, Genomic, and Disease entities"
   ]
  },
  {
   "cell_type": "code",
   "execution_count": 29,
   "metadata": {},
   "outputs": [],
   "source": [
    "# Use a pipeline as a high-level helper\n",
    "from transformers import pipeline\n",
    "from transformers import AutoTokenizer\n",
    "import pandas as pd\n",
    "\n",
    "model_checkpoint = \"alvaroalon2/biobert_genetic_ner\"\n",
    "tokenizer = AutoTokenizer.from_pretrained(model_checkpoint)\n",
    "pipe_gene = pipeline(\"token-classification\", model=\"alvaroalon2/biobert_genetic_ner\")\n",
    "pipe_chemical = pipeline(\"token-classification\", model=\"alvaroalon2/biobert_chemical_ner\")\n",
    "pipe_disease = pipeline(\"token-classification\", model=\"alvaroalon2/biobert_diseases_ner\")\n",
    "\n",
    "\n",
    "def pre_process(label_header,df):\n",
    "    def get_tokens(entry):\n",
    "        return {'tokens': tokenizer(entry[label_header]).tokens() }\n",
    "\n",
    "    f = pd.DataFrame(df, columns=[label_header])\n",
    "    dataset = Dataset.from_pandas(f)\n",
    "\n",
    "    print(f'UNFILTERED: {len(dataset[label_header])}')\n",
    "\n",
    "    dataset = dataset.filter(lambda x: x[label_header] is not None)\n",
    "    dataset = dataset.map(get_tokens)\n",
    "    print(f'After NONE CHECK: {len(dataset[label_header])}')\n",
    "\n",
    "    return(dataset)\n",
    "\n",
    "\n",
    "def pipe(label_header,dataset):\n",
    "    def generate_genomic_ner(entry):\n",
    "        return {'genomic_ner': pipe_gene(entry[label_header]) }\n",
    "\n",
    "    def generate_chemical_ner(entry):\n",
    "        return {'chemical_ner': pipe_chemical(entry[label_header]) }\n",
    "\n",
    "    def generate_diseases_ner(entry):\n",
    "        return {'diseases_ner': pipe_disease(entry[label_header]) }\n",
    "\n",
    "    def merged_ner_record(entry):\n",
    "        return {'merged_ner_groups': entry['genomic_ner'] + entry['chemical_ner'] + entry['diseases_ner']}\n",
    "\n",
    "    dataset = dataset.map(generate_genomic_ner)\n",
    "    dataset = dataset.map(generate_chemical_ner)\n",
    "    dataset = dataset.map(generate_diseases_ner)\n",
    "\n",
    "    dataset = dataset.map(merged_ner_record)\n",
    "\n",
    "    return(dataset)\n",
    "\n",
    "def post_process(label_header,dataset):\n",
    "    def initialize_ner_labels(entry):\n",
    "        return {'token_labels': ['0'] * len(tokenizer(entry[label_header]).tokens())}\n",
    "\n",
    "    def align_genomic_labels(entry):\n",
    "        tags = ['0'] * len(tokenizer(entry[label_header]).tokens())\n",
    "\n",
    "        for ner in entry['genomic_ner']: # TO DO, generalize for all headers\n",
    "            tags[ner['index']] = str(ner['entity'])\n",
    "\n",
    "        return {'genomic_labels': tags}\n",
    "\n",
    "    def align_chemical_labels(entry):\n",
    "        tags = ['0'] * len(tokenizer(entry[label_header]).tokens())\n",
    "\n",
    "        for ner in entry['chemical_ner']: # TO DO, generalize for all headers\n",
    "            tags[ner['index']] = str(ner['entity'])\n",
    "\n",
    "        return {'chemical_labels': tags}\n",
    "\n",
    "    def align_disease_labels(entry):\n",
    "        tags = ['0'] * len(tokenizer(entry[label_header]).tokens())\n",
    "\n",
    "        for ner in entry['diseases_ner']: # TO DO, generalize for all headers\n",
    "            tags[ner['index']] = str(ner['entity'])\n",
    "\n",
    "        return {'disease_labels': tags}\n",
    "\n",
    "    dataset = dataset.map(align_genomic_labels)\n",
    "    dataset = dataset.map(align_chemical_labels)\n",
    "    dataset = dataset.map(align_disease_labels)\n",
    "\n",
    "\n",
    "    return(dataset)\n",
    "\n",
    "def build_dataframe(feature,dataset):\n",
    "\n",
    "    # Build DF\n",
    "    df = pd.DataFrame()\n",
    "\n",
    "    for entry in dataset[feature]:\n",
    "        tdf = pd.DataFrame(entry)\n",
    "        df = pd.concat([df,tdf]).reset_index(drop=True)\n",
    "\n",
    "    return(df)"
   ]
  },
  {
   "cell_type": "code",
   "execution_count": 35,
   "metadata": {},
   "outputs": [
    {
     "name": "stdout",
     "output_type": "stream",
     "text": [
      "UNFILTERED: 215915\n"
     ]
    },
    {
     "data": {
      "application/vnd.jupyter.widget-view+json": {
       "model_id": "0f3e16be32af460d878341eb9edac96e",
       "version_major": 2,
       "version_minor": 0
      },
      "text/plain": [
       "Filter:   0%|          | 0/215915 [00:00<?, ? examples/s]"
      ]
     },
     "metadata": {},
     "output_type": "display_data"
    },
    {
     "data": {
      "application/vnd.jupyter.widget-view+json": {
       "model_id": "f06e13fa1c464fa894f41cf63fe7d855",
       "version_major": 2,
       "version_minor": 0
      },
      "text/plain": [
       "Map:   0%|          | 0/355 [00:00<?, ? examples/s]"
      ]
     },
     "metadata": {},
     "output_type": "display_data"
    },
    {
     "name": "stdout",
     "output_type": "stream",
     "text": [
      "After NONE CHECK: 355\n"
     ]
    },
    {
     "data": {
      "application/vnd.jupyter.widget-view+json": {
       "model_id": "c198e9c505fa468da1b3171b8a7f1580",
       "version_major": 2,
       "version_minor": 0
      },
      "text/plain": [
       "Map:   0%|          | 0/355 [00:00<?, ? examples/s]"
      ]
     },
     "metadata": {},
     "output_type": "display_data"
    },
    {
     "data": {
      "application/vnd.jupyter.widget-view+json": {
       "model_id": "45021921696d44d099dd3a9d27f7a725",
       "version_major": 2,
       "version_minor": 0
      },
      "text/plain": [
       "Map:   0%|          | 0/355 [00:00<?, ? examples/s]"
      ]
     },
     "metadata": {},
     "output_type": "display_data"
    },
    {
     "data": {
      "application/vnd.jupyter.widget-view+json": {
       "model_id": "f5726561d7754bcdb2db8d1d5682d5b3",
       "version_major": 2,
       "version_minor": 0
      },
      "text/plain": [
       "Map:   0%|          | 0/355 [00:00<?, ? examples/s]"
      ]
     },
     "metadata": {},
     "output_type": "display_data"
    },
    {
     "data": {
      "application/vnd.jupyter.widget-view+json": {
       "model_id": "32a6583b43454992b689a7d5912fb9ce",
       "version_major": 2,
       "version_minor": 0
      },
      "text/plain": [
       "Map:   0%|          | 0/355 [00:00<?, ? examples/s]"
      ]
     },
     "metadata": {},
     "output_type": "display_data"
    },
    {
     "data": {
      "application/vnd.jupyter.widget-view+json": {
       "model_id": "e4bd0a8a795f46f8878c1fd323ce8a7d",
       "version_major": 2,
       "version_minor": 0
      },
      "text/plain": [
       "Map:   0%|          | 0/355 [00:00<?, ? examples/s]"
      ]
     },
     "metadata": {},
     "output_type": "display_data"
    },
    {
     "data": {
      "application/vnd.jupyter.widget-view+json": {
       "model_id": "6cb52975802d4936aa3b43b745c21f7a",
       "version_major": 2,
       "version_minor": 0
      },
      "text/plain": [
       "Map:   0%|          | 0/355 [00:00<?, ? examples/s]"
      ]
     },
     "metadata": {},
     "output_type": "display_data"
    },
    {
     "data": {
      "application/vnd.jupyter.widget-view+json": {
       "model_id": "a8bd74474d814e70824b872829c4a555",
       "version_major": 2,
       "version_minor": 0
      },
      "text/plain": [
       "Map:   0%|          | 0/355 [00:00<?, ? examples/s]"
      ]
     },
     "metadata": {},
     "output_type": "display_data"
    }
   ],
   "source": [
    "dataset = pre_process('pharmacogenomics',drugs_at_fda)\n",
    "dataset = pipe('pharmacogenomics',dataset)\n",
    "dataset = post_process('pharmacogenomics',dataset)\n",
    "evaluated = build_dataframe('merged_ner_groups',dataset)\n",
    "\n"
   ]
  },
  {
   "cell_type": "code",
   "execution_count": null,
   "metadata": {},
   "outputs": [],
   "source": [
    "evaluated['entity_group'].value_counts()"
   ]
  },
  {
   "cell_type": "code",
   "execution_count": null,
   "metadata": {},
   "outputs": [],
   "source": [
    "evaluated[evaluated['entity_group']!='0'].to_excel('entity-results.xlsx')\n",
    "evaluated[evaluated['entity_group']!='0']"
   ]
  },
  {
   "cell_type": "markdown",
   "metadata": {},
   "source": [
    "## Normalization Pipeline\n",
    "Utilize the VICC Therapy, Gene, and Disease normalizers to perform normalization of extracted entities TO DO: Variant normalizer can work with example [4]\n",
    " Compare vs Civic Mine, other examples (Manuela Benary Berlin, etc)"
   ]
  },
  {
   "cell_type": "code",
   "execution_count": null,
   "metadata": {},
   "outputs": [],
   "source": [
    "import requests\n",
    "from tqdm import tqdm\n",
    "\n",
    "evaluated['match_type'] = None\n",
    "evaluated['concept_id'] = None\n",
    "\n",
    "therapy_norm_url = 'https://normalize.cancervariants.org/therapy/normalize?q='\n",
    "disease_norm_url = 'https://normalize.cancervariants.org/disease/normalize?q='\n",
    "gene_norm_url = 'https://normalize.cancervariants.org/gene/normalize?q='\n",
    "\n",
    "index_pos = 0\n",
    "for entry in tqdm(evaluated['word']):\n",
    "    if evaluated['entity_group'][index_pos]=='CHEMICAL':\n",
    "        r = requests.get(therapy_norm_url + entry)\n",
    "        try:\n",
    "            evaluated['match_type'][index_pos] = r.json()['match_type']\n",
    "            evaluated['concept_id'][index_pos] = r.json()['therapy_descriptor']['therapy_id']\n",
    "        except:\n",
    "            pass\n",
    "\n",
    "    elif evaluated['entity_group'][index_pos]=='DISEASE':\n",
    "        r = requests.get(disease_norm_url + entry)\n",
    "        try:\n",
    "            evaluated['match_type'][index_pos] = r.json()['match_type']\n",
    "            evaluated['concept_id'][index_pos] = r.json()['disease_descriptor']['disease_id']\n",
    "        except:\n",
    "            pass\n",
    "\n",
    "    elif evaluated['entity_group'][index_pos]=='GENETIC':\n",
    "        r = requests.get(gene_norm_url + entry)\n",
    "        try:\n",
    "            evaluated['match_type'][index_pos] = r.json()['match_type']\n",
    "            evaluated['concept_id'][index_pos] = r.json()['gene_descriptor']['id']\n",
    "        except:\n",
    "            pass\n",
    "\n",
    "    else:\n",
    "        pass\n",
    "\n",
    "    index_pos += 1"
   ]
  },
  {
   "cell_type": "code",
   "execution_count": null,
   "metadata": {},
   "outputs": [],
   "source": [
    "stats = evaluated[evaluated['entity_group']=='DISEASE']\n",
    "print('Normalized (DISEASE): ' + str(len(stats[stats['concept_id'].isnull()==False])) + ' / ' + str(len(stats['concept_id'])) + ' (' + str((len(stats[stats['concept_id'].isnull()==False])/len(stats['concept_id']))*100) + ')' )\n",
    "\n",
    "stats = evaluated[evaluated['entity_group']=='CHEMICAL']\n",
    "print('Normalized (CHEMICAL): ' + str(len(stats[stats['concept_id'].isnull()==False])) + ' / ' + str(len(stats['concept_id'])) + ' (' + str((len(stats[stats['concept_id'].isnull()==False])/len(stats['concept_id']))*100) + ')' )\n",
    "\n",
    "stats = evaluated[evaluated['entity_group']=='GENETIC']\n",
    "print('Normalized (GENETIC): ' + str(len(stats[stats['concept_id'].isnull()==False])) + ' / ' + str(len(stats['concept_id'])) + ' (' + str((len(stats[stats['concept_id'].isnull()==False])/len(stats['concept_id']))*100) + ')' )"
   ]
  },
  {
   "cell_type": "code",
   "execution_count": null,
   "metadata": {},
   "outputs": [],
   "source": [
    "evaluated = evaluated[evaluated['entity_group']!=\"0\"]\n",
    "evaluated.sort_values(by='match_type').reset_index(drop=True)\n",
    "# evaluated.to_csv('ner_norm_failure_20231017.csv',sep='\\t')"
   ]
  },
  {
   "cell_type": "code",
   "execution_count": null,
   "metadata": {},
   "outputs": [],
   "source": [
    "stats[stats['concept_id'].isnull()==True]['word'].value_counts()"
   ]
  },
  {
   "cell_type": "markdown",
   "metadata": {},
   "source": [
    "## Graph Normalization Results"
   ]
  },
  {
   "cell_type": "code",
   "execution_count": 17,
   "metadata": {},
   "outputs": [
    {
     "data": {
      "text/html": [
       "<div>\n",
       "<style scoped>\n",
       "    .dataframe tbody tr th:only-of-type {\n",
       "        vertical-align: middle;\n",
       "    }\n",
       "\n",
       "    .dataframe tbody tr th {\n",
       "        vertical-align: top;\n",
       "    }\n",
       "\n",
       "    .dataframe thead th {\n",
       "        text-align: right;\n",
       "    }\n",
       "</style>\n",
       "<table border=\"1\" class=\"dataframe\">\n",
       "  <thead>\n",
       "    <tr style=\"text-align: right;\">\n",
       "      <th>normalized</th>\n",
       "      <th>False</th>\n",
       "      <th>True</th>\n",
       "    </tr>\n",
       "    <tr>\n",
       "      <th>entity_group</th>\n",
       "      <th></th>\n",
       "      <th></th>\n",
       "    </tr>\n",
       "  </thead>\n",
       "  <tbody>\n",
       "    <tr>\n",
       "      <th>CHEMICAL</th>\n",
       "      <td>659</td>\n",
       "      <td>966</td>\n",
       "    </tr>\n",
       "    <tr>\n",
       "      <th>DISEASE</th>\n",
       "      <td>116</td>\n",
       "      <td>115</td>\n",
       "    </tr>\n",
       "    <tr>\n",
       "      <th>GENETIC</th>\n",
       "      <td>1171</td>\n",
       "      <td>1129</td>\n",
       "    </tr>\n",
       "  </tbody>\n",
       "</table>\n",
       "</div>"
      ],
      "text/plain": [
       "normalized    False  True \n",
       "entity_group              \n",
       "CHEMICAL        659    966\n",
       "DISEASE         116    115\n",
       "GENETIC        1171   1129"
      ]
     },
     "execution_count": 17,
     "metadata": {},
     "output_type": "execute_result"
    }
   ],
   "source": [
    "evaluated['normalized'] = evaluated['match_type']>0\n",
    "evaluated_g = evaluated.groupby(['entity_group','normalized']).count()[['word']].unstack(level=1)['word']\n",
    "\n",
    "evaluated_g"
   ]
  },
  {
   "cell_type": "code",
   "execution_count": 18,
   "metadata": {},
   "outputs": [
    {
     "data": {
      "text/html": [
       "<div>\n",
       "<style scoped>\n",
       "    .dataframe tbody tr th:only-of-type {\n",
       "        vertical-align: middle;\n",
       "    }\n",
       "\n",
       "    .dataframe tbody tr th {\n",
       "        vertical-align: top;\n",
       "    }\n",
       "\n",
       "    .dataframe thead th {\n",
       "        text-align: right;\n",
       "    }\n",
       "</style>\n",
       "<table border=\"1\" class=\"dataframe\">\n",
       "  <thead>\n",
       "    <tr style=\"text-align: right;\">\n",
       "      <th>normalized</th>\n",
       "      <th>False</th>\n",
       "      <th>True</th>\n",
       "      <th>percent_true</th>\n",
       "      <th>percent_false</th>\n",
       "    </tr>\n",
       "    <tr>\n",
       "      <th>entity_group</th>\n",
       "      <th></th>\n",
       "      <th></th>\n",
       "      <th></th>\n",
       "      <th></th>\n",
       "    </tr>\n",
       "  </thead>\n",
       "  <tbody>\n",
       "    <tr>\n",
       "      <th>CHEMICAL</th>\n",
       "      <td>659</td>\n",
       "      <td>966</td>\n",
       "      <td>59.446154</td>\n",
       "      <td>40.553846</td>\n",
       "    </tr>\n",
       "    <tr>\n",
       "      <th>DISEASE</th>\n",
       "      <td>116</td>\n",
       "      <td>115</td>\n",
       "      <td>49.783550</td>\n",
       "      <td>50.216450</td>\n",
       "    </tr>\n",
       "    <tr>\n",
       "      <th>GENETIC</th>\n",
       "      <td>1171</td>\n",
       "      <td>1129</td>\n",
       "      <td>49.086957</td>\n",
       "      <td>50.913043</td>\n",
       "    </tr>\n",
       "  </tbody>\n",
       "</table>\n",
       "</div>"
      ],
      "text/plain": [
       "normalized    False  True  percent_true  percent_false\n",
       "entity_group                                          \n",
       "CHEMICAL        659   966     59.446154      40.553846\n",
       "DISEASE         116   115     49.783550      50.216450\n",
       "GENETIC        1171  1129     49.086957      50.913043"
      ]
     },
     "execution_count": 18,
     "metadata": {},
     "output_type": "execute_result"
    }
   ],
   "source": [
    "evaluated_g['percent_true'] = (evaluated_g[True] / (evaluated_g[True] + evaluated_g[False])) * 100\n",
    "evaluated_g['percent_false'] = (evaluated_g[False] / (evaluated_g[True] + evaluated_g[False])) * 100\n",
    "evaluated_g = evaluated_g.sort_values(['percent_true'],ascending=False)\n",
    "evaluated_g"
   ]
  },
  {
   "cell_type": "code",
   "execution_count": 24,
   "metadata": {},
   "outputs": [],
   "source": [
    "import plotly.graph_objects as go\n",
    "\n",
    "fig = go.Figure()\n",
    "\n",
    "fig.add_trace (\n",
    "    go.Bar(\n",
    "        x = evaluated_g.index,\n",
    "        y = evaluated_g['percent_true'],\n",
    "        name = 'Normalized',\n",
    "        texttemplate=\"%{value:.2f}\",\n",
    "        marker=dict(color='#444444')\n",
    "    )\n",
    ")\n",
    "\n",
    "fig.add_trace(\n",
    "    go.Bar(\n",
    "        x = evaluated_g.index,\n",
    "        y = evaluated_g['percent_false'],\n",
    "        name = 'Not Normalized',\n",
    "        texttemplate=\"%{value:.2f}\",\n",
    "        marker=dict(color='#dddddd')\n",
    "\n",
    "    )\n",
    ")\n",
    "\n",
    "fig.update_xaxes(linecolor='black',title='Label')\n",
    "fig.update_yaxes(linecolor='black',title='% Normalized')\n",
    "\n",
    "fig.update_layout(barmode='stack',plot_bgcolor='#FFF',title='Normalization of Extracted Terms from FDA Labels')\n",
    "\n",
    "fig.show()\n",
    "# fig.write_html('scratch/normalization_graph.html')\n"
   ]
  },
  {
   "cell_type": "markdown",
   "metadata": {},
   "source": [
    "## Scratch"
   ]
  },
  {
   "cell_type": "markdown",
   "metadata": {},
   "source": [
    "#### Rejoin Chunks"
   ]
  },
  {
   "cell_type": "code",
   "execution_count": null,
   "metadata": {},
   "outputs": [],
   "source": [
    "def recombine_ner_chunks(entry):\n",
    "    all_tags = []\n",
    "    all_words = []\n",
    "    for tag_set in entry['merged_ner_groups']:\n",
    "        all_tags.append(tag_set['entity'])\n",
    "        all_words.append(tag_set['word'])\n",
    "\n",
    "    i = 0\n",
    "    chunk_number = []\n",
    "    for tag in all_tags:\n",
    "        if tag.startswith('B-') == True:\n",
    "            i += 1\n",
    "            chunk_number.append(i)\n",
    "\n",
    "        if tag.startswith('I-') == True:\n",
    "            chunk_number.append(i)\n",
    "\n",
    "    position = 0\n",
    "    rebuilt = []\n",
    "    word = ''\n",
    "    for chunk_indicator in chunk_number:\n",
    "        current_word = all_words[position]\n",
    "        try:\n",
    "            if chunk_indicator == chunk_number[position + 1]:\n",
    "                # don't append\n",
    "                word = word + ' ' + current_word # build word\n",
    "                position += 1# iterate\n",
    "            else:\n",
    "                word = word + ' ' + current_word\n",
    "                rebuilt.append(word.strip()) # append\n",
    "                word = '' # start new word\n",
    "                position += 1 # iterate\n",
    "        except:\n",
    "            word = word + ' ' + current_word\n",
    "            rebuilt.append(word.strip())\n",
    "\n",
    "\n",
    "    return({'ner_chunk_indicators': chunk_number, 'individual_ner_words' : all_words, 'ner_chunks': rebuilt })"
   ]
  },
  {
   "cell_type": "code",
   "execution_count": null,
   "metadata": {},
   "outputs": [
    {
     "data": {
      "application/vnd.jupyter.widget-view+json": {
       "model_id": "9e286af2daa94549986fa92f26847130",
       "version_major": 2,
       "version_minor": 0
      },
      "text/plain": [
       "Map:   0%|          | 0/355 [00:00<?, ? examples/s]"
      ]
     },
     "metadata": {},
     "output_type": "display_data"
    },
    {
     "data": {
      "text/plain": [
       "Dataset({\n",
       "    features: ['pharmacogenomics', 'genomic_ner', 'chemical_ner', 'diseases_ner', 'merged_ner_groups', 'ner_chunk_indicators', 'individual_ner_words', 'ner_chunks'],\n",
       "    num_rows: 355\n",
       "})"
      ]
     },
     "metadata": {},
     "output_type": "display_data"
    }
   ],
   "source": [
    "dataset = dataset.map(recombine_ner_chunks)\n",
    "dataset"
   ]
  },
  {
   "cell_type": "markdown",
   "metadata": {},
   "source": [
    "#### Convert free-text to JSON representations \n",
    "TO DO: This section is Likely no longer relevant, but keeping for now"
   ]
  },
  {
   "cell_type": "markdown",
   "metadata": {},
   "source": [
    "**(9/14)**: In previous exercise with Kindred, PDF labels from Drugs@FDA were used as follows:  \n",
    "  \n",
    "1. PDFs were downloaded \n",
    "2. PDFs were converted to free-text files.  \n",
    "3. Free-text files were then separated into different sections for Indications, Contraindications, and Adverse Effects.  (possible LLM task?)\n",
    "    \n",
    "This separation was chosen as the types of named entities and relationships would be largely identical, but with different inferred meanings dependent on the section they were present within (this seemed a hard problem to address). Additionally, due to the labels being highly unstructured and designed for visual, human understanding, the conversion from PDF to free-text could be extremely messy. "
   ]
  },
  {
   "cell_type": "markdown",
   "metadata": {},
   "source": [
    "**(9/28)**: In this exercise, Drugs@FDA labels were obtained from the OpenFDA resource and converted from JSON format to a pandas dataframe (excel file). Some of these fields are still messy, but they are now less messy than the previous method and are pre-sectioned."
   ]
  },
  {
   "cell_type": "markdown",
   "metadata": {},
   "source": [
    "I am thinking now about how to re-format this dataset for use in HuggingFace models. The aim of this research is to use AI-assisted technology to automatically generate interaction claims from additional, previously under utilized sources of data. In doing so, we can increase data parity between the published state of knowledge and what is available in databases.  \n",
    "  \n",
    "**Approach**:  \n",
    "  \n",
    "1. Take an existing pretrained model and use train it to perform **entity recognition** of drugs, genes, variants, and phenotypes. \n",
    "2. Either (1): identify a suitable model or, (2): train an existing pretrained model further to perform **text summarization** to summarize a label to link drugs, genes, variants, phenotypes within one individual 'claim'. (**relationship classification**??)"
   ]
  },
  {
   "cell_type": "markdown",
   "metadata": {},
   "source": [
    "In thinking about this, I think the data should eventually be formatted like this:"
   ]
  },
  {
   "cell_type": "code",
   "execution_count": null,
   "metadata": {},
   "outputs": [],
   "source": [
    "# JSON format for Adverse Effects section\n",
    "{\n",
    "    \"meta\": { \"label\": <identifier>,\n",
    "                \"drug\": <drug label>,\n",
    "                \"type\": <type of page, i.e. indication, adverse effects, contraindications>,\n",
    "                \"url\": <url of label download>,\n",
    "            },\n",
    "    \"adverse_effects\": <free text dump>,\n",
    "    \"tokens\": [...],\n",
    "    \"pos_tags\": [...], # IDs\n",
    "    \"chunk_tags\": [...], # IDs\n",
    "    \"ner_tags\": [...], # IDs\n",
    "    \"id\": <identifier for data point>\n",
    "\n",
    "}"
   ]
  },
  {
   "cell_type": "code",
   "execution_count": 112,
   "metadata": {},
   "outputs": [
    {
     "name": "stdout",
     "output_type": "stream",
     "text": [
      "Anastasia is awesome.\n",
      "Anastasia is awesome.\n"
     ]
    }
   ],
   "source": [
    "variable = 'awesome'\n",
    "\n",
    "print(f'Anastasia is {variable}.')\n",
    "print(\"Anastasia is \" + variable + \".\")"
   ]
  }
 ],
 "metadata": {
  "kernelspec": {
   "display_name": "projectname",
   "language": "python",
   "name": "projectname"
  },
  "language_info": {
   "codemirror_mode": {
    "name": "ipython",
    "version": 3
   },
   "file_extension": ".py",
   "mimetype": "text/x-python",
   "name": "python",
   "nbconvert_exporter": "python",
   "pygments_lexer": "ipython3",
   "version": "3.10.4"
  },
  "orig_nbformat": 4,
  "vscode": {
   "interpreter": {
    "hash": "5665ddc6d7544238f2e637974fb7ce0cd2b3fcbe310ce6232a6d3529e702b4ab"
   }
  }
 },
 "nbformat": 4,
 "nbformat_minor": 2
}

{
 "cells": [
  {
   "cell_type": "markdown",
   "metadata": {},
   "source": [
    "## Background\n",
    "For the purposes of creating some form of annotation set, load in manually annotated sentence set (created from indications_and_usage section) and figure out a way to evaluate them using Huggingface methods."
   ]
  },
  {
   "cell_type": "markdown",
   "metadata": {},
   "source": [
    "## Convert Text/Annotations to JSON\n",
    "Datasets objects do not support individual item assignment, so all fields need to be prepopulated before loading in. Easiest way I could figure was to convert everything to a JSON object and load it in using load_datasets()."
   ]
  },
  {
   "cell_type": "code",
   "execution_count": 188,
   "metadata": {},
   "outputs": [
    {
     "data": {
      "text/plain": [
       "[[\"1 INDICATIONS AND USAGE Memantine hydrochloride is an N-methyl-D-aspartate (NMDA) receptor antagonist indicated for the treatment of moderate to severe dementia of the Alzheimer's type. ( 1 ) Memantine hydrochloride tablets, USP are indicated for the treatment of moderate to severe dementia of the Alzheimer's type.\"],\n",
       " ['1 INDICATIONS AND USAGE Zenchent Fe, norethindrone and ethinyl estradiol tablets, chewable and ferrous fumarate tablets are indicated for use by females of reproductive potential to prevent pregnancy. • Zenchent Fe, norethindrone and ethinyl estradiol tablets, chewable and ferrous fumarate tablets is a progestin/estrogen COC indicated for use by females of reproductive potential to prevent pregnancy. ( 1 )'],\n",
       " ['1 INDICATIONS AND USAGE Alprazolam extended-release tablets are indicated for the treatment of panic disorder with or without agoraphobia, in adults. Alprazolam extended-release tablets are a benzodiazepine indicated for the treatment of panic disorder with or without agoraphobia, in adults. ( 1 )']]"
      ]
     },
     "execution_count": 188,
     "metadata": {},
     "output_type": "execute_result"
    }
   ],
   "source": [
    "# Listify TEXT\n",
    "text_for_json = []\n",
    "for number in range(0,100):\n",
    "    with open(f'sentences/texts/{number}.txt','r') as f:\n",
    "        text_for_json.append(f.readlines())\n",
    "\n",
    "text_for_json[0:3]"
   ]
  },
  {
   "cell_type": "code",
   "execution_count": 189,
   "metadata": {},
   "outputs": [
    {
     "data": {
      "text/plain": [
       "[[],\n",
       " [{'entity': 'CHEMICAL', 'start': '24', 'end': '35', 'word': 'Zenchent Fe'},\n",
       "  {'entity': 'CHEMICAL', 'start': '37', 'end': '50', 'word': 'norethindrone'},\n",
       "  {'entity': 'CHEMICAL',\n",
       "   'start': '55',\n",
       "   'end': '72',\n",
       "   'word': 'ethinyl estradiol'},\n",
       "  {'entity': 'CHEMICAL',\n",
       "   'start': '95',\n",
       "   'end': '111',\n",
       "   'word': 'ferrous fumarate'},\n",
       "  {'entity': 'CHEMICAL', 'start': '203', 'end': '214', 'word': 'Zenchent Fe'},\n",
       "  {'entity': 'CHEMICAL',\n",
       "   'start': '216',\n",
       "   'end': '229',\n",
       "   'word': 'norethindrone'},\n",
       "  {'entity': 'CHEMICAL',\n",
       "   'start': '234',\n",
       "   'end': '251',\n",
       "   'word': 'ethinyl estradiol'},\n",
       "  {'entity': 'CHEMICAL',\n",
       "   'start': '274',\n",
       "   'end': '290',\n",
       "   'word': 'ferrous fumarate'},\n",
       "  {'entity': 'CHEMICAL', 'start': '304', 'end': '313', 'word': 'progestin'},\n",
       "  {'entity': 'CHEMICAL', 'start': '314', 'end': '322', 'word': 'estrogen'}],\n",
       " [{'entity': 'CHEMICAL', 'start': '24', 'end': '34', 'word': 'Alprazolam'},\n",
       "  {'entity': 'CHEMICAL', 'start': '150', 'end': '160', 'word': 'Alprazolam'},\n",
       "  {'entity': 'CHEMICAL',\n",
       "   'start': '192',\n",
       "   'end': '206',\n",
       "   'word': 'benzodiazepine'}]]"
      ]
     },
     "execution_count": 189,
     "metadata": {},
     "output_type": "execute_result"
    }
   ],
   "source": [
    "# Listify ANNOTATIONS\n",
    "ann_for_json = []\n",
    "for number in range(0,100):\n",
    "    with open(f'sentences/ann/{number}.ann','r') as f:\n",
    "        g = f.readlines()\n",
    "        entry = []\n",
    "        for item in g:\n",
    "            entry_dict = {}\n",
    "            entity_block = item.split('\\t')[1]\n",
    "            entry_dict['entity'] = entity_block.split(' ')[0]\n",
    "            entry_dict['start'] = entity_block.split(' ')[1]\n",
    "            entry_dict['end'] = entity_block.split(' ')[2]\n",
    "            entry_dict['word'] = item.split('\\t')[2].replace('\\n','')\n",
    "            entry.append(entry_dict)\n",
    "    ann_for_json.append(entry)\n",
    "ann_for_json[0:3]"
   ]
  },
  {
   "cell_type": "code",
   "execution_count": 192,
   "metadata": {},
   "outputs": [],
   "source": [
    "# Cast to JSON and save\n",
    "import json\n",
    "data = json.dumps([{'text': text, 'chemical_eval': ann} for text, ann in zip(text_for_json, ann_for_json)])\n",
    "with open('sentences/evalset.json', 'w', encoding='utf-8') as f:\n",
    "    f.write(data)"
   ]
  },
  {
   "cell_type": "markdown",
   "metadata": {},
   "source": [
    "## Load Dataset into Huggingface\n",
    "Use the load_dataset method to load in data in a JSON format. This will recognize the pre-built features 'text' and 'chemical_eval' built above using json.dumps from giant lists."
   ]
  },
  {
   "cell_type": "code",
   "execution_count": 181,
   "metadata": {},
   "outputs": [
    {
     "name": "stdout",
     "output_type": "stream",
     "text": [
      "Downloading and preparing dataset json/default to /Users/mjc014/.cache/huggingface/datasets/json/default-e79d0187071c381e/0.0.0/e347ab1c932092252e717ff3f949105a4dd28b27e842dd53157d2f72e276c2e4...\n"
     ]
    },
    {
     "data": {
      "application/vnd.jupyter.widget-view+json": {
       "model_id": "771c4a6fc8ba480fba643d8c1b61c5dc",
       "version_major": 2,
       "version_minor": 0
      },
      "text/plain": [
       "Downloading data files:   0%|          | 0/1 [00:00<?, ?it/s]"
      ]
     },
     "metadata": {},
     "output_type": "display_data"
    },
    {
     "data": {
      "application/vnd.jupyter.widget-view+json": {
       "model_id": "0459c801a1dc46a7bc9395ed772ebb10",
       "version_major": 2,
       "version_minor": 0
      },
      "text/plain": [
       "Extracting data files:   0%|          | 0/1 [00:00<?, ?it/s]"
      ]
     },
     "metadata": {},
     "output_type": "display_data"
    },
    {
     "data": {
      "application/vnd.jupyter.widget-view+json": {
       "model_id": "87b2d7333b4b4541b8b5da0f01a48f3a",
       "version_major": 2,
       "version_minor": 0
      },
      "text/plain": [
       "Generating train split: 0 examples [00:00, ? examples/s]"
      ]
     },
     "metadata": {},
     "output_type": "display_data"
    },
    {
     "name": "stdout",
     "output_type": "stream",
     "text": [
      "Dataset json downloaded and prepared to /Users/mjc014/.cache/huggingface/datasets/json/default-e79d0187071c381e/0.0.0/e347ab1c932092252e717ff3f949105a4dd28b27e842dd53157d2f72e276c2e4. Subsequent calls will reuse this data.\n"
     ]
    }
   ],
   "source": [
    "from datasets import load_dataset\n",
    "dataset = load_dataset(\"json\",data_files=\"evalset.json\",split='train')"
   ]
  },
  {
   "cell_type": "code",
   "execution_count": 193,
   "metadata": {},
   "outputs": [
    {
     "data": {
      "text/plain": [
       "Dataset({\n",
       "    features: ['text', 'chemical_eval'],\n",
       "    num_rows: 100\n",
       "})"
      ]
     },
     "execution_count": 193,
     "metadata": {},
     "output_type": "execute_result"
    }
   ],
   "source": [
    "dataset"
   ]
  },
  {
   "cell_type": "code",
   "execution_count": 187,
   "metadata": {},
   "outputs": [
    {
     "data": {
      "text/plain": [
       "[{'end': '35', 'entity': 'CHEMICAL', 'start': '24', 'word': 'Zenchent Fe'},\n",
       " {'end': '50', 'entity': 'CHEMICAL', 'start': '37', 'word': 'norethindrone'},\n",
       " {'end': '72',\n",
       "  'entity': 'CHEMICAL',\n",
       "  'start': '55',\n",
       "  'word': 'ethinyl estradiol'},\n",
       " {'end': '111',\n",
       "  'entity': 'CHEMICAL',\n",
       "  'start': '95',\n",
       "  'word': 'ferrous fumarate'},\n",
       " {'end': '214', 'entity': 'CHEMICAL', 'start': '203', 'word': 'Zenchent Fe'},\n",
       " {'end': '229', 'entity': 'CHEMICAL', 'start': '216', 'word': 'norethindrone'},\n",
       " {'end': '251',\n",
       "  'entity': 'CHEMICAL',\n",
       "  'start': '234',\n",
       "  'word': 'ethinyl estradiol'},\n",
       " {'end': '290',\n",
       "  'entity': 'CHEMICAL',\n",
       "  'start': '274',\n",
       "  'word': 'ferrous fumarate'},\n",
       " {'end': '313', 'entity': 'CHEMICAL', 'start': '304', 'word': 'progestin'},\n",
       " {'end': '322', 'entity': 'CHEMICAL', 'start': '314', 'word': 'estrogen'}]"
      ]
     },
     "execution_count": 187,
     "metadata": {},
     "output_type": "execute_result"
    }
   ],
   "source": [
    "dataset['chemical_eval'][1]"
   ]
  },
  {
   "cell_type": "markdown",
   "metadata": {},
   "source": [
    "## Evaluate\n",
    "Load in pipes, and create a piped dataset, figure out a comparison between the two? Calculate F1 score??"
   ]
  }
 ],
 "metadata": {
  "kernelspec": {
   "display_name": "Python 3.10.4 64-bit ('3.10.4')",
   "language": "python",
   "name": "python3"
  },
  "language_info": {
   "codemirror_mode": {
    "name": "ipython",
    "version": 3
   },
   "file_extension": ".py",
   "mimetype": "text/x-python",
   "name": "python",
   "nbconvert_exporter": "python",
   "pygments_lexer": "ipython3",
   "version": "3.10.4"
  },
  "orig_nbformat": 4,
  "vscode": {
   "interpreter": {
    "hash": "5665ddc6d7544238f2e637974fb7ce0cd2b3fcbe310ce6232a6d3529e702b4ab"
   }
  }
 },
 "nbformat": 4,
 "nbformat_minor": 2
}

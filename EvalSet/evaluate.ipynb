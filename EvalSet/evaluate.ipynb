{
 "cells": [
  {
   "cell_type": "markdown",
   "metadata": {},
   "source": [
    "## Background\n",
    "For the purposes of creating some form of annotation set, load in manually annotated sentence set (created from indications_and_usage section) and figure out a way to evaluate them using Huggingface methods."
   ]
  },
  {
   "cell_type": "markdown",
   "metadata": {},
   "source": [
    "## Convert Text/Annotations to JSON\n",
    "Datasets objects do not support individual item assignment, so all fields need to be prepopulated before loading in. Easiest way I could figure was to convert everything to a JSON object and load it in using load_datasets()."
   ]
  },
  {
   "cell_type": "code",
   "execution_count": 1,
   "metadata": {},
   "outputs": [
    {
     "data": {
      "text/plain": [
       "[[\"1 INDICATIONS AND USAGE Memantine hydrochloride is an N-methyl-D-aspartate (NMDA) receptor antagonist indicated for the treatment of moderate to severe dementia of the Alzheimer's type. ( 1 ) Memantine hydrochloride tablets, USP are indicated for the treatment of moderate to severe dementia of the Alzheimer's type.\"],\n",
       " ['1 INDICATIONS AND USAGE Zenchent Fe, norethindrone and ethinyl estradiol tablets, chewable and ferrous fumarate tablets are indicated for use by females of reproductive potential to prevent pregnancy. • Zenchent Fe, norethindrone and ethinyl estradiol tablets, chewable and ferrous fumarate tablets is a progestin/estrogen COC indicated for use by females of reproductive potential to prevent pregnancy. ( 1 )'],\n",
       " ['1 INDICATIONS AND USAGE Alprazolam extended-release tablets are indicated for the treatment of panic disorder with or without agoraphobia, in adults. Alprazolam extended-release tablets are a benzodiazepine indicated for the treatment of panic disorder with or without agoraphobia, in adults. ( 1 )']]"
      ]
     },
     "execution_count": 1,
     "metadata": {},
     "output_type": "execute_result"
    }
   ],
   "source": [
    "# Listify TEXT\n",
    "text_for_json = []\n",
    "for number in range(0,100):\n",
    "    with open(f'sentences/texts/{number}.txt','r') as f:\n",
    "        text_for_json.append(f.readlines())\n",
    "\n",
    "text_for_json[0:3]"
   ]
  },
  {
   "cell_type": "code",
   "execution_count": 2,
   "metadata": {},
   "outputs": [
    {
     "data": {
      "text/plain": [
       "[[],\n",
       " [{'entity': 'CHEMICAL', 'start': '24', 'end': '35', 'word': 'Zenchent Fe'},\n",
       "  {'entity': 'CHEMICAL', 'start': '37', 'end': '50', 'word': 'norethindrone'},\n",
       "  {'entity': 'CHEMICAL',\n",
       "   'start': '55',\n",
       "   'end': '72',\n",
       "   'word': 'ethinyl estradiol'},\n",
       "  {'entity': 'CHEMICAL',\n",
       "   'start': '95',\n",
       "   'end': '111',\n",
       "   'word': 'ferrous fumarate'},\n",
       "  {'entity': 'CHEMICAL', 'start': '203', 'end': '214', 'word': 'Zenchent Fe'},\n",
       "  {'entity': 'CHEMICAL',\n",
       "   'start': '216',\n",
       "   'end': '229',\n",
       "   'word': 'norethindrone'},\n",
       "  {'entity': 'CHEMICAL',\n",
       "   'start': '234',\n",
       "   'end': '251',\n",
       "   'word': 'ethinyl estradiol'},\n",
       "  {'entity': 'CHEMICAL',\n",
       "   'start': '274',\n",
       "   'end': '290',\n",
       "   'word': 'ferrous fumarate'},\n",
       "  {'entity': 'CHEMICAL', 'start': '304', 'end': '313', 'word': 'progestin'},\n",
       "  {'entity': 'CHEMICAL', 'start': '314', 'end': '322', 'word': 'estrogen'}],\n",
       " [{'entity': 'CHEMICAL', 'start': '24', 'end': '34', 'word': 'Alprazolam'},\n",
       "  {'entity': 'CHEMICAL', 'start': '150', 'end': '160', 'word': 'Alprazolam'},\n",
       "  {'entity': 'CHEMICAL',\n",
       "   'start': '192',\n",
       "   'end': '206',\n",
       "   'word': 'benzodiazepine'}]]"
      ]
     },
     "execution_count": 2,
     "metadata": {},
     "output_type": "execute_result"
    }
   ],
   "source": [
    "# Listify ANNOTATIONS\n",
    "ann_for_json = []\n",
    "for number in range(0,100):\n",
    "    with open(f'sentences/ann/{number}.ann','r') as f:\n",
    "        g = f.readlines()\n",
    "        entry = []\n",
    "        for item in g:\n",
    "            entry_dict = {}\n",
    "            entity_block = item.split('\\t')[1]\n",
    "            entry_dict['entity'] = entity_block.split(' ')[0]\n",
    "            entry_dict['start'] = entity_block.split(' ')[1]\n",
    "            entry_dict['end'] = entity_block.split(' ')[2]\n",
    "            entry_dict['word'] = item.split('\\t')[2].replace('\\n','')\n",
    "            entry.append(entry_dict)\n",
    "    ann_for_json.append(entry)\n",
    "ann_for_json[0:3]"
   ]
  },
  {
   "cell_type": "code",
   "execution_count": 3,
   "metadata": {},
   "outputs": [],
   "source": [
    "# Cast to JSON and save\n",
    "import json\n",
    "data = json.dumps([{'text': text, 'chemical_eval': ann} for text, ann in zip(text_for_json, ann_for_json)])\n",
    "with open('sentences/evalset.json', 'w', encoding='utf-8') as f:\n",
    "    f.write(data)"
   ]
  },
  {
   "cell_type": "markdown",
   "metadata": {},
   "source": [
    "## Load Dataset into Huggingface\n",
    "Use the load_dataset method to load in data in a JSON format. This will recognize the pre-built features 'text' and 'chemical_eval' built above using json.dumps from giant lists."
   ]
  },
  {
   "cell_type": "code",
   "execution_count": 6,
   "metadata": {},
   "outputs": [
    {
     "name": "stdout",
     "output_type": "stream",
     "text": [
      "Downloading and preparing dataset json/default to /Users/mjc014/.cache/huggingface/datasets/json/default-ef66e144266a6f5b/0.0.0/e347ab1c932092252e717ff3f949105a4dd28b27e842dd53157d2f72e276c2e4...\n"
     ]
    },
    {
     "data": {
      "application/vnd.jupyter.widget-view+json": {
       "model_id": "fe7ebce93f974e91b70e776aa5cb6d8e",
       "version_major": 2,
       "version_minor": 0
      },
      "text/plain": [
       "Downloading data files:   0%|          | 0/1 [00:00<?, ?it/s]"
      ]
     },
     "metadata": {},
     "output_type": "display_data"
    },
    {
     "data": {
      "application/vnd.jupyter.widget-view+json": {
       "model_id": "f4eeb27f307f4c7ba42bcbba039deffe",
       "version_major": 2,
       "version_minor": 0
      },
      "text/plain": [
       "Extracting data files:   0%|          | 0/1 [00:00<?, ?it/s]"
      ]
     },
     "metadata": {},
     "output_type": "display_data"
    },
    {
     "data": {
      "application/vnd.jupyter.widget-view+json": {
       "model_id": "f95ddb5068094c92b5a39deb5ccb1c2e",
       "version_major": 2,
       "version_minor": 0
      },
      "text/plain": [
       "Generating train split: 0 examples [00:00, ? examples/s]"
      ]
     },
     "metadata": {},
     "output_type": "display_data"
    },
    {
     "name": "stdout",
     "output_type": "stream",
     "text": [
      "Dataset json downloaded and prepared to /Users/mjc014/.cache/huggingface/datasets/json/default-ef66e144266a6f5b/0.0.0/e347ab1c932092252e717ff3f949105a4dd28b27e842dd53157d2f72e276c2e4. Subsequent calls will reuse this data.\n"
     ]
    }
   ],
   "source": [
    "from datasets import load_dataset\n",
    "dataset = load_dataset(\"json\",data_files=\"sentences/evalset.json\",split='train')"
   ]
  },
  {
   "cell_type": "code",
   "execution_count": 7,
   "metadata": {},
   "outputs": [
    {
     "data": {
      "text/plain": [
       "Dataset({\n",
       "    features: ['text', 'chemical_eval'],\n",
       "    num_rows: 100\n",
       "})"
      ]
     },
     "execution_count": 7,
     "metadata": {},
     "output_type": "execute_result"
    }
   ],
   "source": [
    "dataset"
   ]
  },
  {
   "cell_type": "code",
   "execution_count": 8,
   "metadata": {},
   "outputs": [
    {
     "data": {
      "text/plain": [
       "[{'end': '35', 'entity': 'CHEMICAL', 'start': '24', 'word': 'Zenchent Fe'},\n",
       " {'end': '50', 'entity': 'CHEMICAL', 'start': '37', 'word': 'norethindrone'},\n",
       " {'end': '72',\n",
       "  'entity': 'CHEMICAL',\n",
       "  'start': '55',\n",
       "  'word': 'ethinyl estradiol'},\n",
       " {'end': '111',\n",
       "  'entity': 'CHEMICAL',\n",
       "  'start': '95',\n",
       "  'word': 'ferrous fumarate'},\n",
       " {'end': '214', 'entity': 'CHEMICAL', 'start': '203', 'word': 'Zenchent Fe'},\n",
       " {'end': '229', 'entity': 'CHEMICAL', 'start': '216', 'word': 'norethindrone'},\n",
       " {'end': '251',\n",
       "  'entity': 'CHEMICAL',\n",
       "  'start': '234',\n",
       "  'word': 'ethinyl estradiol'},\n",
       " {'end': '290',\n",
       "  'entity': 'CHEMICAL',\n",
       "  'start': '274',\n",
       "  'word': 'ferrous fumarate'},\n",
       " {'end': '313', 'entity': 'CHEMICAL', 'start': '304', 'word': 'progestin'},\n",
       " {'end': '322', 'entity': 'CHEMICAL', 'start': '314', 'word': 'estrogen'}]"
      ]
     },
     "execution_count": 8,
     "metadata": {},
     "output_type": "execute_result"
    }
   ],
   "source": [
    "dataset['chemical_eval'][1]"
   ]
  },
  {
   "cell_type": "markdown",
   "metadata": {},
   "source": [
    "## Pipe\n",
    "Run pipe from Huggingface code and use map to have entities as their own field"
   ]
  },
  {
   "cell_type": "code",
   "execution_count": 11,
   "metadata": {},
   "outputs": [],
   "source": [
    "# Use a pipeline as a high-level helper\n",
    "from transformers import pipeline\n",
    "import pandas as pd\n",
    "\n",
    "pipe_chemical = pipeline(\"token-classification\", model=\"alvaroalon2/biobert_chemical_ner\",aggregation_strategy=\"simple\")\n",
    "\n",
    "def pipe(label_header,dataset):\n",
    "    def generate_chemical_ner(entry):\n",
    "        return {'chemical_test': pipe_chemical(entry[label_header]) }\n",
    "    dataset = dataset.map(generate_chemical_ner)\n",
    "\n",
    "    return(dataset)\n",
    "\n",
    "def post_process(feature,dataset):\n",
    "    # Build DF\n",
    "\n",
    "    df = pd.DataFrame()\n",
    "\n",
    "    for entry in dataset[feature]:\n",
    "        tdf = pd.DataFrame(entry)\n",
    "        df = pd.concat([df,tdf]).reset_index(drop=True)\n",
    "    \n",
    "    return(df)"
   ]
  },
  {
   "cell_type": "code",
   "execution_count": 12,
   "metadata": {},
   "outputs": [
    {
     "data": {
      "application/vnd.jupyter.widget-view+json": {
       "model_id": "7727836af59c451a9906216128b48a94",
       "version_major": 2,
       "version_minor": 0
      },
      "text/plain": [
       "Map:   0%|          | 0/100 [00:00<?, ? examples/s]"
      ]
     },
     "metadata": {},
     "output_type": "display_data"
    }
   ],
   "source": [
    "dataset = pipe('text', dataset)"
   ]
  },
  {
   "cell_type": "markdown",
   "metadata": {},
   "source": [
    "## Evaluate \n",
    "Load in pipes, and create a piped dataset, figure out a comparison between the two? Calculate F1 score??  \n",
    "  \n",
    "*TODO: Clean this up from scratch, improve calculations, improve score*"
   ]
  },
  {
   "cell_type": "code",
   "execution_count": 22,
   "metadata": {},
   "outputs": [
    {
     "data": {
      "text/plain": [
       "(['1 INDICATIONS AND USAGE Gabapentin tablets USP are indicated for: • Management of postherpetic neuralgia in adults • Adjunctive therapy in the treatment of partial onset seizures, with and without secondary generalization, in adults and pediatric patients 3 years and older with epilepsy Gabapentin tablets are indicated for: • Postherpetic neuralgia in adults ( 1 ) • Adjunctive therapy in the treatment of partial onset seizures, with and without secondary generalization, in adults and pediatric patients 3 years and older with epilepsy ( 1 )'],\n",
       " [{'end': '34', 'entity': 'CHEMICAL', 'start': '24', 'word': 'Gabapentin'},\n",
       "  {'end': '298', 'entity': 'CHEMICAL', 'start': '288', 'word': 'Gabapentin'}],\n",
       " [[{'end': 34,\n",
       "    'entity_group': 'CHEMICAL',\n",
       "    'score': 0.9902465343475342,\n",
       "    'start': 24,\n",
       "    'word': 'Gabapentin'},\n",
       "   {'end': 298,\n",
       "    'entity_group': 'CHEMICAL',\n",
       "    'score': 0.9975243806838989,\n",
       "    'start': 288,\n",
       "    'word': 'Gabapentin'}]])"
      ]
     },
     "execution_count": 22,
     "metadata": {},
     "output_type": "execute_result"
    }
   ],
   "source": [
    "# Inspect\n",
    "number = 7\n",
    "(dataset['text'][number],dataset['chemical_eval'][number],dataset['chemical_test'][number])"
   ]
  },
  {
   "cell_type": "code",
   "execution_count": 33,
   "metadata": {},
   "outputs": [
    {
     "name": "stdout",
     "output_type": "stream",
     "text": [
      "CHEMICAL\n",
      "CHEMICAL\n"
     ]
    }
   ],
   "source": [
    "for m in dataset['chemical_eval'][7]:\n",
    "    print(m['entity'])"
   ]
  },
  {
   "cell_type": "code",
   "execution_count": 40,
   "metadata": {},
   "outputs": [
    {
     "data": {
      "text/plain": [
       "[[{'end': 34,\n",
       "   'entity_group': 'CHEMICAL',\n",
       "   'score': 0.9902465343475342,\n",
       "   'start': 24,\n",
       "   'word': 'Gabapentin'},\n",
       "  {'end': 298,\n",
       "   'entity_group': 'CHEMICAL',\n",
       "   'score': 0.9975243806838989,\n",
       "   'start': 288,\n",
       "   'word': 'Gabapentin'}]]"
      ]
     },
     "execution_count": 40,
     "metadata": {},
     "output_type": "execute_result"
    }
   ],
   "source": [
    "dataset['chemical_test'][7]"
   ]
  },
  {
   "cell_type": "code",
   "execution_count": 58,
   "metadata": {},
   "outputs": [],
   "source": [
    "index = 7\n",
    "\n",
    "eval_group = []\n",
    "eval_test = []\n",
    "\n",
    "for m in dataset['chemical_eval'][7]:\n",
    "    eval_group.append((f'{m[\"start\"]} {m[\"end\"]} {m[\"entity\"]} {m[\"word\"]}'))\n",
    "    \n",
    "for n in dataset['chemical_test'][7][0]:\n",
    "    eval_test.append((f'{n[\"start\"]} {n[\"end\"]} {n[\"entity_group\"]} {n[\"word\"]}'))\n",
    "    "
   ]
  },
  {
   "cell_type": "code",
   "execution_count": 67,
   "metadata": {},
   "outputs": [
    {
     "name": "stdout",
     "output_type": "stream",
     "text": [
      "TP: 2 \n",
      "FP: 0 \n",
      "FN: 0\n",
      "PRECISION: 100.0 \n",
      "RECALL: 100.0\n",
      "F1: 100.0\n"
     ]
    }
   ],
   "source": [
    "tp = 0\n",
    "fp = 0\n",
    "fn = 0\n",
    "\n",
    "for entity in eval_test:\n",
    "    if entity in eval_group:\n",
    "        tp += 1\n",
    "    else:\n",
    "        fp += 1\n",
    "\n",
    "for entity in eval_group:\n",
    "    if entity in eval_test:\n",
    "        pass\n",
    "    else:\n",
    "        fn += 1\n",
    "\n",
    "precision = (tp/(tp+fp))*100\n",
    "recall = (tp/(tp+fn))*100\n",
    "\n",
    "\n",
    "print(f'TP: {tp} \\nFP: {fp} \\nFN: {fn}')\n",
    "print(f'PRECISION: {precision} \\nRECALL: {recall}')\n",
    "print(f'F1: {(2*(precision*recall))/(precision+recall)}')\n",
    "\n",
    "\n"
   ]
  },
  {
   "cell_type": "code",
   "execution_count": 71,
   "metadata": {},
   "outputs": [
    {
     "data": {
      "text/plain": [
       "Dataset({\n",
       "    features: ['text', 'chemical_eval', 'chemical_test'],\n",
       "    num_rows: 100\n",
       "})"
      ]
     },
     "execution_count": 71,
     "metadata": {},
     "output_type": "execute_result"
    }
   ],
   "source": [
    "dataset"
   ]
  },
  {
   "cell_type": "code",
   "execution_count": 72,
   "metadata": {},
   "outputs": [
    {
     "name": "stdout",
     "output_type": "stream",
     "text": [
      "TP: 6268 \n",
      "FP: 3803 \n",
      "FN: 2862\n",
      "PRECISION: 62.23810942309602 \n",
      "RECALL: 68.65279299014239\n",
      "F1: 65.28826623613354\n"
     ]
    }
   ],
   "source": [
    "# Rudimentary loop to evaluate F1\n",
    "\n",
    "tp = 0\n",
    "fp = 0\n",
    "fn = 0\n",
    "\n",
    "index = 0\n",
    "eval_group = []\n",
    "eval_test = []\n",
    "\n",
    "while index < len(dataset):\n",
    "\n",
    "    for m in dataset['chemical_eval'][index]:\n",
    "        eval_group.append((f'{m[\"start\"]} {m[\"end\"]} {m[\"entity\"]} {m[\"word\"]}'))\n",
    "        \n",
    "    for n in dataset['chemical_test'][index][0]:\n",
    "        eval_test.append((f'{n[\"start\"]} {n[\"end\"]} {n[\"entity_group\"]} {n[\"word\"]}'))\n",
    "\n",
    "    for entity in eval_test:\n",
    "        if entity in eval_group:\n",
    "            tp += 1\n",
    "        else:\n",
    "            fp += 1\n",
    "\n",
    "    for entity in eval_group:\n",
    "        if entity in eval_test:\n",
    "            pass\n",
    "        else:\n",
    "            fn += 1\n",
    "\n",
    "    index += 1\n",
    "\n",
    "    \n",
    "precision = (tp/(tp+fp))*100\n",
    "recall = (tp/(tp+fn))*100\n",
    "\n",
    "\n",
    "print(f'TP: {tp} \\nFP: {fp} \\nFN: {fn}')\n",
    "print(f'PRECISION: {precision} \\nRECALL: {recall}')\n",
    "print(f'F1: {(2*(precision*recall))/(precision+recall)}')\n",
    "\n",
    "\n"
   ]
  },
  {
   "cell_type": "code",
   "execution_count": 56,
   "metadata": {},
   "outputs": [],
   "source": [
    "def post_process(feature,dataset):\n",
    "    # Build DF\n",
    "\n",
    "    df = pd.DataFrame()\n",
    "\n",
    "    for entry in dataset[feature]:\n",
    "        tdf = pd.DataFrame(entry)\n",
    "        df = pd.concat([df,tdf]).reset_index(drop=True)\n",
    "    \n",
    "    return(df)\n",
    "\n",
    "def post_process2(feature,dataset):\n",
    "    # Build DF\n",
    "\n",
    "    df = pd.DataFrame()\n",
    "\n",
    "    for entry in dataset[feature]:\n",
    "        tdf = pd.DataFrame(entry[0])\n",
    "        df = pd.concat([df,tdf]).reset_index(drop=True)\n",
    "    \n",
    "    return(df)\n",
    "\n",
    "\n",
    "evaluated = post_process('chemical_eval',dataset)\n",
    "evaluated2 = post_process2('chemical_test',dataset)\n"
   ]
  },
  {
   "cell_type": "code",
   "execution_count": 92,
   "metadata": {},
   "outputs": [],
   "source": [
    "eval_truth = []\n",
    "for m in evaluated.iterrows():\n",
    "    eval_truth.append(f'{m[1][2]} {m[1][0]} {m[1][1]} {m[1][3]}')\n",
    "\n",
    "eval_test = []    \n",
    "for n in evaluated2.iterrows():\n",
    "    eval_test.append(f'{n[1][3]} {n[1][0]} {n[1][1]} {n[1][4]}')\n",
    "\n",
    "    # for m in dataset['chemical_eval'][index]:\n",
    "    #     eval_group.append((f'{m[\"start\"]} {m[\"end\"]} {m[\"entity\"]} {m[\"word\"]}'))\n",
    "        \n",
    "    # for n in dataset['chemical_test'][index][0]:\n",
    "    #     eval_test.append((f'{n[\"start\"]} {n[\"end\"]} {n[\"entity_group\"]} {n[\"word\"]}'))\n"
   ]
  },
  {
   "cell_type": "code",
   "execution_count": 113,
   "metadata": {},
   "outputs": [
    {
     "name": "stdout",
     "output_type": "stream",
     "text": [
      "TP: 95 \n",
      "FP: 62 \n",
      "FN: 55\n",
      "PRECISION: 60.509554140127385 \n",
      "RECALL: 63.33333333333333\n"
     ]
    }
   ],
   "source": [
    "tp = len(set(eval_test).intersection(eval_truth)) # correct labels\n",
    "fp = len(set(eval_test)) - len(set(eval_test).intersection(eval_truth)) # things that were labeled that shouldn't have been\n",
    "\n",
    "fn = len(eval_group) - (len(set(eval_test).intersection(eval_truth))) # things that should've been labeled but were not\n",
    "\n",
    "precision = (tp/(tp+fp))*100\n",
    "recall = (tp/(tp+fn))*100\n",
    "\n",
    "\n",
    "print(f'TP: {tp} \\nFP: {fp} \\nFN: {fn}')\n",
    "print(f'PRECISION: {precision} \\nRECALL: {recall}')\n",
    "\n",
    "\n",
    "# print(f'F1: {(2*(precision*recall))/(precision+recall)}')\n",
    "# print(f'TP: {tp}\\nFP: {fp}\\nFN: {fn}')"
   ]
  },
  {
   "cell_type": "code",
   "execution_count": 114,
   "metadata": {},
   "outputs": [
    {
     "data": {
      "text/html": [
       "<div>\n",
       "<style scoped>\n",
       "    .dataframe tbody tr th:only-of-type {\n",
       "        vertical-align: middle;\n",
       "    }\n",
       "\n",
       "    .dataframe tbody tr th {\n",
       "        vertical-align: top;\n",
       "    }\n",
       "\n",
       "    .dataframe thead th {\n",
       "        text-align: right;\n",
       "    }\n",
       "</style>\n",
       "<table border=\"1\" class=\"dataframe\">\n",
       "  <thead>\n",
       "    <tr style=\"text-align: right;\">\n",
       "      <th></th>\n",
       "      <th>end</th>\n",
       "      <th>entity</th>\n",
       "      <th>start</th>\n",
       "      <th>word</th>\n",
       "    </tr>\n",
       "  </thead>\n",
       "  <tbody>\n",
       "    <tr>\n",
       "      <th>0</th>\n",
       "      <td>35</td>\n",
       "      <td>CHEMICAL</td>\n",
       "      <td>24</td>\n",
       "      <td>Zenchent Fe</td>\n",
       "    </tr>\n",
       "    <tr>\n",
       "      <th>1</th>\n",
       "      <td>50</td>\n",
       "      <td>CHEMICAL</td>\n",
       "      <td>37</td>\n",
       "      <td>norethindrone</td>\n",
       "    </tr>\n",
       "    <tr>\n",
       "      <th>2</th>\n",
       "      <td>72</td>\n",
       "      <td>CHEMICAL</td>\n",
       "      <td>55</td>\n",
       "      <td>ethinyl estradiol</td>\n",
       "    </tr>\n",
       "    <tr>\n",
       "      <th>3</th>\n",
       "      <td>111</td>\n",
       "      <td>CHEMICAL</td>\n",
       "      <td>95</td>\n",
       "      <td>ferrous fumarate</td>\n",
       "    </tr>\n",
       "    <tr>\n",
       "      <th>4</th>\n",
       "      <td>214</td>\n",
       "      <td>CHEMICAL</td>\n",
       "      <td>203</td>\n",
       "      <td>Zenchent Fe</td>\n",
       "    </tr>\n",
       "    <tr>\n",
       "      <th>...</th>\n",
       "      <td>...</td>\n",
       "      <td>...</td>\n",
       "      <td>...</td>\n",
       "      <td>...</td>\n",
       "    </tr>\n",
       "    <tr>\n",
       "      <th>145</th>\n",
       "      <td>46</td>\n",
       "      <td>CHEMICAL</td>\n",
       "      <td>36</td>\n",
       "      <td>prilocaine</td>\n",
       "    </tr>\n",
       "    <tr>\n",
       "      <th>146</th>\n",
       "      <td>100</td>\n",
       "      <td>CHEMICAL</td>\n",
       "      <td>91</td>\n",
       "      <td>lidocaine</td>\n",
       "    </tr>\n",
       "    <tr>\n",
       "      <th>147</th>\n",
       "      <td>120</td>\n",
       "      <td>CHEMICAL</td>\n",
       "      <td>110</td>\n",
       "      <td>prilocaine</td>\n",
       "    </tr>\n",
       "    <tr>\n",
       "      <th>148</th>\n",
       "      <td>333</td>\n",
       "      <td>CHEMICAL</td>\n",
       "      <td>324</td>\n",
       "      <td>Lidocaine</td>\n",
       "    </tr>\n",
       "    <tr>\n",
       "      <th>149</th>\n",
       "      <td>348</td>\n",
       "      <td>CHEMICAL</td>\n",
       "      <td>338</td>\n",
       "      <td>prilocaine</td>\n",
       "    </tr>\n",
       "  </tbody>\n",
       "</table>\n",
       "<p>150 rows × 4 columns</p>\n",
       "</div>"
      ],
      "text/plain": [
       "     end    entity start               word\n",
       "0     35  CHEMICAL    24        Zenchent Fe\n",
       "1     50  CHEMICAL    37      norethindrone\n",
       "2     72  CHEMICAL    55  ethinyl estradiol\n",
       "3    111  CHEMICAL    95   ferrous fumarate\n",
       "4    214  CHEMICAL   203        Zenchent Fe\n",
       "..   ...       ...   ...                ...\n",
       "145   46  CHEMICAL    36         prilocaine\n",
       "146  100  CHEMICAL    91          lidocaine\n",
       "147  120  CHEMICAL   110         prilocaine\n",
       "148  333  CHEMICAL   324          Lidocaine\n",
       "149  348  CHEMICAL   338         prilocaine\n",
       "\n",
       "[150 rows x 4 columns]"
      ]
     },
     "execution_count": 114,
     "metadata": {},
     "output_type": "execute_result"
    }
   ],
   "source": [
    "evaluated # TRUTH SET / HUMAN LABELS"
   ]
  },
  {
   "cell_type": "code",
   "execution_count": 57,
   "metadata": {},
   "outputs": [
    {
     "data": {
      "text/html": [
       "<div>\n",
       "<style scoped>\n",
       "    .dataframe tbody tr th:only-of-type {\n",
       "        vertical-align: middle;\n",
       "    }\n",
       "\n",
       "    .dataframe tbody tr th {\n",
       "        vertical-align: top;\n",
       "    }\n",
       "\n",
       "    .dataframe thead th {\n",
       "        text-align: right;\n",
       "    }\n",
       "</style>\n",
       "<table border=\"1\" class=\"dataframe\">\n",
       "  <thead>\n",
       "    <tr style=\"text-align: right;\">\n",
       "      <th></th>\n",
       "      <th>end</th>\n",
       "      <th>entity_group</th>\n",
       "      <th>score</th>\n",
       "      <th>start</th>\n",
       "      <th>word</th>\n",
       "    </tr>\n",
       "  </thead>\n",
       "  <tbody>\n",
       "    <tr>\n",
       "      <th>0</th>\n",
       "      <td>47</td>\n",
       "      <td>CHEMICAL</td>\n",
       "      <td>0.999128</td>\n",
       "      <td>24</td>\n",
       "      <td>Memantine hydrochloride</td>\n",
       "    </tr>\n",
       "    <tr>\n",
       "      <th>1</th>\n",
       "      <td>74</td>\n",
       "      <td>CHEMICAL</td>\n",
       "      <td>0.999993</td>\n",
       "      <td>54</td>\n",
       "      <td>N - methyl - D - aspartate</td>\n",
       "    </tr>\n",
       "    <tr>\n",
       "      <th>2</th>\n",
       "      <td>215</td>\n",
       "      <td>CHEMICAL</td>\n",
       "      <td>0.999696</td>\n",
       "      <td>192</td>\n",
       "      <td>Memantine hydrochloride</td>\n",
       "    </tr>\n",
       "    <tr>\n",
       "      <th>3</th>\n",
       "      <td>50</td>\n",
       "      <td>CHEMICAL</td>\n",
       "      <td>0.999892</td>\n",
       "      <td>37</td>\n",
       "      <td>norethindrone</td>\n",
       "    </tr>\n",
       "    <tr>\n",
       "      <th>4</th>\n",
       "      <td>72</td>\n",
       "      <td>CHEMICAL</td>\n",
       "      <td>0.999734</td>\n",
       "      <td>55</td>\n",
       "      <td>ethinyl estradiol</td>\n",
       "    </tr>\n",
       "    <tr>\n",
       "      <th>...</th>\n",
       "      <td>...</td>\n",
       "      <td>...</td>\n",
       "      <td>...</td>\n",
       "      <td>...</td>\n",
       "      <td>...</td>\n",
       "    </tr>\n",
       "    <tr>\n",
       "      <th>152</th>\n",
       "      <td>100</td>\n",
       "      <td>CHEMICAL</td>\n",
       "      <td>0.999996</td>\n",
       "      <td>91</td>\n",
       "      <td>lidocaine</td>\n",
       "    </tr>\n",
       "    <tr>\n",
       "      <th>153</th>\n",
       "      <td>120</td>\n",
       "      <td>CHEMICAL</td>\n",
       "      <td>0.984445</td>\n",
       "      <td>110</td>\n",
       "      <td>prilocaine</td>\n",
       "    </tr>\n",
       "    <tr>\n",
       "      <th>154</th>\n",
       "      <td>333</td>\n",
       "      <td>CHEMICAL</td>\n",
       "      <td>0.999674</td>\n",
       "      <td>324</td>\n",
       "      <td>Lidocaine</td>\n",
       "    </tr>\n",
       "    <tr>\n",
       "      <th>155</th>\n",
       "      <td>339</td>\n",
       "      <td>CHEMICAL</td>\n",
       "      <td>0.999998</td>\n",
       "      <td>338</td>\n",
       "      <td>p</td>\n",
       "    </tr>\n",
       "    <tr>\n",
       "      <th>156</th>\n",
       "      <td>348</td>\n",
       "      <td>CHEMICAL</td>\n",
       "      <td>0.996015</td>\n",
       "      <td>339</td>\n",
       "      <td>##rilocaine</td>\n",
       "    </tr>\n",
       "  </tbody>\n",
       "</table>\n",
       "<p>157 rows × 5 columns</p>\n",
       "</div>"
      ],
      "text/plain": [
       "     end entity_group     score  start                        word\n",
       "0     47     CHEMICAL  0.999128     24     Memantine hydrochloride\n",
       "1     74     CHEMICAL  0.999993     54  N - methyl - D - aspartate\n",
       "2    215     CHEMICAL  0.999696    192     Memantine hydrochloride\n",
       "3     50     CHEMICAL  0.999892     37               norethindrone\n",
       "4     72     CHEMICAL  0.999734     55           ethinyl estradiol\n",
       "..   ...          ...       ...    ...                         ...\n",
       "152  100     CHEMICAL  0.999996     91                   lidocaine\n",
       "153  120     CHEMICAL  0.984445    110                  prilocaine\n",
       "154  333     CHEMICAL  0.999674    324                   Lidocaine\n",
       "155  339     CHEMICAL  0.999998    338                           p\n",
       "156  348     CHEMICAL  0.996015    339                 ##rilocaine\n",
       "\n",
       "[157 rows x 5 columns]"
      ]
     },
     "execution_count": 57,
     "metadata": {},
     "output_type": "execute_result"
    }
   ],
   "source": [
    "evaluated2 # MODEL PREDICTIONS"
   ]
  }
 ],
 "metadata": {
  "kernelspec": {
   "display_name": "Python 3.10.4 64-bit ('3.10.4')",
   "language": "python",
   "name": "python3"
  },
  "language_info": {
   "codemirror_mode": {
    "name": "ipython",
    "version": 3
   },
   "file_extension": ".py",
   "mimetype": "text/x-python",
   "name": "python",
   "nbconvert_exporter": "python",
   "pygments_lexer": "ipython3",
   "version": "3.10.4"
  },
  "orig_nbformat": 4,
  "vscode": {
   "interpreter": {
    "hash": "5665ddc6d7544238f2e637974fb7ce0cd2b3fcbe310ce6232a6d3529e702b4ab"
   }
  }
 },
 "nbformat": 4,
 "nbformat_minor": 2
}

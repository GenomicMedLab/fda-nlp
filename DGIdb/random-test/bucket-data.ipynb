{
 "cells": [
  {
   "cell_type": "code",
   "execution_count": 1,
   "metadata": {},
   "outputs": [],
   "source": [
    "import pandas as pd\n",
    "import plotly as plt\n",
    "import plotly.express as px\n",
    "import kaleido\n"
   ]
  },
  {
   "cell_type": "code",
   "execution_count": 2,
   "metadata": {},
   "outputs": [
    {
     "data": {
      "text/html": [
       "<div>\n",
       "<style scoped>\n",
       "    .dataframe tbody tr th:only-of-type {\n",
       "        vertical-align: middle;\n",
       "    }\n",
       "\n",
       "    .dataframe tbody tr th {\n",
       "        vertical-align: top;\n",
       "    }\n",
       "\n",
       "    .dataframe thead th {\n",
       "        text-align: right;\n",
       "    }\n",
       "</style>\n",
       "<table border=\"1\" class=\"dataframe\">\n",
       "  <thead>\n",
       "    <tr style=\"text-align: right;\">\n",
       "      <th></th>\n",
       "      <th>brand_name</th>\n",
       "      <th>application</th>\n",
       "      <th>original_text</th>\n",
       "      <th>metrics</th>\n",
       "      <th>values</th>\n",
       "      <th>descriptors</th>\n",
       "    </tr>\n",
       "  </thead>\n",
       "  <tbody>\n",
       "    <tr>\n",
       "      <th>0</th>\n",
       "      <td>Rabeprazole sodium</td>\n",
       "      <td>ANDA202376</td>\n",
       "      <td>14 CLINICAL STUDIES 14.1 Healing of Erosive or...</td>\n",
       "      <td>Healing of Erosive or Ulcerative GERD in Adults</td>\n",
       "      <td>Percentage of Patients Healed</td>\n",
       "      <td>Rabeprazole sodium delayed-release tablets, pl...</td>\n",
       "    </tr>\n",
       "    <tr>\n",
       "      <th>1</th>\n",
       "      <td>Rabeprazole sodium</td>\n",
       "      <td>ANDA202376</td>\n",
       "      <td>14 CLINICAL STUDIES 14.1 Healing of Erosive or...</td>\n",
       "      <td>Complete resolution of GERD heartburn frequency</td>\n",
       "      <td>Percentage of Patients Healed</td>\n",
       "      <td>Rabeprazole sodium delayed-release tablets, pl...</td>\n",
       "    </tr>\n",
       "    <tr>\n",
       "      <th>2</th>\n",
       "      <td>Phentermine hydrochloride</td>\n",
       "      <td>ANDA205017</td>\n",
       "      <td>14 CLINICAL STUDIES In relatively short-term c...</td>\n",
       "      <td>Weight Loss</td>\n",
       "      <td>Drug-treated patients lost more weight on aver...</td>\n",
       "      <td>The magnitude of increased weight loss is only...</td>\n",
       "    </tr>\n",
       "    <tr>\n",
       "      <th>3</th>\n",
       "      <td>venlafaxine</td>\n",
       "      <td>ANDA090555</td>\n",
       "      <td>CLINICAL TRIALS The efficacy of venlafaxine hy...</td>\n",
       "      <td>Efficacy of Venlafaxine Hydrochloride as a Tre...</td>\n",
       "      <td>Established in 5 placebo-controlled, short-ter...</td>\n",
       "      <td>The studies involved adult outpatients and inp...</td>\n",
       "    </tr>\n",
       "    <tr>\n",
       "      <th>4</th>\n",
       "      <td>Duloxetine Delayed-Release</td>\n",
       "      <td>ANDA203088</td>\n",
       "      <td>14 CLINICAL STUDIES 14.1 Overview of the Clini...</td>\n",
       "      <td>Efficacy of duloxetine in Major Depressive Dis...</td>\n",
       "      <td>Established in 4 randomized, double-blind, pla...</td>\n",
       "      <td>Studies MDD-1 and MDD-2: Patients were randomi...</td>\n",
       "    </tr>\n",
       "  </tbody>\n",
       "</table>\n",
       "</div>"
      ],
      "text/plain": [
       "                   brand_name application  \\\n",
       "0          Rabeprazole sodium  ANDA202376   \n",
       "1          Rabeprazole sodium  ANDA202376   \n",
       "2   Phentermine hydrochloride  ANDA205017   \n",
       "3                 venlafaxine  ANDA090555   \n",
       "4  Duloxetine Delayed-Release  ANDA203088   \n",
       "\n",
       "                                       original_text  \\\n",
       "0  14 CLINICAL STUDIES 14.1 Healing of Erosive or...   \n",
       "1  14 CLINICAL STUDIES 14.1 Healing of Erosive or...   \n",
       "2  14 CLINICAL STUDIES In relatively short-term c...   \n",
       "3  CLINICAL TRIALS The efficacy of venlafaxine hy...   \n",
       "4  14 CLINICAL STUDIES 14.1 Overview of the Clini...   \n",
       "\n",
       "                                             metrics  \\\n",
       "0    Healing of Erosive or Ulcerative GERD in Adults   \n",
       "1    Complete resolution of GERD heartburn frequency   \n",
       "2                                        Weight Loss   \n",
       "3  Efficacy of Venlafaxine Hydrochloride as a Tre...   \n",
       "4  Efficacy of duloxetine in Major Depressive Dis...   \n",
       "\n",
       "                                              values  \\\n",
       "0                      Percentage of Patients Healed   \n",
       "1                      Percentage of Patients Healed   \n",
       "2  Drug-treated patients lost more weight on aver...   \n",
       "3  Established in 5 placebo-controlled, short-ter...   \n",
       "4  Established in 4 randomized, double-blind, pla...   \n",
       "\n",
       "                                         descriptors  \n",
       "0  Rabeprazole sodium delayed-release tablets, pl...  \n",
       "1  Rabeprazole sodium delayed-release tablets, pl...  \n",
       "2  The magnitude of increased weight loss is only...  \n",
       "3  The studies involved adult outpatients and inp...  \n",
       "4  Studies MDD-1 and MDD-2: Patients were randomi...  "
      ]
     },
     "execution_count": 2,
     "metadata": {},
     "output_type": "execute_result"
    }
   ],
   "source": [
    "data = pd.read_excel('20240429_metrics_output.xlsx').drop(columns='Unnamed: 0').reset_index(drop=True)\n",
    "data[0:5]"
   ]
  },
  {
   "cell_type": "markdown",
   "metadata": {},
   "source": [
    "## Broad Buckets"
   ]
  },
  {
   "cell_type": "code",
   "execution_count": 3,
   "metadata": {},
   "outputs": [],
   "source": [
    "categories = {\n",
    "    \"SURVIVAL_RESPONSE\" : [\n",
    "        \"Clinical success\",\n",
    "        \"clinical success\",\n",
    "        \"Clinical Success Rate\",\n",
    "        \"Clinical Success\",\n",
    "        \"clinical success rate\",\n",
    "        \"Success rate\",\n",
    "        \"Clinical success rate\",\n",
    "        \"treatment success\",\n",
    "        \"Overall Treatment Success\",\n",
    "        \"clinical efficacy rate\",\n",
    "        \"Efficacy\",\n",
    "        \"Treatment efficacy\",\n",
    "        \"Clinical Effectiveness\",\n",
    "        \"Overall Survival\",\n",
    "        \"Survival\",\n",
    "        \"Patient Survival\",\n",
    "        \"1 year patient survival\",\n",
    "        \"1 year graft survival\",\n",
    "        \"Graft Survival\",\n",
    "        \"overall survival\",\n",
    "        \"survival\",\n",
    "        \"survival rate\",\n",
    "        \"Mortality Rate\",\n",
    "        \"Total Mortality\",\n",
    "        \"total mortality\",\n",
    "        \"Mortality\",\n",
    "        \"mortality\",\n",
    "        \"3-month mortality\",\n",
    "        \"response rate\",\n",
    "        \"Response rate\",\n",
    "        \"clinical response\",\n",
    "        \"Clinical response\",\n",
    "        \"Overall Response Rate\",\n",
    "        \"Complete response rate\",\n",
    "        \"overall response rate\",\n",
    "        \"Clinical Response Rate\",\n",
    "        \"Treatment response\",\n",
    "        \"Overall response rate\",\n",
    "        \"Objective Response Rate\",\n",
    "        \"Clinical Response\",\n",
    "        \"Number of responders\",\n",
    "        \"Response Rate\",\n",
    "        \"Clinical response rate\",\n",
    "        \"responder rate\",\n",
    "        \"Overall response rate (first randomized drug)\",\n",
    "        \"Responder Rate\",\n",
    "        \"Response rate to treatment\",\n",
    "        \"Treatment Response\",\n",
    "        \"Physician's Assessment of Clinical Response\",\n",
    "        \"Complete Response\",\n",
    "        \"Complete Response Rate\",\n",
    "        \"CR rate\",\n",
    "        \"Complete Remission Rate\",\n",
    "        \"Complete Remission\",\n",
    "        \"complete remission rate\",\n",
    "        \"Annualized Relapse Rate (ARR)\",\n",
    "        \"Relapse Rate\",\n",
    "        \"Percentage of patients relapse-free\",\n",
    "        \"disease-free survival\",\n",
    "        \"Disease-Free Survival\",\n",
    "        \"Progression-free survival\",\n",
    "        \"proportion of patients meeting escape criteria\",\n",
    "        \"Proportion of patients who met escape criteria\",\n",
    "        \"number of patients meeting exit criteria\",\n",
    "        \"Percentage of patients meeting escape criteria\",\n",
    "        \"Number of patients meeting exit criteria\",\n",
    "        \"Clinical Failure\",\n",
    "        \"Time to exit from the trial\",\n",
    "        \"Risk reduction\"\n",
    "    ],\n",
    "\"MICRO_INFECTION_ERADICATION\" : [\n",
    "    \"Bacteriological success rate\",\n",
    "    \"Bacteriologic Eradication by Patient at 5 to 9 Days Post-Treatment\",\n",
    "    \"presumptive microbiologic eradication rates\",\n",
    "    \"microbiological eradication rate\",\n",
    "    \"Bacteriologic Eradication by Patient\",\n",
    "    \"Bacteriologic Eradication of the Baseline Pathogen at 5 to 9 Days Post-Treatment\",\n",
    "    \"Microbiological Eradication Rate\",\n",
    "    \"H. pylori Eradication Rates\",\n",
    "    \"Microbiologic eradication\",\n",
    "    \"MAC Bacteremia\",\n",
    "    \"pathogen eradication rate\",\n",
    "    \"Mycological Cure\",\n",
    "    \"bacteriologic eradication\",\n",
    "    \"Mycologic eradication rate\",\n",
    "    \"Complete Cure\",\n",
    "    \"Therapeutic cure rate\",\n",
    "    \"Mycological Cure Plus Clinical Cure\",\n",
    "    \"microbiological success rates\",\n",
    "    \"Clinical Cure Rate\",\n",
    "    \"clinical cure rates\",\n",
    "    \"clinical cure rate\",\n",
    "    \"Cure rate\",\n",
    "    \"cure rate\",\n",
    "    \"eradication rates\",\n",
    "    \"Bacteriologic Eradication\",\n",
    "    \"Helicobacter pylori Eradication\",\n",
    "    \"Bacterial Eradication\",\n",
    "    \"Percentage of endoscopically confirmed healed duodenal ulcers\",\n",
    "    \"Cure Rate\",\n",
    "    \"bacteriologic eradication rate\",\n",
    "    \"Microbiological eradication\",\n",
    "    \"Bacteriologic Eradication of Baseline Pathogen\",\n",
    "    \"Percentage change in inflammatory lesion counts from Baseline to 12 weeks\",\n",
    "    \"Effective Treatment\",\n",
    "    \"clinical improvement rate\",\n",
    "    \"Wound Infection\"\n",
    "],\n",
    "\"HEART_HEALTH_AND_METRICS\" : [\n",
    "    \"LDL-C\",\n",
    "    \"HDL-C\",\n",
    "    \"LDL-C reduction\",\n",
    "    \"Non-HDL-C\",\n",
    "    \"VLDL-C\",\n",
    "    \"Lipid parameters\",\n",
    "    \"Low-Density Lipoprotein Cholesterol (LDL-C)\",\n",
    "    \"Low-Density Lipoprotein Cholesterol\",\n",
    "    \"blood pressure reduction\",\n",
    "    \"HbA1c reduction from baseline\",\n",
    "    \"HbA1c\",\n",
    "    \"HbA1C\",\n",
    "    \"HbA 1C\",\n",
    "    \"HbA1c reduction\",\n",
    "    \"A1C\",\n",
    "    \"serum triglycerides\",\n",
    "    \"Triglycerides\",\n",
    "    \"TG\",\n",
    "    \"Total Cholesterol\",\n",
    "    \"Total-C\",\n",
    "    \"Apolipoprotein B (Apo B)\",\n",
    "    \"apo B\",\n",
    "    \"Apo-B\",\n",
    "    \"Apo B\",\n",
    "    \"Apo B levels\",\n",
    "    \"rate of first coronary events\",\n",
    "    \"Death, MI, revascularization\",\n",
    "    \"Time to first occurrence of major cardiovascular events\",\n",
    "    \"Cardiovascular deaths\",\n",
    "    \"Coronary events\",\n",
    "    \"Myocardial Infarction\",\n",
    "    \"CHD events\",\n",
    "    \"myocardial infarction mortality\",\n",
    "    \"VTE rate\",\n",
    "    \"CHD Mortality\",\n",
    "    \"Coronary Heart Disease\",\n",
    "    \"CHD mortality\",\n",
    "    \"cardiovascular deaths\",\n",
    "    \"Reduction in combined rate of coronary heart disease death plus non-fatal myocardial infarction\",\n",
    "    \"Reduction of myocardial revascularization procedures\",\n",
    "    \"Myocardial Revascularization Procedures\",\n",
    "    \"Myocardial revascularization procedures\",\n",
    "    \"myocardial revascularization procedures\",\n",
    "    \"Reduction of first coronary events\",\n",
    "    \"Primary Prevention of Cardiovascular Disease\",\n",
    "    \"Suppression of Holter monitor evidence of sustained ventricular tachycardia\",\n",
    "    \"Suppression of PES induced ventricular tachycardia\",\n",
    "    \"Conversion rate\",\n",
    "    \"AF/AFl to NSR\",\n",
    "    \"Reversible myocardial perfusion defects\",\n",
    "    \"Risk Reduction at 2 Years\"\n",
    "],\n",
    "\n",
    "\"GASTROINTESTINAL\": [\n",
    "    \"Ulcer Healing\",\n",
    "    \"Ulcer Healing Rate\",\n",
    "    \"Healing rates\",\n",
    "    \"Healing rate\",\n",
    "    \"Percentage of patients healed\",\n",
    "    \"Percentage of Patients Healed\",\n",
    "    \"Healing of Erosive or Ulcerative GERD in Adults\",\n",
    "    \"Percentage of endoscopically confirmed healed DU\",\n",
    "    \"Duodenal Ulcer Healing Rates\",\n",
    "    \"Proportion of Adult Patients with Successful Colon Cleansing\",\n",
    "    \"Percentage of Patients Improved\",\n",
    "    \"Complete relief of heartburn and regurgitation\"\n",
    "],\n",
    "\n",
    "\"KIDNEY_FUNCTION\": [\n",
    "    \"serum phosphorus levels\",\n",
    "    \"stone-passage remission rate\",\n",
    "    \"serum calcium levels\"\n",
    "],\n",
    "\n",
    "\"RESPIRATORY\": [\n",
    "    \"FEV1\",\n",
    "    \"PCP event rate\"\n",
    "],\n",
    "\n",
    "\"ANTIEPILEPTIC\":[\n",
    "    \"Percentage Reduction in Weekly Partial Seizure Frequency\",\n",
    "    \"median percent reduction from baseline in partial seizure frequency\"\n",
    "],\n",
    "\n",
    "\"DEPRESSION_ANXIETY\": [\n",
    "    \"HDRS total score\",\n",
    "    \"Panic Disorder\"\n",
    "],\n",
    "\n",
    "\"VIROLOGIC\": [\n",
    "    \"HIV-1 disease progression or death\",\n",
    "    \"Virologic response\",\n",
    "    \"Virologic failure\"\n",
    "],\n",
    "\n",
    "\"PREGNANCY\": [\n",
    "    \"Pregnancy rate\",\n",
    "    \"Pregnancy rate\"\n",
    "],\n",
    "\n",
    "\"OCULAR_HYPERTENSION_GLAUCOMA\": [\n",
    "    \"IOP-lowering effect\",\n",
    "    \"ocular pain resolution\"\n",
    "],\n",
    "\n",
    "\"UNSURE\": [\n",
    "    \"Percentage\",\n",
    "    \"Adverse Reactions\",\n",
    "    \"incidence\",\n",
    "    \"percentage\",\n",
    "    \"percentage change\",\n",
    "    \"14.2\",\n",
    "    \"Completion rate\",\n",
    "    \"treatment outcomes\",\n",
    "    \"Adverse events\",\n",
    "    \"Adverse Events\",\n",
    "    \"Percentage of patients\",\n",
    "    \"Safety\",\n",
    "    \"Specificity\",\n",
    "    \"Sensitivity\",\n",
    "    \"Toxicity\",\n",
    "    \"adverse reactions\",\n",
    "    \"discontinuation rate\"\n",
    "],\n",
    "\n",
    "\"STEROIDAL\": [\n",
    "    \"Percentage of patients achieving at least 90% improvement based on physician's global evaluation of clinical response\",\n",
    "],\n",
    "\n",
    "\"GAUCHER_DISEASE\": [\n",
    "    \"Liver Volume\",\n",
    "    \"Spleen Volume\",\n",
    "    \"Spleen volume reduction\"\n",
    "],\n",
    "\n",
    "\"DERMATOLOGIC\": [\n",
    "    \"clearance rate\",\n",
    "    \"proportion of subjects with at least a 90% reduction in total nodular lesion count\",\n",
    "    \"proportion of subjects with at least a 90% reduction in total nodular lesion count\",\n",
    "    \"Percentage improvement in inflammatory lesions from baseline to 12 weeks\",\n",
    "    \"Major Abscess\",\n",
    "    \"Percentage of subjects with an Evaluator's Global Severity Assessment (EGSA) of clear or almost clear at 12 weeks\",\n",
    "    \"pruritus improvement\",\n",
    "    \"Inflammatory Lesion Counts\",\n",
    "    \"Percentage of patients achieving treatment success\",\n",
    "    \"Treatment success\",\n",
    "    \"Percent reduction in lesion counts\"\n",
    "],\n",
    "\n",
    "\"PAIN_RELIEF\": [\n",
    "    \"completion rate\",\n",
    "    \"Pain Reduction\",\n",
    "    \"pain reduction\",\n",
    "    \"relief from starting backache\",\n",
    "    \"Morphine Requirement\",\n",
    "    \"Morphine requirement\",\n",
    "    \"global impression of change\",\n",
    "    \"proportion of responders\",\n",
    "    \"Headache response rate\",\n",
    "    \"proportion of successful anesthesia\",\n",
    "    \"Pain intensity\",\n",
    "    \"No pain at post-operative day 8\"\n",
    "]\n",
    "}"
   ]
  },
  {
   "cell_type": "code",
   "execution_count": 4,
   "metadata": {},
   "outputs": [],
   "source": [
    "term_to_category = {term: category for category, terms in categories.items() for term in terms}\n"
   ]
  },
  {
   "cell_type": "code",
   "execution_count": 5,
   "metadata": {},
   "outputs": [],
   "source": [
    "def categorize_metrics(metric):\n",
    "    return term_to_category.get(metric, \"Uncategorized\")  # Defaults to \"Uncategorized\" if not found\n",
    "\n",
    "data = data[data['values'].str.contains('%')==True]\n",
    "data['bucket'] = data['metrics'].apply(categorize_metrics)"
   ]
  },
  {
   "cell_type": "code",
   "execution_count": 6,
   "metadata": {},
   "outputs": [
    {
     "data": {
      "text/plain": [
       "bucket\n",
       "SURVIVAL_RESPONSE               364\n",
       "Uncategorized                   348\n",
       "HEART_HEALTH_AND_METRICS        294\n",
       "MICRO_INFECTION_ERADICATION     270\n",
       "GASTROINTESTINAL                 91\n",
       "UNSURE                           81\n",
       "PAIN_RELIEF                      36\n",
       "DERMATOLOGIC                     32\n",
       "ANTIEPILEPTIC                    26\n",
       "RESPIRATORY                      21\n",
       "KIDNEY_FUNCTION                  15\n",
       "VIROLOGIC                        12\n",
       "PREGNANCY                         6\n",
       "GAUCHER_DISEASE                   6\n",
       "DEPRESSION_ANXIETY                5\n",
       "OCULAR_HYPERTENSION_GLAUCOMA      5\n",
       "STEROIDAL                         2\n",
       "Name: count, dtype: int64"
      ]
     },
     "execution_count": 6,
     "metadata": {},
     "output_type": "execute_result"
    }
   ],
   "source": [
    "data['bucket'].value_counts()"
   ]
  },
  {
   "cell_type": "markdown",
   "metadata": {},
   "source": [
    "### RESPONSE RATE"
   ]
  },
  {
   "cell_type": "code",
   "execution_count": 7,
   "metadata": {},
   "outputs": [],
   "source": [
    "sub_categories = {\n",
    "    \"RESPONSE_RATE\": [\n",
    "        \"response rate\",\n",
    "        \"Response rate\",\n",
    "        \"clinical response\",\n",
    "        \"Clinical response\",\n",
    "        \"Overall Response Rate\",\n",
    "        \"Complete response rate\",\n",
    "        \"overall response rate\",\n",
    "        \"Clinical Response Rate\",\n",
    "        \"Treatment response\",\n",
    "        \"Overall response rate\",\n",
    "        \"Objective Response Rate\",\n",
    "        \"Clinical Response\",\n",
    "        \"Number of responders\",\n",
    "        \"Response Rate\",\n",
    "        \"Clinical response rate\",\n",
    "        \"responder rate\",\n",
    "        \"Overall response rate (first randomized drug)\",\n",
    "        \"Responder Rate\",\n",
    "        \"Response rate to treatment\",\n",
    "        \"Treatment Response\",\n",
    "        \"Physician's Assessment of Clinical Response\"\n",
    "        ],\n",
    "    \"COMPLETE_RESPONSE_RATE\": [\n",
    "        \"Complete Response\",\n",
    "        \"Complete Response Rate\",\n",
    "        \"CR rate\"\n",
    "        ],\n",
    "    \"OVERALL_SURVIVAL\": [\n",
    "        \"Overall Survival\",\n",
    "        \"Survival\",\n",
    "        \"Patient Survival\",\n",
    "        \"1 year patient survival\",\n",
    "        \"1 year graft survival\",\n",
    "        \"Graft Survival\",\n",
    "        \"overall survival\",\n",
    "        \"survival\",\n",
    "        \"survival rate\"\n",
    "        ],\n",
    "    \"CLINICAL_SUCCESS_RATE\": [\n",
    "        \"Clinical success\",\n",
    "        \"clinical success\",\n",
    "        \"Clinical Success Rate\",\n",
    "        \"Clinical Success\",\n",
    "        \"clinical success rate\",\n",
    "        \"Success rate\",\n",
    "        \"Clinical success rate\",\n",
    "        \"treatment success\",\n",
    "        \"Overall Treatment Success\"\n",
    "        ],\n",
    "    \"CLINICAL_EFFICACY\": [\n",
    "        \"clinical efficacy rate\",\n",
    "        \"Efficacy\",\n",
    "        \"Treatment efficacy\",\n",
    "        \"Clinical Effectiveness\"\n",
    "        ],\n",
    "    \"TOTAL_MORTALITY\": [\n",
    "        \"Mortality Rate\",\n",
    "        \"Total Mortality\",\n",
    "        \"total mortality\",\n",
    "        \"Mortality\",\n",
    "        \"mortality\",\n",
    "        \"3-month mortality\"\n",
    "        ],\n",
    "    \"DISEASE_FREE_SURVIVAL\": [\n",
    "        \"disease-free survival\",\n",
    "        \"Disease-Free Survival\",\n",
    "        \"Progression-free survival\"\n",
    "        ],\n",
    "    \"ESCAPE_CRITERIA_PROPORTION\": [\n",
    "        \"proportion of patients meeting escape criteria\",\n",
    "        \"Proportion of patients who met escape criteria\",\n",
    "        \"number of patients meeting exit criteria\",\n",
    "        \"Percentage of patients meeting escape criteria\",\n",
    "        \"Number of patients meeting exit criteria\"\n",
    "        ],\n",
    "    \"RELAPSE_RATE\": [\n",
    "        \"Annualized Relapse Rate (ARR)\",\n",
    "        \"Relapse Rate\",\n",
    "        \"Percentage of patients relapse-free\"\n",
    "        ],\n",
    "    \"COMPLETE_REMISSION_RATE\": [\n",
    "        \"Complete Remission Rate\",\n",
    "        \"Complete Remission\",\n",
    "        \"complete remission rate\"\n",
    "        ]\n",
    "}"
   ]
  },
  {
   "cell_type": "code",
   "execution_count": 8,
   "metadata": {},
   "outputs": [],
   "source": [
    "term_to_subcategory = {term: category for category, terms in sub_categories.items() for term in terms}\n",
    "def categorize_metrics(metric):\n",
    "    return term_to_subcategory.get(metric, \"Uncategorized\")  # Defaults to \"Uncategorized\" if not found\n",
    "\n",
    "data['sub_bucket'] = data['metrics'].apply(categorize_metrics)"
   ]
  },
  {
   "cell_type": "code",
   "execution_count": 9,
   "metadata": {},
   "outputs": [
    {
     "data": {
      "text/html": [
       "<div>\n",
       "<style scoped>\n",
       "    .dataframe tbody tr th:only-of-type {\n",
       "        vertical-align: middle;\n",
       "    }\n",
       "\n",
       "    .dataframe tbody tr th {\n",
       "        vertical-align: top;\n",
       "    }\n",
       "\n",
       "    .dataframe thead th {\n",
       "        text-align: right;\n",
       "    }\n",
       "</style>\n",
       "<table border=\"1\" class=\"dataframe\">\n",
       "  <thead>\n",
       "    <tr style=\"text-align: right;\">\n",
       "      <th></th>\n",
       "      <th>brand_name</th>\n",
       "      <th>application</th>\n",
       "      <th>original_text</th>\n",
       "      <th>metrics</th>\n",
       "      <th>values</th>\n",
       "      <th>descriptors</th>\n",
       "      <th>bucket</th>\n",
       "      <th>sub_bucket</th>\n",
       "    </tr>\n",
       "  </thead>\n",
       "  <tbody>\n",
       "    <tr>\n",
       "      <th>0</th>\n",
       "      <td>clobetasol propionate</td>\n",
       "      <td>ANDA090974</td>\n",
       "      <td>14 CLINICAL STUDIES The safety and efficacy of...</td>\n",
       "      <td>Success rate</td>\n",
       "      <td>40 (42.1%)</td>\n",
       "      <td>Study A, defined as the proportion of subjects...</td>\n",
       "      <td>SURVIVAL_RESPONSE</td>\n",
       "      <td>CLINICAL_SUCCESS_RATE</td>\n",
       "    </tr>\n",
       "    <tr>\n",
       "      <th>1</th>\n",
       "      <td>clobetasol propionate</td>\n",
       "      <td>ANDA090974</td>\n",
       "      <td>14 CLINICAL STUDIES The safety and efficacy of...</td>\n",
       "      <td>Success rate</td>\n",
       "      <td>28 (28.3%)</td>\n",
       "      <td>Study A, defined as the proportion of subjects...</td>\n",
       "      <td>SURVIVAL_RESPONSE</td>\n",
       "      <td>CLINICAL_SUCCESS_RATE</td>\n",
       "    </tr>\n",
       "    <tr>\n",
       "      <th>2</th>\n",
       "      <td>Colchicine</td>\n",
       "      <td>ANDA204711</td>\n",
       "      <td>14 CLINICAL STUDIES The evidence for the effic...</td>\n",
       "      <td>Number of responders</td>\n",
       "      <td>38%</td>\n",
       "      <td>Based on target joint pain score at 24 hours p...</td>\n",
       "      <td>SURVIVAL_RESPONSE</td>\n",
       "      <td>RESPONSE_RATE</td>\n",
       "    </tr>\n",
       "    <tr>\n",
       "      <th>3</th>\n",
       "      <td>Cefuroxime axetil</td>\n",
       "      <td>ANDA065496</td>\n",
       "      <td>14 CLINICAL STUDIES 14.1 Acute Bacterial Maxil...</td>\n",
       "      <td>Clinical Effectiveness</td>\n",
       "      <td>77% (US) and 64% (South America)</td>\n",
       "      <td>Percentage of subjects who achieved clinical s...</td>\n",
       "      <td>SURVIVAL_RESPONSE</td>\n",
       "      <td>CLINICAL_EFFICACY</td>\n",
       "    </tr>\n",
       "    <tr>\n",
       "      <th>4</th>\n",
       "      <td>Clofarabine</td>\n",
       "      <td>NDA021673</td>\n",
       "      <td>14 CLINICAL STUDIES Seventy-eight (78) pediatr...</td>\n",
       "      <td>Complete Remission Rate</td>\n",
       "      <td>12%</td>\n",
       "      <td>The rate of complete remissions in pediatric p...</td>\n",
       "      <td>SURVIVAL_RESPONSE</td>\n",
       "      <td>COMPLETE_REMISSION_RATE</td>\n",
       "    </tr>\n",
       "  </tbody>\n",
       "</table>\n",
       "</div>"
      ],
      "text/plain": [
       "              brand_name application  \\\n",
       "0  clobetasol propionate  ANDA090974   \n",
       "1  clobetasol propionate  ANDA090974   \n",
       "2             Colchicine  ANDA204711   \n",
       "3      Cefuroxime axetil  ANDA065496   \n",
       "4            Clofarabine   NDA021673   \n",
       "\n",
       "                                       original_text                  metrics  \\\n",
       "0  14 CLINICAL STUDIES The safety and efficacy of...             Success rate   \n",
       "1  14 CLINICAL STUDIES The safety and efficacy of...             Success rate   \n",
       "2  14 CLINICAL STUDIES The evidence for the effic...     Number of responders   \n",
       "3  14 CLINICAL STUDIES 14.1 Acute Bacterial Maxil...   Clinical Effectiveness   \n",
       "4  14 CLINICAL STUDIES Seventy-eight (78) pediatr...  Complete Remission Rate   \n",
       "\n",
       "                             values  \\\n",
       "0                        40 (42.1%)   \n",
       "1                        28 (28.3%)   \n",
       "2                               38%   \n",
       "3  77% (US) and 64% (South America)   \n",
       "4                               12%   \n",
       "\n",
       "                                         descriptors             bucket  \\\n",
       "0  Study A, defined as the proportion of subjects...  SURVIVAL_RESPONSE   \n",
       "1  Study A, defined as the proportion of subjects...  SURVIVAL_RESPONSE   \n",
       "2  Based on target joint pain score at 24 hours p...  SURVIVAL_RESPONSE   \n",
       "3  Percentage of subjects who achieved clinical s...  SURVIVAL_RESPONSE   \n",
       "4  The rate of complete remissions in pediatric p...  SURVIVAL_RESPONSE   \n",
       "\n",
       "                sub_bucket  \n",
       "0    CLINICAL_SUCCESS_RATE  \n",
       "1    CLINICAL_SUCCESS_RATE  \n",
       "2            RESPONSE_RATE  \n",
       "3        CLINICAL_EFFICACY  \n",
       "4  COMPLETE_REMISSION_RATE  "
      ]
     },
     "execution_count": 9,
     "metadata": {},
     "output_type": "execute_result"
    }
   ],
   "source": [
    "tdf = data[data['bucket']=='SURVIVAL_RESPONSE'].reset_index(drop=True)\n",
    "tdf[0:5]"
   ]
  },
  {
   "cell_type": "code",
   "execution_count": 10,
   "metadata": {},
   "outputs": [
    {
     "data": {
      "text/plain": [
       "sub_bucket\n",
       "RESPONSE_RATE                 119\n",
       "CLINICAL_SUCCESS_RATE          77\n",
       "TOTAL_MORTALITY                43\n",
       "OVERALL_SURVIVAL               32\n",
       "CLINICAL_EFFICACY              21\n",
       "ESCAPE_CRITERIA_PROPORTION     19\n",
       "COMPLETE_REMISSION_RATE        17\n",
       "COMPLETE_RESPONSE_RATE         12\n",
       "DISEASE_FREE_SURVIVAL          11\n",
       "Uncategorized                   7\n",
       "RELAPSE_RATE                    6\n",
       "Name: count, dtype: int64"
      ]
     },
     "execution_count": 10,
     "metadata": {},
     "output_type": "execute_result"
    }
   ],
   "source": [
    "tdf['sub_bucket'].value_counts()"
   ]
  },
  {
   "cell_type": "code",
   "execution_count": 11,
   "metadata": {},
   "outputs": [
    {
     "data": {
      "text/html": [
       "<div>\n",
       "<style scoped>\n",
       "    .dataframe tbody tr th:only-of-type {\n",
       "        vertical-align: middle;\n",
       "    }\n",
       "\n",
       "    .dataframe tbody tr th {\n",
       "        vertical-align: top;\n",
       "    }\n",
       "\n",
       "    .dataframe thead th {\n",
       "        text-align: right;\n",
       "    }\n",
       "</style>\n",
       "<table border=\"1\" class=\"dataframe\">\n",
       "  <thead>\n",
       "    <tr style=\"text-align: right;\">\n",
       "      <th></th>\n",
       "      <th>brand_name</th>\n",
       "      <th>metrics</th>\n",
       "      <th>values</th>\n",
       "      <th>descriptors</th>\n",
       "    </tr>\n",
       "  </thead>\n",
       "  <tbody>\n",
       "    <tr>\n",
       "      <th>2</th>\n",
       "      <td>Colchicine</td>\n",
       "      <td>Number of responders</td>\n",
       "      <td>38%</td>\n",
       "      <td>Based on target joint pain score at 24 hours p...</td>\n",
       "    </tr>\n",
       "    <tr>\n",
       "      <th>9</th>\n",
       "      <td>Dicyclomine Hydrochloride</td>\n",
       "      <td>clinical response</td>\n",
       "      <td>82%</td>\n",
       "      <td>functional bowel/irritable bowel syndrome, ini...</td>\n",
       "    </tr>\n",
       "    <tr>\n",
       "      <th>10</th>\n",
       "      <td>Dicyclomine Hydrochloride</td>\n",
       "      <td>clinical response</td>\n",
       "      <td>55%</td>\n",
       "      <td>placebo group</td>\n",
       "    </tr>\n",
       "    <tr>\n",
       "      <th>18</th>\n",
       "      <td>FLUTICASONE PROPIONATE</td>\n",
       "      <td>Physician's Assessment of Clinical Response</td>\n",
       "      <td>Fluticasone Propionate Cream, 0.05% was signif...</td>\n",
       "      <td>Study 1 (n=59) Study 2 (n=74)</td>\n",
       "    </tr>\n",
       "    <tr>\n",
       "      <th>19</th>\n",
       "      <td>FLUTICASONE PROPIONATE</td>\n",
       "      <td>Physician's Assessment of Clinical Response</td>\n",
       "      <td>Fluticasone Propionate Cream, 0.05% was equiva...</td>\n",
       "      <td>Study 1 (n=64) Study 2 (n=106)</td>\n",
       "    </tr>\n",
       "    <tr>\n",
       "      <th>...</th>\n",
       "      <td>...</td>\n",
       "      <td>...</td>\n",
       "      <td>...</td>\n",
       "      <td>...</td>\n",
       "    </tr>\n",
       "    <tr>\n",
       "      <th>355</th>\n",
       "      <td>Dicyclomine Hydrochloride</td>\n",
       "      <td>clinical response</td>\n",
       "      <td>55%</td>\n",
       "      <td>placebo group</td>\n",
       "    </tr>\n",
       "    <tr>\n",
       "      <th>356</th>\n",
       "      <td>Ribavirin</td>\n",
       "      <td>Response rate to treatment</td>\n",
       "      <td>52% (264/511)</td>\n",
       "      <td>Study 2, PegIntron 1.5 mcg/kg subcutaneously o...</td>\n",
       "    </tr>\n",
       "    <tr>\n",
       "      <th>357</th>\n",
       "      <td>Ribavirin</td>\n",
       "      <td>Response rate to treatment</td>\n",
       "      <td>46% (231/505)</td>\n",
       "      <td>Study 2, INTRON A 3 MIU subcutaneously three t...</td>\n",
       "    </tr>\n",
       "    <tr>\n",
       "      <th>360</th>\n",
       "      <td>fluoxetine hydrochloride</td>\n",
       "      <td>response rate</td>\n",
       "      <td>fluoxetine produced a significantly higher rat...</td>\n",
       "      <td>NaN</td>\n",
       "    </tr>\n",
       "    <tr>\n",
       "      <th>362</th>\n",
       "      <td>AZACITIDINE</td>\n",
       "      <td>response rate</td>\n",
       "      <td>52.4%</td>\n",
       "      <td>primary endpoint for adult patients with any o...</td>\n",
       "    </tr>\n",
       "  </tbody>\n",
       "</table>\n",
       "<p>119 rows × 4 columns</p>\n",
       "</div>"
      ],
      "text/plain": [
       "                    brand_name                                      metrics  \\\n",
       "2                   Colchicine                         Number of responders   \n",
       "9    Dicyclomine Hydrochloride                            clinical response   \n",
       "10   Dicyclomine Hydrochloride                            clinical response   \n",
       "18      FLUTICASONE PROPIONATE  Physician's Assessment of Clinical Response   \n",
       "19      FLUTICASONE PROPIONATE  Physician's Assessment of Clinical Response   \n",
       "..                         ...                                          ...   \n",
       "355  Dicyclomine Hydrochloride                            clinical response   \n",
       "356                  Ribavirin                   Response rate to treatment   \n",
       "357                  Ribavirin                   Response rate to treatment   \n",
       "360   fluoxetine hydrochloride                                response rate   \n",
       "362                AZACITIDINE                                response rate   \n",
       "\n",
       "                                                values  \\\n",
       "2                                                  38%   \n",
       "9                                                  82%   \n",
       "10                                                 55%   \n",
       "18   Fluticasone Propionate Cream, 0.05% was signif...   \n",
       "19   Fluticasone Propionate Cream, 0.05% was equiva...   \n",
       "..                                                 ...   \n",
       "355                                                55%   \n",
       "356                                      52% (264/511)   \n",
       "357                                      46% (231/505)   \n",
       "360  fluoxetine produced a significantly higher rat...   \n",
       "362                                              52.4%   \n",
       "\n",
       "                                           descriptors  \n",
       "2    Based on target joint pain score at 24 hours p...  \n",
       "9    functional bowel/irritable bowel syndrome, ini...  \n",
       "10                                       placebo group  \n",
       "18                       Study 1 (n=59) Study 2 (n=74)  \n",
       "19                      Study 1 (n=64) Study 2 (n=106)  \n",
       "..                                                 ...  \n",
       "355                                      placebo group  \n",
       "356  Study 2, PegIntron 1.5 mcg/kg subcutaneously o...  \n",
       "357  Study 2, INTRON A 3 MIU subcutaneously three t...  \n",
       "360                                                NaN  \n",
       "362  primary endpoint for adult patients with any o...  \n",
       "\n",
       "[119 rows x 4 columns]"
      ]
     },
     "execution_count": 11,
     "metadata": {},
     "output_type": "execute_result"
    }
   ],
   "source": [
    "tdf[tdf['sub_bucket']==\"RESPONSE_RATE\"][['brand_name','metrics','values','descriptors']]"
   ]
  },
  {
   "cell_type": "code",
   "execution_count": 12,
   "metadata": {},
   "outputs": [],
   "source": [
    "res_tdf = tdf[tdf['sub_bucket']==\"RESPONSE_RATE\"] # check for long strings longer than 52% (264/511)"
   ]
  },
  {
   "cell_type": "code",
   "execution_count": 13,
   "metadata": {},
   "outputs": [
    {
     "data": {
      "text/html": [
       "<div>\n",
       "<style scoped>\n",
       "    .dataframe tbody tr th:only-of-type {\n",
       "        vertical-align: middle;\n",
       "    }\n",
       "\n",
       "    .dataframe tbody tr th {\n",
       "        vertical-align: top;\n",
       "    }\n",
       "\n",
       "    .dataframe thead th {\n",
       "        text-align: right;\n",
       "    }\n",
       "</style>\n",
       "<table border=\"1\" class=\"dataframe\">\n",
       "  <thead>\n",
       "    <tr style=\"text-align: right;\">\n",
       "      <th></th>\n",
       "      <th>brand_name</th>\n",
       "      <th>application</th>\n",
       "      <th>original_text</th>\n",
       "      <th>metrics</th>\n",
       "      <th>values</th>\n",
       "      <th>descriptors</th>\n",
       "      <th>bucket</th>\n",
       "      <th>sub_bucket</th>\n",
       "    </tr>\n",
       "  </thead>\n",
       "  <tbody>\n",
       "    <tr>\n",
       "      <th>0</th>\n",
       "      <td>Colchicine</td>\n",
       "      <td>ANDA204711</td>\n",
       "      <td>14 CLINICAL STUDIES The evidence for the effic...</td>\n",
       "      <td>Number of responders</td>\n",
       "      <td>38%</td>\n",
       "      <td>Based on target joint pain score at 24 hours p...</td>\n",
       "      <td>SURVIVAL_RESPONSE</td>\n",
       "      <td>RESPONSE_RATE</td>\n",
       "    </tr>\n",
       "    <tr>\n",
       "      <th>1</th>\n",
       "      <td>Dicyclomine Hydrochloride</td>\n",
       "      <td>ANDA040319</td>\n",
       "      <td>14 CLINICAL STUDIES In controlled clinical tri...</td>\n",
       "      <td>clinical response</td>\n",
       "      <td>82%</td>\n",
       "      <td>functional bowel/irritable bowel syndrome, ini...</td>\n",
       "      <td>SURVIVAL_RESPONSE</td>\n",
       "      <td>RESPONSE_RATE</td>\n",
       "    </tr>\n",
       "    <tr>\n",
       "      <th>2</th>\n",
       "      <td>Dicyclomine Hydrochloride</td>\n",
       "      <td>ANDA040319</td>\n",
       "      <td>14 CLINICAL STUDIES In controlled clinical tri...</td>\n",
       "      <td>clinical response</td>\n",
       "      <td>55%</td>\n",
       "      <td>placebo group</td>\n",
       "      <td>SURVIVAL_RESPONSE</td>\n",
       "      <td>RESPONSE_RATE</td>\n",
       "    </tr>\n",
       "    <tr>\n",
       "      <th>3</th>\n",
       "      <td>Levoleucovorin</td>\n",
       "      <td>ANDA206263</td>\n",
       "      <td>14 CLINICAL STUDIES 14.1 Rescue after High-Dos...</td>\n",
       "      <td>Response rate</td>\n",
       "      <td>26%</td>\n",
       "      <td>Patients aged 18 years or older with metastati...</td>\n",
       "      <td>SURVIVAL_RESPONSE</td>\n",
       "      <td>RESPONSE_RATE</td>\n",
       "    </tr>\n",
       "    <tr>\n",
       "      <th>4</th>\n",
       "      <td>Levoleucovorin</td>\n",
       "      <td>ANDA206263</td>\n",
       "      <td>14 CLINICAL STUDIES 14.1 Rescue after High-Dos...</td>\n",
       "      <td>Response rate</td>\n",
       "      <td>43%</td>\n",
       "      <td>Patients aged 18 years or older with metastati...</td>\n",
       "      <td>SURVIVAL_RESPONSE</td>\n",
       "      <td>RESPONSE_RATE</td>\n",
       "    </tr>\n",
       "    <tr>\n",
       "      <th>...</th>\n",
       "      <td>...</td>\n",
       "      <td>...</td>\n",
       "      <td>...</td>\n",
       "      <td>...</td>\n",
       "      <td>...</td>\n",
       "      <td>...</td>\n",
       "      <td>...</td>\n",
       "      <td>...</td>\n",
       "    </tr>\n",
       "    <tr>\n",
       "      <th>56</th>\n",
       "      <td>Colchicine</td>\n",
       "      <td>NDA022352</td>\n",
       "      <td>14 CLINICAL STUDIES The evidence for the effic...</td>\n",
       "      <td>response rate</td>\n",
       "      <td>16%</td>\n",
       "      <td>primary treatment outcome for patients with go...</td>\n",
       "      <td>SURVIVAL_RESPONSE</td>\n",
       "      <td>RESPONSE_RATE</td>\n",
       "    </tr>\n",
       "    <tr>\n",
       "      <th>57</th>\n",
       "      <td>Dicyclomine Hydrochloride</td>\n",
       "      <td>ANDA216782</td>\n",
       "      <td>14 CLINICAL STUDIES In controlled clinical tri...</td>\n",
       "      <td>clinical response</td>\n",
       "      <td>82%</td>\n",
       "      <td>functional bowel/irritable bowel syndrome, ini...</td>\n",
       "      <td>SURVIVAL_RESPONSE</td>\n",
       "      <td>RESPONSE_RATE</td>\n",
       "    </tr>\n",
       "    <tr>\n",
       "      <th>58</th>\n",
       "      <td>Dicyclomine Hydrochloride</td>\n",
       "      <td>ANDA216782</td>\n",
       "      <td>14 CLINICAL STUDIES In controlled clinical tri...</td>\n",
       "      <td>clinical response</td>\n",
       "      <td>55%</td>\n",
       "      <td>placebo group</td>\n",
       "      <td>SURVIVAL_RESPONSE</td>\n",
       "      <td>RESPONSE_RATE</td>\n",
       "    </tr>\n",
       "    <tr>\n",
       "      <th>59</th>\n",
       "      <td>Ribavirin</td>\n",
       "      <td>ANDA077224</td>\n",
       "      <td>14 CLINICAL STUDIES Clinical Study 1 evaluated...</td>\n",
       "      <td>Response rate to treatment</td>\n",
       "      <td>52% (264/511)</td>\n",
       "      <td>Study 2, PegIntron 1.5 mcg/kg subcutaneously o...</td>\n",
       "      <td>SURVIVAL_RESPONSE</td>\n",
       "      <td>RESPONSE_RATE</td>\n",
       "    </tr>\n",
       "    <tr>\n",
       "      <th>60</th>\n",
       "      <td>Ribavirin</td>\n",
       "      <td>ANDA077224</td>\n",
       "      <td>14 CLINICAL STUDIES Clinical Study 1 evaluated...</td>\n",
       "      <td>Response rate to treatment</td>\n",
       "      <td>46% (231/505)</td>\n",
       "      <td>Study 2, INTRON A 3 MIU subcutaneously three t...</td>\n",
       "      <td>SURVIVAL_RESPONSE</td>\n",
       "      <td>RESPONSE_RATE</td>\n",
       "    </tr>\n",
       "  </tbody>\n",
       "</table>\n",
       "<p>61 rows × 8 columns</p>\n",
       "</div>"
      ],
      "text/plain": [
       "                   brand_name application  \\\n",
       "0                  Colchicine  ANDA204711   \n",
       "1   Dicyclomine Hydrochloride  ANDA040319   \n",
       "2   Dicyclomine Hydrochloride  ANDA040319   \n",
       "3              Levoleucovorin  ANDA206263   \n",
       "4              Levoleucovorin  ANDA206263   \n",
       "..                        ...         ...   \n",
       "56                 Colchicine   NDA022352   \n",
       "57  Dicyclomine Hydrochloride  ANDA216782   \n",
       "58  Dicyclomine Hydrochloride  ANDA216782   \n",
       "59                  Ribavirin  ANDA077224   \n",
       "60                  Ribavirin  ANDA077224   \n",
       "\n",
       "                                        original_text  \\\n",
       "0   14 CLINICAL STUDIES The evidence for the effic...   \n",
       "1   14 CLINICAL STUDIES In controlled clinical tri...   \n",
       "2   14 CLINICAL STUDIES In controlled clinical tri...   \n",
       "3   14 CLINICAL STUDIES 14.1 Rescue after High-Dos...   \n",
       "4   14 CLINICAL STUDIES 14.1 Rescue after High-Dos...   \n",
       "..                                                ...   \n",
       "56  14 CLINICAL STUDIES The evidence for the effic...   \n",
       "57  14 CLINICAL STUDIES In controlled clinical tri...   \n",
       "58  14 CLINICAL STUDIES In controlled clinical tri...   \n",
       "59  14 CLINICAL STUDIES Clinical Study 1 evaluated...   \n",
       "60  14 CLINICAL STUDIES Clinical Study 1 evaluated...   \n",
       "\n",
       "                       metrics         values  \\\n",
       "0         Number of responders            38%   \n",
       "1            clinical response            82%   \n",
       "2            clinical response            55%   \n",
       "3                Response rate            26%   \n",
       "4                Response rate            43%   \n",
       "..                         ...            ...   \n",
       "56               response rate            16%   \n",
       "57           clinical response            82%   \n",
       "58           clinical response            55%   \n",
       "59  Response rate to treatment  52% (264/511)   \n",
       "60  Response rate to treatment  46% (231/505)   \n",
       "\n",
       "                                          descriptors             bucket  \\\n",
       "0   Based on target joint pain score at 24 hours p...  SURVIVAL_RESPONSE   \n",
       "1   functional bowel/irritable bowel syndrome, ini...  SURVIVAL_RESPONSE   \n",
       "2                                       placebo group  SURVIVAL_RESPONSE   \n",
       "3   Patients aged 18 years or older with metastati...  SURVIVAL_RESPONSE   \n",
       "4   Patients aged 18 years or older with metastati...  SURVIVAL_RESPONSE   \n",
       "..                                                ...                ...   \n",
       "56  primary treatment outcome for patients with go...  SURVIVAL_RESPONSE   \n",
       "57  functional bowel/irritable bowel syndrome, ini...  SURVIVAL_RESPONSE   \n",
       "58                                      placebo group  SURVIVAL_RESPONSE   \n",
       "59  Study 2, PegIntron 1.5 mcg/kg subcutaneously o...  SURVIVAL_RESPONSE   \n",
       "60  Study 2, INTRON A 3 MIU subcutaneously three t...  SURVIVAL_RESPONSE   \n",
       "\n",
       "       sub_bucket  \n",
       "0   RESPONSE_RATE  \n",
       "1   RESPONSE_RATE  \n",
       "2   RESPONSE_RATE  \n",
       "3   RESPONSE_RATE  \n",
       "4   RESPONSE_RATE  \n",
       "..            ...  \n",
       "56  RESPONSE_RATE  \n",
       "57  RESPONSE_RATE  \n",
       "58  RESPONSE_RATE  \n",
       "59  RESPONSE_RATE  \n",
       "60  RESPONSE_RATE  \n",
       "\n",
       "[61 rows x 8 columns]"
      ]
     },
     "execution_count": 13,
     "metadata": {},
     "output_type": "execute_result"
    }
   ],
   "source": [
    "\n",
    "# Regex pattern to match two numbers followed by a % and optionally more numbers\n",
    "pattern = r'^\\d{2,3}%(\\s\\(\\d+/\\d+\\))?$'\n",
    "\n",
    "\n",
    "# Filter the DataFrame to exclude long strings\n",
    "res_tdf = res_tdf[res_tdf['values'].str.match(pattern)].reset_index(drop=True)\n",
    "res_tdf\n"
   ]
  },
  {
   "cell_type": "markdown",
   "metadata": {},
   "source": [
    "### Make a Graph?"
   ]
  },
  {
   "cell_type": "code",
   "execution_count": 24,
   "metadata": {},
   "outputs": [
    {
     "data": {
      "application/vnd.plotly.v1+json": {
       "config": {
        "plotlyServerURL": "https://plot.ly"
       },
       "data": [
        {
         "alignmentgroup": "True",
         "hovertemplate": "Disease_Scope=%{x}<br>counts=%{y}<extra></extra>",
         "legendgroup": "",
         "marker": {
          "color": "#636efa",
          "pattern": {
           "shape": ""
          }
         },
         "name": "",
         "offsetgroup": "",
         "orientation": "v",
         "showlegend": false,
         "textposition": "auto",
         "texttemplate": "%{y}",
         "type": "bar",
         "x": [
          "SURVIVAL_RESPONSE",
          "Uncategorized",
          "HEART_HEALTH_AND_METRICS",
          "MICRO_INFECTION_ERADICATION",
          "GASTROINTESTINAL",
          "UNSURE",
          "PAIN_RELIEF",
          "DERMATOLOGIC",
          "ANTIEPILEPTIC",
          "RESPIRATORY",
          "KIDNEY_FUNCTION",
          "VIROLOGIC",
          "PREGNANCY",
          "GAUCHER_DISEASE",
          "DEPRESSION_ANXIETY",
          "OCULAR_HYPERTENSION_GLAUCOMA",
          "STEROIDAL"
         ],
         "xaxis": "x",
         "y": [
          364,
          348,
          294,
          270,
          91,
          81,
          36,
          32,
          26,
          21,
          15,
          12,
          6,
          6,
          5,
          5,
          2
         ],
         "yaxis": "y"
        }
       ],
       "layout": {
        "barmode": "relative",
        "legend": {
         "tracegroupgap": 0
        },
        "margin": {
         "t": 60
        },
        "template": {
         "data": {
          "bar": [
           {
            "error_x": {
             "color": "#2a3f5f"
            },
            "error_y": {
             "color": "#2a3f5f"
            },
            "marker": {
             "line": {
              "color": "#E5ECF6",
              "width": 0.5
             },
             "pattern": {
              "fillmode": "overlay",
              "size": 10,
              "solidity": 0.2
             }
            },
            "type": "bar"
           }
          ],
          "barpolar": [
           {
            "marker": {
             "line": {
              "color": "#E5ECF6",
              "width": 0.5
             },
             "pattern": {
              "fillmode": "overlay",
              "size": 10,
              "solidity": 0.2
             }
            },
            "type": "barpolar"
           }
          ],
          "carpet": [
           {
            "aaxis": {
             "endlinecolor": "#2a3f5f",
             "gridcolor": "white",
             "linecolor": "white",
             "minorgridcolor": "white",
             "startlinecolor": "#2a3f5f"
            },
            "baxis": {
             "endlinecolor": "#2a3f5f",
             "gridcolor": "white",
             "linecolor": "white",
             "minorgridcolor": "white",
             "startlinecolor": "#2a3f5f"
            },
            "type": "carpet"
           }
          ],
          "choropleth": [
           {
            "colorbar": {
             "outlinewidth": 0,
             "ticks": ""
            },
            "type": "choropleth"
           }
          ],
          "contour": [
           {
            "colorbar": {
             "outlinewidth": 0,
             "ticks": ""
            },
            "colorscale": [
             [
              0,
              "#0d0887"
             ],
             [
              0.1111111111111111,
              "#46039f"
             ],
             [
              0.2222222222222222,
              "#7201a8"
             ],
             [
              0.3333333333333333,
              "#9c179e"
             ],
             [
              0.4444444444444444,
              "#bd3786"
             ],
             [
              0.5555555555555556,
              "#d8576b"
             ],
             [
              0.6666666666666666,
              "#ed7953"
             ],
             [
              0.7777777777777778,
              "#fb9f3a"
             ],
             [
              0.8888888888888888,
              "#fdca26"
             ],
             [
              1,
              "#f0f921"
             ]
            ],
            "type": "contour"
           }
          ],
          "contourcarpet": [
           {
            "colorbar": {
             "outlinewidth": 0,
             "ticks": ""
            },
            "type": "contourcarpet"
           }
          ],
          "heatmap": [
           {
            "colorbar": {
             "outlinewidth": 0,
             "ticks": ""
            },
            "colorscale": [
             [
              0,
              "#0d0887"
             ],
             [
              0.1111111111111111,
              "#46039f"
             ],
             [
              0.2222222222222222,
              "#7201a8"
             ],
             [
              0.3333333333333333,
              "#9c179e"
             ],
             [
              0.4444444444444444,
              "#bd3786"
             ],
             [
              0.5555555555555556,
              "#d8576b"
             ],
             [
              0.6666666666666666,
              "#ed7953"
             ],
             [
              0.7777777777777778,
              "#fb9f3a"
             ],
             [
              0.8888888888888888,
              "#fdca26"
             ],
             [
              1,
              "#f0f921"
             ]
            ],
            "type": "heatmap"
           }
          ],
          "heatmapgl": [
           {
            "colorbar": {
             "outlinewidth": 0,
             "ticks": ""
            },
            "colorscale": [
             [
              0,
              "#0d0887"
             ],
             [
              0.1111111111111111,
              "#46039f"
             ],
             [
              0.2222222222222222,
              "#7201a8"
             ],
             [
              0.3333333333333333,
              "#9c179e"
             ],
             [
              0.4444444444444444,
              "#bd3786"
             ],
             [
              0.5555555555555556,
              "#d8576b"
             ],
             [
              0.6666666666666666,
              "#ed7953"
             ],
             [
              0.7777777777777778,
              "#fb9f3a"
             ],
             [
              0.8888888888888888,
              "#fdca26"
             ],
             [
              1,
              "#f0f921"
             ]
            ],
            "type": "heatmapgl"
           }
          ],
          "histogram": [
           {
            "marker": {
             "pattern": {
              "fillmode": "overlay",
              "size": 10,
              "solidity": 0.2
             }
            },
            "type": "histogram"
           }
          ],
          "histogram2d": [
           {
            "colorbar": {
             "outlinewidth": 0,
             "ticks": ""
            },
            "colorscale": [
             [
              0,
              "#0d0887"
             ],
             [
              0.1111111111111111,
              "#46039f"
             ],
             [
              0.2222222222222222,
              "#7201a8"
             ],
             [
              0.3333333333333333,
              "#9c179e"
             ],
             [
              0.4444444444444444,
              "#bd3786"
             ],
             [
              0.5555555555555556,
              "#d8576b"
             ],
             [
              0.6666666666666666,
              "#ed7953"
             ],
             [
              0.7777777777777778,
              "#fb9f3a"
             ],
             [
              0.8888888888888888,
              "#fdca26"
             ],
             [
              1,
              "#f0f921"
             ]
            ],
            "type": "histogram2d"
           }
          ],
          "histogram2dcontour": [
           {
            "colorbar": {
             "outlinewidth": 0,
             "ticks": ""
            },
            "colorscale": [
             [
              0,
              "#0d0887"
             ],
             [
              0.1111111111111111,
              "#46039f"
             ],
             [
              0.2222222222222222,
              "#7201a8"
             ],
             [
              0.3333333333333333,
              "#9c179e"
             ],
             [
              0.4444444444444444,
              "#bd3786"
             ],
             [
              0.5555555555555556,
              "#d8576b"
             ],
             [
              0.6666666666666666,
              "#ed7953"
             ],
             [
              0.7777777777777778,
              "#fb9f3a"
             ],
             [
              0.8888888888888888,
              "#fdca26"
             ],
             [
              1,
              "#f0f921"
             ]
            ],
            "type": "histogram2dcontour"
           }
          ],
          "mesh3d": [
           {
            "colorbar": {
             "outlinewidth": 0,
             "ticks": ""
            },
            "type": "mesh3d"
           }
          ],
          "parcoords": [
           {
            "line": {
             "colorbar": {
              "outlinewidth": 0,
              "ticks": ""
             }
            },
            "type": "parcoords"
           }
          ],
          "pie": [
           {
            "automargin": true,
            "type": "pie"
           }
          ],
          "scatter": [
           {
            "fillpattern": {
             "fillmode": "overlay",
             "size": 10,
             "solidity": 0.2
            },
            "type": "scatter"
           }
          ],
          "scatter3d": [
           {
            "line": {
             "colorbar": {
              "outlinewidth": 0,
              "ticks": ""
             }
            },
            "marker": {
             "colorbar": {
              "outlinewidth": 0,
              "ticks": ""
             }
            },
            "type": "scatter3d"
           }
          ],
          "scattercarpet": [
           {
            "marker": {
             "colorbar": {
              "outlinewidth": 0,
              "ticks": ""
             }
            },
            "type": "scattercarpet"
           }
          ],
          "scattergeo": [
           {
            "marker": {
             "colorbar": {
              "outlinewidth": 0,
              "ticks": ""
             }
            },
            "type": "scattergeo"
           }
          ],
          "scattergl": [
           {
            "marker": {
             "colorbar": {
              "outlinewidth": 0,
              "ticks": ""
             }
            },
            "type": "scattergl"
           }
          ],
          "scattermapbox": [
           {
            "marker": {
             "colorbar": {
              "outlinewidth": 0,
              "ticks": ""
             }
            },
            "type": "scattermapbox"
           }
          ],
          "scatterpolar": [
           {
            "marker": {
             "colorbar": {
              "outlinewidth": 0,
              "ticks": ""
             }
            },
            "type": "scatterpolar"
           }
          ],
          "scatterpolargl": [
           {
            "marker": {
             "colorbar": {
              "outlinewidth": 0,
              "ticks": ""
             }
            },
            "type": "scatterpolargl"
           }
          ],
          "scatterternary": [
           {
            "marker": {
             "colorbar": {
              "outlinewidth": 0,
              "ticks": ""
             }
            },
            "type": "scatterternary"
           }
          ],
          "surface": [
           {
            "colorbar": {
             "outlinewidth": 0,
             "ticks": ""
            },
            "colorscale": [
             [
              0,
              "#0d0887"
             ],
             [
              0.1111111111111111,
              "#46039f"
             ],
             [
              0.2222222222222222,
              "#7201a8"
             ],
             [
              0.3333333333333333,
              "#9c179e"
             ],
             [
              0.4444444444444444,
              "#bd3786"
             ],
             [
              0.5555555555555556,
              "#d8576b"
             ],
             [
              0.6666666666666666,
              "#ed7953"
             ],
             [
              0.7777777777777778,
              "#fb9f3a"
             ],
             [
              0.8888888888888888,
              "#fdca26"
             ],
             [
              1,
              "#f0f921"
             ]
            ],
            "type": "surface"
           }
          ],
          "table": [
           {
            "cells": {
             "fill": {
              "color": "#EBF0F8"
             },
             "line": {
              "color": "white"
             }
            },
            "header": {
             "fill": {
              "color": "#C8D4E3"
             },
             "line": {
              "color": "white"
             }
            },
            "type": "table"
           }
          ]
         },
         "layout": {
          "annotationdefaults": {
           "arrowcolor": "#2a3f5f",
           "arrowhead": 0,
           "arrowwidth": 1
          },
          "autotypenumbers": "strict",
          "coloraxis": {
           "colorbar": {
            "outlinewidth": 0,
            "ticks": ""
           }
          },
          "colorscale": {
           "diverging": [
            [
             0,
             "#8e0152"
            ],
            [
             0.1,
             "#c51b7d"
            ],
            [
             0.2,
             "#de77ae"
            ],
            [
             0.3,
             "#f1b6da"
            ],
            [
             0.4,
             "#fde0ef"
            ],
            [
             0.5,
             "#f7f7f7"
            ],
            [
             0.6,
             "#e6f5d0"
            ],
            [
             0.7,
             "#b8e186"
            ],
            [
             0.8,
             "#7fbc41"
            ],
            [
             0.9,
             "#4d9221"
            ],
            [
             1,
             "#276419"
            ]
           ],
           "sequential": [
            [
             0,
             "#0d0887"
            ],
            [
             0.1111111111111111,
             "#46039f"
            ],
            [
             0.2222222222222222,
             "#7201a8"
            ],
            [
             0.3333333333333333,
             "#9c179e"
            ],
            [
             0.4444444444444444,
             "#bd3786"
            ],
            [
             0.5555555555555556,
             "#d8576b"
            ],
            [
             0.6666666666666666,
             "#ed7953"
            ],
            [
             0.7777777777777778,
             "#fb9f3a"
            ],
            [
             0.8888888888888888,
             "#fdca26"
            ],
            [
             1,
             "#f0f921"
            ]
           ],
           "sequentialminus": [
            [
             0,
             "#0d0887"
            ],
            [
             0.1111111111111111,
             "#46039f"
            ],
            [
             0.2222222222222222,
             "#7201a8"
            ],
            [
             0.3333333333333333,
             "#9c179e"
            ],
            [
             0.4444444444444444,
             "#bd3786"
            ],
            [
             0.5555555555555556,
             "#d8576b"
            ],
            [
             0.6666666666666666,
             "#ed7953"
            ],
            [
             0.7777777777777778,
             "#fb9f3a"
            ],
            [
             0.8888888888888888,
             "#fdca26"
            ],
            [
             1,
             "#f0f921"
            ]
           ]
          },
          "colorway": [
           "#636efa",
           "#EF553B",
           "#00cc96",
           "#ab63fa",
           "#FFA15A",
           "#19d3f3",
           "#FF6692",
           "#B6E880",
           "#FF97FF",
           "#FECB52"
          ],
          "font": {
           "color": "#2a3f5f"
          },
          "geo": {
           "bgcolor": "white",
           "lakecolor": "white",
           "landcolor": "#E5ECF6",
           "showlakes": true,
           "showland": true,
           "subunitcolor": "white"
          },
          "hoverlabel": {
           "align": "left"
          },
          "hovermode": "closest",
          "mapbox": {
           "style": "light"
          },
          "paper_bgcolor": "white",
          "plot_bgcolor": "#E5ECF6",
          "polar": {
           "angularaxis": {
            "gridcolor": "white",
            "linecolor": "white",
            "ticks": ""
           },
           "bgcolor": "#E5ECF6",
           "radialaxis": {
            "gridcolor": "white",
            "linecolor": "white",
            "ticks": ""
           }
          },
          "scene": {
           "xaxis": {
            "backgroundcolor": "#E5ECF6",
            "gridcolor": "white",
            "gridwidth": 2,
            "linecolor": "white",
            "showbackground": true,
            "ticks": "",
            "zerolinecolor": "white"
           },
           "yaxis": {
            "backgroundcolor": "#E5ECF6",
            "gridcolor": "white",
            "gridwidth": 2,
            "linecolor": "white",
            "showbackground": true,
            "ticks": "",
            "zerolinecolor": "white"
           },
           "zaxis": {
            "backgroundcolor": "#E5ECF6",
            "gridcolor": "white",
            "gridwidth": 2,
            "linecolor": "white",
            "showbackground": true,
            "ticks": "",
            "zerolinecolor": "white"
           }
          },
          "shapedefaults": {
           "line": {
            "color": "#2a3f5f"
           }
          },
          "ternary": {
           "aaxis": {
            "gridcolor": "white",
            "linecolor": "white",
            "ticks": ""
           },
           "baxis": {
            "gridcolor": "white",
            "linecolor": "white",
            "ticks": ""
           },
           "bgcolor": "#E5ECF6",
           "caxis": {
            "gridcolor": "white",
            "linecolor": "white",
            "ticks": ""
           }
          },
          "title": {
           "x": 0.05
          },
          "xaxis": {
           "automargin": true,
           "gridcolor": "white",
           "linecolor": "white",
           "ticks": "",
           "title": {
            "standoff": 15
           },
           "zerolinecolor": "white",
           "zerolinewidth": 2
          },
          "yaxis": {
           "automargin": true,
           "gridcolor": "white",
           "linecolor": "white",
           "ticks": "",
           "title": {
            "standoff": 15
           },
           "zerolinecolor": "white",
           "zerolinewidth": 2
          }
         }
        },
        "title": {
         "text": "# of Evidence Statements from FDA Labels Containing a Rate-based Metric in Clinical Trial Section"
        },
        "xaxis": {
         "anchor": "y",
         "domain": [
          0,
          1
         ],
         "linecolor": "black",
         "linewidth": 2,
         "mirror": true,
         "showline": true,
         "title": {
          "text": "\"Scope\" of Metric"
         }
        },
        "yaxis": {
         "anchor": "x",
         "domain": [
          0,
          1
         ],
         "linecolor": "black",
         "linewidth": 2,
         "mirror": true,
         "showline": true,
         "title": {
          "text": "# of Evidence Statements"
         }
        }
       }
      }
     },
     "metadata": {},
     "output_type": "display_data"
    }
   ],
   "source": [
    "data_for_graph = data['bucket'].value_counts().rename_axis('Disease_Scope').reset_index(name='counts')\n",
    "\n",
    "fig = px.bar(data_for_graph, x='Disease_Scope',y='counts', text_auto=True)\n",
    "fig.update_layout(xaxis_title='\"Scope\" of Metric', \n",
    "                  yaxis_title='# of Evidence Statements',\n",
    "                  title='# of Evidence Statements from FDA Labels Containing a Rate-based Metric in Clinical Trial Section',\n",
    "                  xaxis=dict(\n",
    "                        showline=True,     \n",
    "                        linewidth=2,       \n",
    "                        linecolor='black', \n",
    "                        mirror=True        \n",
    "                    ),\n",
    "                    yaxis=dict(            \n",
    "                        showline=True,\n",
    "                        linewidth=2,\n",
    "                        linecolor='black',\n",
    "                        mirror=True\n",
    "                    ))\n",
    "fig.write_image('scope_of_metric_bar_chart.jpg',width=1920/1.5,height=1080/1.5,scale=2)\n",
    "fig.show()\n"
   ]
  },
  {
   "cell_type": "code",
   "execution_count": 25,
   "metadata": {},
   "outputs": [
    {
     "data": {
      "application/vnd.plotly.v1+json": {
       "config": {
        "plotlyServerURL": "https://plot.ly"
       },
       "data": [
        {
         "alignmentgroup": "True",
         "hovertemplate": "Metric=%{x}<br>counts=%{y}<extra></extra>",
         "legendgroup": "",
         "marker": {
          "color": "#636efa",
          "pattern": {
           "shape": ""
          }
         },
         "name": "",
         "offsetgroup": "",
         "orientation": "v",
         "showlegend": false,
         "textposition": "auto",
         "texttemplate": "%{y}",
         "type": "bar",
         "x": [
          "RESPONSE_RATE",
          "CLINICAL_SUCCESS_RATE",
          "TOTAL_MORTALITY",
          "OVERALL_SURVIVAL",
          "CLINICAL_EFFICACY",
          "ESCAPE_CRITERIA_PROPORTION",
          "COMPLETE_REMISSION_RATE",
          "COMPLETE_RESPONSE_RATE",
          "DISEASE_FREE_SURVIVAL",
          "Uncategorized",
          "RELAPSE_RATE"
         ],
         "xaxis": "x",
         "y": [
          119,
          77,
          43,
          32,
          21,
          19,
          17,
          12,
          11,
          7,
          6
         ],
         "yaxis": "y"
        }
       ],
       "layout": {
        "barmode": "relative",
        "legend": {
         "tracegroupgap": 0
        },
        "margin": {
         "t": 60
        },
        "template": {
         "data": {
          "bar": [
           {
            "error_x": {
             "color": "#2a3f5f"
            },
            "error_y": {
             "color": "#2a3f5f"
            },
            "marker": {
             "line": {
              "color": "#E5ECF6",
              "width": 0.5
             },
             "pattern": {
              "fillmode": "overlay",
              "size": 10,
              "solidity": 0.2
             }
            },
            "type": "bar"
           }
          ],
          "barpolar": [
           {
            "marker": {
             "line": {
              "color": "#E5ECF6",
              "width": 0.5
             },
             "pattern": {
              "fillmode": "overlay",
              "size": 10,
              "solidity": 0.2
             }
            },
            "type": "barpolar"
           }
          ],
          "carpet": [
           {
            "aaxis": {
             "endlinecolor": "#2a3f5f",
             "gridcolor": "white",
             "linecolor": "white",
             "minorgridcolor": "white",
             "startlinecolor": "#2a3f5f"
            },
            "baxis": {
             "endlinecolor": "#2a3f5f",
             "gridcolor": "white",
             "linecolor": "white",
             "minorgridcolor": "white",
             "startlinecolor": "#2a3f5f"
            },
            "type": "carpet"
           }
          ],
          "choropleth": [
           {
            "colorbar": {
             "outlinewidth": 0,
             "ticks": ""
            },
            "type": "choropleth"
           }
          ],
          "contour": [
           {
            "colorbar": {
             "outlinewidth": 0,
             "ticks": ""
            },
            "colorscale": [
             [
              0,
              "#0d0887"
             ],
             [
              0.1111111111111111,
              "#46039f"
             ],
             [
              0.2222222222222222,
              "#7201a8"
             ],
             [
              0.3333333333333333,
              "#9c179e"
             ],
             [
              0.4444444444444444,
              "#bd3786"
             ],
             [
              0.5555555555555556,
              "#d8576b"
             ],
             [
              0.6666666666666666,
              "#ed7953"
             ],
             [
              0.7777777777777778,
              "#fb9f3a"
             ],
             [
              0.8888888888888888,
              "#fdca26"
             ],
             [
              1,
              "#f0f921"
             ]
            ],
            "type": "contour"
           }
          ],
          "contourcarpet": [
           {
            "colorbar": {
             "outlinewidth": 0,
             "ticks": ""
            },
            "type": "contourcarpet"
           }
          ],
          "heatmap": [
           {
            "colorbar": {
             "outlinewidth": 0,
             "ticks": ""
            },
            "colorscale": [
             [
              0,
              "#0d0887"
             ],
             [
              0.1111111111111111,
              "#46039f"
             ],
             [
              0.2222222222222222,
              "#7201a8"
             ],
             [
              0.3333333333333333,
              "#9c179e"
             ],
             [
              0.4444444444444444,
              "#bd3786"
             ],
             [
              0.5555555555555556,
              "#d8576b"
             ],
             [
              0.6666666666666666,
              "#ed7953"
             ],
             [
              0.7777777777777778,
              "#fb9f3a"
             ],
             [
              0.8888888888888888,
              "#fdca26"
             ],
             [
              1,
              "#f0f921"
             ]
            ],
            "type": "heatmap"
           }
          ],
          "heatmapgl": [
           {
            "colorbar": {
             "outlinewidth": 0,
             "ticks": ""
            },
            "colorscale": [
             [
              0,
              "#0d0887"
             ],
             [
              0.1111111111111111,
              "#46039f"
             ],
             [
              0.2222222222222222,
              "#7201a8"
             ],
             [
              0.3333333333333333,
              "#9c179e"
             ],
             [
              0.4444444444444444,
              "#bd3786"
             ],
             [
              0.5555555555555556,
              "#d8576b"
             ],
             [
              0.6666666666666666,
              "#ed7953"
             ],
             [
              0.7777777777777778,
              "#fb9f3a"
             ],
             [
              0.8888888888888888,
              "#fdca26"
             ],
             [
              1,
              "#f0f921"
             ]
            ],
            "type": "heatmapgl"
           }
          ],
          "histogram": [
           {
            "marker": {
             "pattern": {
              "fillmode": "overlay",
              "size": 10,
              "solidity": 0.2
             }
            },
            "type": "histogram"
           }
          ],
          "histogram2d": [
           {
            "colorbar": {
             "outlinewidth": 0,
             "ticks": ""
            },
            "colorscale": [
             [
              0,
              "#0d0887"
             ],
             [
              0.1111111111111111,
              "#46039f"
             ],
             [
              0.2222222222222222,
              "#7201a8"
             ],
             [
              0.3333333333333333,
              "#9c179e"
             ],
             [
              0.4444444444444444,
              "#bd3786"
             ],
             [
              0.5555555555555556,
              "#d8576b"
             ],
             [
              0.6666666666666666,
              "#ed7953"
             ],
             [
              0.7777777777777778,
              "#fb9f3a"
             ],
             [
              0.8888888888888888,
              "#fdca26"
             ],
             [
              1,
              "#f0f921"
             ]
            ],
            "type": "histogram2d"
           }
          ],
          "histogram2dcontour": [
           {
            "colorbar": {
             "outlinewidth": 0,
             "ticks": ""
            },
            "colorscale": [
             [
              0,
              "#0d0887"
             ],
             [
              0.1111111111111111,
              "#46039f"
             ],
             [
              0.2222222222222222,
              "#7201a8"
             ],
             [
              0.3333333333333333,
              "#9c179e"
             ],
             [
              0.4444444444444444,
              "#bd3786"
             ],
             [
              0.5555555555555556,
              "#d8576b"
             ],
             [
              0.6666666666666666,
              "#ed7953"
             ],
             [
              0.7777777777777778,
              "#fb9f3a"
             ],
             [
              0.8888888888888888,
              "#fdca26"
             ],
             [
              1,
              "#f0f921"
             ]
            ],
            "type": "histogram2dcontour"
           }
          ],
          "mesh3d": [
           {
            "colorbar": {
             "outlinewidth": 0,
             "ticks": ""
            },
            "type": "mesh3d"
           }
          ],
          "parcoords": [
           {
            "line": {
             "colorbar": {
              "outlinewidth": 0,
              "ticks": ""
             }
            },
            "type": "parcoords"
           }
          ],
          "pie": [
           {
            "automargin": true,
            "type": "pie"
           }
          ],
          "scatter": [
           {
            "fillpattern": {
             "fillmode": "overlay",
             "size": 10,
             "solidity": 0.2
            },
            "type": "scatter"
           }
          ],
          "scatter3d": [
           {
            "line": {
             "colorbar": {
              "outlinewidth": 0,
              "ticks": ""
             }
            },
            "marker": {
             "colorbar": {
              "outlinewidth": 0,
              "ticks": ""
             }
            },
            "type": "scatter3d"
           }
          ],
          "scattercarpet": [
           {
            "marker": {
             "colorbar": {
              "outlinewidth": 0,
              "ticks": ""
             }
            },
            "type": "scattercarpet"
           }
          ],
          "scattergeo": [
           {
            "marker": {
             "colorbar": {
              "outlinewidth": 0,
              "ticks": ""
             }
            },
            "type": "scattergeo"
           }
          ],
          "scattergl": [
           {
            "marker": {
             "colorbar": {
              "outlinewidth": 0,
              "ticks": ""
             }
            },
            "type": "scattergl"
           }
          ],
          "scattermapbox": [
           {
            "marker": {
             "colorbar": {
              "outlinewidth": 0,
              "ticks": ""
             }
            },
            "type": "scattermapbox"
           }
          ],
          "scatterpolar": [
           {
            "marker": {
             "colorbar": {
              "outlinewidth": 0,
              "ticks": ""
             }
            },
            "type": "scatterpolar"
           }
          ],
          "scatterpolargl": [
           {
            "marker": {
             "colorbar": {
              "outlinewidth": 0,
              "ticks": ""
             }
            },
            "type": "scatterpolargl"
           }
          ],
          "scatterternary": [
           {
            "marker": {
             "colorbar": {
              "outlinewidth": 0,
              "ticks": ""
             }
            },
            "type": "scatterternary"
           }
          ],
          "surface": [
           {
            "colorbar": {
             "outlinewidth": 0,
             "ticks": ""
            },
            "colorscale": [
             [
              0,
              "#0d0887"
             ],
             [
              0.1111111111111111,
              "#46039f"
             ],
             [
              0.2222222222222222,
              "#7201a8"
             ],
             [
              0.3333333333333333,
              "#9c179e"
             ],
             [
              0.4444444444444444,
              "#bd3786"
             ],
             [
              0.5555555555555556,
              "#d8576b"
             ],
             [
              0.6666666666666666,
              "#ed7953"
             ],
             [
              0.7777777777777778,
              "#fb9f3a"
             ],
             [
              0.8888888888888888,
              "#fdca26"
             ],
             [
              1,
              "#f0f921"
             ]
            ],
            "type": "surface"
           }
          ],
          "table": [
           {
            "cells": {
             "fill": {
              "color": "#EBF0F8"
             },
             "line": {
              "color": "white"
             }
            },
            "header": {
             "fill": {
              "color": "#C8D4E3"
             },
             "line": {
              "color": "white"
             }
            },
            "type": "table"
           }
          ]
         },
         "layout": {
          "annotationdefaults": {
           "arrowcolor": "#2a3f5f",
           "arrowhead": 0,
           "arrowwidth": 1
          },
          "autotypenumbers": "strict",
          "coloraxis": {
           "colorbar": {
            "outlinewidth": 0,
            "ticks": ""
           }
          },
          "colorscale": {
           "diverging": [
            [
             0,
             "#8e0152"
            ],
            [
             0.1,
             "#c51b7d"
            ],
            [
             0.2,
             "#de77ae"
            ],
            [
             0.3,
             "#f1b6da"
            ],
            [
             0.4,
             "#fde0ef"
            ],
            [
             0.5,
             "#f7f7f7"
            ],
            [
             0.6,
             "#e6f5d0"
            ],
            [
             0.7,
             "#b8e186"
            ],
            [
             0.8,
             "#7fbc41"
            ],
            [
             0.9,
             "#4d9221"
            ],
            [
             1,
             "#276419"
            ]
           ],
           "sequential": [
            [
             0,
             "#0d0887"
            ],
            [
             0.1111111111111111,
             "#46039f"
            ],
            [
             0.2222222222222222,
             "#7201a8"
            ],
            [
             0.3333333333333333,
             "#9c179e"
            ],
            [
             0.4444444444444444,
             "#bd3786"
            ],
            [
             0.5555555555555556,
             "#d8576b"
            ],
            [
             0.6666666666666666,
             "#ed7953"
            ],
            [
             0.7777777777777778,
             "#fb9f3a"
            ],
            [
             0.8888888888888888,
             "#fdca26"
            ],
            [
             1,
             "#f0f921"
            ]
           ],
           "sequentialminus": [
            [
             0,
             "#0d0887"
            ],
            [
             0.1111111111111111,
             "#46039f"
            ],
            [
             0.2222222222222222,
             "#7201a8"
            ],
            [
             0.3333333333333333,
             "#9c179e"
            ],
            [
             0.4444444444444444,
             "#bd3786"
            ],
            [
             0.5555555555555556,
             "#d8576b"
            ],
            [
             0.6666666666666666,
             "#ed7953"
            ],
            [
             0.7777777777777778,
             "#fb9f3a"
            ],
            [
             0.8888888888888888,
             "#fdca26"
            ],
            [
             1,
             "#f0f921"
            ]
           ]
          },
          "colorway": [
           "#636efa",
           "#EF553B",
           "#00cc96",
           "#ab63fa",
           "#FFA15A",
           "#19d3f3",
           "#FF6692",
           "#B6E880",
           "#FF97FF",
           "#FECB52"
          ],
          "font": {
           "color": "#2a3f5f"
          },
          "geo": {
           "bgcolor": "white",
           "lakecolor": "white",
           "landcolor": "#E5ECF6",
           "showlakes": true,
           "showland": true,
           "subunitcolor": "white"
          },
          "hoverlabel": {
           "align": "left"
          },
          "hovermode": "closest",
          "mapbox": {
           "style": "light"
          },
          "paper_bgcolor": "white",
          "plot_bgcolor": "#E5ECF6",
          "polar": {
           "angularaxis": {
            "gridcolor": "white",
            "linecolor": "white",
            "ticks": ""
           },
           "bgcolor": "#E5ECF6",
           "radialaxis": {
            "gridcolor": "white",
            "linecolor": "white",
            "ticks": ""
           }
          },
          "scene": {
           "xaxis": {
            "backgroundcolor": "#E5ECF6",
            "gridcolor": "white",
            "gridwidth": 2,
            "linecolor": "white",
            "showbackground": true,
            "ticks": "",
            "zerolinecolor": "white"
           },
           "yaxis": {
            "backgroundcolor": "#E5ECF6",
            "gridcolor": "white",
            "gridwidth": 2,
            "linecolor": "white",
            "showbackground": true,
            "ticks": "",
            "zerolinecolor": "white"
           },
           "zaxis": {
            "backgroundcolor": "#E5ECF6",
            "gridcolor": "white",
            "gridwidth": 2,
            "linecolor": "white",
            "showbackground": true,
            "ticks": "",
            "zerolinecolor": "white"
           }
          },
          "shapedefaults": {
           "line": {
            "color": "#2a3f5f"
           }
          },
          "ternary": {
           "aaxis": {
            "gridcolor": "white",
            "linecolor": "white",
            "ticks": ""
           },
           "baxis": {
            "gridcolor": "white",
            "linecolor": "white",
            "ticks": ""
           },
           "bgcolor": "#E5ECF6",
           "caxis": {
            "gridcolor": "white",
            "linecolor": "white",
            "ticks": ""
           }
          },
          "title": {
           "x": 0.05
          },
          "xaxis": {
           "automargin": true,
           "gridcolor": "white",
           "linecolor": "white",
           "ticks": "",
           "title": {
            "standoff": 15
           },
           "zerolinecolor": "white",
           "zerolinewidth": 2
          },
          "yaxis": {
           "automargin": true,
           "gridcolor": "white",
           "linecolor": "white",
           "ticks": "",
           "title": {
            "standoff": 15
           },
           "zerolinecolor": "white",
           "zerolinewidth": 2
          }
         }
        },
        "title": {
         "text": "# of Evidence Statements for SURVIVAL_RESPONSE-scoped, Rate-based Metrics"
        },
        "xaxis": {
         "anchor": "y",
         "domain": [
          0,
          1
         ],
         "linecolor": "black",
         "linewidth": 2,
         "mirror": true,
         "showline": true,
         "title": {
          "text": "Metric Name"
         }
        },
        "yaxis": {
         "anchor": "x",
         "domain": [
          0,
          1
         ],
         "linecolor": "black",
         "linewidth": 2,
         "mirror": true,
         "showline": true,
         "title": {
          "text": "# of Evidence Statements"
         }
        }
       }
      }
     },
     "metadata": {},
     "output_type": "display_data"
    }
   ],
   "source": [
    "data_for_graph = tdf['sub_bucket'].value_counts().rename_axis('Metric').reset_index(name='counts')\n",
    "\n",
    "fig = px.bar(data_for_graph, x='Metric', y='counts',text_auto=True)\n",
    "fig.update_layout(xaxis_title='Metric Name', \n",
    "                  yaxis_title=\"# of Evidence Statements\", \n",
    "                  title='# of Evidence Statements for SURVIVAL_RESPONSE-scoped, Rate-based Metrics',\n",
    "                  xaxis=dict(\n",
    "                        showline=True,     \n",
    "                        linewidth=2,       \n",
    "                        linecolor='black', \n",
    "                        mirror=True        \n",
    "                    ),\n",
    "                    yaxis=dict(            \n",
    "                        showline=True,\n",
    "                        linewidth=2,\n",
    "                        linecolor='black',\n",
    "                        mirror=True\n",
    "                    ))\n",
    "fig.write_image('SURVIVAL_RESPONSE_metric_bar_chart.jpg',width=1920/1.5,height=1080/1.5,scale=2)\n",
    "fig.show()"
   ]
  },
  {
   "cell_type": "code",
   "execution_count": 41,
   "metadata": {},
   "outputs": [
    {
     "data": {
      "text/html": [
       "<div>\n",
       "<style scoped>\n",
       "    .dataframe tbody tr th:only-of-type {\n",
       "        vertical-align: middle;\n",
       "    }\n",
       "\n",
       "    .dataframe tbody tr th {\n",
       "        vertical-align: top;\n",
       "    }\n",
       "\n",
       "    .dataframe thead th {\n",
       "        text-align: right;\n",
       "    }\n",
       "</style>\n",
       "<table border=\"1\" class=\"dataframe\">\n",
       "  <thead>\n",
       "    <tr style=\"text-align: right;\">\n",
       "      <th></th>\n",
       "      <th>brand_name</th>\n",
       "      <th>application</th>\n",
       "      <th>original_text</th>\n",
       "      <th>metrics</th>\n",
       "      <th>values</th>\n",
       "      <th>descriptors</th>\n",
       "      <th>bucket</th>\n",
       "      <th>sub_bucket</th>\n",
       "      <th>trimmed_values</th>\n",
       "    </tr>\n",
       "  </thead>\n",
       "  <tbody>\n",
       "    <tr>\n",
       "      <th>0</th>\n",
       "      <td>Colchicine</td>\n",
       "      <td>ANDA204711</td>\n",
       "      <td>14 CLINICAL STUDIES The evidence for the effic...</td>\n",
       "      <td>Number of responders</td>\n",
       "      <td>38%</td>\n",
       "      <td>Based on target joint pain score at 24 hours p...</td>\n",
       "      <td>SURVIVAL_RESPONSE</td>\n",
       "      <td>RESPONSE_RATE</td>\n",
       "      <td>38</td>\n",
       "    </tr>\n",
       "    <tr>\n",
       "      <th>1</th>\n",
       "      <td>Dicyclomine Hydrochloride</td>\n",
       "      <td>ANDA040319</td>\n",
       "      <td>14 CLINICAL STUDIES In controlled clinical tri...</td>\n",
       "      <td>clinical response</td>\n",
       "      <td>82%</td>\n",
       "      <td>functional bowel/irritable bowel syndrome, ini...</td>\n",
       "      <td>SURVIVAL_RESPONSE</td>\n",
       "      <td>RESPONSE_RATE</td>\n",
       "      <td>82</td>\n",
       "    </tr>\n",
       "    <tr>\n",
       "      <th>2</th>\n",
       "      <td>Dicyclomine Hydrochloride</td>\n",
       "      <td>ANDA040319</td>\n",
       "      <td>14 CLINICAL STUDIES In controlled clinical tri...</td>\n",
       "      <td>clinical response</td>\n",
       "      <td>55%</td>\n",
       "      <td>placebo group</td>\n",
       "      <td>SURVIVAL_RESPONSE</td>\n",
       "      <td>RESPONSE_RATE</td>\n",
       "      <td>55</td>\n",
       "    </tr>\n",
       "    <tr>\n",
       "      <th>3</th>\n",
       "      <td>Levoleucovorin</td>\n",
       "      <td>ANDA206263</td>\n",
       "      <td>14 CLINICAL STUDIES 14.1 Rescue after High-Dos...</td>\n",
       "      <td>Response rate</td>\n",
       "      <td>26%</td>\n",
       "      <td>Patients aged 18 years or older with metastati...</td>\n",
       "      <td>SURVIVAL_RESPONSE</td>\n",
       "      <td>RESPONSE_RATE</td>\n",
       "      <td>26</td>\n",
       "    </tr>\n",
       "    <tr>\n",
       "      <th>4</th>\n",
       "      <td>Levoleucovorin</td>\n",
       "      <td>ANDA206263</td>\n",
       "      <td>14 CLINICAL STUDIES 14.1 Rescue after High-Dos...</td>\n",
       "      <td>Response rate</td>\n",
       "      <td>43%</td>\n",
       "      <td>Patients aged 18 years or older with metastati...</td>\n",
       "      <td>SURVIVAL_RESPONSE</td>\n",
       "      <td>RESPONSE_RATE</td>\n",
       "      <td>43</td>\n",
       "    </tr>\n",
       "    <tr>\n",
       "      <th>...</th>\n",
       "      <td>...</td>\n",
       "      <td>...</td>\n",
       "      <td>...</td>\n",
       "      <td>...</td>\n",
       "      <td>...</td>\n",
       "      <td>...</td>\n",
       "      <td>...</td>\n",
       "      <td>...</td>\n",
       "      <td>...</td>\n",
       "    </tr>\n",
       "    <tr>\n",
       "      <th>56</th>\n",
       "      <td>Colchicine</td>\n",
       "      <td>NDA022352</td>\n",
       "      <td>14 CLINICAL STUDIES The evidence for the effic...</td>\n",
       "      <td>response rate</td>\n",
       "      <td>16%</td>\n",
       "      <td>primary treatment outcome for patients with go...</td>\n",
       "      <td>SURVIVAL_RESPONSE</td>\n",
       "      <td>RESPONSE_RATE</td>\n",
       "      <td>16</td>\n",
       "    </tr>\n",
       "    <tr>\n",
       "      <th>57</th>\n",
       "      <td>Dicyclomine Hydrochloride</td>\n",
       "      <td>ANDA216782</td>\n",
       "      <td>14 CLINICAL STUDIES In controlled clinical tri...</td>\n",
       "      <td>clinical response</td>\n",
       "      <td>82%</td>\n",
       "      <td>functional bowel/irritable bowel syndrome, ini...</td>\n",
       "      <td>SURVIVAL_RESPONSE</td>\n",
       "      <td>RESPONSE_RATE</td>\n",
       "      <td>82</td>\n",
       "    </tr>\n",
       "    <tr>\n",
       "      <th>58</th>\n",
       "      <td>Dicyclomine Hydrochloride</td>\n",
       "      <td>ANDA216782</td>\n",
       "      <td>14 CLINICAL STUDIES In controlled clinical tri...</td>\n",
       "      <td>clinical response</td>\n",
       "      <td>55%</td>\n",
       "      <td>placebo group</td>\n",
       "      <td>SURVIVAL_RESPONSE</td>\n",
       "      <td>RESPONSE_RATE</td>\n",
       "      <td>55</td>\n",
       "    </tr>\n",
       "    <tr>\n",
       "      <th>59</th>\n",
       "      <td>Ribavirin</td>\n",
       "      <td>ANDA077224</td>\n",
       "      <td>14 CLINICAL STUDIES Clinical Study 1 evaluated...</td>\n",
       "      <td>Response rate to treatment</td>\n",
       "      <td>52% (264/511)</td>\n",
       "      <td>Study 2, PegIntron 1.5 mcg/kg subcutaneously o...</td>\n",
       "      <td>SURVIVAL_RESPONSE</td>\n",
       "      <td>RESPONSE_RATE</td>\n",
       "      <td>52</td>\n",
       "    </tr>\n",
       "    <tr>\n",
       "      <th>60</th>\n",
       "      <td>Ribavirin</td>\n",
       "      <td>ANDA077224</td>\n",
       "      <td>14 CLINICAL STUDIES Clinical Study 1 evaluated...</td>\n",
       "      <td>Response rate to treatment</td>\n",
       "      <td>46% (231/505)</td>\n",
       "      <td>Study 2, INTRON A 3 MIU subcutaneously three t...</td>\n",
       "      <td>SURVIVAL_RESPONSE</td>\n",
       "      <td>RESPONSE_RATE</td>\n",
       "      <td>46</td>\n",
       "    </tr>\n",
       "  </tbody>\n",
       "</table>\n",
       "<p>61 rows × 9 columns</p>\n",
       "</div>"
      ],
      "text/plain": [
       "                   brand_name application  \\\n",
       "0                  Colchicine  ANDA204711   \n",
       "1   Dicyclomine Hydrochloride  ANDA040319   \n",
       "2   Dicyclomine Hydrochloride  ANDA040319   \n",
       "3              Levoleucovorin  ANDA206263   \n",
       "4              Levoleucovorin  ANDA206263   \n",
       "..                        ...         ...   \n",
       "56                 Colchicine   NDA022352   \n",
       "57  Dicyclomine Hydrochloride  ANDA216782   \n",
       "58  Dicyclomine Hydrochloride  ANDA216782   \n",
       "59                  Ribavirin  ANDA077224   \n",
       "60                  Ribavirin  ANDA077224   \n",
       "\n",
       "                                        original_text  \\\n",
       "0   14 CLINICAL STUDIES The evidence for the effic...   \n",
       "1   14 CLINICAL STUDIES In controlled clinical tri...   \n",
       "2   14 CLINICAL STUDIES In controlled clinical tri...   \n",
       "3   14 CLINICAL STUDIES 14.1 Rescue after High-Dos...   \n",
       "4   14 CLINICAL STUDIES 14.1 Rescue after High-Dos...   \n",
       "..                                                ...   \n",
       "56  14 CLINICAL STUDIES The evidence for the effic...   \n",
       "57  14 CLINICAL STUDIES In controlled clinical tri...   \n",
       "58  14 CLINICAL STUDIES In controlled clinical tri...   \n",
       "59  14 CLINICAL STUDIES Clinical Study 1 evaluated...   \n",
       "60  14 CLINICAL STUDIES Clinical Study 1 evaluated...   \n",
       "\n",
       "                       metrics         values  \\\n",
       "0         Number of responders            38%   \n",
       "1            clinical response            82%   \n",
       "2            clinical response            55%   \n",
       "3                Response rate            26%   \n",
       "4                Response rate            43%   \n",
       "..                         ...            ...   \n",
       "56               response rate            16%   \n",
       "57           clinical response            82%   \n",
       "58           clinical response            55%   \n",
       "59  Response rate to treatment  52% (264/511)   \n",
       "60  Response rate to treatment  46% (231/505)   \n",
       "\n",
       "                                          descriptors             bucket  \\\n",
       "0   Based on target joint pain score at 24 hours p...  SURVIVAL_RESPONSE   \n",
       "1   functional bowel/irritable bowel syndrome, ini...  SURVIVAL_RESPONSE   \n",
       "2                                       placebo group  SURVIVAL_RESPONSE   \n",
       "3   Patients aged 18 years or older with metastati...  SURVIVAL_RESPONSE   \n",
       "4   Patients aged 18 years or older with metastati...  SURVIVAL_RESPONSE   \n",
       "..                                                ...                ...   \n",
       "56  primary treatment outcome for patients with go...  SURVIVAL_RESPONSE   \n",
       "57  functional bowel/irritable bowel syndrome, ini...  SURVIVAL_RESPONSE   \n",
       "58                                      placebo group  SURVIVAL_RESPONSE   \n",
       "59  Study 2, PegIntron 1.5 mcg/kg subcutaneously o...  SURVIVAL_RESPONSE   \n",
       "60  Study 2, INTRON A 3 MIU subcutaneously three t...  SURVIVAL_RESPONSE   \n",
       "\n",
       "       sub_bucket  trimmed_values  \n",
       "0   RESPONSE_RATE              38  \n",
       "1   RESPONSE_RATE              82  \n",
       "2   RESPONSE_RATE              55  \n",
       "3   RESPONSE_RATE              26  \n",
       "4   RESPONSE_RATE              43  \n",
       "..            ...             ...  \n",
       "56  RESPONSE_RATE              16  \n",
       "57  RESPONSE_RATE              82  \n",
       "58  RESPONSE_RATE              55  \n",
       "59  RESPONSE_RATE              52  \n",
       "60  RESPONSE_RATE              46  \n",
       "\n",
       "[61 rows x 9 columns]"
      ]
     },
     "execution_count": 41,
     "metadata": {},
     "output_type": "execute_result"
    }
   ],
   "source": [
    "res_tdf"
   ]
  },
  {
   "cell_type": "code",
   "execution_count": 23,
   "metadata": {},
   "outputs": [
    {
     "data": {
      "application/vnd.plotly.v1+json": {
       "config": {
        "plotlyServerURL": "https://plot.ly"
       },
       "data": [
        {
         "alignmentgroup": "True",
         "bingroup": "x",
         "hovertemplate": "trimmed_values=%{x}<br>count=%{y}<extra></extra>",
         "legendgroup": "",
         "marker": {
          "color": "#636efa",
          "pattern": {
           "shape": ""
          }
         },
         "name": "",
         "offsetgroup": "",
         "orientation": "v",
         "showlegend": false,
         "texttemplate": "%{value}",
         "type": "histogram",
         "x": [
          38,
          82,
          55,
          26,
          43,
          82,
          50,
          85,
          83,
          30,
          53,
          50,
          69,
          69,
          37,
          67,
          81,
          57,
          63,
          26,
          82,
          55,
          84,
          39,
          39,
          82,
          55,
          23,
          50,
          59,
          30,
          38,
          33,
          16,
          31,
          39,
          82,
          24,
          82,
          55,
          50,
          32,
          80,
          79,
          85,
          100,
          71,
          82,
          82,
          82,
          55,
          74,
          50,
          20,
          38,
          33,
          16,
          82,
          55,
          52,
          46
         ],
         "xaxis": "x",
         "yaxis": "y"
        }
       ],
       "layout": {
        "barmode": "relative",
        "legend": {
         "tracegroupgap": 0
        },
        "margin": {
         "t": 60
        },
        "template": {
         "data": {
          "bar": [
           {
            "error_x": {
             "color": "#2a3f5f"
            },
            "error_y": {
             "color": "#2a3f5f"
            },
            "marker": {
             "line": {
              "color": "#E5ECF6",
              "width": 0.5
             },
             "pattern": {
              "fillmode": "overlay",
              "size": 10,
              "solidity": 0.2
             }
            },
            "type": "bar"
           }
          ],
          "barpolar": [
           {
            "marker": {
             "line": {
              "color": "#E5ECF6",
              "width": 0.5
             },
             "pattern": {
              "fillmode": "overlay",
              "size": 10,
              "solidity": 0.2
             }
            },
            "type": "barpolar"
           }
          ],
          "carpet": [
           {
            "aaxis": {
             "endlinecolor": "#2a3f5f",
             "gridcolor": "white",
             "linecolor": "white",
             "minorgridcolor": "white",
             "startlinecolor": "#2a3f5f"
            },
            "baxis": {
             "endlinecolor": "#2a3f5f",
             "gridcolor": "white",
             "linecolor": "white",
             "minorgridcolor": "white",
             "startlinecolor": "#2a3f5f"
            },
            "type": "carpet"
           }
          ],
          "choropleth": [
           {
            "colorbar": {
             "outlinewidth": 0,
             "ticks": ""
            },
            "type": "choropleth"
           }
          ],
          "contour": [
           {
            "colorbar": {
             "outlinewidth": 0,
             "ticks": ""
            },
            "colorscale": [
             [
              0,
              "#0d0887"
             ],
             [
              0.1111111111111111,
              "#46039f"
             ],
             [
              0.2222222222222222,
              "#7201a8"
             ],
             [
              0.3333333333333333,
              "#9c179e"
             ],
             [
              0.4444444444444444,
              "#bd3786"
             ],
             [
              0.5555555555555556,
              "#d8576b"
             ],
             [
              0.6666666666666666,
              "#ed7953"
             ],
             [
              0.7777777777777778,
              "#fb9f3a"
             ],
             [
              0.8888888888888888,
              "#fdca26"
             ],
             [
              1,
              "#f0f921"
             ]
            ],
            "type": "contour"
           }
          ],
          "contourcarpet": [
           {
            "colorbar": {
             "outlinewidth": 0,
             "ticks": ""
            },
            "type": "contourcarpet"
           }
          ],
          "heatmap": [
           {
            "colorbar": {
             "outlinewidth": 0,
             "ticks": ""
            },
            "colorscale": [
             [
              0,
              "#0d0887"
             ],
             [
              0.1111111111111111,
              "#46039f"
             ],
             [
              0.2222222222222222,
              "#7201a8"
             ],
             [
              0.3333333333333333,
              "#9c179e"
             ],
             [
              0.4444444444444444,
              "#bd3786"
             ],
             [
              0.5555555555555556,
              "#d8576b"
             ],
             [
              0.6666666666666666,
              "#ed7953"
             ],
             [
              0.7777777777777778,
              "#fb9f3a"
             ],
             [
              0.8888888888888888,
              "#fdca26"
             ],
             [
              1,
              "#f0f921"
             ]
            ],
            "type": "heatmap"
           }
          ],
          "heatmapgl": [
           {
            "colorbar": {
             "outlinewidth": 0,
             "ticks": ""
            },
            "colorscale": [
             [
              0,
              "#0d0887"
             ],
             [
              0.1111111111111111,
              "#46039f"
             ],
             [
              0.2222222222222222,
              "#7201a8"
             ],
             [
              0.3333333333333333,
              "#9c179e"
             ],
             [
              0.4444444444444444,
              "#bd3786"
             ],
             [
              0.5555555555555556,
              "#d8576b"
             ],
             [
              0.6666666666666666,
              "#ed7953"
             ],
             [
              0.7777777777777778,
              "#fb9f3a"
             ],
             [
              0.8888888888888888,
              "#fdca26"
             ],
             [
              1,
              "#f0f921"
             ]
            ],
            "type": "heatmapgl"
           }
          ],
          "histogram": [
           {
            "marker": {
             "pattern": {
              "fillmode": "overlay",
              "size": 10,
              "solidity": 0.2
             }
            },
            "type": "histogram"
           }
          ],
          "histogram2d": [
           {
            "colorbar": {
             "outlinewidth": 0,
             "ticks": ""
            },
            "colorscale": [
             [
              0,
              "#0d0887"
             ],
             [
              0.1111111111111111,
              "#46039f"
             ],
             [
              0.2222222222222222,
              "#7201a8"
             ],
             [
              0.3333333333333333,
              "#9c179e"
             ],
             [
              0.4444444444444444,
              "#bd3786"
             ],
             [
              0.5555555555555556,
              "#d8576b"
             ],
             [
              0.6666666666666666,
              "#ed7953"
             ],
             [
              0.7777777777777778,
              "#fb9f3a"
             ],
             [
              0.8888888888888888,
              "#fdca26"
             ],
             [
              1,
              "#f0f921"
             ]
            ],
            "type": "histogram2d"
           }
          ],
          "histogram2dcontour": [
           {
            "colorbar": {
             "outlinewidth": 0,
             "ticks": ""
            },
            "colorscale": [
             [
              0,
              "#0d0887"
             ],
             [
              0.1111111111111111,
              "#46039f"
             ],
             [
              0.2222222222222222,
              "#7201a8"
             ],
             [
              0.3333333333333333,
              "#9c179e"
             ],
             [
              0.4444444444444444,
              "#bd3786"
             ],
             [
              0.5555555555555556,
              "#d8576b"
             ],
             [
              0.6666666666666666,
              "#ed7953"
             ],
             [
              0.7777777777777778,
              "#fb9f3a"
             ],
             [
              0.8888888888888888,
              "#fdca26"
             ],
             [
              1,
              "#f0f921"
             ]
            ],
            "type": "histogram2dcontour"
           }
          ],
          "mesh3d": [
           {
            "colorbar": {
             "outlinewidth": 0,
             "ticks": ""
            },
            "type": "mesh3d"
           }
          ],
          "parcoords": [
           {
            "line": {
             "colorbar": {
              "outlinewidth": 0,
              "ticks": ""
             }
            },
            "type": "parcoords"
           }
          ],
          "pie": [
           {
            "automargin": true,
            "type": "pie"
           }
          ],
          "scatter": [
           {
            "fillpattern": {
             "fillmode": "overlay",
             "size": 10,
             "solidity": 0.2
            },
            "type": "scatter"
           }
          ],
          "scatter3d": [
           {
            "line": {
             "colorbar": {
              "outlinewidth": 0,
              "ticks": ""
             }
            },
            "marker": {
             "colorbar": {
              "outlinewidth": 0,
              "ticks": ""
             }
            },
            "type": "scatter3d"
           }
          ],
          "scattercarpet": [
           {
            "marker": {
             "colorbar": {
              "outlinewidth": 0,
              "ticks": ""
             }
            },
            "type": "scattercarpet"
           }
          ],
          "scattergeo": [
           {
            "marker": {
             "colorbar": {
              "outlinewidth": 0,
              "ticks": ""
             }
            },
            "type": "scattergeo"
           }
          ],
          "scattergl": [
           {
            "marker": {
             "colorbar": {
              "outlinewidth": 0,
              "ticks": ""
             }
            },
            "type": "scattergl"
           }
          ],
          "scattermapbox": [
           {
            "marker": {
             "colorbar": {
              "outlinewidth": 0,
              "ticks": ""
             }
            },
            "type": "scattermapbox"
           }
          ],
          "scatterpolar": [
           {
            "marker": {
             "colorbar": {
              "outlinewidth": 0,
              "ticks": ""
             }
            },
            "type": "scatterpolar"
           }
          ],
          "scatterpolargl": [
           {
            "marker": {
             "colorbar": {
              "outlinewidth": 0,
              "ticks": ""
             }
            },
            "type": "scatterpolargl"
           }
          ],
          "scatterternary": [
           {
            "marker": {
             "colorbar": {
              "outlinewidth": 0,
              "ticks": ""
             }
            },
            "type": "scatterternary"
           }
          ],
          "surface": [
           {
            "colorbar": {
             "outlinewidth": 0,
             "ticks": ""
            },
            "colorscale": [
             [
              0,
              "#0d0887"
             ],
             [
              0.1111111111111111,
              "#46039f"
             ],
             [
              0.2222222222222222,
              "#7201a8"
             ],
             [
              0.3333333333333333,
              "#9c179e"
             ],
             [
              0.4444444444444444,
              "#bd3786"
             ],
             [
              0.5555555555555556,
              "#d8576b"
             ],
             [
              0.6666666666666666,
              "#ed7953"
             ],
             [
              0.7777777777777778,
              "#fb9f3a"
             ],
             [
              0.8888888888888888,
              "#fdca26"
             ],
             [
              1,
              "#f0f921"
             ]
            ],
            "type": "surface"
           }
          ],
          "table": [
           {
            "cells": {
             "fill": {
              "color": "#EBF0F8"
             },
             "line": {
              "color": "white"
             }
            },
            "header": {
             "fill": {
              "color": "#C8D4E3"
             },
             "line": {
              "color": "white"
             }
            },
            "type": "table"
           }
          ]
         },
         "layout": {
          "annotationdefaults": {
           "arrowcolor": "#2a3f5f",
           "arrowhead": 0,
           "arrowwidth": 1
          },
          "autotypenumbers": "strict",
          "coloraxis": {
           "colorbar": {
            "outlinewidth": 0,
            "ticks": ""
           }
          },
          "colorscale": {
           "diverging": [
            [
             0,
             "#8e0152"
            ],
            [
             0.1,
             "#c51b7d"
            ],
            [
             0.2,
             "#de77ae"
            ],
            [
             0.3,
             "#f1b6da"
            ],
            [
             0.4,
             "#fde0ef"
            ],
            [
             0.5,
             "#f7f7f7"
            ],
            [
             0.6,
             "#e6f5d0"
            ],
            [
             0.7,
             "#b8e186"
            ],
            [
             0.8,
             "#7fbc41"
            ],
            [
             0.9,
             "#4d9221"
            ],
            [
             1,
             "#276419"
            ]
           ],
           "sequential": [
            [
             0,
             "#0d0887"
            ],
            [
             0.1111111111111111,
             "#46039f"
            ],
            [
             0.2222222222222222,
             "#7201a8"
            ],
            [
             0.3333333333333333,
             "#9c179e"
            ],
            [
             0.4444444444444444,
             "#bd3786"
            ],
            [
             0.5555555555555556,
             "#d8576b"
            ],
            [
             0.6666666666666666,
             "#ed7953"
            ],
            [
             0.7777777777777778,
             "#fb9f3a"
            ],
            [
             0.8888888888888888,
             "#fdca26"
            ],
            [
             1,
             "#f0f921"
            ]
           ],
           "sequentialminus": [
            [
             0,
             "#0d0887"
            ],
            [
             0.1111111111111111,
             "#46039f"
            ],
            [
             0.2222222222222222,
             "#7201a8"
            ],
            [
             0.3333333333333333,
             "#9c179e"
            ],
            [
             0.4444444444444444,
             "#bd3786"
            ],
            [
             0.5555555555555556,
             "#d8576b"
            ],
            [
             0.6666666666666666,
             "#ed7953"
            ],
            [
             0.7777777777777778,
             "#fb9f3a"
            ],
            [
             0.8888888888888888,
             "#fdca26"
            ],
            [
             1,
             "#f0f921"
            ]
           ]
          },
          "colorway": [
           "#636efa",
           "#EF553B",
           "#00cc96",
           "#ab63fa",
           "#FFA15A",
           "#19d3f3",
           "#FF6692",
           "#B6E880",
           "#FF97FF",
           "#FECB52"
          ],
          "font": {
           "color": "#2a3f5f"
          },
          "geo": {
           "bgcolor": "white",
           "lakecolor": "white",
           "landcolor": "#E5ECF6",
           "showlakes": true,
           "showland": true,
           "subunitcolor": "white"
          },
          "hoverlabel": {
           "align": "left"
          },
          "hovermode": "closest",
          "mapbox": {
           "style": "light"
          },
          "paper_bgcolor": "white",
          "plot_bgcolor": "#E5ECF6",
          "polar": {
           "angularaxis": {
            "gridcolor": "white",
            "linecolor": "white",
            "ticks": ""
           },
           "bgcolor": "#E5ECF6",
           "radialaxis": {
            "gridcolor": "white",
            "linecolor": "white",
            "ticks": ""
           }
          },
          "scene": {
           "xaxis": {
            "backgroundcolor": "#E5ECF6",
            "gridcolor": "white",
            "gridwidth": 2,
            "linecolor": "white",
            "showbackground": true,
            "ticks": "",
            "zerolinecolor": "white"
           },
           "yaxis": {
            "backgroundcolor": "#E5ECF6",
            "gridcolor": "white",
            "gridwidth": 2,
            "linecolor": "white",
            "showbackground": true,
            "ticks": "",
            "zerolinecolor": "white"
           },
           "zaxis": {
            "backgroundcolor": "#E5ECF6",
            "gridcolor": "white",
            "gridwidth": 2,
            "linecolor": "white",
            "showbackground": true,
            "ticks": "",
            "zerolinecolor": "white"
           }
          },
          "shapedefaults": {
           "line": {
            "color": "#2a3f5f"
           }
          },
          "ternary": {
           "aaxis": {
            "gridcolor": "white",
            "linecolor": "white",
            "ticks": ""
           },
           "baxis": {
            "gridcolor": "white",
            "linecolor": "white",
            "ticks": ""
           },
           "bgcolor": "#E5ECF6",
           "caxis": {
            "gridcolor": "white",
            "linecolor": "white",
            "ticks": ""
           }
          },
          "title": {
           "x": 0.05
          },
          "xaxis": {
           "automargin": true,
           "gridcolor": "white",
           "linecolor": "white",
           "ticks": "",
           "title": {
            "standoff": 15
           },
           "zerolinecolor": "white",
           "zerolinewidth": 2
          },
          "yaxis": {
           "automargin": true,
           "gridcolor": "white",
           "linecolor": "white",
           "ticks": "",
           "title": {
            "standoff": 15
           },
           "zerolinecolor": "white",
           "zerolinewidth": 2
          }
         }
        },
        "title": {
         "text": "Distribution of Clinical Response Rates for SURVIVAL_RESPONSE-scoped, Rate-based Metrics"
        },
        "xaxis": {
         "anchor": "y",
         "domain": [
          0,
          1
         ],
         "linecolor": "black",
         "linewidth": 2,
         "mirror": true,
         "showline": true,
         "title": {
          "text": "% Response Rate"
         }
        },
        "yaxis": {
         "anchor": "x",
         "domain": [
          0,
          1
         ],
         "linecolor": "black",
         "linewidth": 2,
         "mirror": true,
         "showline": true,
         "title": {
          "text": "# of Evidence Statements"
         }
        }
       }
      }
     },
     "metadata": {},
     "output_type": "display_data"
    }
   ],
   "source": [
    "res_tdf['trimmed_values'] = res_tdf['values'].apply(lambda x: int((x.split('%')[0])))\n",
    "\n",
    "fig = px.histogram(res_tdf, x='trimmed_values',text_auto=True)\n",
    "fig.update_layout(xaxis_title='% Response Rate', \n",
    "                  yaxis_title=\"# of Evidence Statements\", \n",
    "                  title='Distribution of Clinical Response Rates for SURVIVAL_RESPONSE-scoped, Rate-based Metrics', \n",
    "                    xaxis=dict(\n",
    "                        showline=True,     \n",
    "                        linewidth=2,       \n",
    "                        linecolor='black', \n",
    "                        mirror=True        \n",
    "                    ),\n",
    "                    yaxis=dict(            \n",
    "                        showline=True,\n",
    "                        linewidth=2,\n",
    "                        linecolor='black',\n",
    "                        mirror=True\n",
    "                    ))\n",
    "fig.write_image('distribution_of_rates_SURVIVAL_RESPONSE_bar_chart.jpg',width=1920/1.5,height=1080/1.5,scale=2)\n",
    "fig.show()"
   ]
  }
 ],
 "metadata": {
  "kernelspec": {
   "display_name": "Python 3",
   "language": "python",
   "name": "python3"
  },
  "language_info": {
   "codemirror_mode": {
    "name": "ipython",
    "version": 3
   },
   "file_extension": ".py",
   "mimetype": "text/x-python",
   "name": "python",
   "nbconvert_exporter": "python",
   "pygments_lexer": "ipython3",
   "version": "3.10.14"
  }
 },
 "nbformat": 4,
 "nbformat_minor": 2
}

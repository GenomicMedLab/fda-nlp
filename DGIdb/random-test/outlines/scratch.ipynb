{
 "cells": [
  {
   "cell_type": "markdown",
   "metadata": {},
   "source": [
    "##  Extracting Clinical Outcomes w/ Outlines\n",
    "Utilizing the *outlines* package to support a JSON schema and enforce structure in generated text. By providing a JSON schema of what a therapeutic outcome object should be, can we prompt for outcomes from a provided clinical trials section of an FDA label (faux-RAG).   \n",
    "   \n",
    "First, instantiate the model and create a generator object. The generator object can take different kinds of schematics, including multiple choice arrays, or larger dictionary schemas. Examples of each of these taken directly from the cookbook are shown below:"
   ]
  },
  {
   "cell_type": "code",
   "execution_count": 1,
   "metadata": {},
   "outputs": [
    {
     "name": "stderr",
     "output_type": "stream",
     "text": [
      "/Users/mjc014/.pyenv/versions/3.10.14/lib/python3.10/site-packages/tqdm/auto.py:21: TqdmWarning: IProgress not found. Please update jupyter and ipywidgets. See https://ipywidgets.readthedocs.io/en/stable/user_install.html\n",
      "  from .autonotebook import tqdm as notebook_tqdm\n",
      "Loading checkpoint shards: 100%|██████████| 3/3 [00:17<00:00,  5.69s/it]\n",
      "Compiling FSM index for all state transitions: 100%|██████████| 12/12 [00:00<00:00, 12.23it/s]\n"
     ]
    },
    {
     "name": "stdout",
     "output_type": "stream",
     "text": [
      "Blue\n"
     ]
    }
   ],
   "source": [
    "import outlines\n",
    "\n",
    "model = outlines.models.transformers(\"mistralai/Mistral-7B-Instruct-v0.3\")\n",
    "generator = outlines.generate.choice(model, [\"Blue\", \"Red\", \"Yellow\"])\n",
    "\n",
    "color = generator(\"What is the closest color to Indigo? \")\n",
    "print(color)\n",
    "# Blue"
   ]
  },
  {
   "cell_type": "code",
   "execution_count": null,
   "metadata": {},
   "outputs": [],
   "source": [
    "import outlines\n",
    "\n",
    "# TODO: define outcomes in the $defs, OR look up proper way to get a rtype: [{}] instead of {}\n",
    "schema = \"\"\"{\n",
    "    \"$defs\": {\n",
    "        \"Armor\": {\n",
    "            \"enum\": [\"leather\", \"chainmail\", \"plate\"],\n",
    "            \"title\": \"Armor\",\n",
    "            \"type\": \"string\"\n",
    "        }\n",
    "    },\n",
    "    \"properties\": {\n",
    "        \"name\": {\"maxLength\": 10, \"title\": \"Name\", \"type\": \"string\"},\n",
    "        \"age\": {\"title\": \"Age\", \"type\": \"integer\"},\n",
    "        \"armor\": {\"$ref\": \"#/$defs/Armor\"},\n",
    "        \"strength\": {\"title\": \"Strength\", \"type\": \"integer\"}\\\n",
    "    },\n",
    "    \"required\": [\"name\", \"age\", \"armor\", \"strength\"],\n",
    "    \"title\": \"Character\",\n",
    "    \"type\": \"object\"\n",
    "}\"\"\"\n",
    "\n",
    "model = outlines.models.transformers(\"mistralai/Mistral-7B-Instruct-v0.3\")\n",
    "generator = outlines.generate.json(model, schema)\n",
    "character = generator(\n",
    "    \"Generate a new character for my awesome game: \"\n",
    "    + \"name, age (between 1 and 99), armor and strength. \"\n",
    "    )\n",
    "print(character)\n",
    "# {'name': 'Yuki', 'age': 24, 'armor': 'plate', 'strength': 3}"
   ]
  },
  {
   "cell_type": "markdown",
   "metadata": {},
   "source": [
    "### Test Run using Outlines\n",
    "Load FDA label data as search space. \n",
    "\n"
   ]
  },
  {
   "cell_type": "code",
   "execution_count": 1,
   "metadata": {},
   "outputs": [
    {
     "data": {
      "text/html": [
       "<div>\n",
       "<style scoped>\n",
       "    .dataframe tbody tr th:only-of-type {\n",
       "        vertical-align: middle;\n",
       "    }\n",
       "\n",
       "    .dataframe tbody tr th {\n",
       "        vertical-align: top;\n",
       "    }\n",
       "\n",
       "    .dataframe thead th {\n",
       "        text-align: right;\n",
       "    }\n",
       "</style>\n",
       "<table border=\"1\" class=\"dataframe\">\n",
       "  <thead>\n",
       "    <tr style=\"text-align: right;\">\n",
       "      <th></th>\n",
       "      <th>brand_name</th>\n",
       "      <th>application_number</th>\n",
       "      <th>adverse_reactions</th>\n",
       "      <th>clinical_studies</th>\n",
       "      <th>indications_and_usage</th>\n",
       "      <th>contraindications</th>\n",
       "      <th>warnings_and_cautions</th>\n",
       "      <th>warnings</th>\n",
       "      <th>precautions</th>\n",
       "      <th>pharmacokinetics</th>\n",
       "      <th>purpose</th>\n",
       "      <th>clinical_pharmacology</th>\n",
       "      <th>active_ingredient</th>\n",
       "      <th>stop_use</th>\n",
       "      <th>boxed_warning</th>\n",
       "      <th>pharmacodynamics</th>\n",
       "      <th>pharmacogenomics</th>\n",
       "    </tr>\n",
       "  </thead>\n",
       "  <tbody>\n",
       "    <tr>\n",
       "      <th>0</th>\n",
       "      <td>Dsuvia</td>\n",
       "      <td>NDA209128</td>\n",
       "      <td>6 ADVERSE REACTIONS The following serious adve...</td>\n",
       "      <td>14 CLINICAL STUDIES The efficacy and safety of...</td>\n",
       "      <td>1 INDICATIONS AND USAGE DSUVIA is indicated fo...</td>\n",
       "      <td>4 CONTRAINDICATIONS Use of DSUVIA is contraind...</td>\n",
       "      <td>5 WARNINGS AND PRECAUTIONS Opioid-Induced Hype...</td>\n",
       "      <td>NaN</td>\n",
       "      <td>NaN</td>\n",
       "      <td>12.3 Pharmacokinetics Absorption A single subl...</td>\n",
       "      <td>NaN</td>\n",
       "      <td>12 CLINICAL PHARMACOLOGY 12.1 Mechanism of Act...</td>\n",
       "      <td>NaN</td>\n",
       "      <td>NaN</td>\n",
       "      <td>WARNING: SERIOUS AND LIFE-THREATENING RISKS FR...</td>\n",
       "      <td>12.2 Pharmacodynamics Effects on the Central N...</td>\n",
       "      <td>NaN</td>\n",
       "    </tr>\n",
       "    <tr>\n",
       "      <th>1</th>\n",
       "      <td>ROPINIROLE HYDROCHLORIDE</td>\n",
       "      <td>ANDA090429</td>\n",
       "      <td>6 ADVERSE REACTIONS The following adverse reac...</td>\n",
       "      <td>14 CLINICAL STUDIES 14.1 Parkinson's Disease T...</td>\n",
       "      <td>1 INDICATIONS AND USAGE Ropinirole Tablets are...</td>\n",
       "      <td>4 CONTRAINDICATIONS Ropinirole tablets are con...</td>\n",
       "      <td>5 WARNINGS AND PRECAUTIONS · Sudden onset of s...</td>\n",
       "      <td>NaN</td>\n",
       "      <td>NaN</td>\n",
       "      <td>12.3 Pharmacokinetics Ropinirole displayed lin...</td>\n",
       "      <td>NaN</td>\n",
       "      <td>12 CLINICAL PHARMACOLOGY 12.1 Mechanism of Act...</td>\n",
       "      <td>NaN</td>\n",
       "      <td>NaN</td>\n",
       "      <td>NaN</td>\n",
       "      <td>12.2 Pharmacodynamics Clinical experience with...</td>\n",
       "      <td>NaN</td>\n",
       "    </tr>\n",
       "    <tr>\n",
       "      <th>2</th>\n",
       "      <td>Amlodipine Besylate</td>\n",
       "      <td>ANDA076846</td>\n",
       "      <td>6 ADVERSE REACTIONS Most common adverse reacti...</td>\n",
       "      <td>14 CLINICAL STUDIES 14.1 Effects in Hypertensi...</td>\n",
       "      <td>1 INDICATIONS AND USAGE Amlodipine besylate ta...</td>\n",
       "      <td>4 CONTRAINDICATIONS Amlodipine besylate tablet...</td>\n",
       "      <td>5 WARNINGS AND PRECAUTIONS Symptomatic hypoten...</td>\n",
       "      <td>NaN</td>\n",
       "      <td>NaN</td>\n",
       "      <td>NaN</td>\n",
       "      <td>NaN</td>\n",
       "      <td>12 CLINICAL PHARMACOLOGY 12.1 Mechanism of Act...</td>\n",
       "      <td>NaN</td>\n",
       "      <td>NaN</td>\n",
       "      <td>NaN</td>\n",
       "      <td>12.2 Pharmacodynamics Hemodynamics: Following ...</td>\n",
       "      <td>NaN</td>\n",
       "    </tr>\n",
       "    <tr>\n",
       "      <th>3</th>\n",
       "      <td>Rabeprazole sodium</td>\n",
       "      <td>ANDA202376</td>\n",
       "      <td>6 ADVERSE REACTIONS Most common adverse reacti...</td>\n",
       "      <td>14 CLINICAL STUDIES 14.1 Healing of Erosive or...</td>\n",
       "      <td>1 INDICATIONS AND USAGE Rabeprazole sodium del...</td>\n",
       "      <td>4 CONTRAINDICATIONS Patients with a history of...</td>\n",
       "      <td>5 WARNINGS AND PRECAUTIONS Gastric Malignancy ...</td>\n",
       "      <td>NaN</td>\n",
       "      <td>NaN</td>\n",
       "      <td>12.3 Pharmacokinetics After oral administratio...</td>\n",
       "      <td>NaN</td>\n",
       "      <td>12 CLINICAL PHARMACOLOGY 12.1 Mechanism of Act...</td>\n",
       "      <td>NaN</td>\n",
       "      <td>NaN</td>\n",
       "      <td>NaN</td>\n",
       "      <td>12.2 Pharmacodynamics Antisecretory Activity T...</td>\n",
       "      <td>NaN</td>\n",
       "    </tr>\n",
       "    <tr>\n",
       "      <th>4</th>\n",
       "      <td>Phentermine hydrochloride</td>\n",
       "      <td>ANDA205017</td>\n",
       "      <td>6 ADVERSE REACTIONS The following adverse reac...</td>\n",
       "      <td>14 CLINICAL STUDIES In relatively short-term c...</td>\n",
       "      <td>1 INDICATIONS AND USAGE Phentermine hydrochlor...</td>\n",
       "      <td>4 CONTRAINDICATIONS • History of cardiovascula...</td>\n",
       "      <td>5 WARNINGS AND PRECAUTIONS Coadministration wi...</td>\n",
       "      <td>NaN</td>\n",
       "      <td>NaN</td>\n",
       "      <td>12.3 Pharmacokinetics Following the administra...</td>\n",
       "      <td>NaN</td>\n",
       "      <td>12 CLINICAL PHARMACOLOGY 12.1 Mechanism of Act...</td>\n",
       "      <td>NaN</td>\n",
       "      <td>NaN</td>\n",
       "      <td>NaN</td>\n",
       "      <td>12.2 Pharmacodynamics Typical actions of amphe...</td>\n",
       "      <td>NaN</td>\n",
       "    </tr>\n",
       "  </tbody>\n",
       "</table>\n",
       "</div>"
      ],
      "text/plain": [
       "                  brand_name application_number  \\\n",
       "0                     Dsuvia          NDA209128   \n",
       "1   ROPINIROLE HYDROCHLORIDE         ANDA090429   \n",
       "2        Amlodipine Besylate         ANDA076846   \n",
       "3         Rabeprazole sodium         ANDA202376   \n",
       "4  Phentermine hydrochloride         ANDA205017   \n",
       "\n",
       "                                   adverse_reactions  \\\n",
       "0  6 ADVERSE REACTIONS The following serious adve...   \n",
       "1  6 ADVERSE REACTIONS The following adverse reac...   \n",
       "2  6 ADVERSE REACTIONS Most common adverse reacti...   \n",
       "3  6 ADVERSE REACTIONS Most common adverse reacti...   \n",
       "4  6 ADVERSE REACTIONS The following adverse reac...   \n",
       "\n",
       "                                    clinical_studies  \\\n",
       "0  14 CLINICAL STUDIES The efficacy and safety of...   \n",
       "1  14 CLINICAL STUDIES 14.1 Parkinson's Disease T...   \n",
       "2  14 CLINICAL STUDIES 14.1 Effects in Hypertensi...   \n",
       "3  14 CLINICAL STUDIES 14.1 Healing of Erosive or...   \n",
       "4  14 CLINICAL STUDIES In relatively short-term c...   \n",
       "\n",
       "                               indications_and_usage  \\\n",
       "0  1 INDICATIONS AND USAGE DSUVIA is indicated fo...   \n",
       "1  1 INDICATIONS AND USAGE Ropinirole Tablets are...   \n",
       "2  1 INDICATIONS AND USAGE Amlodipine besylate ta...   \n",
       "3  1 INDICATIONS AND USAGE Rabeprazole sodium del...   \n",
       "4  1 INDICATIONS AND USAGE Phentermine hydrochlor...   \n",
       "\n",
       "                                   contraindications  \\\n",
       "0  4 CONTRAINDICATIONS Use of DSUVIA is contraind...   \n",
       "1  4 CONTRAINDICATIONS Ropinirole tablets are con...   \n",
       "2  4 CONTRAINDICATIONS Amlodipine besylate tablet...   \n",
       "3  4 CONTRAINDICATIONS Patients with a history of...   \n",
       "4  4 CONTRAINDICATIONS • History of cardiovascula...   \n",
       "\n",
       "                               warnings_and_cautions warnings precautions  \\\n",
       "0  5 WARNINGS AND PRECAUTIONS Opioid-Induced Hype...      NaN         NaN   \n",
       "1  5 WARNINGS AND PRECAUTIONS · Sudden onset of s...      NaN         NaN   \n",
       "2  5 WARNINGS AND PRECAUTIONS Symptomatic hypoten...      NaN         NaN   \n",
       "3  5 WARNINGS AND PRECAUTIONS Gastric Malignancy ...      NaN         NaN   \n",
       "4  5 WARNINGS AND PRECAUTIONS Coadministration wi...      NaN         NaN   \n",
       "\n",
       "                                    pharmacokinetics purpose  \\\n",
       "0  12.3 Pharmacokinetics Absorption A single subl...     NaN   \n",
       "1  12.3 Pharmacokinetics Ropinirole displayed lin...     NaN   \n",
       "2                                                NaN     NaN   \n",
       "3  12.3 Pharmacokinetics After oral administratio...     NaN   \n",
       "4  12.3 Pharmacokinetics Following the administra...     NaN   \n",
       "\n",
       "                               clinical_pharmacology active_ingredient  \\\n",
       "0  12 CLINICAL PHARMACOLOGY 12.1 Mechanism of Act...               NaN   \n",
       "1  12 CLINICAL PHARMACOLOGY 12.1 Mechanism of Act...               NaN   \n",
       "2  12 CLINICAL PHARMACOLOGY 12.1 Mechanism of Act...               NaN   \n",
       "3  12 CLINICAL PHARMACOLOGY 12.1 Mechanism of Act...               NaN   \n",
       "4  12 CLINICAL PHARMACOLOGY 12.1 Mechanism of Act...               NaN   \n",
       "\n",
       "  stop_use                                      boxed_warning  \\\n",
       "0      NaN  WARNING: SERIOUS AND LIFE-THREATENING RISKS FR...   \n",
       "1      NaN                                                NaN   \n",
       "2      NaN                                                NaN   \n",
       "3      NaN                                                NaN   \n",
       "4      NaN                                                NaN   \n",
       "\n",
       "                                    pharmacodynamics pharmacogenomics  \n",
       "0  12.2 Pharmacodynamics Effects on the Central N...              NaN  \n",
       "1  12.2 Pharmacodynamics Clinical experience with...              NaN  \n",
       "2  12.2 Pharmacodynamics Hemodynamics: Following ...              NaN  \n",
       "3  12.2 Pharmacodynamics Antisecretory Activity T...              NaN  \n",
       "4  12.2 Pharmacodynamics Typical actions of amphe...              NaN  "
      ]
     },
     "execution_count": 1,
     "metadata": {},
     "output_type": "execute_result"
    }
   ],
   "source": [
    "import pandas as pd\n",
    "\n",
    "search_space = pd.read_excel('../20240424_trial_searchspace.xlsx').reset_index(drop=True).drop('Unnamed: 0', axis=1)\n",
    "search_space[0:5]\n",
    "\n",
    "# TODO: Proper RAG using transformers library?"
   ]
  },
  {
   "cell_type": "markdown",
   "metadata": {},
   "source": [
    "Create a JSON schema for a Therapeutic Outcome object. "
   ]
  },
  {
   "cell_type": "code",
   "execution_count": 2,
   "metadata": {},
   "outputs": [],
   "source": [
    "schema = \"\"\"{\n",
    "    \"properties\": {\n",
    "        \"outcome metric\": {\"title\": \"Outcome Metric\", \"description\": \"The name of the primary outcome metric that has been measured.\", \"type\": \"string\"},\n",
    "        \"measured value\": {\"title\": \"Measured Value\", \"description\": \"The measured value associated with the outcome metric. It is taken directly from the text\" ,\"type\": \"string\"},\n",
    "        \"study group\": {\"title\": \"Study Group\", \"description\": \"The group within the study from which the outcome was measured.\", \"type\": \"string\"}\\\n",
    "    },\n",
    "    \"required\": [\"outcome metric\", \"measured value\", \"study group\"],\n",
    "                \n",
    "    \"title\": \"Outcomes\",\n",
    "    \"description\": \"Primary treatment outcomes from a clinical trial. There can be more than one per clinical trial.\",\n",
    "    \"type\": \"object\"\n",
    "}\"\"\"\n",
    "# TODO: Return an array of multiple objects as the schema"
   ]
  },
  {
   "cell_type": "markdown",
   "metadata": {},
   "source": [
    "Instantiate the model and combine with the therapeutic outcome schema to create a generator object."
   ]
  },
  {
   "cell_type": "code",
   "execution_count": 1,
   "metadata": {},
   "outputs": [
    {
     "data": {
      "application/vnd.jupyter.widget-view+json": {
       "model_id": "2976e1a9753a41ca9c5061580c1b97d1",
       "version_major": 2,
       "version_minor": 0
      },
      "text/plain": [
       "Loading checkpoint shards:   0%|          | 0/3 [00:00<?, ?it/s]"
      ]
     },
     "metadata": {},
     "output_type": "display_data"
    },
    {
     "ename": "NameError",
     "evalue": "name 'schema' is not defined",
     "output_type": "error",
     "traceback": [
      "\u001b[0;31m---------------------------------------------------------------------------\u001b[0m",
      "\u001b[0;31mNameError\u001b[0m                                 Traceback (most recent call last)",
      "Cell \u001b[0;32mIn[1], line 4\u001b[0m\n\u001b[1;32m      2\u001b[0m \u001b[38;5;28;01mimport\u001b[39;00m \u001b[38;5;21;01moutlines\u001b[39;00m\n\u001b[1;32m      3\u001b[0m model \u001b[38;5;241m=\u001b[39m outlines\u001b[38;5;241m.\u001b[39mmodels\u001b[38;5;241m.\u001b[39mtransformers(\u001b[38;5;124m\"\u001b[39m\u001b[38;5;124mmistralai/Mistral-7B-Instruct-v0.3\u001b[39m\u001b[38;5;124m\"\u001b[39m)\n\u001b[0;32m----> 4\u001b[0m generator \u001b[38;5;241m=\u001b[39m outlines\u001b[38;5;241m.\u001b[39mgenerate\u001b[38;5;241m.\u001b[39mjson(model, \u001b[43mschema\u001b[49m)\n\u001b[1;32m      6\u001b[0m \u001b[38;5;66;03m# RUN ONCE or too much memory usage\u001b[39;00m\n",
      "\u001b[0;31mNameError\u001b[0m: name 'schema' is not defined"
     ]
    }
   ],
   "source": [
    "# outlines\n",
    "import outlines\n",
    "model = outlines.models.transformers(\"mistralai/Mistral-7B-Instruct-v0.3\")\n",
    "generator = outlines.generate.json(model, schema)\n",
    "\n",
    "# RUN ONCE or too much memory usage"
   ]
  },
  {
   "cell_type": "code",
   "execution_count": null,
   "metadata": {},
   "outputs": [],
   "source": [
    "# Prompt Garbage\n",
    "#         \"descriptors\": {\"title\": \"Additional Descriptors\", \"description\": \"Additional text from the study that provides context to the outcome.\", \"type\":\"string\"}\\\n",
    "\n",
    "\n",
    "    # prompt = f'Read the following clinical studies for {row[\"brand_name\"]}. For each treatment outcome in the text, extract the measured outcome, its value, its unit, and the study group. An example of a measured outcome is \"Response Rate\", an example value would be \"56\", and example unit would be \"patients\", and an example study group would be \"patients receiving Imatinib\". Text: {row[\"clinical_studies\"]}'"
   ]
  },
  {
   "cell_type": "markdown",
   "metadata": {},
   "source": [
    "For each label, run a prompt through the generator object providing the brand name of the drug as well as the clinical trial text from the FDA label as the search space. Save the structured output and link it with the original dataframe"
   ]
  },
  {
   "cell_type": "code",
   "execution_count": 6,
   "metadata": {},
   "outputs": [
    {
     "name": "stderr",
     "output_type": "stream",
     "text": [
      "  3%|▎         | 1/30 [1:57:53<56:58:57, 7073.69s/it]"
     ]
    },
    {
     "name": "stdout",
     "output_type": "stream",
     "text": [
      "{'outcome metric': 'Hamilton Depression Rating Scale (total score)', 'measured value': 'significantly superior to placebo', 'study group': 'venlafaxine'}\n"
     ]
    },
    {
     "name": "stderr",
     "output_type": "stream",
     "text": [
      "  7%|▋         | 2/30 [4:27:31<63:43:44, 8193.74s/it]"
     ]
    },
    {
     "name": "stdout",
     "output_type": "stream",
     "text": [
      "{'outcome metric': 'Pain reduction', 'measured value': 'greater than placebo', 'study group': 'Duloxetine delayed-release capsules in Major Depressive Disorder adult trials (Studies MDD-1, MDD-2, MDD-3, and MDD-4)'}\n"
     ]
    },
    {
     "name": "stderr",
     "output_type": "stream",
     "text": [
      " 10%|█         | 3/30 [6:56:10<63:56:15, 8525.01s/it]"
     ]
    },
    {
     "name": "stdout",
     "output_type": "stream",
     "text": [
      "{'outcome metric': 'Success rate', 'measured value': 'Proportion of subjects with a-0 (clear) or 1 (minimal) on a 0 to 5 point physician’s Global Severity Scale for scalp psoriasis', 'study group': 'Clobetasol propionate shampoo, 0.05%'}\n"
     ]
    },
    {
     "name": "stderr",
     "output_type": "stream",
     "text": [
      " 13%|█▎        | 4/30 [9:09:45<60:06:52, 8323.54s/it]"
     ]
    },
    {
     "name": "stdout",
     "output_type": "stream",
     "text": [
      "{'outcome metric': 'overall survival', 'measured value': '12.1 for pemetrexed for injection plus cisplatin and 10.0 for cisplatin', 'study group': 'pemetrexed for injection plus cisplatin is compared to cisplatin'}\n"
     ]
    },
    {
     "name": "stderr",
     "output_type": "stream",
     "text": [
      " 17%|█▋        | 5/30 [10:25:56<48:24:21, 6970.47s/it]"
     ]
    },
    {
     "name": "stdout",
     "output_type": "stream",
     "text": [
      "{'outcome metric': 'incidence of endometritis', 'measured value': '27.6% for placebo', 'study group': 'a group given placebo in the trial'}\n"
     ]
    },
    {
     "name": "stderr",
     "output_type": "stream",
     "text": [
      " 20%|██        | 6/30 [11:42:26<41:04:27, 6161.15s/it]"
     ]
    },
    {
     "name": "stdout",
     "output_type": "stream",
     "text": [
      "{'outcome metric': 'dec_flare_rate', 'measured value': 'decreased frequency of gout flares', 'study group': 'colchicine'}\n"
     ]
    },
    {
     "name": "stderr",
     "output_type": "stream",
     "text": [
      " 23%|██▎       | 7/30 [12:48:59<34:50:00, 5452.19s/it]"
     ]
    },
    {
     "name": "stdout",
     "output_type": "stream",
     "text": [
      "{'outcome metric': 'clinical cure rate', 'measured value': '183/186', 'study group': 'VABOMERE'}\n"
     ]
    },
    {
     "name": "stderr",
     "output_type": "stream",
     "text": [
      " 27%|██▋       | 8/30 [14:03:11<31:22:23, 5133.81s/it]"
     ]
    },
    {
     "name": "stdout",
     "output_type": "stream",
     "text": [
      "{'outcome metric': 'stool frequency', 'measured value': 'improvement', 'study group': 'mesalamine suppositories (500 mg thrice daily)'}\n"
     ]
    },
    {
     "name": "stderr",
     "output_type": "stream",
     "text": [
      " 30%|███       | 9/30 [15:19:11<28:54:01, 4954.36s/it]"
     ]
    },
    {
     "name": "stdout",
     "output_type": "stream",
     "text": [
      "{'outcome metric': 'Additional Therapeutic Outcome', 'measured value': 'mild to moderate hypertension', 'study group': 'Lisinopril group'}\n"
     ]
    },
    {
     "name": "stderr",
     "output_type": "stream",
     "text": [
      " 33%|███▎      | 10/30 [16:34:40<26:47:40, 4823.02s/it]"
     ]
    },
    {
     "name": "stdout",
     "output_type": "stream",
     "text": [
      "{'outcome metric': 'Rate of clinical remission', 'measured value': '9%', 'study group': 'Placebo'}\n"
     ]
    },
    {
     "name": "stderr",
     "output_type": "stream",
     "text": [
      " 37%|███▋      | 11/30 [18:08:57<26:48:07, 5078.32s/it]"
     ]
    },
    {
     "name": "stdout",
     "output_type": "stream",
     "text": [
      "{'outcome metric': 'Clinical Cure Rate', 'measured value': '85% (125/147)', 'study group': 'Azithromycin (500 mg once daily for 3 days)'}\n"
     ]
    },
    {
     "name": "stderr",
     "output_type": "stream",
     "text": [
      " 40%|████      | 12/30 [19:33:08<25:20:58, 5069.90s/it]"
     ]
    },
    {
     "name": "stdout",
     "output_type": "stream",
     "text": [
      "{'outcome metric': 'HbA1C (%) reduction', 'measured value': '-0.5', 'study group': 'LEVEMIR + Liraglutide + Metformin'}\n"
     ]
    },
    {
     "name": "stderr",
     "output_type": "stream",
     "text": [
      " 43%|████▎     | 13/30 [21:23:22<26:09:04, 5537.91s/it]"
     ]
    },
    {
     "name": "stdout",
     "output_type": "stream",
     "text": [
      "{'outcome metric': 'Blood Pressure Reduction', 'measured value': 'Significant reduction of sitting, supine, and standing systolic and diastolic blood pressure, usually with little or no orthostatic change', 'study group': 'Adults'}\n"
     ]
    },
    {
     "name": "stderr",
     "output_type": "stream",
     "text": [
      " 47%|████▋     | 14/30 [23:12:34<25:58:27, 5844.24s/it]"
     ]
    },
    {
     "name": "stdout",
     "output_type": "stream",
     "text": [
      "{'outcome metric': 'Reduction of Ashworth Scale score', 'measured value': '-1.3 (study1), -1.4 (study2)', 'study group': 'Tizanidine-treated group compared to placebo'}\n"
     ]
    },
    {
     "name": "stderr",
     "output_type": "stream",
     "text": [
      " 50%|█████     | 15/30 [24:43:38<23:52:23, 5729.55s/it]"
     ]
    },
    {
     "name": "stdout",
     "output_type": "stream",
     "text": [
      "{'outcome metric': 'Change in PUQE score', 'measured value': '-0.7', 'study group': 'doxylamine succinate and pyridoxine hydrochloride delayed-release tablets'}\n"
     ]
    },
    {
     "name": "stderr",
     "output_type": "stream",
     "text": [
      " 53%|█████▎    | 16/30 [25:55:28<20:37:12, 5302.35s/it]"
     ]
    },
    {
     "name": "stdout",
     "output_type": "stream",
     "text": [
      "{'outcome metric': 'percentage of subjects with composite treatment success', 'measured value': 'on day 30', 'study group': 'XEOMIN'}\n"
     ]
    },
    {
     "name": "stderr",
     "output_type": "stream",
     "text": [
      " 57%|█████▋    | 17/30 [27:13:33<18:28:33, 5116.44s/it]"
     ]
    },
    {
     "name": "stdout",
     "output_type": "stream",
     "text": [
      "{'outcome metric': 'excellent to cleared clinical response', 'measured value': '60% for patients on active treatment', 'study group': 'patients with active treatment'}\n"
     ]
    },
    {
     "name": "stderr",
     "output_type": "stream",
     "text": [
      " 60%|██████    | 18/30 [29:54:38<21:36:39, 6483.27s/it]"
     ]
    },
    {
     "name": "stdout",
     "output_type": "stream",
     "text": [
      "{'outcome metric': 'Responder rate in patients receiving gabapentin expressed as a difference from placebo by dose and study: adjunctive therapy studies in patients ≥12 years of age with partial seizures', 'measured value': 'Proportion of patients with a 50% or greater reduction in seizure frequency from baseline to treatment', 'study group': 'Gabapentin users versus placebo users'}\n"
     ]
    },
    {
     "name": "stderr",
     "output_type": "stream",
     "text": [
      " 63%|██████▎   | 19/30 [31:22:11<18:40:50, 6113.72s/it]"
     ]
    },
    {
     "name": "stdout",
     "output_type": "stream",
     "text": [
      "{'outcome metric': 'clinical cure rate', 'measured value': '72%', 'study group': 'Cefuroxime Axetil Tablets 500 mg Twice Daily'}\n"
     ]
    },
    {
     "name": "stderr",
     "output_type": "stream",
     "text": [
      " 67%|██████▋   | 20/30 [32:31:13<15:20:19, 5522.00s/it]"
     ]
    },
    {
     "name": "stdout",
     "output_type": "stream",
     "text": [
      "{'outcome metric': 'reduction in joint swelling', 'measured value': '< 50%', 'study group': 'Naproxen'}\n"
     ]
    },
    {
     "name": "stderr",
     "output_type": "stream",
     "text": [
      " 70%|███████   | 21/30 [34:26:53<14:52:07, 5947.46s/it]"
     ]
    },
    {
     "name": "stdout",
     "output_type": "stream",
     "text": [
      "{'outcome metric': 'Mean percent change in inflammatory lesion counts from Baseline to 12 weeks', 'measured value': '43.1%', 'study group': 'Minocycline Hydrochloride Extended-Release Tablets (1 mg/kg)'}\n"
     ]
    },
    {
     "name": "stderr",
     "output_type": "stream",
     "text": [
      " 73%|███████▎  | 22/30 [36:05:59<13:12:56, 5947.02s/it]"
     ]
    },
    {
     "name": "stdout",
     "output_type": "stream",
     "text": [
      "{'outcome metric': 'percentage of patients with complete clearing of AK lesions', 'measured value': '46%', 'study group': 'Diclofenac Sodium Gel (14 patients, 90 days treatment)'}\n"
     ]
    },
    {
     "name": "stderr",
     "output_type": "stream",
     "text": [
      " 77%|███████▋  | 23/30 [37:20:00<10:41:06, 5495.27s/it]"
     ]
    },
    {
     "name": "stdout",
     "output_type": "stream",
     "text": [
      "{'outcome metric': 'WOMAC pain score', 'measured value': '', 'study group': 'Diclofenac sodium N=154'}\n"
     ]
    },
    {
     "name": "stderr",
     "output_type": "stream",
     "text": [
      " 80%|████████  | 24/30 [38:40:06<8:48:50, 5288.46s/it] "
     ]
    },
    {
     "name": "stdout",
     "output_type": "stream",
     "text": [
      "{'outcome metric': 'Risk ratio', 'measured value': ', 0.78', 'study group': 'Ramipril (10 mg daily), '}\n"
     ]
    },
    {
     "name": "stderr",
     "output_type": "stream",
     "text": [
      " 83%|████████▎ | 25/30 [40:12:40<7:27:19, 5368.00s/it]"
     ]
    },
    {
     "name": "stdout",
     "output_type": "stream",
     "text": [
      "{'outcome metric': 'improvement in PANSS total score', 'measured value': '-15.5', 'study group': 'Aripiprazole 15mg/day'}\n"
     ]
    },
    {
     "name": "stderr",
     "output_type": "stream",
     "text": [
      " 87%|████████▋ | 26/30 [41:57:31<6:16:19, 5644.92s/it]"
     ]
    },
    {
     "name": "stdout",
     "output_type": "stream",
     "text": [
      "{'outcome metric': 'Efficacy Endpoints for the Acute Treatment of Migraine', 'measured value': 'Pain freedom at 2 hours', 'study group': 'NURTEC ODT 75 mg compared to placebo'}\n"
     ]
    },
    {
     "name": "stderr",
     "output_type": "stream",
     "text": [
      " 90%|█████████ | 27/30 [43:04:32<4:17:53, 5157.73s/it]"
     ]
    },
    {
     "name": "stdout",
     "output_type": "stream",
     "text": [
      "{'outcome metric': 'recovery time', 'measured value': 'reduced', 'study group': 'neostigmine methylsulfate'}\n"
     ]
    },
    {
     "name": "stderr",
     "output_type": "stream",
     "text": [
      " 93%|█████████▎| 28/30 [44:42:22<2:59:02, 5371.25s/it]"
     ]
    },
    {
     "name": "stdout",
     "output_type": "stream",
     "text": [
      "{'outcome metric': 'complete clearance', 'measured value': '%', 'study group': 'Imiquimod Cream, 3.75% Imiquimod Cream, 2.5% Vehicle Cream'}\n"
     ]
    },
    {
     "name": "stderr",
     "output_type": "stream",
     "text": [
      " 97%|█████████▋| 29/30 [46:26:49<1:34:00, 5640.15s/it]"
     ]
    },
    {
     "name": "stdout",
     "output_type": "stream",
     "text": [
      "{'outcome metric': 'safety', 'measured value': 'extracted to 11.5% over 6-months without constipation', 'study group': 'Tramadol 200mg three times a day'}\n"
     ]
    },
    {
     "name": "stderr",
     "output_type": "stream",
     "text": [
      "100%|██████████| 30/30 [47:30:21<00:00, 5700.73s/it]  "
     ]
    },
    {
     "name": "stdout",
     "output_type": "stream",
     "text": [
      "{'outcome metric': 'Blood Pressure', 'measured value': 'Increase', 'study group': 'Ephedrine injection'}\n"
     ]
    },
    {
     "name": "stderr",
     "output_type": "stream",
     "text": [
      "\n"
     ]
    }
   ],
   "source": [
    "start_point = 5\n",
    "\n",
    "test_run = search_space[start_point:start_point+30].copy()\n",
    "test_run['outcome_raw'] = None\n",
    "\n",
    "\n",
    "from tqdm import tqdm\n",
    "\n",
    "position = start_point\n",
    "for idx, row in tqdm(test_run.iterrows(), total=test_run.shape[0]):\n",
    "    prompt = f'Extract all therapeutic outcomes for the drug {row[\"brand_name\"]} from this Clinical Trial context:\\n{row[\"clinical_studies\"]}'\n",
    "\n",
    "    outcome = generator(prompt)\n",
    "\n",
    "    test_run.at[idx, 'outcome_raw'] = outcome\n",
    "    position += 1\n",
    "    print(outcome)\n"
   ]
  },
  {
   "cell_type": "code",
   "execution_count": 9,
   "metadata": {},
   "outputs": [],
   "source": [
    "# test_run[0:38].to_excel('20240607_llm-mistral.xlsx')"
   ]
  },
  {
   "cell_type": "markdown",
   "metadata": {},
   "source": [
    "### Group and save\n",
    "Break apart each dictionary response and save as a new dataframe with explicit columns for each data point to make downstream evaluation just a little bit easier."
   ]
  },
  {
   "cell_type": "code",
   "execution_count": 4,
   "metadata": {},
   "outputs": [
    {
     "name": "stdout",
     "output_type": "stream",
     "text": [
      "30\n"
     ]
    },
    {
     "data": {
      "text/plain": [
       "\"{'outcome metric': 'Hamilton Depression Rating Scale (total score)', 'measured value': 'significantly superior to placebo', 'study group': 'venlafaxine'}\""
      ]
     },
     "execution_count": 4,
     "metadata": {},
     "output_type": "execute_result"
    }
   ],
   "source": [
    "import pandas as pd\n",
    "\n",
    "results = pd.read_excel('20240607_llm-mistral.xlsx')\n",
    "\n",
    "print(len(results['outcome_raw']))\n",
    "results['outcome_raw'][0]"
   ]
  },
  {
   "cell_type": "code",
   "execution_count": 12,
   "metadata": {},
   "outputs": [
    {
     "data": {
      "text/html": [
       "<div>\n",
       "<style scoped>\n",
       "    .dataframe tbody tr th:only-of-type {\n",
       "        vertical-align: middle;\n",
       "    }\n",
       "\n",
       "    .dataframe tbody tr th {\n",
       "        vertical-align: top;\n",
       "    }\n",
       "\n",
       "    .dataframe thead th {\n",
       "        text-align: right;\n",
       "    }\n",
       "</style>\n",
       "<table border=\"1\" class=\"dataframe\">\n",
       "  <thead>\n",
       "    <tr style=\"text-align: right;\">\n",
       "      <th></th>\n",
       "      <th>outcome</th>\n",
       "      <th>value</th>\n",
       "      <th>study_group</th>\n",
       "    </tr>\n",
       "  </thead>\n",
       "  <tbody>\n",
       "    <tr>\n",
       "      <th>0</th>\n",
       "      <td>Hamilton Depression Rating Scale (total score)</td>\n",
       "      <td>significantly superior to placebo</td>\n",
       "      <td>venlafaxine</td>\n",
       "    </tr>\n",
       "    <tr>\n",
       "      <th>1</th>\n",
       "      <td>Pain reduction</td>\n",
       "      <td>greater than placebo</td>\n",
       "      <td>Duloxetine delayed-release capsules in Major D...</td>\n",
       "    </tr>\n",
       "    <tr>\n",
       "      <th>2</th>\n",
       "      <td>Success rate</td>\n",
       "      <td>Proportion of subjects with a-0 (clear) or 1 (...</td>\n",
       "      <td>Clobetasol propionate shampoo, 0.05%</td>\n",
       "    </tr>\n",
       "    <tr>\n",
       "      <th>3</th>\n",
       "      <td>overall survival</td>\n",
       "      <td>12.1 for pemetrexed for injection plus cisplat...</td>\n",
       "      <td>pemetrexed for injection plus cisplatin is com...</td>\n",
       "    </tr>\n",
       "    <tr>\n",
       "      <th>4</th>\n",
       "      <td>incidence of endometritis</td>\n",
       "      <td>27.6% for placebo</td>\n",
       "      <td>a group given placebo in the trial</td>\n",
       "    </tr>\n",
       "    <tr>\n",
       "      <th>5</th>\n",
       "      <td>dec_flare_rate</td>\n",
       "      <td>decreased frequency of gout flares</td>\n",
       "      <td>colchicine</td>\n",
       "    </tr>\n",
       "    <tr>\n",
       "      <th>6</th>\n",
       "      <td>clinical cure rate</td>\n",
       "      <td>183/186</td>\n",
       "      <td>VABOMERE</td>\n",
       "    </tr>\n",
       "    <tr>\n",
       "      <th>7</th>\n",
       "      <td>stool frequency</td>\n",
       "      <td>improvement</td>\n",
       "      <td>mesalamine suppositories (500 mg thrice daily)</td>\n",
       "    </tr>\n",
       "    <tr>\n",
       "      <th>8</th>\n",
       "      <td>Additional Therapeutic Outcome</td>\n",
       "      <td>mild to moderate hypertension</td>\n",
       "      <td>Lisinopril group</td>\n",
       "    </tr>\n",
       "    <tr>\n",
       "      <th>9</th>\n",
       "      <td>Rate of clinical remission</td>\n",
       "      <td>9%</td>\n",
       "      <td>Placebo</td>\n",
       "    </tr>\n",
       "    <tr>\n",
       "      <th>10</th>\n",
       "      <td>Clinical Cure Rate</td>\n",
       "      <td>85% (125/147)</td>\n",
       "      <td>Azithromycin (500 mg once daily for 3 days)</td>\n",
       "    </tr>\n",
       "    <tr>\n",
       "      <th>11</th>\n",
       "      <td>HbA1C (%) reduction</td>\n",
       "      <td>-0.5</td>\n",
       "      <td>LEVEMIR + Liraglutide + Metformin</td>\n",
       "    </tr>\n",
       "    <tr>\n",
       "      <th>12</th>\n",
       "      <td>Blood Pressure Reduction</td>\n",
       "      <td>Significant reduction of sitting, supine, and ...</td>\n",
       "      <td>Adults</td>\n",
       "    </tr>\n",
       "    <tr>\n",
       "      <th>13</th>\n",
       "      <td>Reduction of Ashworth Scale score</td>\n",
       "      <td>-1.3 (study1), -1.4 (study2)</td>\n",
       "      <td>Tizanidine-treated group compared to placebo</td>\n",
       "    </tr>\n",
       "    <tr>\n",
       "      <th>14</th>\n",
       "      <td>Change in PUQE score</td>\n",
       "      <td>-0.7</td>\n",
       "      <td>doxylamine succinate and pyridoxine hydrochlor...</td>\n",
       "    </tr>\n",
       "    <tr>\n",
       "      <th>15</th>\n",
       "      <td>percentage of subjects with composite treatmen...</td>\n",
       "      <td>on day 30</td>\n",
       "      <td>XEOMIN</td>\n",
       "    </tr>\n",
       "    <tr>\n",
       "      <th>16</th>\n",
       "      <td>excellent to cleared clinical response</td>\n",
       "      <td>60% for patients on active treatment</td>\n",
       "      <td>patients with active treatment</td>\n",
       "    </tr>\n",
       "    <tr>\n",
       "      <th>17</th>\n",
       "      <td>Responder rate in patients receiving gabapenti...</td>\n",
       "      <td>Proportion of patients with a 50% or greater r...</td>\n",
       "      <td>Gabapentin users versus placebo users</td>\n",
       "    </tr>\n",
       "    <tr>\n",
       "      <th>18</th>\n",
       "      <td>clinical cure rate</td>\n",
       "      <td>72%</td>\n",
       "      <td>Cefuroxime Axetil Tablets 500 mg Twice Daily</td>\n",
       "    </tr>\n",
       "    <tr>\n",
       "      <th>19</th>\n",
       "      <td>reduction in joint swelling</td>\n",
       "      <td>&lt; 50%</td>\n",
       "      <td>Naproxen</td>\n",
       "    </tr>\n",
       "    <tr>\n",
       "      <th>20</th>\n",
       "      <td>Mean percent change in inflammatory lesion cou...</td>\n",
       "      <td>43.1%</td>\n",
       "      <td>Minocycline Hydrochloride Extended-Release Tab...</td>\n",
       "    </tr>\n",
       "    <tr>\n",
       "      <th>21</th>\n",
       "      <td>percentage of patients with complete clearing ...</td>\n",
       "      <td>46%</td>\n",
       "      <td>Diclofenac Sodium Gel (14 patients, 90 days tr...</td>\n",
       "    </tr>\n",
       "    <tr>\n",
       "      <th>22</th>\n",
       "      <td>WOMAC pain score</td>\n",
       "      <td></td>\n",
       "      <td>Diclofenac sodium N=154</td>\n",
       "    </tr>\n",
       "    <tr>\n",
       "      <th>23</th>\n",
       "      <td>Risk ratio</td>\n",
       "      <td>, 0.78</td>\n",
       "      <td>Ramipril (10 mg daily),</td>\n",
       "    </tr>\n",
       "    <tr>\n",
       "      <th>24</th>\n",
       "      <td>improvement in PANSS total score</td>\n",
       "      <td>-15.5</td>\n",
       "      <td>Aripiprazole 15mg/day</td>\n",
       "    </tr>\n",
       "    <tr>\n",
       "      <th>25</th>\n",
       "      <td>Efficacy Endpoints for the Acute Treatment of ...</td>\n",
       "      <td>Pain freedom at 2 hours</td>\n",
       "      <td>NURTEC ODT 75 mg compared to placebo</td>\n",
       "    </tr>\n",
       "    <tr>\n",
       "      <th>26</th>\n",
       "      <td>recovery time</td>\n",
       "      <td>reduced</td>\n",
       "      <td>neostigmine methylsulfate</td>\n",
       "    </tr>\n",
       "    <tr>\n",
       "      <th>27</th>\n",
       "      <td>complete clearance</td>\n",
       "      <td>%</td>\n",
       "      <td>Imiquimod Cream, 3.75% Imiquimod Cream, 2.5% V...</td>\n",
       "    </tr>\n",
       "    <tr>\n",
       "      <th>28</th>\n",
       "      <td>safety</td>\n",
       "      <td>extracted to 11.5% over 6-months without const...</td>\n",
       "      <td>Tramadol 200mg three times a day</td>\n",
       "    </tr>\n",
       "    <tr>\n",
       "      <th>29</th>\n",
       "      <td>Blood Pressure</td>\n",
       "      <td>Increase</td>\n",
       "      <td>Ephedrine injection</td>\n",
       "    </tr>\n",
       "  </tbody>\n",
       "</table>\n",
       "</div>"
      ],
      "text/plain": [
       "                                              outcome  \\\n",
       "0      Hamilton Depression Rating Scale (total score)   \n",
       "1                                      Pain reduction   \n",
       "2                                        Success rate   \n",
       "3                                    overall survival   \n",
       "4                           incidence of endometritis   \n",
       "5                                      dec_flare_rate   \n",
       "6                                  clinical cure rate   \n",
       "7                                     stool frequency   \n",
       "8                      Additional Therapeutic Outcome   \n",
       "9                          Rate of clinical remission   \n",
       "10                                 Clinical Cure Rate   \n",
       "11                                HbA1C (%) reduction   \n",
       "12                           Blood Pressure Reduction   \n",
       "13                  Reduction of Ashworth Scale score   \n",
       "14                               Change in PUQE score   \n",
       "15  percentage of subjects with composite treatmen...   \n",
       "16             excellent to cleared clinical response   \n",
       "17  Responder rate in patients receiving gabapenti...   \n",
       "18                                 clinical cure rate   \n",
       "19                        reduction in joint swelling   \n",
       "20  Mean percent change in inflammatory lesion cou...   \n",
       "21  percentage of patients with complete clearing ...   \n",
       "22                                   WOMAC pain score   \n",
       "23                                         Risk ratio   \n",
       "24                   improvement in PANSS total score   \n",
       "25  Efficacy Endpoints for the Acute Treatment of ...   \n",
       "26                                      recovery time   \n",
       "27                                 complete clearance   \n",
       "28                                             safety   \n",
       "29                                     Blood Pressure   \n",
       "\n",
       "                                                value  \\\n",
       "0                   significantly superior to placebo   \n",
       "1                                greater than placebo   \n",
       "2   Proportion of subjects with a-0 (clear) or 1 (...   \n",
       "3   12.1 for pemetrexed for injection plus cisplat...   \n",
       "4                                   27.6% for placebo   \n",
       "5                  decreased frequency of gout flares   \n",
       "6                                             183/186   \n",
       "7                                         improvement   \n",
       "8                       mild to moderate hypertension   \n",
       "9                                                  9%   \n",
       "10                                      85% (125/147)   \n",
       "11                                               -0.5   \n",
       "12  Significant reduction of sitting, supine, and ...   \n",
       "13                       -1.3 (study1), -1.4 (study2)   \n",
       "14                                               -0.7   \n",
       "15                                          on day 30   \n",
       "16               60% for patients on active treatment   \n",
       "17  Proportion of patients with a 50% or greater r...   \n",
       "18                                                72%   \n",
       "19                                              < 50%   \n",
       "20                                              43.1%   \n",
       "21                                                46%   \n",
       "22                                                      \n",
       "23                                             , 0.78   \n",
       "24                                              -15.5   \n",
       "25                            Pain freedom at 2 hours   \n",
       "26                                            reduced   \n",
       "27                                                  %   \n",
       "28  extracted to 11.5% over 6-months without const...   \n",
       "29                                           Increase   \n",
       "\n",
       "                                          study_group  \n",
       "0                                         venlafaxine  \n",
       "1   Duloxetine delayed-release capsules in Major D...  \n",
       "2                Clobetasol propionate shampoo, 0.05%  \n",
       "3   pemetrexed for injection plus cisplatin is com...  \n",
       "4                  a group given placebo in the trial  \n",
       "5                                          colchicine  \n",
       "6                                            VABOMERE  \n",
       "7      mesalamine suppositories (500 mg thrice daily)  \n",
       "8                                    Lisinopril group  \n",
       "9                                             Placebo  \n",
       "10        Azithromycin (500 mg once daily for 3 days)  \n",
       "11                  LEVEMIR + Liraglutide + Metformin  \n",
       "12                                             Adults  \n",
       "13       Tizanidine-treated group compared to placebo  \n",
       "14  doxylamine succinate and pyridoxine hydrochlor...  \n",
       "15                                             XEOMIN  \n",
       "16                     patients with active treatment  \n",
       "17              Gabapentin users versus placebo users  \n",
       "18       Cefuroxime Axetil Tablets 500 mg Twice Daily  \n",
       "19                                           Naproxen  \n",
       "20  Minocycline Hydrochloride Extended-Release Tab...  \n",
       "21  Diclofenac Sodium Gel (14 patients, 90 days tr...  \n",
       "22                            Diclofenac sodium N=154  \n",
       "23                           Ramipril (10 mg daily),   \n",
       "24                              Aripiprazole 15mg/day  \n",
       "25               NURTEC ODT 75 mg compared to placebo  \n",
       "26                          neostigmine methylsulfate  \n",
       "27  Imiquimod Cream, 3.75% Imiquimod Cream, 2.5% V...  \n",
       "28                   Tramadol 200mg three times a day  \n",
       "29                                Ephedrine injection  "
      ]
     },
     "execution_count": 12,
     "metadata": {},
     "output_type": "execute_result"
    }
   ],
   "source": [
    "import ast\n",
    "outcomes = []\n",
    "values = []\n",
    "study_groups = []\n",
    "\n",
    "for clinical_outcome in results['outcome_raw']:\n",
    "    convert = ast.literal_eval(clinical_outcome)\n",
    "    outcomes.append(convert['outcome metric'])\n",
    "    values.append(convert['measured value'])\n",
    "    study_groups.append(convert['study group'])\n",
    "\n",
    "clinical_outcomes_df = pd.DataFrame().assign(outcome=outcomes,value=values,study_group=study_groups)\n",
    "clinical_outcomes_df"
   ]
  },
  {
   "cell_type": "code",
   "execution_count": 13,
   "metadata": {},
   "outputs": [
    {
     "data": {
      "text/html": [
       "<div>\n",
       "<style scoped>\n",
       "    .dataframe tbody tr th:only-of-type {\n",
       "        vertical-align: middle;\n",
       "    }\n",
       "\n",
       "    .dataframe tbody tr th {\n",
       "        vertical-align: top;\n",
       "    }\n",
       "\n",
       "    .dataframe thead th {\n",
       "        text-align: right;\n",
       "    }\n",
       "</style>\n",
       "<table border=\"1\" class=\"dataframe\">\n",
       "  <thead>\n",
       "    <tr style=\"text-align: right;\">\n",
       "      <th></th>\n",
       "      <th>outcome</th>\n",
       "      <th>value</th>\n",
       "      <th>study_group</th>\n",
       "      <th>brand_name</th>\n",
       "      <th>application_number</th>\n",
       "      <th>clinical_studies</th>\n",
       "    </tr>\n",
       "  </thead>\n",
       "  <tbody>\n",
       "    <tr>\n",
       "      <th>0</th>\n",
       "      <td>Hamilton Depression Rating Scale (total score)</td>\n",
       "      <td>significantly superior to placebo</td>\n",
       "      <td>venlafaxine</td>\n",
       "      <td>venlafaxine</td>\n",
       "      <td>ANDA090555</td>\n",
       "      <td>CLINICAL TRIALS The efficacy of venlafaxine hy...</td>\n",
       "    </tr>\n",
       "    <tr>\n",
       "      <th>1</th>\n",
       "      <td>Pain reduction</td>\n",
       "      <td>greater than placebo</td>\n",
       "      <td>Duloxetine delayed-release capsules in Major D...</td>\n",
       "      <td>Duloxetine Delayed-Release</td>\n",
       "      <td>ANDA203088</td>\n",
       "      <td>14 CLINICAL STUDIES 14.1 Overview of the Clini...</td>\n",
       "    </tr>\n",
       "    <tr>\n",
       "      <th>2</th>\n",
       "      <td>Success rate</td>\n",
       "      <td>Proportion of subjects with a-0 (clear) or 1 (...</td>\n",
       "      <td>Clobetasol propionate shampoo, 0.05%</td>\n",
       "      <td>clobetasol propionate</td>\n",
       "      <td>ANDA090974</td>\n",
       "      <td>14 CLINICAL STUDIES The safety and efficacy of...</td>\n",
       "    </tr>\n",
       "    <tr>\n",
       "      <th>3</th>\n",
       "      <td>overall survival</td>\n",
       "      <td>12.1 for pemetrexed for injection plus cisplat...</td>\n",
       "      <td>pemetrexed for injection plus cisplatin is com...</td>\n",
       "      <td>Pemetrexed</td>\n",
       "      <td>ANDA204890</td>\n",
       "      <td>14 CLINICAL STUDIES 14.1 Non-Squamous NSCLC In...</td>\n",
       "    </tr>\n",
       "    <tr>\n",
       "      <th>4</th>\n",
       "      <td>incidence of endometritis</td>\n",
       "      <td>27.6% for placebo</td>\n",
       "      <td>a group given placebo in the trial</td>\n",
       "      <td>Cefoxitin</td>\n",
       "      <td>ANDA065415</td>\n",
       "      <td>CLINICAL STUDIES A prospective, randomized, do...</td>\n",
       "    </tr>\n",
       "    <tr>\n",
       "      <th>5</th>\n",
       "      <td>dec_flare_rate</td>\n",
       "      <td>decreased frequency of gout flares</td>\n",
       "      <td>colchicine</td>\n",
       "      <td>Colchicine</td>\n",
       "      <td>ANDA204711</td>\n",
       "      <td>14 CLINICAL STUDIES The evidence for the effic...</td>\n",
       "    </tr>\n",
       "    <tr>\n",
       "      <th>6</th>\n",
       "      <td>clinical cure rate</td>\n",
       "      <td>183/186</td>\n",
       "      <td>VABOMERE</td>\n",
       "      <td>VABOMERE</td>\n",
       "      <td>NDA209776</td>\n",
       "      <td>14 CLINICAL STUDIES 14.1 Complicated Urinary T...</td>\n",
       "    </tr>\n",
       "    <tr>\n",
       "      <th>7</th>\n",
       "      <td>stool frequency</td>\n",
       "      <td>improvement</td>\n",
       "      <td>mesalamine suppositories (500 mg thrice daily)</td>\n",
       "      <td>Mesalamine</td>\n",
       "      <td>ANDA207448</td>\n",
       "      <td>14 CLINICAL STUDIES Two double-blind, placebo-...</td>\n",
       "    </tr>\n",
       "    <tr>\n",
       "      <th>8</th>\n",
       "      <td>Additional Therapeutic Outcome</td>\n",
       "      <td>mild to moderate hypertension</td>\n",
       "      <td>Lisinopril group</td>\n",
       "      <td>LISINOPRIL</td>\n",
       "      <td>ANDA076180</td>\n",
       "      <td>14 CLINICAL STUDIES 14.1 Hypertension Two dose...</td>\n",
       "    </tr>\n",
       "    <tr>\n",
       "      <th>9</th>\n",
       "      <td>Rate of clinical remission</td>\n",
       "      <td>9%</td>\n",
       "      <td>Placebo</td>\n",
       "      <td>Adalimumab</td>\n",
       "      <td>BLA761154</td>\n",
       "      <td>14 CLINICAL STUDIES 14.1 Rheumatoid Arthritis ...</td>\n",
       "    </tr>\n",
       "    <tr>\n",
       "      <th>10</th>\n",
       "      <td>Clinical Cure Rate</td>\n",
       "      <td>85% (125/147)</td>\n",
       "      <td>Azithromycin (500 mg once daily for 3 days)</td>\n",
       "      <td>Azithromycin Dihydrate</td>\n",
       "      <td>ANDA208250</td>\n",
       "      <td>14 CLINICAL STUDIES 14.1 Adult Patients Acute ...</td>\n",
       "    </tr>\n",
       "    <tr>\n",
       "      <th>11</th>\n",
       "      <td>HbA1C (%) reduction</td>\n",
       "      <td>-0.5</td>\n",
       "      <td>LEVEMIR + Liraglutide + Metformin</td>\n",
       "      <td>LEVEMIR</td>\n",
       "      <td>BLA021536</td>\n",
       "      <td>14 CLINICAL STUDIES The efficacy and safety of...</td>\n",
       "    </tr>\n",
       "    <tr>\n",
       "      <th>12</th>\n",
       "      <td>Blood Pressure Reduction</td>\n",
       "      <td>Significant reduction of sitting, supine, and ...</td>\n",
       "      <td>Adults</td>\n",
       "      <td>Valsartan</td>\n",
       "      <td>ANDA204821</td>\n",
       "      <td>14 CLINICAL STUDIES 14.1 Hypertension Adult Hy...</td>\n",
       "    </tr>\n",
       "    <tr>\n",
       "      <th>13</th>\n",
       "      <td>Reduction of Ashworth Scale score</td>\n",
       "      <td>-1.3 (study1), -1.4 (study2)</td>\n",
       "      <td>Tizanidine-treated group compared to placebo</td>\n",
       "      <td>Tizanidine Hydrochloride</td>\n",
       "      <td>ANDA078868</td>\n",
       "      <td>14 CLINICAL STUDIES Tizanidine’s capacity to r...</td>\n",
       "    </tr>\n",
       "    <tr>\n",
       "      <th>14</th>\n",
       "      <td>Change in PUQE score</td>\n",
       "      <td>-0.7</td>\n",
       "      <td>doxylamine succinate and pyridoxine hydrochlor...</td>\n",
       "      <td>Doxylamine succinate and pyridoxine hydrochloride</td>\n",
       "      <td>ANDA205811</td>\n",
       "      <td>14 CLINICAL STUDIES A double-blind, randomized...</td>\n",
       "    </tr>\n",
       "    <tr>\n",
       "      <th>15</th>\n",
       "      <td>percentage of subjects with composite treatmen...</td>\n",
       "      <td>on day 30</td>\n",
       "      <td>XEOMIN</td>\n",
       "      <td>Xeomin</td>\n",
       "      <td>BLA125360</td>\n",
       "      <td>14 CLINICAL STUDIES 14.1 Chronic Sialorrhea Ch...</td>\n",
       "    </tr>\n",
       "    <tr>\n",
       "      <th>16</th>\n",
       "      <td>excellent to cleared clinical response</td>\n",
       "      <td>60% for patients on active treatment</td>\n",
       "      <td>patients with active treatment</td>\n",
       "      <td>Fluocinolone acetonide</td>\n",
       "      <td>ANDA202848</td>\n",
       "      <td>CLINICAL STUDIES In a vehicle-controlled study...</td>\n",
       "    </tr>\n",
       "    <tr>\n",
       "      <th>17</th>\n",
       "      <td>Responder rate in patients receiving gabapenti...</td>\n",
       "      <td>Proportion of patients with a 50% or greater r...</td>\n",
       "      <td>Gabapentin users versus placebo users</td>\n",
       "      <td>GABAPENTIN</td>\n",
       "      <td>NDA020235</td>\n",
       "      <td>14 CLINICAL STUDIES 14.1 Postherpetic Neuralgi...</td>\n",
       "    </tr>\n",
       "    <tr>\n",
       "      <th>18</th>\n",
       "      <td>clinical cure rate</td>\n",
       "      <td>72%</td>\n",
       "      <td>Cefuroxime Axetil Tablets 500 mg Twice Daily</td>\n",
       "      <td>Cefuroxime axetil</td>\n",
       "      <td>ANDA065496</td>\n",
       "      <td>14 CLINICAL STUDIES 14.1 Acute Bacterial Maxil...</td>\n",
       "    </tr>\n",
       "    <tr>\n",
       "      <th>19</th>\n",
       "      <td>reduction in joint swelling</td>\n",
       "      <td>&lt; 50%</td>\n",
       "      <td>Naproxen</td>\n",
       "      <td>Naproxen Sodium</td>\n",
       "      <td>ANDA212199</td>\n",
       "      <td>14 CLINICAL STUDIES Naproxen has been studied ...</td>\n",
       "    </tr>\n",
       "    <tr>\n",
       "      <th>20</th>\n",
       "      <td>Mean percent change in inflammatory lesion cou...</td>\n",
       "      <td>43.1%</td>\n",
       "      <td>Minocycline Hydrochloride Extended-Release Tab...</td>\n",
       "      <td>Minocycline Hydrochloride</td>\n",
       "      <td>ANDA202261</td>\n",
       "      <td>14 CLINICAL STUDIES The safety and efficacy of...</td>\n",
       "    </tr>\n",
       "    <tr>\n",
       "      <th>21</th>\n",
       "      <td>percentage of patients with complete clearing ...</td>\n",
       "      <td>46%</td>\n",
       "      <td>Diclofenac Sodium Gel (14 patients, 90 days tr...</td>\n",
       "      <td>DICLOFENAC SODIUM</td>\n",
       "      <td>ANDA208301</td>\n",
       "      <td>14 CLINICAL STUDIES Clinical trials were condu...</td>\n",
       "    </tr>\n",
       "    <tr>\n",
       "      <th>22</th>\n",
       "      <td>WOMAC pain score</td>\n",
       "      <td></td>\n",
       "      <td>Diclofenac sodium N=154</td>\n",
       "      <td>Diclofenac Sodium</td>\n",
       "      <td>ANDA204132</td>\n",
       "      <td>14. CLINICAL STUDIES 14.1 Pivotal Studies in O...</td>\n",
       "    </tr>\n",
       "    <tr>\n",
       "      <th>23</th>\n",
       "      <td>Risk ratio</td>\n",
       "      <td>, 0.78</td>\n",
       "      <td>Ramipril (10 mg daily),</td>\n",
       "      <td>Ramipril</td>\n",
       "      <td>ANDA077900</td>\n",
       "      <td>14 CLINICAL STUDIES 14.1 Hypertension Ramipril...</td>\n",
       "    </tr>\n",
       "    <tr>\n",
       "      <th>24</th>\n",
       "      <td>improvement in PANSS total score</td>\n",
       "      <td>-15.5</td>\n",
       "      <td>Aripiprazole 15mg/day</td>\n",
       "      <td>Aripiprazole</td>\n",
       "      <td>ANDA207105</td>\n",
       "      <td>14 CLINICAL STUDIES Efficacy of the oral formu...</td>\n",
       "    </tr>\n",
       "    <tr>\n",
       "      <th>25</th>\n",
       "      <td>Efficacy Endpoints for the Acute Treatment of ...</td>\n",
       "      <td>Pain freedom at 2 hours</td>\n",
       "      <td>NURTEC ODT 75 mg compared to placebo</td>\n",
       "      <td>NURTEC ODT</td>\n",
       "      <td>NDA212728</td>\n",
       "      <td>14 CLINICAL STUDIES 14.1 Acute Treatment of Mi...</td>\n",
       "    </tr>\n",
       "    <tr>\n",
       "      <th>26</th>\n",
       "      <td>recovery time</td>\n",
       "      <td>reduced</td>\n",
       "      <td>neostigmine methylsulfate</td>\n",
       "      <td>Neostigmine Methylsulfate</td>\n",
       "      <td>ANDA207042</td>\n",
       "      <td>14. CLINICAL STUDIES The evidence for the effi...</td>\n",
       "    </tr>\n",
       "    <tr>\n",
       "      <th>27</th>\n",
       "      <td>complete clearance</td>\n",
       "      <td>%</td>\n",
       "      <td>Imiquimod Cream, 3.75% Imiquimod Cream, 2.5% V...</td>\n",
       "      <td>Imiquimod</td>\n",
       "      <td>NDA022483</td>\n",
       "      <td>14 CLINICAL STUDIES 14.1 Actinic Keratosis In ...</td>\n",
       "    </tr>\n",
       "    <tr>\n",
       "      <th>28</th>\n",
       "      <td>safety</td>\n",
       "      <td>extracted to 11.5% over 6-months without const...</td>\n",
       "      <td>Tramadol 200mg three times a day</td>\n",
       "      <td>tramadol hydrochloride</td>\n",
       "      <td>ANDA075964</td>\n",
       "      <td>14 CLINICAL STUDIES Tramadol hydrochloride tab...</td>\n",
       "    </tr>\n",
       "    <tr>\n",
       "      <th>29</th>\n",
       "      <td>Blood Pressure</td>\n",
       "      <td>Increase</td>\n",
       "      <td>Ephedrine injection</td>\n",
       "      <td>Ephedrine sulfate</td>\n",
       "      <td>ANDA212649</td>\n",
       "      <td>14 CLINICAL STUDIES The evidence for the effic...</td>\n",
       "    </tr>\n",
       "  </tbody>\n",
       "</table>\n",
       "</div>"
      ],
      "text/plain": [
       "                                              outcome  \\\n",
       "0      Hamilton Depression Rating Scale (total score)   \n",
       "1                                      Pain reduction   \n",
       "2                                        Success rate   \n",
       "3                                    overall survival   \n",
       "4                           incidence of endometritis   \n",
       "5                                      dec_flare_rate   \n",
       "6                                  clinical cure rate   \n",
       "7                                     stool frequency   \n",
       "8                      Additional Therapeutic Outcome   \n",
       "9                          Rate of clinical remission   \n",
       "10                                 Clinical Cure Rate   \n",
       "11                                HbA1C (%) reduction   \n",
       "12                           Blood Pressure Reduction   \n",
       "13                  Reduction of Ashworth Scale score   \n",
       "14                               Change in PUQE score   \n",
       "15  percentage of subjects with composite treatmen...   \n",
       "16             excellent to cleared clinical response   \n",
       "17  Responder rate in patients receiving gabapenti...   \n",
       "18                                 clinical cure rate   \n",
       "19                        reduction in joint swelling   \n",
       "20  Mean percent change in inflammatory lesion cou...   \n",
       "21  percentage of patients with complete clearing ...   \n",
       "22                                   WOMAC pain score   \n",
       "23                                         Risk ratio   \n",
       "24                   improvement in PANSS total score   \n",
       "25  Efficacy Endpoints for the Acute Treatment of ...   \n",
       "26                                      recovery time   \n",
       "27                                 complete clearance   \n",
       "28                                             safety   \n",
       "29                                     Blood Pressure   \n",
       "\n",
       "                                                value  \\\n",
       "0                   significantly superior to placebo   \n",
       "1                                greater than placebo   \n",
       "2   Proportion of subjects with a-0 (clear) or 1 (...   \n",
       "3   12.1 for pemetrexed for injection plus cisplat...   \n",
       "4                                   27.6% for placebo   \n",
       "5                  decreased frequency of gout flares   \n",
       "6                                             183/186   \n",
       "7                                         improvement   \n",
       "8                       mild to moderate hypertension   \n",
       "9                                                  9%   \n",
       "10                                      85% (125/147)   \n",
       "11                                               -0.5   \n",
       "12  Significant reduction of sitting, supine, and ...   \n",
       "13                       -1.3 (study1), -1.4 (study2)   \n",
       "14                                               -0.7   \n",
       "15                                          on day 30   \n",
       "16               60% for patients on active treatment   \n",
       "17  Proportion of patients with a 50% or greater r...   \n",
       "18                                                72%   \n",
       "19                                              < 50%   \n",
       "20                                              43.1%   \n",
       "21                                                46%   \n",
       "22                                                      \n",
       "23                                             , 0.78   \n",
       "24                                              -15.5   \n",
       "25                            Pain freedom at 2 hours   \n",
       "26                                            reduced   \n",
       "27                                                  %   \n",
       "28  extracted to 11.5% over 6-months without const...   \n",
       "29                                           Increase   \n",
       "\n",
       "                                          study_group  \\\n",
       "0                                         venlafaxine   \n",
       "1   Duloxetine delayed-release capsules in Major D...   \n",
       "2                Clobetasol propionate shampoo, 0.05%   \n",
       "3   pemetrexed for injection plus cisplatin is com...   \n",
       "4                  a group given placebo in the trial   \n",
       "5                                          colchicine   \n",
       "6                                            VABOMERE   \n",
       "7      mesalamine suppositories (500 mg thrice daily)   \n",
       "8                                    Lisinopril group   \n",
       "9                                             Placebo   \n",
       "10        Azithromycin (500 mg once daily for 3 days)   \n",
       "11                  LEVEMIR + Liraglutide + Metformin   \n",
       "12                                             Adults   \n",
       "13       Tizanidine-treated group compared to placebo   \n",
       "14  doxylamine succinate and pyridoxine hydrochlor...   \n",
       "15                                             XEOMIN   \n",
       "16                     patients with active treatment   \n",
       "17              Gabapentin users versus placebo users   \n",
       "18       Cefuroxime Axetil Tablets 500 mg Twice Daily   \n",
       "19                                           Naproxen   \n",
       "20  Minocycline Hydrochloride Extended-Release Tab...   \n",
       "21  Diclofenac Sodium Gel (14 patients, 90 days tr...   \n",
       "22                            Diclofenac sodium N=154   \n",
       "23                           Ramipril (10 mg daily),    \n",
       "24                              Aripiprazole 15mg/day   \n",
       "25               NURTEC ODT 75 mg compared to placebo   \n",
       "26                          neostigmine methylsulfate   \n",
       "27  Imiquimod Cream, 3.75% Imiquimod Cream, 2.5% V...   \n",
       "28                   Tramadol 200mg three times a day   \n",
       "29                                Ephedrine injection   \n",
       "\n",
       "                                           brand_name application_number  \\\n",
       "0                                         venlafaxine         ANDA090555   \n",
       "1                          Duloxetine Delayed-Release         ANDA203088   \n",
       "2                               clobetasol propionate         ANDA090974   \n",
       "3                                          Pemetrexed         ANDA204890   \n",
       "4                                           Cefoxitin         ANDA065415   \n",
       "5                                          Colchicine         ANDA204711   \n",
       "6                                            VABOMERE          NDA209776   \n",
       "7                                          Mesalamine         ANDA207448   \n",
       "8                                          LISINOPRIL         ANDA076180   \n",
       "9                                          Adalimumab          BLA761154   \n",
       "10                             Azithromycin Dihydrate         ANDA208250   \n",
       "11                                            LEVEMIR          BLA021536   \n",
       "12                                          Valsartan         ANDA204821   \n",
       "13                           Tizanidine Hydrochloride         ANDA078868   \n",
       "14  Doxylamine succinate and pyridoxine hydrochloride         ANDA205811   \n",
       "15                                             Xeomin          BLA125360   \n",
       "16                             Fluocinolone acetonide         ANDA202848   \n",
       "17                                         GABAPENTIN          NDA020235   \n",
       "18                                  Cefuroxime axetil         ANDA065496   \n",
       "19                                    Naproxen Sodium         ANDA212199   \n",
       "20                          Minocycline Hydrochloride         ANDA202261   \n",
       "21                                  DICLOFENAC SODIUM         ANDA208301   \n",
       "22                                  Diclofenac Sodium         ANDA204132   \n",
       "23                                           Ramipril         ANDA077900   \n",
       "24                                       Aripiprazole         ANDA207105   \n",
       "25                                         NURTEC ODT          NDA212728   \n",
       "26                          Neostigmine Methylsulfate         ANDA207042   \n",
       "27                                          Imiquimod          NDA022483   \n",
       "28                             tramadol hydrochloride         ANDA075964   \n",
       "29                                  Ephedrine sulfate         ANDA212649   \n",
       "\n",
       "                                     clinical_studies  \n",
       "0   CLINICAL TRIALS The efficacy of venlafaxine hy...  \n",
       "1   14 CLINICAL STUDIES 14.1 Overview of the Clini...  \n",
       "2   14 CLINICAL STUDIES The safety and efficacy of...  \n",
       "3   14 CLINICAL STUDIES 14.1 Non-Squamous NSCLC In...  \n",
       "4   CLINICAL STUDIES A prospective, randomized, do...  \n",
       "5   14 CLINICAL STUDIES The evidence for the effic...  \n",
       "6   14 CLINICAL STUDIES 14.1 Complicated Urinary T...  \n",
       "7   14 CLINICAL STUDIES Two double-blind, placebo-...  \n",
       "8   14 CLINICAL STUDIES 14.1 Hypertension Two dose...  \n",
       "9   14 CLINICAL STUDIES 14.1 Rheumatoid Arthritis ...  \n",
       "10  14 CLINICAL STUDIES 14.1 Adult Patients Acute ...  \n",
       "11  14 CLINICAL STUDIES The efficacy and safety of...  \n",
       "12  14 CLINICAL STUDIES 14.1 Hypertension Adult Hy...  \n",
       "13  14 CLINICAL STUDIES Tizanidine’s capacity to r...  \n",
       "14  14 CLINICAL STUDIES A double-blind, randomized...  \n",
       "15  14 CLINICAL STUDIES 14.1 Chronic Sialorrhea Ch...  \n",
       "16  CLINICAL STUDIES In a vehicle-controlled study...  \n",
       "17  14 CLINICAL STUDIES 14.1 Postherpetic Neuralgi...  \n",
       "18  14 CLINICAL STUDIES 14.1 Acute Bacterial Maxil...  \n",
       "19  14 CLINICAL STUDIES Naproxen has been studied ...  \n",
       "20  14 CLINICAL STUDIES The safety and efficacy of...  \n",
       "21  14 CLINICAL STUDIES Clinical trials were condu...  \n",
       "22  14. CLINICAL STUDIES 14.1 Pivotal Studies in O...  \n",
       "23  14 CLINICAL STUDIES 14.1 Hypertension Ramipril...  \n",
       "24  14 CLINICAL STUDIES Efficacy of the oral formu...  \n",
       "25  14 CLINICAL STUDIES 14.1 Acute Treatment of Mi...  \n",
       "26  14. CLINICAL STUDIES The evidence for the effi...  \n",
       "27  14 CLINICAL STUDIES 14.1 Actinic Keratosis In ...  \n",
       "28  14 CLINICAL STUDIES Tramadol hydrochloride tab...  \n",
       "29  14 CLINICAL STUDIES The evidence for the effic...  "
      ]
     },
     "execution_count": 13,
     "metadata": {},
     "output_type": "execute_result"
    }
   ],
   "source": [
    "# MODIFY\n",
    "clinical_outcomes_df['brand_name'] = list(results['brand_name'][0:30])\n",
    "clinical_outcomes_df['application_number'] = list(results['application_number'][0:30])\n",
    "clinical_outcomes_df['clinical_studies'] = list(results['clinical_studies'][0:30])\n",
    "clinical_outcomes_df"
   ]
  },
  {
   "cell_type": "code",
   "execution_count": 14,
   "metadata": {},
   "outputs": [],
   "source": [
    "clinical_outcomes_df.to_excel('20240607_llm-mistral.xlsx')"
   ]
  }
 ],
 "metadata": {
  "kernelspec": {
   "display_name": "Python 3",
   "language": "python",
   "name": "python3"
  },
  "language_info": {
   "codemirror_mode": {
    "name": "ipython",
    "version": 3
   },
   "file_extension": ".py",
   "mimetype": "text/x-python",
   "name": "python",
   "nbconvert_exporter": "python",
   "pygments_lexer": "ipython3",
   "version": "3.10.14"
  }
 },
 "nbformat": 4,
 "nbformat_minor": 2
}

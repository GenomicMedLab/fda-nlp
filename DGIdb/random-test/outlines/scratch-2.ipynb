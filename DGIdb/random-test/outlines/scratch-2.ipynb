{
 "cells": [
  {
   "cell_type": "markdown",
   "metadata": {},
   "source": [
    "## FDA Data\n",
    "Load FDA label set, segment"
   ]
  },
  {
   "cell_type": "code",
   "execution_count": 9,
   "metadata": {},
   "outputs": [],
   "source": [
    "import pandas as pd\n",
    "\n",
    "search_space = pd.read_excel('../20240424_trial_searchspace.xlsx').reset_index(drop=True).drop('Unnamed: 0', axis=1)\n"
   ]
  },
  {
   "cell_type": "markdown",
   "metadata": {},
   "source": [
    "## Outlines \n",
    "Load model, prepare prompts"
   ]
  },
  {
   "cell_type": "code",
   "execution_count": 11,
   "metadata": {},
   "outputs": [
    {
     "name": "stderr",
     "output_type": "stream",
     "text": [
      "/Users/mjc014/.pyenv/versions/3.10.14/lib/python3.10/site-packages/tqdm/auto.py:21: TqdmWarning: IProgress not found. Please update jupyter and ipywidgets. See https://ipywidgets.readthedocs.io/en/stable/user_install.html\n",
      "  from .autonotebook import tqdm as notebook_tqdm\n",
      "Downloading shards: 100%|██████████| 2/2 [03:55<00:00, 117.97s/it]\n",
      "Loading checkpoint shards: 100%|██████████| 2/2 [00:21<00:00, 10.92s/it]\n",
      "Special tokens have been added in the vocabulary, make sure the associated word embeddings are fine-tuned or trained.\n",
      "Special tokens have been added in the vocabulary, make sure the associated word embeddings are fine-tuned or trained.\n"
     ]
    }
   ],
   "source": [
    "import outlines\n",
    "\n",
    "model = outlines.models.transformers(\"Open-Orca/Mistral-7B-OpenOrca\")"
   ]
  },
  {
   "cell_type": "code",
   "execution_count": 12,
   "metadata": {},
   "outputs": [],
   "source": [
    "@outlines.prompt\n",
    "def identify_outcomes(clinical_trial):\n",
    "    \"\"\"You are a professional medical practicioner with a medical degree. Other doctors \\\n",
    "    send you clinical trial reports from which you need to extract:\n",
    "\n",
    "    1. The primary outcome measure and measured value\n",
    "    2. The therapeutic treatment regiment used to achieve the primary outcome\n",
    "    \n",
    "    # EXAMPLE\n",
    "    CLINICAL_TRIAL: The median overall survival was 9.0 months in the triplet-therapy group and 5.4 months in the control group (hazard ratio for death, 0.52; 95% confidence interval [CI], 0.39 to 0.70; P<0.001). The confirmed response rate was 26% (95% CI, 18 to 35) in the triplet-therapy group and 2% (95% CI, 0 to 7) in the control group (P<0.001). The median overall survival in the doublet-therapy group was 8.4 months (hazard ratio for death vs. control, 0.60; 95% CI, 0.45 to 0.79; P<0.001). Adverse events of grade 3 or higher occurred in 58% of patients in the triplet-therapy group, in 50% in the doublet-therapy group, and in 61% in the control group.\n",
    "    RESULT: {\"outcome\": \"Median overall survival\", \"value\": \"9.0 months\", \"regiment\":\"triplet-therapy group\"}\n",
    "\n",
    "    # OUTPUT INSTRUCTIONS    \n",
    "    \n",
    "    Answer in valid JSON. Here are different objects relevant for the output:\n",
    "\n",
    "    ClinicalOutcome:\n",
    "        outcome (str): name of the primary outcome measure\n",
    "        value (str): the value that was measured from the outcome\n",
    "        regiment (str): the therapeutic treatment strategy used to obtain the outcome\n",
    "\n",
    "    # OUTPUT\n",
    "    \n",
    "    CLINICAL_TRIAL: {{ clinical_trial }}\n",
    "    RESULT: \"\"\""
   ]
  },
  {
   "cell_type": "code",
   "execution_count": 14,
   "metadata": {},
   "outputs": [],
   "source": [
    "from pydantic import BaseModel\n",
    "\n",
    "# Notes: Outcome could be a giant Enum according to buckets? Value str to capture lots of values, but could enforce strict int\n",
    "class ClinicalOutcome(BaseModel):\n",
    "    outcome: str \n",
    "    value: str\n",
    "    regiment: str"
   ]
  },
  {
   "cell_type": "code",
   "execution_count": null,
   "metadata": {},
   "outputs": [],
   "source": [
    "prompts = [identify_outcomes(trial) for trial in list(search_space[5:35])]\n",
    "prompts[0:2]"
   ]
  },
  {
   "cell_type": "code",
   "execution_count": null,
   "metadata": {},
   "outputs": [],
   "source": [
    "generator = outlines.generate.json(model, ClinicalOutcome)\n",
    "\n",
    "results = generator(prompts)"
   ]
  }
 ],
 "metadata": {
  "kernelspec": {
   "display_name": "Python 3",
   "language": "python",
   "name": "python3"
  },
  "language_info": {
   "codemirror_mode": {
    "name": "ipython",
    "version": 3
   },
   "file_extension": ".py",
   "mimetype": "text/x-python",
   "name": "python",
   "nbconvert_exporter": "python",
   "pygments_lexer": "ipython3",
   "version": "3.10.14"
  }
 },
 "nbformat": 4,
 "nbformat_minor": 2
}

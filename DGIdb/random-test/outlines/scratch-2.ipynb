{
 "cells": [
  {
   "cell_type": "markdown",
   "metadata": {},
   "source": [
    "## FDA Data\n",
    "Load FDA label set, segment"
   ]
  },
  {
   "cell_type": "code",
   "execution_count": 9,
   "metadata": {},
   "outputs": [],
   "source": [
    "import pandas as pd\n",
    "\n",
    "search_space = pd.read_excel('../20240424_trial_searchspace.xlsx').reset_index(drop=True).drop('Unnamed: 0', axis=1)\n"
   ]
  },
  {
   "cell_type": "markdown",
   "metadata": {},
   "source": [
    "## Outlines \n",
    "Load model, prepare prompts"
   ]
  },
  {
   "cell_type": "code",
   "execution_count": null,
   "metadata": {},
   "outputs": [],
   "source": [
    "import outlines\n",
    "\n",
    "model = outlines.models.transformers(\"Open-Orca/Mistral-7B-OpenOrca\")"
   ]
  },
  {
   "cell_type": "code",
   "execution_count": null,
   "metadata": {},
   "outputs": [],
   "source": [
    "@outlines.prompt\n",
    "def identify_outcomes(clinical_trial):\n",
    "    \"\"\"You are a professional medical practicioner with a medical degree. Other doctors \\\n",
    "    send you clinical trial reports from which you need to extract:\n",
    "\n",
    "    1. The primary outcome measure and measured value\n",
    "    2. The therapeutic treatment regiment used to achieve the primary outcome\n",
    "    \n",
    "    # EXAMPLE\n",
    "    CLINICAL_TRIAL: The median overall survival was 9.0 months in the triplet-therapy group and 5.4 months in the control group (hazard ratio for death, 0.52; 95% confidence interval [CI], 0.39 to 0.70; P<0.001). The confirmed response rate was 26% (95% CI, 18 to 35) in the triplet-therapy group and 2% (95% CI, 0 to 7) in the control group (P<0.001). The median overall survival in the doublet-therapy group was 8.4 months (hazard ratio for death vs. control, 0.60; 95% CI, 0.45 to 0.79; P<0.001). Adverse events of grade 3 or higher occurred in 58% of patients in the triplet-therapy group, in 50% in the doublet-therapy group, and in 61% in the control group.\n",
    "    RESULT: {\"outcome\": \"Median overall survival\", \"value\": \"9.0 months\", \"regiment\":\"triplet-therapy group\"}\n",
    "\n",
    "    # OUTPUT INSTRUCTIONS    \n",
    "    \n",
    "    Answer in valid JSON. Here are different objects relevant for the output:\n",
    "\n",
    "    ClinicalOutcome:\n",
    "        outcome (str): name of the primary outcome measure\n",
    "        value (str): the value that was measured from the outcome\n",
    "        regiment (str): the therapeutic treatment strategy used to obtain the outcome\n",
    "\n",
    "    # OUTPUT\n",
    "    \n",
    "    CLINICAL_TRIAL: {{ clinical_trial }}\n",
    "    RESULT: \"\"\""
   ]
  },
  {
   "cell_type": "code",
   "execution_count": 1,
   "metadata": {},
   "outputs": [],
   "source": [
    "from pydantic import BaseModel\n",
    "\n",
    "# Notes: Outcome could be a giant Enum according to buckets? Value str to capture lots of values, but could enforce strict int\n",
    "class ClinicalOutcome:\n",
    "    outcome: str \n",
    "    value: str\n",
    "    regiment: str"
   ]
  },
  {
   "cell_type": "code",
   "execution_count": 10,
   "metadata": {},
   "outputs": [
    {
     "ename": "NameError",
     "evalue": "name 'identify_outcomes' is not defined",
     "output_type": "error",
     "traceback": [
      "\u001b[0;31m---------------------------------------------------------------------------\u001b[0m",
      "\u001b[0;31mNameError\u001b[0m                                 Traceback (most recent call last)",
      "Cell \u001b[0;32mIn[10], line 1\u001b[0m\n\u001b[0;32m----> 1\u001b[0m prompts \u001b[38;5;241m=\u001b[39m [identify_outcomes(trial) \u001b[38;5;28;01mfor\u001b[39;00m trial \u001b[38;5;129;01min\u001b[39;00m \u001b[38;5;28mlist\u001b[39m(search_space[\u001b[38;5;241m5\u001b[39m:\u001b[38;5;241m35\u001b[39m])]\n",
      "Cell \u001b[0;32mIn[10], line 1\u001b[0m, in \u001b[0;36m<listcomp>\u001b[0;34m(.0)\u001b[0m\n\u001b[0;32m----> 1\u001b[0m prompts \u001b[38;5;241m=\u001b[39m [\u001b[43midentify_outcomes\u001b[49m(trial) \u001b[38;5;28;01mfor\u001b[39;00m trial \u001b[38;5;129;01min\u001b[39;00m \u001b[38;5;28mlist\u001b[39m(search_space[\u001b[38;5;241m5\u001b[39m:\u001b[38;5;241m35\u001b[39m])]\n",
      "\u001b[0;31mNameError\u001b[0m: name 'identify_outcomes' is not defined"
     ]
    }
   ],
   "source": [
    "prompts = [identify_outcomes(trial) for trial in list(search_space[5:35])]\n",
    "prompts[0:2]"
   ]
  },
  {
   "cell_type": "code",
   "execution_count": null,
   "metadata": {},
   "outputs": [],
   "source": [
    "generator = outlines.generate.json(model, ClinicalOutcome)\n",
    "\n",
    "results = generator(prompts)"
   ]
  }
 ],
 "metadata": {
  "kernelspec": {
   "display_name": "Python 3",
   "language": "python",
   "name": "python3"
  },
  "language_info": {
   "codemirror_mode": {
    "name": "ipython",
    "version": 3
   },
   "file_extension": ".py",
   "mimetype": "text/x-python",
   "name": "python",
   "nbconvert_exporter": "python",
   "pygments_lexer": "ipython3",
   "version": "3.10.14"
  }
 },
 "nbformat": 4,
 "nbformat_minor": 2
}

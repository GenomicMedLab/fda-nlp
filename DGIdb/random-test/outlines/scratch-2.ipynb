{
 "cells": [
  {
   "cell_type": "code",
   "execution_count": 1,
   "metadata": {},
   "outputs": [],
   "source": [
    "from tqdm import tqdm\n",
    "# Alex can I have $50 in AWS Bedrock credits to test some LLM stuff"
   ]
  },
  {
   "cell_type": "markdown",
   "metadata": {},
   "source": [
    "##  Extracting Clinical Outcomes w/ Outlines\n",
    "Utilizing the *outlines* package to support a Pydantic model and enforce structure in generated text. By providing a Pydantic Model of what a therapeutic outcome object should be, can we prompt for outcomes from a provided clinical trials section of an FDA label (faux-RAG).   "
   ]
  },
  {
   "cell_type": "markdown",
   "metadata": {},
   "source": [
    "### Test Run using Outlines\n",
    "Load FDA label data as search space. \n",
    "\n"
   ]
  },
  {
   "cell_type": "code",
   "execution_count": 2,
   "metadata": {},
   "outputs": [],
   "source": [
    "import pandas as pd\n",
    "\n",
    "search_space = pd.read_excel('../20240424_trial_searchspace.xlsx').reset_index(drop=True).drop('Unnamed: 0', axis=1)\n"
   ]
  },
  {
   "cell_type": "markdown",
   "metadata": {},
   "source": [
    "Load model. Using Orca this time:\n",
    "\n",
    ">Developed by some of the researchers behind Llama, the Mistral large language models are the gold standard for accessible and performant open source models.  \n",
    ">Mistral AI offers 7B and a mixture-of-experts 8x7B open source models competitive or better than commercial models of similar size. Available under the Apache 2.0 license, the Mistral models are now also available via most cloud vendors. After releasing their open source models, Mistral AI has also begun offering Small, Large, and Embed models via their business API.\n",
    "  \n",
    ">Orca is a descendant of LLaMA developed by Microsoft with finetuning on explanation traces obtained from GPT-4.  \n",
    ">Orca-13B is a LLM developed by Microsoft. It is based on LLaMA with finetuning on complex explanation traces obtained from GPT-4. By using rich signals, Orca surpasses the performance of models such as Vicuna-13B on complex tasks. However, given its model backbone and the data used for its finetuning, Orca is under noncommercial use.  \n",
    "\n",
    "Orca is a direct fine-tune of Mistral AI\n",
    "https://news.ycombinator.com/item?id=37743781, https://huggingface.co/Open-Orca/Mistral-7B-OpenOrca \n",
    ">We have used our own OpenOrca dataset to fine-tune on top of Mistral 7B. This dataset is our attempt to reproduce the dataset generated for Microsoft Research's Orca Paper. We use OpenChat packing, trained with Axolotl.\n",
    ">\n",
    ">This release is trained on a curated filtered subset of most of our GPT-4 augmented data. It is the same subset of our data as was used in our OpenOrcaxOpenChat-Preview2-13B model.\n",
    "\n",
    "\n"
   ]
  },
  {
   "cell_type": "code",
   "execution_count": 3,
   "metadata": {},
   "outputs": [
    {
     "name": "stderr",
     "output_type": "stream",
     "text": [
      "/Users/mjc014/.pyenv/versions/3.10.14/lib/python3.10/site-packages/tqdm/auto.py:21: TqdmWarning: IProgress not found. Please update jupyter and ipywidgets. See https://ipywidgets.readthedocs.io/en/stable/user_install.html\n",
      "  from .autonotebook import tqdm as notebook_tqdm\n",
      "Loading checkpoint shards: 100%|██████████| 2/2 [00:17<00:00,  8.85s/it]\n",
      "Special tokens have been added in the vocabulary, make sure the associated word embeddings are fine-tuned or trained.\n",
      "Special tokens have been added in the vocabulary, make sure the associated word embeddings are fine-tuned or trained.\n"
     ]
    }
   ],
   "source": [
    "import outlines\n",
    "\n",
    "model = outlines.models.transformers(\"Open-Orca/Mistral-7B-OpenOrca\")\n",
    "# TODO: instruct vs OpenOrca"
   ]
  },
  {
   "cell_type": "markdown",
   "metadata": {},
   "source": [
    "Create a function to generate prompts. This will make it just a little bit easier to keep track of the prompts being used (they are huge) and directly insert each label into them outside of the main loop."
   ]
  },
  {
   "cell_type": "code",
   "execution_count": 4,
   "metadata": {},
   "outputs": [],
   "source": [
    "@outlines.prompt #TODO: add value to description (break out point 1)\n",
    "def identify_outcomes(clinical_trial):\n",
    "    \"\"\"You are a professional medical practicioner with a medical degree. Other doctors \\\n",
    "    send you clinical trial reports from which you need to extract:\n",
    "\n",
    "    1. The primary outcome measure and measured value\n",
    "    2. The therapeutic treatment regiment used to achieve the primary outcome\n",
    "    \n",
    "    # EXAMPLE\n",
    "    CLINICAL_TRIAL: The median overall survival was 9.0 months in the triplet-therapy group and 5.4 months in the control group (hazard ratio for death, 0.52; 95% confidence interval [CI], 0.39 to 0.70; P<0.001). The confirmed response rate was 26% (95% CI, 18 to 35) in the triplet-therapy group and 2% (95% CI, 0 to 7) in the control group (P<0.001). The median overall survival in the doublet-therapy group was 8.4 months (hazard ratio for death vs. control, 0.60; 95% CI, 0.45 to 0.79; P<0.001). Adverse events of grade 3 or higher occurred in 58% of patients in the triplet-therapy group, in 50% in the doublet-therapy group, and in 61% in the control group.\n",
    "    RESULT: {\"outcome\": \"Median overall survival\", \"value\": \"9.0 months\", \"regiment\":\"triplet-therapy group\"}\n",
    "\n",
    "    # OUTPUT INSTRUCTIONS    \n",
    "    \n",
    "    Answer in valid JSON. Here are different objects relevant for the output:\n",
    "\n",
    "    ClinicalOutcome:\n",
    "        outcome (str): name of the primary outcome measure\n",
    "        value (str): the value that was measured from the outcome\n",
    "        regiment (str): the therapeutic treatment strategy used to obtain the outcome\n",
    "\n",
    "    # OUTPUT\n",
    "    \n",
    "    CLINICAL_TRIAL: {{ clinical_trial }}\n",
    "    RESULT: \"\"\""
   ]
  },
  {
   "cell_type": "markdown",
   "metadata": {},
   "source": [
    "Create a pydantic model that can be representative of a therapeutic outcome object. The model below is pretty basic and just contains three fields expected to be strings. The intent is that this model will serve as the schema that the LLM needs to 'fill in' given the context, search space, and one-shot example in the prompt."
   ]
  },
  {
   "cell_type": "code",
   "execution_count": 5,
   "metadata": {},
   "outputs": [],
   "source": [
    "from pydantic import BaseModel\n",
    "\n",
    "# Notes: Outcome could be a giant Enum according to buckets? Value str to capture lots of values, but could enforce strict int\n",
    "class ClinicalOutcome(BaseModel):\n",
    "    outcome: str \n",
    "    value: str\n",
    "    regiment: str"
   ]
  },
  {
   "cell_type": "markdown",
   "metadata": {},
   "source": [
    "Create list of prompts using the prompt function we made."
   ]
  },
  {
   "cell_type": "code",
   "execution_count": 34,
   "metadata": {},
   "outputs": [
    {
     "data": {
      "text/plain": [
       "['You are a professional medical practicioner with a medical degree. Other doctors send you clinical trial reports from which you need to extract:\\n\\n1. The primary outcome measure and measured value\\n2. The therapeutic treatment regiment used to achieve the primary outcome\\n\\n# EXAMPLE\\nCLINICAL_TRIAL: The median overall survival was 9.0 months in the triplet-therapy group and 5.4 months in the control group (hazard ratio for death, 0.52; 95% confidence interval [CI], 0.39 to 0.70; P<0.001). The confirmed response rate was 26% (95% CI, 18 to 35) in the triplet-therapy group and 2% (95% CI, 0 to 7) in the control group (P<0.001). The median overall survival in the doublet-therapy group was 8.4 months (hazard ratio for death vs. control, 0.60; 95% CI, 0.45 to 0.79; P<0.001). Adverse events of grade 3 or higher occurred in 58% of patients in the triplet-therapy group, in 50% in the doublet-therapy group, and in 61% in the control group.\\nRESULT: {\"outcome\": \"Median overall survival\", \"value\": \"9.0 months\", \"regiment\":\"triplet-therapy group\"}\\n\\n# OUTPUT INSTRUCTIONS Answer in valid JSON. Here are different objects relevant for the output:\\n\\nClinicalOutcome:\\n    outcome (str): name of the primary outcome measure\\n    value (str): the value that was measured from the outcome\\n    regiment (str): the therapeutic treatment strategy used to obtain the outcome\\n\\n# OUTPUT\\n\\nCLINICAL_TRIAL: Clinical Studies Felodipine produces dose related decreases in systolic and diastolic blood pressure as demonstrated in six placebo-controlled, dose response studies using either immediate-release or extended-release dosage forms. These studies enrolled over 800 patients on active treatment, at total daily doses ranging from 2.5 mg to 20 mg. In those studies felodipine was administered either as monotherapy or was added to beta-blockers. The results of the two studies with felodipine extended-release tablets given once daily as monotherapy are shown in the table below:\\nRESULT: ',\n",
       " 'You are a professional medical practicioner with a medical degree. Other doctors send you clinical trial reports from which you need to extract:\\n\\n1. The primary outcome measure and measured value\\n2. The therapeutic treatment regiment used to achieve the primary outcome\\n\\n# EXAMPLE\\nCLINICAL_TRIAL: The median overall survival was 9.0 months in the triplet-therapy group and 5.4 months in the control group (hazard ratio for death, 0.52; 95% confidence interval [CI], 0.39 to 0.70; P<0.001). The confirmed response rate was 26% (95% CI, 18 to 35) in the triplet-therapy group and 2% (95% CI, 0 to 7) in the control group (P<0.001). The median overall survival in the doublet-therapy group was 8.4 months (hazard ratio for death vs. control, 0.60; 95% CI, 0.45 to 0.79; P<0.001). Adverse events of grade 3 or higher occurred in 58% of patients in the triplet-therapy group, in 50% in the doublet-therapy group, and in 61% in the control group.\\nRESULT: {\"outcome\": \"Median overall survival\", \"value\": \"9.0 months\", \"regiment\":\"triplet-therapy group\"}\\n\\n# OUTPUT INSTRUCTIONS Answer in valid JSON. Here are different objects relevant for the output:\\n\\nClinicalOutcome:\\n    outcome (str): name of the primary outcome measure\\n    value (str): the value that was measured from the outcome\\n    regiment (str): the therapeutic treatment strategy used to obtain the outcome\\n\\n# OUTPUT\\n\\nCLINICAL_TRIAL: 14 CLINICAL STUDIES Asclera was evaluated in a multicenter, randomized, double-blind, placebo- and comparator-controlled trial (EASI-study) in patients with spider or reticular varicose veins. A total of 338 patients were treated with Asclera [0.5% for spider veins (n=94), 1% for reticular veins (n=86)], sodium tetradecyl sulfate (STS) 1% (n=105), or placebo (0.9% isotonic saline solution) (n=53) for either spider or reticular veins. Patients were predominately female, ranging in age from 19 to 70 years. All of them received an intravenous injection in the first treatment session; repeat injections were given three and six weeks later if the previous injection was evaluated as unsuccessful (defined as 1, 2 or 3 on a 5-point scale, see below). Patients returned at 12 and 26 weeks after the last injection for final assessments. The primary effectiveness endpoint was improvement of veins judged by a blinded panel. Digital images of the selected treatment area were taken prior to injection, compared with those taken at 12 weeks post-treatment, and rated on a 5-point scale (1 = worse than before, 2 = same as before, 3 = moderate improvement, 4 = good improvement, 5 = complete treatment success); results are shown in Table 2. Table 2: Improvement of veins in digital photographs after 12 weeks and 26 weeks Treatment Group Polidocanol (n=155) STS (n=105) Placebo (n=53) Digital Photograph Scores at 12 weeks Mean ± SD 4.5 p <0.0001 compared to placebo (Wilcoxon-Mann-Whitney test) ± 0.7 4.5 ± 0.7 2.2 ± 0.7 Digital Photograph Scores at 26 weeks Mean ± SD 4.5 ± 0.7 4.5 ± 0.8 2.2 ± 0.7 The secondary efficacy criterion was the rate of treatment success, pre-defined as a score of 4 or 5 with patients scoring 1, 2, or 3 considered treatment failures; results are shown in Table 3. Table 3: Treatment success rates at 12 weeks and 26 weeks Treatment Success Treatment success: Yes= Grade 4 to 5, No= Grade 1 to 3; derived from median of evaluation; Polidocanol (n=155) STS (n=105) Placebo (n=53) At 12 weeks (Visit 4) Yes 95% p<0.0001 compared to placebo. 92% 8% No 5% 8% 92% Missing 0.6% 0% 0% At 26 weeks (Visit 5) Yes 95% 91% 6% No 5% 9% 94% At 12 and 26 weeks, patients\\' judgement of the results was assessed by showing them the digital images of their treatment area taken at baseline and asking them to rate their satisfaction with their treatment using a verbal rating scale (1 = very unsatisfied; 2 = somewhat unsatisfied; 3 = slightly satisfied; 4 = satisfied and 5 = very satisfied); results are shown in Table 4. Table 4: Patient satisfaction after 12 weeks and 26 weeks Polidocanol (N=155) STS (N=105) Placebo (N=53) Patient satisfaction with treatment after 12 weeks (Visit 4) Satisfied or very satisfied 87% p <0.0001 compared to STS and placebo 64% 14% Patient satisfaction with treatment after 26 weeks (Visit 5) Satisfied or very satisfied 84% 63% 16%\\nRESULT: ']"
      ]
     },
     "execution_count": 34,
     "metadata": {},
     "output_type": "execute_result"
    }
   ],
   "source": [
    "prompts = [identify_outcomes(trial) for trial in list(search_space['clinical_studies'][68:100])]\n",
    "prompts[0:2]"
   ]
  },
  {
   "cell_type": "markdown",
   "metadata": {},
   "source": [
    "Combine the model and the pydantic schema to create a generator object"
   ]
  },
  {
   "cell_type": "code",
   "execution_count": 35,
   "metadata": {},
   "outputs": [],
   "source": [
    "generator = outlines.generate.json(model, ClinicalOutcome)"
   ]
  },
  {
   "cell_type": "markdown",
   "metadata": {},
   "source": [
    "Run through all prompts"
   ]
  },
  {
   "cell_type": "code",
   "execution_count": 36,
   "metadata": {},
   "outputs": [
    {
     "name": "stderr",
     "output_type": "stream",
     "text": [
      "  3%|▎         | 1/32 [53:45<27:46:24, 3225.32s/it]"
     ]
    },
    {
     "name": "stdout",
     "output_type": "stream",
     "text": [
      "You are a professional medical practicioner with a medical degree. Other doctors send you clinical trial reports from which you need to extract:\n",
      "\n",
      "1. The primary outcome measure and measured value\n",
      "2. The therapeutic treatment regiment used to achieve the primary outcome\n",
      "\n",
      "# EXAMPLE\n",
      "CLINICAL_TRIAL: The median overall survival was 9.0 months in the triplet-therapy group and 5.4 months in the control group (hazard ratio for death, 0.52; 95% confidence interval [CI], 0.39 to 0.70; P<0.001). The confirmed response rate was 26% (95% CI, 18 to 35) in the triplet-therapy group and 2% (95% CI, 0 to 7) in the control group (P<0.001). The median overall survival in the doublet-therapy group was 8.4 months (hazard ratio for death vs. control, 0.60; 95% CI, 0.45 to 0.79; P<0.001). Adverse events of grade 3 or higher occurred in 58% of patients in the triplet-therapy group, in 50% in the doublet-therapy group, and in 61% in the control group.\n",
      "RESULT: {\"outcome\": \"Median overall survival\", \"value\": \"9.0 months\", \"regiment\":\"triplet-therapy group\"}\n",
      "\n",
      "# OUTPUT INSTRUCTIONS Answer in valid JSON. Here are different objects relevant for the output:\n",
      "\n",
      "ClinicalOutcome:\n",
      "    outcome (str): name of the primary outcome measure\n",
      "    value (str): the value that was measured from the outcome\n",
      "    regiment (str): the therapeutic treatment strategy used to obtain the outcome\n",
      "\n",
      "# OUTPUT\n",
      "\n",
      "CLINICAL_TRIAL: Clinical Studies Felodipine produces dose related decreases in systolic and diastolic blood pressure as demonstrated in six placebo-controlled, dose response studies using either immediate-release or extended-release dosage forms. These studies enrolled over 800 patients on active treatment, at total daily doses ranging from 2.5 mg to 20 mg. In those studies felodipine was administered either as monotherapy or was added to beta-blockers. The results of the two studies with felodipine extended-release tablets given once daily as monotherapy are shown in the table below:\n",
      "RESULT: \n",
      "outcome='Blood Pressure' value='decreased blood pressure' regiment='Felodipine treatment'\n"
     ]
    },
    {
     "name": "stderr",
     "output_type": "stream",
     "text": [
      "  6%|▋         | 2/32 [1:46:13<26:29:56, 3179.89s/it]"
     ]
    },
    {
     "name": "stdout",
     "output_type": "stream",
     "text": [
      "You are a professional medical practicioner with a medical degree. Other doctors send you clinical trial reports from which you need to extract:\n",
      "\n",
      "1. The primary outcome measure and measured value\n",
      "2. The therapeutic treatment regiment used to achieve the primary outcome\n",
      "\n",
      "# EXAMPLE\n",
      "CLINICAL_TRIAL: The median overall survival was 9.0 months in the triplet-therapy group and 5.4 months in the control group (hazard ratio for death, 0.52; 95% confidence interval [CI], 0.39 to 0.70; P<0.001). The confirmed response rate was 26% (95% CI, 18 to 35) in the triplet-therapy group and 2% (95% CI, 0 to 7) in the control group (P<0.001). The median overall survival in the doublet-therapy group was 8.4 months (hazard ratio for death vs. control, 0.60; 95% CI, 0.45 to 0.79; P<0.001). Adverse events of grade 3 or higher occurred in 58% of patients in the triplet-therapy group, in 50% in the doublet-therapy group, and in 61% in the control group.\n",
      "RESULT: {\"outcome\": \"Median overall survival\", \"value\": \"9.0 months\", \"regiment\":\"triplet-therapy group\"}\n",
      "\n",
      "# OUTPUT INSTRUCTIONS Answer in valid JSON. Here are different objects relevant for the output:\n",
      "\n",
      "ClinicalOutcome:\n",
      "    outcome (str): name of the primary outcome measure\n",
      "    value (str): the value that was measured from the outcome\n",
      "    regiment (str): the therapeutic treatment strategy used to obtain the outcome\n",
      "\n",
      "# OUTPUT\n",
      "\n",
      "CLINICAL_TRIAL: 14 CLINICAL STUDIES Asclera was evaluated in a multicenter, randomized, double-blind, placebo- and comparator-controlled trial (EASI-study) in patients with spider or reticular varicose veins. A total of 338 patients were treated with Asclera [0.5% for spider veins (n=94), 1% for reticular veins (n=86)], sodium tetradecyl sulfate (STS) 1% (n=105), or placebo (0.9% isotonic saline solution) (n=53) for either spider or reticular veins. Patients were predominately female, ranging in age from 19 to 70 years. All of them received an intravenous injection in the first treatment session; repeat injections were given three and six weeks later if the previous injection was evaluated as unsuccessful (defined as 1, 2 or 3 on a 5-point scale, see below). Patients returned at 12 and 26 weeks after the last injection for final assessments. The primary effectiveness endpoint was improvement of veins judged by a blinded panel. Digital images of the selected treatment area were taken prior to injection, compared with those taken at 12 weeks post-treatment, and rated on a 5-point scale (1 = worse than before, 2 = same as before, 3 = moderate improvement, 4 = good improvement, 5 = complete treatment success); results are shown in Table 2. Table 2: Improvement of veins in digital photographs after 12 weeks and 26 weeks Treatment Group Polidocanol (n=155) STS (n=105) Placebo (n=53) Digital Photograph Scores at 12 weeks Mean ± SD 4.5 p <0.0001 compared to placebo (Wilcoxon-Mann-Whitney test) ± 0.7 4.5 ± 0.7 2.2 ± 0.7 Digital Photograph Scores at 26 weeks Mean ± SD 4.5 ± 0.7 4.5 ± 0.8 2.2 ± 0.7 The secondary efficacy criterion was the rate of treatment success, pre-defined as a score of 4 or 5 with patients scoring 1, 2, or 3 considered treatment failures; results are shown in Table 3. Table 3: Treatment success rates at 12 weeks and 26 weeks Treatment Success Treatment success: Yes= Grade 4 to 5, No= Grade 1 to 3; derived from median of evaluation; Polidocanol (n=155) STS (n=105) Placebo (n=53) At 12 weeks (Visit 4) Yes 95% p<0.0001 compared to placebo. 92% 8% No 5% 8% 92% Missing 0.6% 0% 0% At 26 weeks (Visit 5) Yes 95% 91% 6% No 5% 9% 94% At 12 and 26 weeks, patients' judgement of the results was assessed by showing them the digital images of their treatment area taken at baseline and asking them to rate their satisfaction with their treatment using a verbal rating scale (1 = very unsatisfied; 2 = somewhat unsatisfied; 3 = slightly satisfied; 4 = satisfied and 5 = very satisfied); results are shown in Table 4. Table 4: Patient satisfaction after 12 weeks and 26 weeks Polidocanol (N=155) STS (N=105) Placebo (N=53) Patient satisfaction with treatment after 12 weeks (Visit 4) Satisfied or very satisfied 87% p <0.0001 compared to STS and placebo 64% 14% Patient satisfaction with treatment after 26 weeks (Visit 5) Satisfied or very satisfied 84% 63% 16%\n",
      "RESULT: \n",
      "outcome='Improvement of veins' value='4.5' regiment='Polidocanol'\n"
     ]
    },
    {
     "name": "stderr",
     "output_type": "stream",
     "text": [
      "  9%|▉         | 3/32 [2:38:31<25:27:36, 3160.58s/it]"
     ]
    },
    {
     "name": "stdout",
     "output_type": "stream",
     "text": [
      "You are a professional medical practicioner with a medical degree. Other doctors send you clinical trial reports from which you need to extract:\n",
      "\n",
      "1. The primary outcome measure and measured value\n",
      "2. The therapeutic treatment regiment used to achieve the primary outcome\n",
      "\n",
      "# EXAMPLE\n",
      "CLINICAL_TRIAL: The median overall survival was 9.0 months in the triplet-therapy group and 5.4 months in the control group (hazard ratio for death, 0.52; 95% confidence interval [CI], 0.39 to 0.70; P<0.001). The confirmed response rate was 26% (95% CI, 18 to 35) in the triplet-therapy group and 2% (95% CI, 0 to 7) in the control group (P<0.001). The median overall survival in the doublet-therapy group was 8.4 months (hazard ratio for death vs. control, 0.60; 95% CI, 0.45 to 0.79; P<0.001). Adverse events of grade 3 or higher occurred in 58% of patients in the triplet-therapy group, in 50% in the doublet-therapy group, and in 61% in the control group.\n",
      "RESULT: {\"outcome\": \"Median overall survival\", \"value\": \"9.0 months\", \"regiment\":\"triplet-therapy group\"}\n",
      "\n",
      "# OUTPUT INSTRUCTIONS Answer in valid JSON. Here are different objects relevant for the output:\n",
      "\n",
      "ClinicalOutcome:\n",
      "    outcome (str): name of the primary outcome measure\n",
      "    value (str): the value that was measured from the outcome\n",
      "    regiment (str): the therapeutic treatment strategy used to obtain the outcome\n",
      "\n",
      "# OUTPUT\n",
      "\n",
      "CLINICAL_TRIAL: 14 CLINICAL STUDIES Seventy-eight (78) pediatric patients with ALL were exposed to clofarabine. Seventy (70) of the patients received the recommended pediatric dose of clofarabine 52 mg/m 2 daily for 5 days as an intravenous infusion. Dose Escalation Study in Pediatric Patients with Hematologic Malignancies The safety and efficacy of clofarabine were evaluated in pediatric patients with refractory or relapsed hematologic malignancies in an open-label, dose-escalation, noncomparative study (NCT00042341, A Phase II, Open Label Study of Clofarabine in Pediatric Patients With Refractory or Relapsed Acute Lymphoblastic Leukemia). The starting dose of clofarabine was 11.25 mg/m 2 /day intravenous infusion daily × 5 and escalated to 70 mg/m 2 /day intravenous infusion daily × 5. This dosing schedule was repeated every 2 to 6 weeks depending on toxicity and response. Nine of 17 ALL patients were treated with clofarabine 52 mg/m 2 daily for 5 days. In the 17 ALL patients there were 2 complete remissions (12%) and 2 partial remissions (12%) at varying doses. Dose-limiting toxicities in this study were reversible hyperbilirubinemia and elevated transaminase levels and skin rash, experienced at 70 mg/m 2 . As a result of this study, the recommended dose for subsequent study in pediatric patients was determined to be 52 mg/m 2 /day for 5 days. Single-Arm Study in Pediatric ALL Clofarabine was evaluated in an open-label, single-arm study of 61 pediatric patients with relapsed/refractory ALL. Patients received a dose of 52 mg/m 2 intravenous infusion over 2 hours for 5 consecutive days repeated every 2 to 6 weeks for up to 12 cycles. There was no dose escalation in this study. All patients had disease that had relapsed after and/or was refractory to two or more prior therapies. Most patients, 38/61 (62%), had received >2 prior regimens and 18/61 (30%) of the patients had undergone at least 1 prior transplant. The median age of the treated patients was 12 years, 61% were male, 39% were female, 44% were Caucasian, 38% were Hispanic, 12% were African-American, 2% were Asian and 5% were Other race. The overall remission (OR) rate (Complete Remission [CR] + CR in the absence of total platelet recovery [CRp]) was evaluated. CR was defined as no evidence of circulating blasts or extramedullary disease, an M1 bone marrow (≤5% blasts), and recovery of peripheral counts [platelets ≥100 × 10 9 /L and absolute neutrophil count (ANC) ≥1× 10 9 /L]. CRp was defined as meeting all criteria for CR except for recovery of platelet counts to ≥100 × 10 9 /L. Partial Response (PR) was also determined, defined as complete disappearance of circulating blasts, an M2 bone marrow (≥5% and ≤25% blasts), and appearance of normal progenitor cells or an M1 marrow that did not qualify for CR or CRp. Duration of remission was also evaluated. Transplantation rate was not a study endpoint. Response rates for these studies were determined by an unblinded Independent Response Review Panel (IRRP). Table 3 summarizes results for the pediatric ALL study. Responses were seen in both pre-B and T-cell immunophenotypes of ALL. The median cumulative dose was 530 mg (range 29–2815 mg) in 1 (41%), 2 (44%) or 3 or more (15%) cycles. The median number of cycles was 2 (range 1–12). The median time between cycles was 28 days with a range of 12 to 55 days. Table 3: Results in Single-Arm Pediatric ALL N=61 CR = Complete response CRp = Complete response without platelet recovery CR % [95% CI] 11.5 (4.7, 22.2) CRp % [95% CI] 8.2 (2.7, 18.1) Median Duration of CR plus CRp (range in weeks) Does not include 4 patients who were transplanted (duration of response, including response after transplant, in these 4 patients was 28.6 to 107.7 weeks). 10.7 (4.3 to 58.6) Six (9.8%) patients achieved a PR; the clinical relevance of a PR in this setting is unknown. Of 35 patients who were refractory to their immediately preceding induction regimen, 6 (17%) achieved a CR or CRp. Of 18 patients who had at least 1 prior hematopoietic stem cell transplant (HSCT), 5 (28%) achieved a CR or CRp. Among the 12 patients who achieved at least a CRp, 6 patients achieved the best response after 1 cycle of clofarabine, 5 patients required 2 courses and 1 patient achieved a CR after 3 cycles of therapy.\n",
      "RESULT: \n",
      "outcome='Median overall survival' value='9.0 months' regiment='triplet-therapy group'\n"
     ]
    },
    {
     "name": "stderr",
     "output_type": "stream",
     "text": [
      " 12%|█▎        | 4/32 [3:41:04<26:24:11, 3394.70s/it]"
     ]
    },
    {
     "name": "stdout",
     "output_type": "stream",
     "text": [
      "You are a professional medical practicioner with a medical degree. Other doctors send you clinical trial reports from which you need to extract:\n",
      "\n",
      "1. The primary outcome measure and measured value\n",
      "2. The therapeutic treatment regiment used to achieve the primary outcome\n",
      "\n",
      "# EXAMPLE\n",
      "CLINICAL_TRIAL: The median overall survival was 9.0 months in the triplet-therapy group and 5.4 months in the control group (hazard ratio for death, 0.52; 95% confidence interval [CI], 0.39 to 0.70; P<0.001). The confirmed response rate was 26% (95% CI, 18 to 35) in the triplet-therapy group and 2% (95% CI, 0 to 7) in the control group (P<0.001). The median overall survival in the doublet-therapy group was 8.4 months (hazard ratio for death vs. control, 0.60; 95% CI, 0.45 to 0.79; P<0.001). Adverse events of grade 3 or higher occurred in 58% of patients in the triplet-therapy group, in 50% in the doublet-therapy group, and in 61% in the control group.\n",
      "RESULT: {\"outcome\": \"Median overall survival\", \"value\": \"9.0 months\", \"regiment\":\"triplet-therapy group\"}\n",
      "\n",
      "# OUTPUT INSTRUCTIONS Answer in valid JSON. Here are different objects relevant for the output:\n",
      "\n",
      "ClinicalOutcome:\n",
      "    outcome (str): name of the primary outcome measure\n",
      "    value (str): the value that was measured from the outcome\n",
      "    regiment (str): the therapeutic treatment strategy used to obtain the outcome\n",
      "\n",
      "# OUTPUT\n",
      "\n",
      "CLINICAL_TRIAL: 14 CLINICAL STUDIES 14.1 ADHD Studies in Children and Adolescents Acute Studies — The effectiveness of atomoxetine in the treatment of ADHD was established in 4 randomized, double-blind, placebo-controlled studies of pediatric patients (ages 6 to 18). Approximately one-third of the patients met DSM-IV criteria for inattentive subtype and two-thirds met criteria for both inattentive and hyperactive/impulsive subtypes. Signs and symptoms of ADHD were evaluated by a comparison of mean change from baseline to endpoint for atomoxetine- and placebo-treated patients using an intent-to-treat analysis of the primary outcome measure, the investigator administered and scored ADHD Rating Scale-IV-Parent Version (ADHDRS) total score including hyperactive/impulsive and inattentive subscales. Each item on the ADHDRS maps directly to one symptom criterion for ADHD in the DSM-IV. In Study 1, an 8-week randomized, double-blind, placebo-controlled, dose-response, acute treatment study of children and adolescents aged 8 to 18 (N=297), patients received either a fixed dose of atomoxetine (0.5, 1.2, or 1.8 mg/kg/day) or placebo. Atomoxetine was administered as a divided dose in the early morning and late afternoon/early evening. At the 2 higher doses, improvements in ADHD symptoms were statistically significantly superior in atomoxetine-treated patients compared with placebo-treated patients as measured on the ADHDRS scale. The 1.8 mg/kg/day atomoxetine dose did not provide any additional benefit over that observed with the 1.2 mg/kg/day dose. The 0.5 mg/kg/day atomoxetine dose was not superior to placebo. In Study 2, a 6-week randomized, double-blind, placebo-controlled, acute treatment study of children and adolescents aged 6 to 16 (N=171), patients received either atomoxetine or placebo. Atomoxetine was administered as a single dose in the early morning and titrated on a weight-adjusted basis according to clinical response, up to a maximum dose of 1.5 mg/kg/day. The mean final dose of atomoxetine was approximately 1.3 mg/kg/day. ADHD symptoms were statistically significantly improved on atomoxetine compared with placebo, as measured on the ADHDRS scale. This study shows that atomoxetine is effective when administered once daily in the morning. In 2 identical, 9-week, acute, randomized, double-blind, placebo-controlled studies of children aged 7 to 13 (Study 3, N=147; Study 4, N=144), atomoxetine and methylphenidate were compared with placebo. Atomoxetine was administered as a divided dose in the early morning and late afternoon (after school) and titrated on a weight-adjusted basis according to clinical response. The maximum recommended atomoxetine dose was 2 mg/kg/day. The mean final dose of atomoxetine for both studies was approximately 1.6 mg/kg/day. In both studies, ADHD symptoms statistically significantly improved more on atomoxetine than on placebo, as measured on the ADHDRS scale. Examination of population subsets based on gender and age (<12 and 12 to 17) did not reveal any differential responsiveness on the basis of these subgroupings. There was not sufficient exposure of ethnic groups other than Caucasian to allow exploration of differences in these subgroups. Maintenance Study — The effectiveness of atomoxetine in the maintenance treatment of ADHD was established in an outpatient study of children and adolescents (ages 6 to 15 years). Patients meeting DSM-IV criteria for ADHD who showed continuous response for about 4 weeks during an initial 10 week open-label treatment phase with atomoxetine (1.2 to 1.8 mg/kg/day) were randomized to continuation of their current dose of atomoxetine (N=292) or to placebo (N=124) under double-blind treatment for observation of relapse. Response during the open-label phase was defined as CGI-ADHD-S score ≤2 and a reduction of at least 25% from baseline in ADHDRS-IV-Parent: Inv total score. Patients who were assigned to atomoxetine and showed continuous response for approximately 8 months during the first double-blind treatment phase were again randomized to continuation of their current dose of atomoxetine (N=81) or to placebo (N=82) under double-blind treatment for observation of relapse. Relapse during the double blind phase was defined as CGI-ADHD-S score increases of at least 2 from the end of open-label phase and ADHDRS-IV-Parent:Inv total score returns to ≥90% of study entry score for 2 consecutive visits. In both double-blind phases, patients receiving continued atomoxetine treatment experienced significantly longer times to relapse than those receiving placebo. 14.2 ADHD Studies in Adults The effectiveness of atomoxetine in the treatment of ADHD was established in 2 randomized, double-blind, placebo-controlled clinical studies of adult patients, age 18 and older, who met DSM-IV criteria for ADHD. Signs and symptoms of ADHD were evaluated using the investigator-administered Conners Adult ADHD Rating Scale Screening Version (CAARS), a 30-item scale. The primary effectiveness measure was the 18-item Total ADHD Symptom score (the sum of the inattentive and hyperactivity/impulsivity subscales from the CAARS) evaluated by a comparison of mean change from baseline to endpoint using an intent-to-treat analysis. In 2 identical, 10-week, randomized, double-blind, placebo-controlled acute treatment studies (Study 5, N=280; Study 6, N=256), patients received either atomoxetine or placebo. Atomoxetine was administered as a divided dose in the early morning and late afternoon/early evening and titrated according to clinical response in a range of 60 to 120 mg/day. The mean final dose of atomoxetine for both studies was approximately 95 mg/day. In both studies, ADHD symptoms were statistically significantly improved on atomoxetine, as measured on the ADHD Symptom score from the CAARS scale. Examination of population subsets based on gender and age (<42 and ≥42) did not reveal any differential responsiveness on the basis of these subgroupings. There was not sufficient exposure of ethnic groups other than Caucasian to allow exploration of differences in these subgroups.\n",
      "RESULT: \n",
      "outcome='ADHD symptoms' value='statistically significantly improved on atomoxetine compared with placebo' regiment='atomoxetine'\n"
     ]
    },
    {
     "name": "stderr",
     "output_type": "stream",
     "text": [
      " 16%|█▌        | 5/32 [4:40:01<25:50:43, 3446.05s/it]"
     ]
    },
    {
     "name": "stdout",
     "output_type": "stream",
     "text": [
      "You are a professional medical practicioner with a medical degree. Other doctors send you clinical trial reports from which you need to extract:\n",
      "\n",
      "1. The primary outcome measure and measured value\n",
      "2. The therapeutic treatment regiment used to achieve the primary outcome\n",
      "\n",
      "# EXAMPLE\n",
      "CLINICAL_TRIAL: The median overall survival was 9.0 months in the triplet-therapy group and 5.4 months in the control group (hazard ratio for death, 0.52; 95% confidence interval [CI], 0.39 to 0.70; P<0.001). The confirmed response rate was 26% (95% CI, 18 to 35) in the triplet-therapy group and 2% (95% CI, 0 to 7) in the control group (P<0.001). The median overall survival in the doublet-therapy group was 8.4 months (hazard ratio for death vs. control, 0.60; 95% CI, 0.45 to 0.79; P<0.001). Adverse events of grade 3 or higher occurred in 58% of patients in the triplet-therapy group, in 50% in the doublet-therapy group, and in 61% in the control group.\n",
      "RESULT: {\"outcome\": \"Median overall survival\", \"value\": \"9.0 months\", \"regiment\":\"triplet-therapy group\"}\n",
      "\n",
      "# OUTPUT INSTRUCTIONS Answer in valid JSON. Here are different objects relevant for the output:\n",
      "\n",
      "ClinicalOutcome:\n",
      "    outcome (str): name of the primary outcome measure\n",
      "    value (str): the value that was measured from the outcome\n",
      "    regiment (str): the therapeutic treatment strategy used to obtain the outcome\n",
      "\n",
      "# OUTPUT\n",
      "\n",
      "CLINICAL_TRIAL: CLINICAL TRIALS Graph Rheumatoid Arthritis The effectiveness of Sandimmune ® and cyclosporine ( MODIFIED ) in the treatment of severe rheumatoid arthritis was evaluated in 5 clinical studies involving a total of 728 cyclosporine treated patients and 273 placebo treated patients. A summary of the results is presented for the \"responder\" rates per treatment group, with a responder being defined as a patient having completed the trial with a 20% improvement in the tender and the swollen joint count and a 20% improvement in 2 of 4 of investigator global, patient global, disability, and erythrocyte sedimentation rates (ESR) for the Studies 651 and 652 and 3 of 5 of investigator global, patient global, disability, visual analog pain, and ESR for Studies 2008, 654 and 302. Study 651 enrolled 264 patients with active rheumatoid arthritis with at least 20 involved joints, who had failed at least one major RA drug, using a 3:3:2 randomization to one of the following three groups: (1) cyclosporine dosed at 2.5 to 5 mg/kg/day, (2) methotrexate at 7.5 to 15 mg/week, or (3) placebo. Treatment duration was 24 weeks. The mean cyclosporine dose at the last visit was 3.1 mg/kg/day. See Graph below. Study 652 enrolled 250 patients with active RA with >6 active painful or tender joints who had failed at least one major RA drug. Patients were randomized using a 3:3:2 randomization to 1 of 3 treatment arms: (1) 1.5 to 5 mg/kg/day of cyclosporine, (2) 2.5 to 5 mg/kg/day of cyclosporine, and (3) placebo. Treatment duration was 16 weeks. The mean cyclosporine dose for group 2 at the last visit was 2.92 mg/kg/day. See Graph below. Study 2008 enrolled 144 patients with active RA and >6 active joints who had unsuccessful treatment courses of aspirin and gold or Penicillamine. Patients were randomized to 1 of 2 treatment groups (1) cyclosporine 2.5 to 5 mg/kg/day with adjustments after the first month to achieve a target trough level and (2) placebo. Treatment duration was 24 weeks. The mean cyclosporine dose at the last visit was 3.63 mg/kg/day. See Graph below. Study 654 enrolled 148 patients who remained with active joint counts of 6 or more despite treatment with maximally tolerated methotrexate doses for at least three months. Patients continued to take their current dose of methotrexate and were randomized to receive, in addition, one of the following medications: (1) cyclosporine 2.5 mg/kg/day with dose increases of 0.5 mg/kg/day at weeks 2 and 4 if there was no evidence of toxicity and further increases of 0.5 mg/kg/day at weeks 8 and 16 if a <30% decrease in active joint count occurred without any significant toxicity; dose decreases could be made at any time for toxicity or (2) placebo. Treatment duration was 24 weeks. The mean cyclosporine dose at the last visit was 2.8 mg/kg/day (range: 1.3 to 4.1). See Graph below. Study 302 enrolled 299 patients with severe active RA, 99% of whom were unresponsive or intolerant to at least one prior major RA drug. Patients were randomized to 1 of 2 treatment groups (1) cyclosporine ( MODIFIED ) and (2) Sandimmune ® , both of which were started at 2.5 mg/kg/day and increased after 4 weeks for inefficacy in increments of 0.5 mg/kg/day to a maximum of 5 mg/kg/day and decreased at any time for toxicity. Treatment duration was 24 weeks. The mean cyclosporine dose at the last visit was 2.91 mg/kg/day (range: 0.72 to 5.17) for cyclosporine ( MODIFIED ) and 3.27 mg/kg/day (range: 0.73 to 5.68) for Sandimmune ® . See Graph below.\n",
      "RESULT: \n",
      "outcome='Responder rates' value='57%' regiment='Sandimmune ® and cyclosporine'\n"
     ]
    },
    {
     "name": "stderr",
     "output_type": "stream",
     "text": [
      " 19%|█▉        | 6/32 [5:46:27<26:12:45, 3629.44s/it]"
     ]
    },
    {
     "name": "stdout",
     "output_type": "stream",
     "text": [
      "You are a professional medical practicioner with a medical degree. Other doctors send you clinical trial reports from which you need to extract:\n",
      "\n",
      "1. The primary outcome measure and measured value\n",
      "2. The therapeutic treatment regiment used to achieve the primary outcome\n",
      "\n",
      "# EXAMPLE\n",
      "CLINICAL_TRIAL: The median overall survival was 9.0 months in the triplet-therapy group and 5.4 months in the control group (hazard ratio for death, 0.52; 95% confidence interval [CI], 0.39 to 0.70; P<0.001). The confirmed response rate was 26% (95% CI, 18 to 35) in the triplet-therapy group and 2% (95% CI, 0 to 7) in the control group (P<0.001). The median overall survival in the doublet-therapy group was 8.4 months (hazard ratio for death vs. control, 0.60; 95% CI, 0.45 to 0.79; P<0.001). Adverse events of grade 3 or higher occurred in 58% of patients in the triplet-therapy group, in 50% in the doublet-therapy group, and in 61% in the control group.\n",
      "RESULT: {\"outcome\": \"Median overall survival\", \"value\": \"9.0 months\", \"regiment\":\"triplet-therapy group\"}\n",
      "\n",
      "# OUTPUT INSTRUCTIONS Answer in valid JSON. Here are different objects relevant for the output:\n",
      "\n",
      "ClinicalOutcome:\n",
      "    outcome (str): name of the primary outcome measure\n",
      "    value (str): the value that was measured from the outcome\n",
      "    regiment (str): the therapeutic treatment strategy used to obtain the outcome\n",
      "\n",
      "# OUTPUT\n",
      "\n",
      "CLINICAL_TRIAL: 14. CLINICAL STUDIES 14.1 Epilepsy Monotherapy With Lamotrigine in Adults With Partial Seizures Already Receiving Treatment With Carbamazepine, Phenytoin, Phenobarbital, or Primidone as the Single AED: The effectiveness of monotherapy with lamotrigine was established in a multicenter, double-blind clinical trial enrolling 156 adult outpatients with partial seizures. The patients experienced at least four simple partial, complex partial, and/or secondarily generalized seizures during each of two consecutive 4-week periods while receiving carbamazepine or phenytoin monotherapy during baseline. Lamotrigine (target dose of 500 mg/day) or valproate (1,000 mg/day) was added to either carbamazepine or phenytoin monotherapy over a 4-week period. Patients were then converted to monotherapy with lamotrigine or valproate during the next 4 weeks, then continued on monotherapy for an additional 12-week period. Study endpoints were completion of all weeks of study treatment or meeting an escape criterion. Criteria for escape relative to baseline were: (1) doubling of average monthly seizure count, (2) doubling of highest consecutive 2-day seizure frequency, (3) emergence of a new seizure type (defined as a seizure that did not occur during the 8-week baseline) that is more severe than seizure types that occur during study treatment, or (4) clinically significant prolongation of generalized tonic-clonic (GTC) seizures. The primary efficacy variable was the proportion of patients in each treatment group who met escape criteria. The percentages of patients who met escape criteria were 42% (32/76) in the group receiving lamotrigine and 69% (55/80) in the valproate group. The difference in the percentage of patients meeting escape criteria was statistically significant (p= 0.0012) in favor of lamotrigine. No differences in efficacy based on age, sex, or race were detected. Patients in the control group were intentionally treated with a relatively low dose of valproate; as such, the sole objective of this study was to demonstrate the effectiveness and safety of monotherapy with lamotrigine, and cannot be interpreted to imply the superiority of lamotrigine to an adequate dose of valproate. Adjunctive Therapy With Lamotrigine in Adults With Partial Seizures: The effectiveness of lamotrigine as adjunctive therapy (added to other AEDs) was established in three multicenter, placebo-controlled, double-blind clinical trials in 355 adults with refractory partial seizures. The patients had a history of at least four partial seizures per month in spite of receiving one or more AEDs at therapeutic concentrations and, in two of the studies, were observed on their established AED regimen during baselines that varied between 8 to 12 weeks. In the third, patients were not observed in a prospective baseline. In patients continuing to have at least four seizures per month during the baseline, lamotrigine or placebo was then added to the existing therapy. In all three studies, change from baseline in seizure frequency was the primary measure of effectiveness. The results given below are for all partial seizures in the intent-to-treat population (all patients who received at least one dose of treatment) in each study, unless otherwise indicated. The median seizure frequency at baseline was 3 per week while the mean at baseline was 6.6 per week for all patients enrolled in efficacy studies. One study (n = 216) was a double-blind, placebo-controlled, parallel trial consisting of a 24-week treatment period. Patients could not be on more than two other anticonvulsants and valproate was not allowed. Patients were randomized to receive placebo, a target dose of 300 mg/day of lamotrigine, or a target dose of 500 mg/day of lamotrigine. The median reductions in the frequency of all partial seizures relative to baseline were 8% in patients receiving placebo, 20% in patients receiving 300 mg/day of lamotrigine, and 36% in patients receiving 500 mg/day of lamotrigine. The seizure frequency reduction was statistically significant in the 500-mg/day group compared with the placebo group, but not in the 300-mg/day group. A second study (n = 98) was a double-blind, placebo-controlled, randomized, crossover trial consisting of two 14-week treatment periods (the last 2 weeks of which consisted of dose tapering) separated by a 4-week washout period. Patients could not be on more than two other anticonvulsants and valproate was not allowed. The target dose of lamotrigine was 400 mg/day. When the first 12 weeks of the treatment periods were analyzed, the median change in seizure frequency was a 25% reduction on lamotrigine compared with placebo (p<0.001). The third study (n = 41) was a double-blind, placebo-controlled, crossover trial consisting of two 12-week treatment periods separated by a 4-week washout period. Patients could not be on more than two other anticonvulsants. Thirteen patients were on concomitant valproate; these patients received 150 mg/day of lamotrigine. The 28 other patients had a target dose of 300 mg/day of lamotrigine. The median change in seizure frequency was a 26% reduction on lamotrigine compared with placebo (p<0.01). No differences in efficacy based on age, sex, or race, as measured by change in seizure frequency, were detected. Adjunctive Therapy With Lamotrigine in Pediatric Patients With Partial Seizures: The effectiveness of lamotrigine as adjunctive therapy in pediatric patients with partial seizures was established in a multicenter, double-blind, placebo-controlled trial in 199 patients 2 to 16 years of age (n = 98 on lamotrigine, n = 101 on placebo). Following an 8-week baseline phase, patients were randomized to 18 weeks of treatment with lamotrigine or placebo added to their current AED regimen of up to two drugs. Patients were dosed based on body weight and valproate use. Target doses were designed to approximate 5 mg/kg/day for patients taking valproate (maximum dose: 250 mg/day) and 15 mg/kg/day for the patients not taking valproate (maximum dose: 750 mg/day). The primary efficacy endpoint was percentage change from baseline in all partial seizures. For the intent-to-treat population, the median reduction of all partial seizures was 36% in patients treated with lamotrigine and 7% on placebo, a difference that was statistically significant (p<0.01). Adjunctive Therapy With Lamotrigine in Pediatric and Adult Patients With Lennox-Gastaut Syndrome: The effectiveness of lamotrigine as adjunctive therapy in patients with Lennox-Gastaut syndrome was established in a multicenter, double-blind, placebo-controlled trial in 169 patients 3 to 25 years of age (n = 79 on lamotrigine, n = 90 on placebo). Following a 4-week single-blind, placebo phase, patients were randomized to 16 weeks of treatment with lamotrigine or placebo added to their current AED regimen of up to three drugs. Patients were dosed on a fixed-dose regimen based on body weight and valproate use. Target doses were designed to approximate 5 mg/kg/day for patients taking valproate (maximum dose: 200 mg/day) and 15 mg/kg/day for patients not taking valproate (maximum dose: 400 mg/day). The primary efficacy endpoint was percentage change from baseline in major motor seizures (atonic, tonic, major myoclonic, and tonic-clonic seizures). For the intent-to-treat population, the median reduction of major motor seizures was 32% in patients treated with lamotrigine and 9% on placebo, a difference that was statistically significant (p<0.05). Drop attacks were significantly reduced by lamotrigine (34%) compared with placebo (9%), as were tonic-clonic seizures (36% reduction versus 10% increase for lamotrigine and placebo, respectively). Adjunctive Therapy With Lamotrigine in Pediatric and Adult Patients With Primary Generalized Tonic-Clonic Seizures: The effectiveness of lamotrigine as adjunctive therapy in patients with primary generalized tonic-clonic seizures was established in a multicenter, double-blind, placebo-controlled trial in 117 pediatric and adult patients ≥ 2 years (n = 58 on lamotrigine, n = 59 on placebo). Patients with at least three primary generalized tonic-clonic seizures during an 8-week baseline phase were randomized to 19 to 24 weeks of treatment with lamotrigine or placebo added to their current AED regimen of up to 2 drugs. Patients were dosed on a fixed-dose regimen, with target doses ranging from 3 mg/kg/day to 12 mg/kg/day for pediatric patients and from 200 mg/day to 400 mg/day for adult patients based on concomitant AED. The primary efficacy endpoint was percentage change from baseline in primary generalized tonic-clonic seizures. For the intent-to-treat population, the median percent reduction of primary generalized tonic-clonic seizures was 66% in patients treated with lamotrigine and 34% on placebo, a difference that was statistically significant ( p = 0.006). 14.2 Bipolar Disorder The effectiveness of lamotrigine in the maintenance treatment of Bipolar I Disorder was established in two multicenter, double-blind, placebo-controlled studies in adult patients who met DSM-IV criteria for Bipolar I Disorder. Study 1 enrolled patients with a current or recent (within 60 days) depressive episode as defined by DSM-IV and Study 2 included patients with a current or recent (within 60 days) episode of mania or hypomania as defined by DSM-IV. Both studies included a cohort of patients (30% of 404 patients in Study 1 and 28% of 171 patients in Study 2) with rapid cycling Bipolar Disorder (4 to 6 episodes per year). In both studies, patients were titrated to a target dose of 200 mg of lamotrigine, as add-on therapy or as monotherapy, with gradual withdrawal of any psychotropic medications during an 8- to 16-week open-label period. Overall 81% of 1,305 patients participating in the open-label period were receiving one or more other psychotropic medications, including benzodiazepines, selective serotonin reuptake inhibitors (SSRIs), atypical antipsychotics (including olanzapine), valproate, or lithium, during titration of lamotrigine. Patients with a CGI-severity score of 3 or less maintained for at least 4 continuous weeks, including at least the final week on monotherapy with lamotrigine, were randomized to a placebo-controlled, double-blind treatment period for up to 18 months. The primary endpoint was TIME (time to intervention for a mood episode or one that was emerging, time to discontinuation for either an adverse event that was judged to be related to Bipolar Disorder, or for lack of efficacy). The mood episode could be depression, mania, hypomania, or a mixed episode. In Study 1, patients received double-blind monotherapy with lamotrigine 50 mg/day (n = 50), lamotrigine 200 mg/day (n = 124), lamotrigine 400 mg/day (n = 47), or placebo (n = 121). Lamotrigine (200- and 400-mg/day treatment groups combined) was superior to placebo in delaying the time to occurrence of a mood episode. Separate analyses of the 200- and 400-mg/day dose groups revealed no added benefit from the higher dose. In Study 2, patients received double-blind monotherapy with lamotrigine (100 to 400 mg/day, n = 59), or placebo (n = 70). Lamotrigine was superior to placebo in delaying time to occurrence of a mood episode. The mean dose of lamotrigine was about 211 mg/day. Although these studies were not designed to separately evaluate time to the occurrence of depression or mania, a combined analysis for the 2 studies revealed a statistically significant benefit for lamotrigine over placebo in delaying the time to occurrence of both depression and mania, although the finding was more robust for depression.\n",
      "RESULT: \n",
      "outcome='completion of all weeks of study treatment or meeting an escape criterion' value='42%' regiment='lamotrigine'\n"
     ]
    },
    {
     "name": "stderr",
     "output_type": "stream",
     "text": [
      " 22%|██▏       | 7/32 [7:08:37<28:09:32, 4054.89s/it]"
     ]
    },
    {
     "name": "stdout",
     "output_type": "stream",
     "text": [
      "You are a professional medical practicioner with a medical degree. Other doctors send you clinical trial reports from which you need to extract:\n",
      "\n",
      "1. The primary outcome measure and measured value\n",
      "2. The therapeutic treatment regiment used to achieve the primary outcome\n",
      "\n",
      "# EXAMPLE\n",
      "CLINICAL_TRIAL: The median overall survival was 9.0 months in the triplet-therapy group and 5.4 months in the control group (hazard ratio for death, 0.52; 95% confidence interval [CI], 0.39 to 0.70; P<0.001). The confirmed response rate was 26% (95% CI, 18 to 35) in the triplet-therapy group and 2% (95% CI, 0 to 7) in the control group (P<0.001). The median overall survival in the doublet-therapy group was 8.4 months (hazard ratio for death vs. control, 0.60; 95% CI, 0.45 to 0.79; P<0.001). Adverse events of grade 3 or higher occurred in 58% of patients in the triplet-therapy group, in 50% in the doublet-therapy group, and in 61% in the control group.\n",
      "RESULT: {\"outcome\": \"Median overall survival\", \"value\": \"9.0 months\", \"regiment\":\"triplet-therapy group\"}\n",
      "\n",
      "# OUTPUT INSTRUCTIONS Answer in valid JSON. Here are different objects relevant for the output:\n",
      "\n",
      "ClinicalOutcome:\n",
      "    outcome (str): name of the primary outcome measure\n",
      "    value (str): the value that was measured from the outcome\n",
      "    regiment (str): the therapeutic treatment strategy used to obtain the outcome\n",
      "\n",
      "# OUTPUT\n",
      "\n",
      "CLINICAL_TRIAL: 14 CLINICAL STUDIES Prevention of Cardiovascular Disease In the Anglo-Scandinavian Cardiac Outcomes Trial (ASCOT), the effect of atorvastatin calcium on fatal and non-fatal coronary heart disease was assessed in 10,305 patients with hypertension, 40 to 80 years of age (mean of 63 years, 19% women; 95% White, 3% Black, 1% South Asian, 1% other), without a previous myocardial infarction and with total cholesterol (TC) levels ≤251 mg/dL. Additionally, all patients had at least 3 of the following cardiovascular risk factors: male gender (81%), age >55 years (85%), smoking (33%), diabetes (24%), history of CHD in a first-degree relative (26%), TC:HDL >6 (14%), peripheral vascular disease (5%), left ventricular hypertrophy (14%), prior cerebrovascular event (10%), specific ECG abnormality (14%), proteinuria/albuminuria (62%). In this double-blind, placebo-controlled trial, patients were treated with anti-hypertensive therapy (goal BP <140/90 mm Hg for patients without diabetes; <130/80 mm Hg for patients with diabetes) and allocated to either atorvastatin calcium 10 mg daily (n=5168) or placebo (n=5137), using a covariate adaptive method which took into account the distribution of nine baseline characteristics of patients already enrolled and minimized the imbalance of those characteristics across the groups. Patients were followed for a median duration of 3.3 years. The effect of 10 mg/day of atorvastatin calcium on lipid levels was similar to that seen in previous clinical trials. Atorvastatin calcium significantly reduced the rate of coronary events [either fatal coronary heart disease (46 events in the placebo group vs. 40 events in the atorvastatin calcium group) or non-fatal MI (108 events in the placebo group vs. 60 events in the atorvastatin calcium group)] with a relative risk reduction of 36% [(based on incidences of 1.9% for atorvastatin calcium vs. 3.0% for placebo), p=0.0005 (see Figure 1)]. The risk reduction was consistent regardless of age, smoking status, obesity, or presence of renal dysfunction. The effect of atorvastatin calcium was seen regardless of baseline LDL levels. Figure 1: Effect of atorvastatin calcium 10 mg/day on Cumulative Incidence of Non-Fatal Myocardial Infarction or Coronary Heart Disease Death (in ASCOT-LLA) Atorvastatin calcium also significantly decreased the relative risk for revascularization procedures by 42% (incidences of 1.4% for atorvastatin calcium and 2.5% for placebo). Although the reduction of fatal and non-fatal strokes did not reach a pre-defined significance level (p=0.01), a favorable trend was observed with a 26% relative risk reduction (incidences of 1.7% for atorvastatin calcium and 2.3% for placebo). There was no significant difference between the treatment groups for death due to cardiovascular causes (p=0.51) or noncardiovascular causes (p=0.17). In the Collaborative Atorvastatin Diabetes Study (CARDS), the effect of atorvastatin calcium on cardiovascular disease (CVD) endpoints was assessed in 2838 subjects (94% White, 2% Black, 2% South Asian, 1% other; 68% male), ages 40 to 75 with type 2 diabetes based on WHO criteria, without prior history of cardiovascular disease and with LDL ≤ 160 mg/dL and triglycerides (TG) ≤ 600 mg/dL. In addition to diabetes, subjects had 1 or more of the following risk factors: current smoking (23%), hypertension (80%), retinopathy (30%), or microalbuminuria (9%) or macroalbuminuria (3%). No subjects on hemodialysis were enrolled in the trial. In this multicenter, placebo-controlled, double-blind clinical trial, subjects were randomly allocated to either atorvastatin calcium 10 mg daily (1429) or placebo (1411) in a 1:1 ratio and were followed for a median duration of 3.9 years. The primary endpoint was the occurrence of any of the major cardiovascular events: myocardial infarction, acute CHD death, unstable angina, coronary revascularization, or stroke. The primary analysis was the time to first occurrence of the primary endpoint. Baseline characteristics of subjects were: mean age of 62 years, mean HbA1c 7.7%; median LDL-C 120 mg/dL; median TC 207 mg/dL; median TG 151 mg/dL; median HDL-C 52 mg/dL. The effect of atorvastatin calcium 10 mg/day on lipid levels was similar to that seen in previous clinical trials. Atorvastatin calcium significantly reduced the rate of major cardiovascular events (primary endpoint events) (83 events in the atorvastatin calcium group vs. 127 events in the placebo group) with a relative risk reduction of 37%, HR 0.63, 95% CI (0.48, 0.83) (p=0.001) (see Figure 2). An effect of atorvastatin calcium was seen regardless of age, sex, or baseline lipid levels. Atorvastatin calcium significantly reduced the risk of stroke by 48% (21 events in the atorvastatin calcium group vs. 39 events in the placebo group), HR 0.52, 95% CI (0.31, 0.89) (p=0.016) and reduced the risk of MI by 42% (38 events in the atorvastatin calcium group vs. 64 events in the placebo group), HR 0.58, 95.1% CI (0.39, 0.86) (p=0.007). There was no significant difference between the treatment groups for angina, revascularization procedures, and acute CHD death. There were 61 deaths in the atorvastatin calcium group vs. 82 deaths in the placebo group (HR 0.73, p=0.059) In the Treating to New Targets Study (TNT), the effect of atorvastatin calcium 80 mg/day vs. atorvastatin calcium 10 mg/day on the reduction in cardiovascular events was assessed in 10,001 subjects (94% white, 81% male, 38% ≥65 years) with clinically evident coronary heart disease who had achieved a target LDL-C level <130 mg/dL after completing an 8-week, open-label, run-in period with atorvastatin calcium 10 mg/day. Subjects were randomly assigned to either 10 mg/day or 80 mg/day of atorvastatin calcium and followed for a median duration of 4.9 years. The primary endpoint was the time-to-first occurrence of any of the following major cardiovascular events (MCVE): death due to CHD, non-fatal myocardial infarction, resuscitated cardiac arrest, and fatal and non-fatal stroke. The mean LDL-C, TC, TG, non-HDL, and HDL cholesterol levels at 12 weeks were 73, 145, 128, 98, and 47 mg/dL during treatment with 80 mg of atorvastatin calcium and 99, 177, 152, 129, and 48 mg/dL during treatment with 10 mg of atorvastatin calcium. Treatment with atorvastatin calcium 80 mg/day significantly reduced the rate of MCVE (434 events in the 80 mg/day group vs. 548 events in the 10 mg/day group) with a relative risk reduction of 22%, HR 0.78, 95% CI (0.69, 0.89), p=0.0002 (see Figure 3 and Table 8). The overall risk reduction was consistent regardless of age (<65, ≥65) or sex. a Atorvastatin 80 mg: atorvastatin 10 mg b Component of other secondary endpoints * Secondary endpoints not included in primary endpoint Endpoint Atorvastatin 10 mg (N=5006) Atorvastatin 80 mg (N=4995) HR a (95%CI) PRIMARY ENDPOINT n (%) n (%) First major cardiovascular endpoint 548 (10.9) 434 (8.7) 0.78 (0.69, 0.89) Components of the Primary Endpoint CHD death 127 (2.5) 101 (2.0) 0.80 (0.61, 1.03) Non-fatal, non-procedure related MI 308 (6.2) 243 (4.9) 0.78 (0.66, 0.93) Resuscitated cardiac arrest 26 (0.5) 25 (0.5) 0.96 (0.56, 1.67) Stroke (fatal and non-fatal) 155 (3.1) 117 (2.3) 0.75 (0.59, 0.96) SECONDARY ENDPOINTS * First CHF with hospitalization 164 (3.3) 122 (2.4) 0.74 (0.59, 0.94) First PVD endpoint 282 (5.6) 275 (5.5) 0.97 (0.83, 1.15) First CABG or other coronary revascularization procedure b 904 (18.1) 667 (13.4) 0.72 (0.65, 0.80) First documented angina endpoint b 615 (12.3) 545 (10.9) 0.88 (0.79, 0.99) All-cause mortality 282 (5.6) 284 (5.7) 1.01 (0.85, 1.19) Components of All-Cause Mortality Cardiovascular death 155 (3.1) 126 (2.5) 0.81 (0.64, 1.03) Noncardiovascular death 127 (2.5) 158 (3.2) 1.25 (0.99, 1.57) Cancer death 75 (1.5) 85 (1.7) 1.13 (0.83, 1.55) Other non-CV death 43 (0.9) 58 (1.2) 1.35 (0.91, 2.00) Suicide, homicide, and other traumatic non-CV death 9 (0.2) 15 (0.3) 1.67 (0.73, 3.82) Of the events that comprised the primary efficacy endpoint, treatment with atorvastatin calcium 80 mg/day significantly reduced the rate of non-fatal, non-procedure related MI and fatal and non-fatal stroke, but not CHD death or resuscitated cardiac arrest (Table 8). Of the predefined secondary endpoints, treatment with atorvastatin calcium 80 mg/day significantly reduced the rate of coronary revascularization, angina, and hospitalization for heart failure, but not peripheral vascular disease. The reduction in the rate of CHF with hospitalization was only observed in the 8% of patients with a prior history of CHF. There was no significant difference between the treatment groups for all-cause mortality (Table 8). The proportions of subjects, who experienced cardiovascular death, including the components of CHD death and fatal stroke, were numerically smaller in the atorvastatin calcium 80 mg group than in the atorvastatin calcium 10 mg treatment group. The proportions of subjects who experienced noncardiovascular death were numerically larger in the atorvastatin calcium 80 mg group than in the atorvastatin calcium 10 mg treatment group. Primary Hyperlipidemia in Adults Atorvastatin calcium reduces total-C, LDL-C, apo B, and TG, and increases HDL-C in patients with hyperlipidemia (heterozygous familial and nonfamilial) and mixed dyslipidemia. Therapeutic response is seen within 2 weeks, and maximum response is usually achieved within 4 weeks and maintained during chronic therapy. In two multicenter, placebo-controlled, dose-response trails in patients with hyperlipidemia, atorvastatin calcium given as a single dose over 6 weeks, significantly reduced total-C, LDL-C, apo B, and TG. (Pooled results are provided in Table 9.) a Results are pooled from 2 dose-response trials Dose N TC LDL-C Apo B TG HDL-C N Placebo 21 4 4 3 10 -3 Placebo 10 22 -29 -39 -32 -19 6 10 20 20 -33 -43 -35 -26 9 20 40 21 -37 -50 -42 -29 6 40 80 23 -45 -60 -50 -37 5 80 In three multicenter, double-blind trails in patients with hyperlipidemia, atorvastatin calcium was compared to other statins. After randomization, patients were treated for 16 weeks with either atorvastatin calcium 10 mg per day or a fixed dose of the comparative agent (Table 10). 1 A negative value for the 95% CI for the difference between treatments favors atorvastatin calcium for all except HDL-C, for which a positive value favors atorvastatin calcium. If the range does not include 0, this indicates a statistically significant difference. a Significantly different from lovastatin, ANCOVA, p ≤0.05 b Significantly different from pravastatin, ANCOVA, p ≤0.05 c Significantly different from simvastatin, ANCOVA, p ≤0.05 Treatment (Daily Dose) N Total-C LDL-C Apo B TG HDL-C Trial 1 Atorvastatin Calcium 10 mg 707 -27 a -36 a -28 a -17 a +7 Lovastatin 20 mg 191 -19 -27 -20 -6 +7 95% CI for Diff 1 -9.2,-6.5 -10.7, -7.1 -10.0, -6.5 -15.2, -7.1 -1.7, 2.0 Trial 2 Atorvastatin Calcium 10 mg 222 -25b -35 b -27 b -17 b +6 Pravastatin 20 mg 77 -17 -23 -17 -9 +8 95% CI for Diff 1 -10.8,-6.1 -14.5, -8.2 -13.4, -7.4 -14.1, -0.7 -4.9, 1.6 Trial 3 Atorvastatin Calcium 10 mg 132 -29 c -37 c -34 c -23 c +7 Simvastatin 10 mg 45 -24 -30 -30 -15 +7 95% CI for Diff 1 8.7,-2.7 -10.1, -2.6 -8.0, -1.1 -15.1, -0.7 -4.3, 3.9 Table 10 does not contain data comparing the effects of atorvastatin calcium 10 mg and higher doses of lovastatin, pravastatin, and simvastatin. The drugs compared in the trials summarized in the table are not necessarily interchangeable. Hypertriglyceridemia in Adults The response to atorvastatin calcium in 64 patients with isolated hypertriglyceridemia treated across several clinical trials is shown in the table below (Table 11). For the atorvastatin calcium-treated patients, median (min, max) baseline TG level was 565 (267 to 1502). Placebo (N=12) Atorvastatin Calcium 10 mg (N=37) Atorvastatin Calcium 20 mg (N=13) Atorvastatin Calcium 80 mg (N=14) Triglycerides -12.4 (-36.6, 82.7) -41.0 (-76.2, 49.4) -38.7 (-62.7, 29.5) -51.8 (-82.8, 41.3) Total-C -2.3 (-15.5, 24.4) -28.2 (-44.9, -6.8) -34.9 (-49.6, -15.2) -44.4 (-63.5, -3.8) LDL-C 3.6 (-31.3, 31.6) -26.5 (-57.7, 9.8) -30.4 (-53.9, 0.3) -40.5 (-60.6, -13.8) HDL-C 3.8 (-18.6, 13.4) 13.8 (-9.7, 61.5) 11.0 (-3.2, 25.2) 7.5 (-10.8, 37.2) non-HDL-C -2.8 (-17.6, 30.0) -33.0 (-52.1, -13.3) -42.7 (-53.7, -17.4) -51.5 (-72.9, -4.3) Dysbetalipoproteinemia in Adults The results of an open-label crossover study of 16 patients (genotypes: 14 apo E2/E2 and 2 apo E3/E2) with dysbetalipoproteinemia are shown in the table below (Table 12). Median % Change (min, max) Median (min, max) at Baseline (mg/dL) Atorvastatin Calcium 10 mg Atorvastatin Calcium 80 mg Total-C 442 (225, 1320) -37 (-85, 17) -58 (-90, -31) Triglycerides 678 (273, 5990) -39 (-92, -8) -53 (-95, -30) IDL-C + VLDL-C 215 (111, 613) -32 (-76, 9) -63 (-90, -8) non-HDL-C 411 (218, 1272) -43 (-87, -19) -64 (-92, -36) HoFH in Adults and Pediatric Patients In a trial without a concurrent control group, 29 patients (mean age of 22 years, median age of 24 years, 31% ˂18 years) with HoFH received maximum daily doses of 20 to 80 mg of atorvastatin calcium. The mean LDL-C reduction in this trial was 18%. Twenty-five patients with a reduction in LDL-C had a mean response of 20% (range of 7% to 53%, median of 24%); the remaining 4 patients had 7% to 24% increases in LDL-C. Five of the 29 patients had absent LDL-receptor function. Of these, 2 patients also had a portacaval shunt and had no significant reduction in LDL-C. The remaining 3 receptor-negative patients had a mean LDL-C reduction of 22%. HeFH in Pediatric Patients In a double-blind, placebo-controlled trial followed by an open-label phase, 187 boys and post-menarchal girls 10 years to 17 years of age (mean age 14.1 years, 31% female; 92% White, 1.6% Blacks, 1.6% Asians, 4.8% other) with heterozygous familial hypercholesterolemia (HeFH) or severe hypercholesterolemia, were randomized to atorvastatin calcium (n=140) or placebo(n=47) for 26 weeks and then all received atorvastatin calcium for 26 weeks. Inclusion in the trial required 1) a baseline LDL-C level ≥ 190 mg/dL or 2) a baseline LDL-C level ≥ 160 mg/dL and positive family history of FH or documented premature cardiovascular disease in a first or second-degree relative. The mean baseline LDL-C value was 219 mg/dL (range: 139 to 385 mg/dL) in the atorvastatin calcium group compared to 230 mg/dL (range: 160 to 325 mg/dL) in the placebo group. The dosage of atorvastatin calcium (once daily) was 10 mg for the first 4 weeks and uptitrated to 20 mg if the LDL-C level was > 130 mg/dL. The number of atorvastatin calcium-treated patients who required uptitration to 20 mg after Week 4 during the double-blind phase was 78 (56%). Atorvastatin calcium significantly decreased plasma levels of total-C, LDL-C, triglycerides, and apolipoprotein B during the 26-week double-blind phase (see Table 13). DOSAGE N Total-C LDL-C HDL-C TG Apolipoprotein B Placebo 47 -1.5 -0.4 -1.9 1.0 0.7 Atorvastatin Calcium 140 -31.4 -39.6 2.8 -12.0 -34.0 The mean achieved LDL-C value was 130.7 mg/dL (range: 70.0 to 242.0 mg/dL) in the atorvastatin calcium group compared to 228.5 mg/dL (range: 152.0 to 385.0 mg/dL) in the placebo group during the 26-week double-blind phase. Atorvastatin was also studied in a three year open-label, uncontrolled trial that included 163 patients with HeFH who were 10 years to 15 years old (82 boys and 81 girls). All patients had a clinical diagnosis of HeFH confirmed by genetic analysis (if not already confirmed by family history). Approximately 98% were White, and less than 1% were Black or Asian. Mean LDL-C at baseline was 232 mg/dL. The starting atorvastatin dosage was 10 mg once daily and doses were adjusted to achieve a target of <130 mg/dL LDL-C. The reductions in LDL-C from baseline were generally consistent across age groups within the trial as well as with previous clinical studies in both adult and pediatric placebo-controlled trials. Figure 1: Effect of atorvastatin calcium 10 mg/day on Cumulative Incidence of Non-Fatal Myocardial Infarction or Coronary Heart Disease Death (in ASCOT-LLA) Figure 2: Effect of atorvastatin calcium 10 mg/day on Time to Occurrence of Major Cardiovascular Event (myocardial infarction, acute CHD death, unstable angina, coronary revascularization, or stroke) Figure 3: Effect of atorvastatin calcium 80 mg/day vs. 10 mg/day on Time to Occurrence of Major Cardiovascular Events (TNT)\n",
      "RESULT: \n",
      "outcome='primary_efficacy' value='better_than_Comparator' regiment='atorvastatin_calcium_10_mg_daily'\n"
     ]
    },
    {
     "name": "stderr",
     "output_type": "stream",
     "text": [
      " 25%|██▌       | 8/32 [7:59:55<24:57:26, 3743.59s/it]"
     ]
    },
    {
     "name": "stdout",
     "output_type": "stream",
     "text": [
      "You are a professional medical practicioner with a medical degree. Other doctors send you clinical trial reports from which you need to extract:\n",
      "\n",
      "1. The primary outcome measure and measured value\n",
      "2. The therapeutic treatment regiment used to achieve the primary outcome\n",
      "\n",
      "# EXAMPLE\n",
      "CLINICAL_TRIAL: The median overall survival was 9.0 months in the triplet-therapy group and 5.4 months in the control group (hazard ratio for death, 0.52; 95% confidence interval [CI], 0.39 to 0.70; P<0.001). The confirmed response rate was 26% (95% CI, 18 to 35) in the triplet-therapy group and 2% (95% CI, 0 to 7) in the control group (P<0.001). The median overall survival in the doublet-therapy group was 8.4 months (hazard ratio for death vs. control, 0.60; 95% CI, 0.45 to 0.79; P<0.001). Adverse events of grade 3 or higher occurred in 58% of patients in the triplet-therapy group, in 50% in the doublet-therapy group, and in 61% in the control group.\n",
      "RESULT: {\"outcome\": \"Median overall survival\", \"value\": \"9.0 months\", \"regiment\":\"triplet-therapy group\"}\n",
      "\n",
      "# OUTPUT INSTRUCTIONS Answer in valid JSON. Here are different objects relevant for the output:\n",
      "\n",
      "ClinicalOutcome:\n",
      "    outcome (str): name of the primary outcome measure\n",
      "    value (str): the value that was measured from the outcome\n",
      "    regiment (str): the therapeutic treatment strategy used to obtain the outcome\n",
      "\n",
      "# OUTPUT\n",
      "\n",
      "CLINICAL_TRIAL: 14 CLINICAL STUDIES Apart from studies in patients with VT or VF, described below, there are two other studies of amiodarone showing an antiarrhythmic effect before significant levels of DEA could have accumulated. A placebo-controlled study of intravenous amiodarone (300 mg over 2 hours followed by 1200 mg/day) in post-coronary artery bypass graft patients with supraventricular and 2- to 3-consecutive-beat ventricular arrhythmias showed a reduction in arrhythmias from 12 hours on. A baseline-controlled study using a similar IV regimen in patients with recurrent, refractory VT/VF also showed rapid onset of antiarrhythmic activity; amiodarone therapy reduced episodes of VT by 85% compared to baseline. The acute effectiveness of intravenous amiodarone in suppressing recurrent VF or hemodynamically unstable VT is supported by two randomized, parallel, dose-response studies of approximately 300 patients each. In these studies, patients with at least two episodes of VF or hemodynamically unstable VT in the preceding 24 hours were randomly assigned to receive doses of approximately 125 or 1000 mg over the first 24 hours, an 8-fold difference. In one study, a middle dose of approximately 500 mg was evaluated. The dose regimen consisted of an initial rapid loading infusion, followed by a slower 6-hour loading infusion, and then an 18-hour maintenance infusion. The maintenance infusion was continued up to hour 48. Additional 10-minute infusions of 150 mg intravenous amiodarone were given for \"breakthrough\" VT/VF more frequently to the 125 mg dose group, thereby considerably reducing the planned 8-fold differences in total dose to 1.8- and 2.6-fold, respectively, in the two studies. The prospectively defined primary efficacy end point was the rate of VT/VF episodes per hour. For both studies, the median rate was 0.02 episodes per hour in patients receiving the high dose and 0.07 episodes per hour in patients receiving the low dose, or approximately 0.5 versus 1.7 episodes per day (p=0.07, 2-sided, in both studies). In one study, the time to first episode of VT/VF was significantly prolonged (approximately 10 hours in patients receiving the low dose and 14 hours in patients receiving the high dose). In both studies, significantly fewer supplemental infusions were given to patients in the high-dose group. At the end of double-blind therapy or after 48 hours, all patients were given open access to whatever treatment (including intravenous amiodarone) was deemed necessary. Mortality was not affected in these studies.\n",
      "RESULT: \n",
      "outcome='VT/VF' value='double-blind' regiment='intravenous amiodarone'\n"
     ]
    },
    {
     "name": "stderr",
     "output_type": "stream",
     "text": [
      " 28%|██▊       | 9/32 [9:04:01<24:07:23, 3775.82s/it]"
     ]
    },
    {
     "name": "stdout",
     "output_type": "stream",
     "text": [
      "You are a professional medical practicioner with a medical degree. Other doctors send you clinical trial reports from which you need to extract:\n",
      "\n",
      "1. The primary outcome measure and measured value\n",
      "2. The therapeutic treatment regiment used to achieve the primary outcome\n",
      "\n",
      "# EXAMPLE\n",
      "CLINICAL_TRIAL: The median overall survival was 9.0 months in the triplet-therapy group and 5.4 months in the control group (hazard ratio for death, 0.52; 95% confidence interval [CI], 0.39 to 0.70; P<0.001). The confirmed response rate was 26% (95% CI, 18 to 35) in the triplet-therapy group and 2% (95% CI, 0 to 7) in the control group (P<0.001). The median overall survival in the doublet-therapy group was 8.4 months (hazard ratio for death vs. control, 0.60; 95% CI, 0.45 to 0.79; P<0.001). Adverse events of grade 3 or higher occurred in 58% of patients in the triplet-therapy group, in 50% in the doublet-therapy group, and in 61% in the control group.\n",
      "RESULT: {\"outcome\": \"Median overall survival\", \"value\": \"9.0 months\", \"regiment\":\"triplet-therapy group\"}\n",
      "\n",
      "# OUTPUT INSTRUCTIONS Answer in valid JSON. Here are different objects relevant for the output:\n",
      "\n",
      "ClinicalOutcome:\n",
      "    outcome (str): name of the primary outcome measure\n",
      "    value (str): the value that was measured from the outcome\n",
      "    regiment (str): the therapeutic treatment strategy used to obtain the outcome\n",
      "\n",
      "# OUTPUT\n",
      "\n",
      "CLINICAL_TRIAL: 14 CLINICAL STUDIES 14.1 Overview of Clinical Studies of VPRIV for Gaucher Disease The efficacy of VPRIV was assessed in three clinical trials in a total of 99 patients with type 1 Gaucher disease: 82 patients age 4 years and older received VPRIV and 17 patients age 3 years and older received imiglucerase. Studies I and II were conducted in patients who were not currently receiving Gaucher disease-specific therapy. Study III was conducted in patients who were receiving imiglucerase treatment immediately before starting VPRIV. The long-term safety of VPRIV was assessed in Study IV, an open-label extension trial in a total of 93 patients with type 1 Gaucher disease ages 3 years and older. Patients who had completed Studies I to III were eligible to participate in Study IV. In Studies I through IV, VPRIV was administered intravenously over 60 minutes at a maximum dose of 60 Units/kg every other week. Doses above 60 Units/kg were not studied in these trials. 14.2 Clinical Trials of VPRIV as Initial Therapy Study I was a 12-month, randomized, double-blind, parallel-dose-group, multinational trial in 25 patients age 4 years and older with Gaucher disease-related anemia and either thrombocytopenia or organomegaly. Patients were not allowed to have had disease-specific therapy for at least the previous 30 months; all but one had no prior therapy. The mean age was 26 years and 60% were male. Patients were randomized to receive VPRIV at a dose of either 45 Units/kg (N=13) or 60 Units/kg (N=12) every other week. The recommended starting dose in naïve patients is 60 Units/kg. The 45 Units/kg dosage is not recommended as a starting dose in naïve patients [see Dosage and Administration (2.1) ] . At baseline, mean hemoglobin concentration was 10.6 g/dL, mean platelet count was 97 × 10 9 /L, mean liver volume was 3.6 % of body weight (% BW), and mean spleen volume was 2.9 % BW. For all studies, liver and spleen volumes were measured by MRI. The changes in clinical parameters after 12 months of treatment are shown in Table 2. The observed change from baseline in the primary endpoint, hemoglobin concentration, was considered to be clinically meaningful in the 60 Units/kg dose, in light of the natural history of untreated Gaucher disease. Table 2: Mean Change from Baseline to Month 12 for Clinical Parameters in Patients with Type 1 Gaucher Disease Initiating Therapy with VPRIV Given Every Other Week in Study I Clinical Parameter VPRIV 45 Units/kg The recommended starting dose in naïve patients is 60 Units/kg. The 45 Units/kg dosage is not recommended as a starting dose in naïve patients [see Dosage and Administration (2.1) ] . N = 13 Mean ± SE VPRIV 60 Units/kg N = 12 Mean ± SE SE = standard error of the mean Hemoglobin concentration change (g/dL) 2.4 ± 0.4 Statistically significant changes from baseline after adjusting for performing multiple tests 2.4 ± 0.3 Primary study endpoint was hemoglobin concentration change in the 60 Units/kg group, p < 0.001 Platelet count change (× 10 9 /L) 41 ± 14 51 ± 12 Liver volume change (% BW) -0.30 ± 0.29 -0.84 ± 0.33 Spleen volume change (% BW) -1.9 ± 0.6 -1.9 ± 0.5 Study II was a 9-month, randomized, double-blind, active-controlled (imiglucerase), parallel-group, multinational study in 34 patients age 4 years and older. Patients were required to have Gaucher disease-related anemia and either thrombocytopenia or organomegaly. Patients were not allowed to have had disease-specific therapy for at least the previous 12 months. The mean age was 30 years and 53% were female; the youngest patient who received VPRIV was age 4 years. Patients were randomized to receive either 60 Units/kg of VPRIV (N=17) or 60 Units/kg of imiglucerase (N=17) every other week. At baseline, the mean hemoglobin concentration was 11.0 g/dL, mean platelet count was 171 × 10 9 /L, and mean liver volume was 4.3 % BW. For the patients who had not had splenectomy (7 in each group) the mean spleen volume was 3.4 % BW. After 9 months of treatment, the mean absolute increase from baseline in hemoglobin concentration was 1.6 g/dL ± 0.2 (SE) for patients treated with VPRIV. The mean treatment difference in change from baseline to 9 months [VPRIV – imiglucerase] was 0.1 g/dL ± 0.4 (SE). In both studies, examination of age and gender subgroups did not identify differences in response to VPRIV among these subgroups. The number of non-Caucasian patients in these studies was too small to adequately assess any difference in effects by race. In Study IV, treatment naïve patients were administered VPRIV. Treatment-naïve patients continued to show improvements in clinical parameters (hemoglobin concentration, platelet count, liver volume, and spleen volume) compared with baseline for up to 60 months of treatment with ERT. 14.3 Clinical Trial in Patients Switching from Imiglucerase Treatment to VPRIV Study III was a 12-month, open-label, single-arm, multinational study in 40 patients age 9 years and older who had been receiving treatment with imiglucerase at doses ranging between 15 Units/kg to 60 Units/kg for a minimum of 30 consecutive months. Patients also were required to have a stable biweekly dose of imiglucerase for at least 6 months prior to enrollment. The mean age was 36 years and 55% were female. Imiglucerase therapy was stopped, and treatment with VPRIV was administered every other week at the same number of units as the patient's previous imiglucerase dose. Adjustment of dosage was allowed by study criteria if needed in order to maintain clinical parameters [see Dosage and Administration (2.2) ] . Hemoglobin concentrations and platelet counts remained stable on average through 12 months of VPRIV treatment. After 12 months of treatment with VPRIV the median hemoglobin concentration was 13.5 g/dL (range: 10.8, 16.1) vs. the baseline value of 13.8 g/dL (range: 10.4, 16.5), and the median platelet count after 12 months was 174 × 10 9 /L (range: 24, 408) vs. the baseline value of 162 × 10 9 /L (range: 29, 399). No patient required dosage adjustment during the 12-month treatment period. In Study IV, patients who had previously been receiving imiglucerase treatment were administered VPRIV. Patients previously treated with imiglucerase maintained stability in clinical parameters (hemoglobin concentration, platelet count, liver volume, and spleen volume) compared with baseline for up to 60 months of treatment with ERT.\n",
      "RESULT: \n",
      "outcome='Median hemoglobin concentration' value='13.5 g/dL' regiment='VPRIV every other week'\n"
     ]
    },
    {
     "name": "stderr",
     "output_type": "stream",
     "text": [
      " 31%|███▏      | 10/32 [9:51:37<21:20:17, 3491.71s/it]"
     ]
    },
    {
     "name": "stdout",
     "output_type": "stream",
     "text": [
      "You are a professional medical practicioner with a medical degree. Other doctors send you clinical trial reports from which you need to extract:\n",
      "\n",
      "1. The primary outcome measure and measured value\n",
      "2. The therapeutic treatment regiment used to achieve the primary outcome\n",
      "\n",
      "# EXAMPLE\n",
      "CLINICAL_TRIAL: The median overall survival was 9.0 months in the triplet-therapy group and 5.4 months in the control group (hazard ratio for death, 0.52; 95% confidence interval [CI], 0.39 to 0.70; P<0.001). The confirmed response rate was 26% (95% CI, 18 to 35) in the triplet-therapy group and 2% (95% CI, 0 to 7) in the control group (P<0.001). The median overall survival in the doublet-therapy group was 8.4 months (hazard ratio for death vs. control, 0.60; 95% CI, 0.45 to 0.79; P<0.001). Adverse events of grade 3 or higher occurred in 58% of patients in the triplet-therapy group, in 50% in the doublet-therapy group, and in 61% in the control group.\n",
      "RESULT: {\"outcome\": \"Median overall survival\", \"value\": \"9.0 months\", \"regiment\":\"triplet-therapy group\"}\n",
      "\n",
      "# OUTPUT INSTRUCTIONS Answer in valid JSON. Here are different objects relevant for the output:\n",
      "\n",
      "ClinicalOutcome:\n",
      "    outcome (str): name of the primary outcome measure\n",
      "    value (str): the value that was measured from the outcome\n",
      "    regiment (str): the therapeutic treatment strategy used to obtain the outcome\n",
      "\n",
      "# OUTPUT\n",
      "\n",
      "CLINICAL_TRIAL: 14 CLINICAL STUDIES 14.1 Monotherapy Dutasteride 0.5 mg/day (n = 2,167) or placebo (n = 2,158) was evaluated in male subjects with BPH in three 2-year multicenter, placebo-controlled, double-blind trials, each with 2-year open-label extensions (n = 2,340). More than 90% of the trial population was white. Subjects were aged at least 50 years with a serum PSA ≥1.5 ng/mL and <10 ng/mL and BPH diagnosed by medical history and physical examination, including enlarged prostate (≥30 cc) and BPH symptoms that were moderate to severe according to the American Urological Association Symptom Index (AUA-SI). Most of the 4,325 subjects randomly assigned to receive either dutasteride or placebo completed 2 years of double-blind treatment (70% and 67%, respectively). Most of the 2,340 subjects in the trial extensions completed 2 additional years of open-label treatment (71%). Effect on Symptom Scores Symptoms were quantified using the AUA-SI, a questionnaire that evaluates urinary symptoms (incomplete emptying, frequency, intermittency, urgency, weak stream, straining, and nocturia) by rating on a 0 to 5 scale for a total possible score of 35, with higher numerical total symptom scores representing greater severity of symptoms. The baseline AUA-SI score across the 3 trials was approximately 17 units in both treatment groups. Subjects receiving dutasteride achieved statistically significant improvement in symptoms versus placebo by Month 3 in 1 trial and by Month 12 in the other 2 pivotal trials. At Month 12, the mean decrease from baseline in AUA-SI total symptom scores across the 3 trials pooled was -3.3 units for dutasteride and -2.0 units for placebo with a mean difference between the 2 treatment groups of -1.3 (range: -1.1 to -1.5 units in each of the 3 trials, P <0.001) and was consistent across the 3 trials. At Month 24, the mean decrease from baseline was -3.8 units for dutasteride and -1.7 units for placebo with a mean difference of -2.1 (range: -1.9 to -2.2 units in each of the 3 trials, P <0.001). See Figure 1. The improvement in BPH symptoms seen during the first 2 years of double-blind treatment was maintained throughout an additional 2 years of open-label extension trials. These trials were prospectively designed to evaluate effects on symptoms based on prostate size at baseline. In men with prostate volumes ≥40 cc, the mean decrease was -3.8 units for dutasteride and -1.6 units for placebo, with a mean difference between the 2 treatment groups of -2.2 at Month 24. In men with prostate volumes <40 cc, the mean decrease was -3.7 units for dutasteride and -2.2 units for placebo, with a mean difference between the 2 treatment groups of -1.5 at Month 24. Figure 1. AUA-SI Score a Change from Baseline (Randomized, Double-blind Placebo-Controlled Trials Pooled) a AUA-SI score ranges from 0 to 35. figure-1 Effect on Acute Urinary Retention and the Need for BPH-Related Surgery Efficacy was also assessed after 2 years of treatment by the incidence of AUR requiring catheterization and BPH-related urological surgical intervention. Compared with placebo, dutasteride were associated with a statistically significantly lower incidence of AUR (1.8% for dutasteride versus 4.2% for placebo, P <0.001; 57% reduction in risk, [95% CI: 38% to 71%]) and with a statistically significantly lower incidence of surgery (2.2% for dutasteride versus 4.1% for placebo, P <0.001; 48% reduction in risk, [95% CI: 26% to 63%]). See Figures 2 and 3. Figure 2. Percent of Subjects Developing Acute Urinary Retention over a 24-Month Period (Randomized, Double-blind, Placebo-Controlled Trials Pooled) Figure 3. Percent of Subjects Having Surgery for Benign Prostatic Hyperplasia over a 24-Month Period (Randomized, Double-blind, Placebo-Controlled Trials Pooled) figure-2 figure-3 Effect on Prostate Volume A prostate volume of at least 30 cc measured by transrectal ultrasound was required for trial entry. The mean prostate volume at trial entry was approximately 54 cc. Statistically significant differences (dutasteride versus placebo) were noted at the earliest post-treatment prostate volume measurement in each trial (Month 1, Month 3, or Month 6) and continued through Month 24. At Month 12, the mean percent change in prostate volume across the 3 trials pooled was -24.7% for dutasteride and -3.4% for placebo; the mean difference (dutasteride minus placebo) was -21.3% (range: -21.0% to -21.6% in each of the 3 trials, P <0.001). At Month 24, the mean percent change in prostate volume across the 3 trials pooled was -26.7% for dutasteride and -2.2% for placebo with a mean difference of -24.5% (range: -24.0% to -25.1% in each of the 3 trials, P <0.001). See Figure 4. The reduction in prostate volume seen during the first 2 years of double-blind treatment was maintained throughout an additional 2 years of open-label extension trials. Figure 4. Prostate Volume Percent Change from Baseline (Randomized, Double-blind, Placebo-Controlled Trials Pooled) figure-4 Effect on Maximum Urine Flow Rate A mean peak urine flow rate (Q max ) of ≤15 mL/sec was required for trial entry. Q max was approximately 10 mL/sec at baseline across the 3 pivotal trials. Differences between the 2 groups were statistically significant from baseline at Month 3 in all 3 trials and were maintained through Month 12. At Month 12, the mean increase in Q max across the 3 trials pooled was 1.6 mL/sec for dutasteride and 0.7 mL/sec for placebo; the mean difference (dutasteride minus placebo) was 0.8 mL/sec (range: 0.7 to 1.0 mL/sec in each of the 3 trials, P <0.001). At Month 24, the mean increase in Q max was 1.8 mL/sec for dutasteride and 0.7 mL/sec for placebo, with a mean difference of 1.1 mL/sec (range: 1.0 to 1.2 mL/sec in each of the 3 trials, P <0.001). See Figure 5. The increase in maximum urine flow rate seen during the first 2 years of double-blind treatment was maintained throughout an additional 2 years of open-label extension trials. Figure 5. Q max Change from Baseline (Randomized, Double-blind, Placebo-Controlled Trials Pooled) figure-5 Summary of Clinical Trials Data from 3 large, well-controlled efficacy trials demonstrate that treatment with dutasteride capsules (0.5 mg once daily) reduces the risk of both AUR and BPH-related surgical intervention relative to placebo, improves BPH-related symptoms, decreases prostate volume, and increases maximum urinary flow rates. These data suggest that dutasteride arrests the disease process of BPH in men with an enlarged prostate. 14.2 Combination with Alpha-blocker Therapy (CombAT) The efficacy of combination therapy (dutasteride capsules 0.5 mg/day plus tamsulosin 0.4 mg/day, n = 1,610) was compared with dutasteride alone (n = 1,623) or tamsulosin alone (n = 1,611) in a 4-year multicenter, randomized, double-blind trial. Trial entry criteria were similar to the double-blind, placebo-controlled monotherapy efficacy trials described in Section 14.1. Eighty-eight percent (88%) of the enrolled trial population was white. Approximately 52% of subjects had previous exposure to 5 alpha-reductase-inhibitor or alpha-adrenergic-antagonist treatment. Of the 4,844 subjects randomly assigned to receive treatment, 69% of subjects in the combination group, 67% in the group receiving dutasteride, and 61% in the tamsulosin group completed 4 years of double-blind treatment. Effect on Symptom Score Symptoms were quantified using the first 7 questions of the International Prostate Symptom Score (IPSS) (identical to the AUA-SI). The baseline score was approximately 16.4 units for each treatment group. Combination therapy was statistically superior to each of the monotherapy treatments in decreasing symptom score at Month 24, the primary time point for this endpoint. At Month 24 the mean changes from baseline (±SD) in IPSS total symptom scores were -6.2 (±7.14) for combination, -4.9 (±6.81) for dutasteride, and -4.3 (±7.01) for tamsulosin, with a mean difference between combination and dutasteride of -1.3 units ( P <0.001; [95% CI: -1.69, -0.86]), and between combination and tamsulosin of -1.8 units ( P <0.001; [95% CI: -2.23, -1.40]). A significant difference was seen by Month 9 and continued through Month 48. At Month 48 the mean changes from baseline (±SD) in IPSS total symptom scores were -6.3 (±7.40) for combination, -5.3 (±7.14) for dutasteride, and -3.8 (±7.74) for tamsulosin, with a mean difference between combination and dutasteride of -0.96 units ( P <0.001; [95% CI: -1.40, -0.52]), and between combination and tamsulosin of -2.5 units ( P <0.001; [95% CI: -2.96, -2.07]). See Figure 6. Figure 6. International Prostate Symptom Score Change from Baseline over a 48-Month Period (Randomized, Double-blind, Parallel-Group Trial [CombAT Trial]) figure-6 Effect on Acute Urinary Retention or the Need for BPH-Related Surgery After 4 years of treatment, combination therapy with dutasteride and tamsulosin did not provide benefit over monotherapy with dutasteride in reducing the incidence of AUR or BPH-related surgery. Effect on Maximum Urine Flow Rate The baseline Q max was approximately 10.7 mL/sec for each treatment group. Combination therapy was statistically superior to each of the monotherapy treatments in increasing Q max at Month 24, the primary time point for this endpoint. At Month 24, the mean increases from baseline (±SD) in Q max were 2.4 (±5.26) mL/sec for combination, 1.9 (±5.10) mL/sec for dutasteride, and 0.9 (±4.57) mL/sec for tamsulosin, with a mean difference between combination and dutasteride of 0.5 mL/sec ( P = 0.003; [95% CI: 0.17, 0.84]), and between combination and tamsulosin of 1.5 mL/sec ( P <0.001; [95% CI: 1.19, 1.86]). This difference was seen by Month 6 and continued through Month 24. See Figure 7. The additional improvement in Q max of combination therapy over monotherapy with dutasteride was no longer statistically significant at Month 48. Figure 7. Q max Change from Baseline over a 24-Month Period (Randomized, Double-blind, Parallel-Group Trial [CombAT Trial]) figure-7 Effect on Prostate Volume The mean prostate volume at trial entry was approximately 55 cc. At Month 24, the primary time point for this endpoint, the mean percent changes from baseline (±SD) in prostate volume were -26.9% (±22.57) for combination therapy, -28.0% (±24.88) for dutasteride, and 0% (±31.14) for tamsulosin, with a mean difference between combination and dutasteride of 1.1% (P = NS; [95% CI: -0.6, 2.8]), and between combination and tamsulosin of -26.9% ( P <0.001; [95% CI: -28.9, -24.9]). Similar changes were seen at Month 48: -27.3% (±24.91) for combination therapy, -28.0% (±25.74) for dutasteride, and +4.6% (±35.45) for tamsulosin.\n",
      "RESULT: \n",
      "outcome='Symptom scores' value='6.2 units' regiment='combination therapy'\n"
     ]
    },
    {
     "name": "stderr",
     "output_type": "stream",
     "text": [
      " 34%|███▍      | 11/32 [10:46:07<19:58:19, 3423.79s/it]"
     ]
    },
    {
     "name": "stdout",
     "output_type": "stream",
     "text": [
      "You are a professional medical practicioner with a medical degree. Other doctors send you clinical trial reports from which you need to extract:\n",
      "\n",
      "1. The primary outcome measure and measured value\n",
      "2. The therapeutic treatment regiment used to achieve the primary outcome\n",
      "\n",
      "# EXAMPLE\n",
      "CLINICAL_TRIAL: The median overall survival was 9.0 months in the triplet-therapy group and 5.4 months in the control group (hazard ratio for death, 0.52; 95% confidence interval [CI], 0.39 to 0.70; P<0.001). The confirmed response rate was 26% (95% CI, 18 to 35) in the triplet-therapy group and 2% (95% CI, 0 to 7) in the control group (P<0.001). The median overall survival in the doublet-therapy group was 8.4 months (hazard ratio for death vs. control, 0.60; 95% CI, 0.45 to 0.79; P<0.001). Adverse events of grade 3 or higher occurred in 58% of patients in the triplet-therapy group, in 50% in the doublet-therapy group, and in 61% in the control group.\n",
      "RESULT: {\"outcome\": \"Median overall survival\", \"value\": \"9.0 months\", \"regiment\":\"triplet-therapy group\"}\n",
      "\n",
      "# OUTPUT INSTRUCTIONS Answer in valid JSON. Here are different objects relevant for the output:\n",
      "\n",
      "ClinicalOutcome:\n",
      "    outcome (str): name of the primary outcome measure\n",
      "    value (str): the value that was measured from the outcome\n",
      "    regiment (str): the therapeutic treatment strategy used to obtain the outcome\n",
      "\n",
      "# OUTPUT\n",
      "\n",
      "CLINICAL_TRIAL: 14 CLINICAL STUDIES 14.1 H. pylori Eradication to Reduce the Risk of Duodenal Ulcer Recurrence Randomized, double-blind clinical studies performed in the United States in patients with H. pylori and duodenal ulcer disease (defined as an active ulcer or history of an ulcer within 1 year) evaluated the efficacy of lansoprazole in combination with amoxicillin capsules and clarithromycin tablets as triple 14-day therapy, or in combination with amoxicillin capsules as dual 14-day therapy, for the eradication of H. pylori . Based on the results of these studies, the safety and efficacy of 2 different eradication regimens were established: Triple Therapy: Amoxicillin 1 gram twice daily/clarithromycin 500 mg twice daily/lansoprazole 30 mg twice daily ( see Table 6 ). Dual Therapy: Amoxicillin 1 gram three times daily/lansoprazole 30 mg three times daily ( see Table 7 ). All treatments were for 14 days. H. pylori eradication was defined as 2 negative tests (culture and histology) at 4 to 6 weeks following the end of treatment. Triple therapy was shown to be more effective than all possible dual therapy combinations. Dual therapy was shown to be more effective than both monotherapies. Eradication of H. pylori has been shown to reduce the risk of duodenal ulcer recurrence. Table 6. H. pylori Eradication Rates When Amoxicillin is Administered as Part of a Triple Therapy Regimen a This analysis was based on evaluable patients with confirmed duodenal ulcer (active or within 1 year) and H. pylori infection at baseline defined as at least 2 of 3 positive endoscopic tests from CLOtest ® , histology, and/or culture. Patients were included in the analysis if they completed the study. Additionally, if patients dropped out of the study due to an adverse event related to the study drug, they were included in the analysis as failures of therapy. b Patients were included in the analysis if they had documented H. pylori infection at baseline as defined above and had a confirmed duodenal ulcer (active or within 1 year). All dropouts were included as failures of therapy. Study Triple Therapy Triple Therapy Evaluable Analysis a [95% Confidence Interval] (number of patients) Intent-to-Treat Analysis b [95% Confidence Interval] (number of patients) Study 1 92 [80 to 97.7] (n = 48) 86 [73.3 to 93.5] (n = 55) Study 2 86 [75.7 to 93.6] (n = 66) 83 [72 to 90.8] (n = 70) Table 7. H. pylori Eradication Rates When Amoxicillin is Administered as Part of a Dual Therapy Regimen a This analysis was based on evaluable patients with confirmed duodenal ulcer (active or within 1 year) and H. pylori infection at baseline defined as at least 2 of 3 positive endoscopic tests from CLOtest ® , histology, and/or culture. Patients were included in the analysis if they completed the study. Additionally, if patients dropped out of the study due to an adverse event related to the study drug, they were included in the analysis as failures of therapy. b Patients were included in the analysis if they had documented H. pylori infection at baseline as defined above and had a confirmed duodenal ulcer (active or within 1 year). All dropouts were included as failures of therapy. Study Dual Therapy Dual Therapy Evaluable Analysis a [95% Confidence Interval] (number of patients) Intent-to-Treat Analysis b [95% Confidence Interval] (number of patients) Study 1 77 [62.5 to 87.2] (n = 51) 70 [56.8 to 81.2] (n = 60) Study 2 66 [51.9 to 77.5] (n = 58) 61 [48.5 to 72.9] (n = 67)\n",
      "RESULT: \n",
      "outcome='H. pylori Eradication' value='92%' regiment='Triple therapy group'\n"
     ]
    },
    {
     "name": "stderr",
     "output_type": "stream",
     "text": [
      " 38%|███▊      | 12/32 [11:57:43<20:29:45, 3689.26s/it]"
     ]
    },
    {
     "name": "stdout",
     "output_type": "stream",
     "text": [
      "You are a professional medical practicioner with a medical degree. Other doctors send you clinical trial reports from which you need to extract:\n",
      "\n",
      "1. The primary outcome measure and measured value\n",
      "2. The therapeutic treatment regiment used to achieve the primary outcome\n",
      "\n",
      "# EXAMPLE\n",
      "CLINICAL_TRIAL: The median overall survival was 9.0 months in the triplet-therapy group and 5.4 months in the control group (hazard ratio for death, 0.52; 95% confidence interval [CI], 0.39 to 0.70; P<0.001). The confirmed response rate was 26% (95% CI, 18 to 35) in the triplet-therapy group and 2% (95% CI, 0 to 7) in the control group (P<0.001). The median overall survival in the doublet-therapy group was 8.4 months (hazard ratio for death vs. control, 0.60; 95% CI, 0.45 to 0.79; P<0.001). Adverse events of grade 3 or higher occurred in 58% of patients in the triplet-therapy group, in 50% in the doublet-therapy group, and in 61% in the control group.\n",
      "RESULT: {\"outcome\": \"Median overall survival\", \"value\": \"9.0 months\", \"regiment\":\"triplet-therapy group\"}\n",
      "\n",
      "# OUTPUT INSTRUCTIONS Answer in valid JSON. Here are different objects relevant for the output:\n",
      "\n",
      "ClinicalOutcome:\n",
      "    outcome (str): name of the primary outcome measure\n",
      "    value (str): the value that was measured from the outcome\n",
      "    regiment (str): the therapeutic treatment strategy used to obtain the outcome\n",
      "\n",
      "# OUTPUT\n",
      "\n",
      "CLINICAL_TRIAL: 14 CLINICAL STUDIES 14.1 Treatment of CMV Retinitis In a retrospective, non-randomized, single-center analysis of 41 patients with AIDS and CMV retinitis diagnosed by ophthalmologic examination between August 1983 and April 1988, treatment with ganciclovir for injection solution resulted in a delay in mean (median) time to first retinitis progression compared to untreated controls [105 (71) days from diagnosis vs 35 (29) days from diagnosis]. Patients in this series received induction treatment of ganciclovir for injection 5 mg/kg twice daily for 14 to 21 days followed by maintenance treatment with either 5 mg/kg once daily, 7 days per week or 6 mg/kg once daily, 5 days per week. In a controlled, randomized study conducted between February 1989 and December 1990, immediate treatment with ganciclovir was compared to delayed treatment in 42 patients with AIDS and peripheral CMV retinitis; 35 of 42 patients (13 in the immediate-treatment group and 22 in the delayed-treatment group) were included in the analysis of time to retinitis progression. Based on masked assessment of fundus photographs, the mean [95% CI] and median [95% CI] times to progression of retinitis were 66 days [39, 94] and 50 days [40, 84], respectively, in the immediate-treatment group compared to 19 days [11, 27] and 13.5 days [8, 18], respectively, in the delayed-treatment group. Data from trials ICM 1653, ICM 1774, and AVI 034, which were performed comparing ganciclovir for injection to oral ganciclovir for treatment of CMV retinitis in patients with AIDS, are shown in Table 12 and Figures 1, 2, and 3, and are discussed below. Table 12. Population Characteristics in Studies ICM 1653, ICM 1774 and AVI 034 Demographics ICM 1653 (n=121) ICM 1774 (n=225) AVI 034 (n=159) Median age (years) Range 38 24 to 62 37 22 to 56 39 23 to 62 Sex Males 116 (96%) 222 (99%) 148 (93%) Females 5 (4%) 3 (1%) 10 (6%) Ethnicity Asian 3 (3%) 5 (2%) 7 (4%) Black 11 (9%) 9 (4%) 3 (2%) Caucasian 98 (81%) 186 (83%) 140 (88%) Other 9 (7%) 25 (11%) 8 (5%) Median CD4 Count Range 9.5 0 to 141 7 0 to 80 10 0 to 320 Mean (SD) Observation Time (days) 107.9 (43) 97.6 (42.5) 80.9 (47) Trial ICM 1653: In this randomized, open-label, parallel group trial, conducted between March 1991 and November 1992, patients with AIDS and newly diagnosed CMV retinitis received a 3-week induction course of ganciclovir for injection solution, 5 mg/kg twice daily for 14 days followed by 5 mg/kg once daily for 1 additional week. Following the 21-day intravenous induction course, patients with stable CMV retinitis were randomized to receive 20 weeks of maintenance treatment with either ganciclovir for injection solution, 5 mg/kg once daily, or ganciclovir capsules, 500 mg 6 times daily (3000 mg/day). The study showed that the mean [95% CI] and median [95% CI] times to progression of CMV retinitis, as assessed by masked reading of fundus photographs, were 57 days [44, 70] and 29 days [28, 43], respectively, for patients on oral therapy compared to 62 days [50, 73] and 49 days [29, 61], respectively, for patients on intravenous therapy. The difference [95% CI] in the mean time to progression between the oral and intravenous therapies (oral - IV) was -5 days [-22, 12]. See Figure 1 for comparison of the proportion of patients remaining free of progression over time. Trial ICM 1774: In this three-arm, randomized, open-label, parallel group trial, conducted between June 1991 and August 1993, patients with AIDS and stable CMV retinitis following from 4 weeks to 4 months of treatment with ganciclovir for injection solution were randomized to receive maintenance treatment with ganciclovir for injection solution, 5 mg/kg once daily, ganciclovir capsules, 500 mg 6 times daily, or ganciclovir capsules, 1000 mg three times daily for 20 weeks. The study showed that the mean [95% CI] and median [95% CI] times to progression of CMV retinitis, as assessed by masked reading of fundus photographs, were 54 days [48, 60] and 42 days [31, 54], respectively, for patients on oral therapy compared to 66 days [56, 76] and 54 days [41, 69], respectively, for patients on intravenous therapy. The difference [95% CI] in the mean time to progression between the oral and intravenous therapies (oral - IV) was -12 days [­ 24, 0]. See Figure 2 for comparison of the proportion of patients remaining free of progression over time. Trial AVI 034: In this randomized, open-label, parallel group trial, conducted between June 1991 and February 1993, patients with AIDS and newly diagnosed (81%) or previously treated (19%) CMV retinitis who had tolerated 10 to 21 days of induction treatment with ganciclovir for injection, 5 mg/kg twice daily, were randomized to receive 20 weeks of maintenance treatment with either ganciclovir capsules, 500 mg 6 times daily or ganciclovir for injection solution, 5 mg/kg/day. The mean [95% CI] and median [95% CI] times to progression of CMV retinitis, as assessed by masked reading of fundus photographs, were 51 days [44, 57] and 41 days [31, 45], respectively, for patients on oral therapy compared to 62 days [52, 72] and 60 days [42, 83], respectively, for patients on intravenous therapy. The difference [95% CI] in the mean time to progression between the oral and intravenous therapies (oral - IV) was -11 days [-24, 1]. See Figure 3 for comparison of the proportion of patients remaining free of progression over time. Comparison of other CMV retinitis outcomes between oral and IV formulations (development of bilateral retinitis, progression into Zone 1, and deterioration of visual acuity), while not definitive, showed no marked differences between treatment groups in these studies. Because of low event rates among these endpoints, these studies are underpowered to rule out significant differences in these endpoints. Figure 1 Trial ICM 1653: Time to Progression of CMV Retinitis Figure 1 Figure 2 Trial ICM 1774: Time to Progression of CMV Retinitis Figure 2 Figure 3 Trial AVI 034: Time to Progression of Retinitis Figure 3 Figure 1 Figure 2 Figure 3 14.2 Prevention of CMV Disease in Transplant Recipients Ganciclovir was evaluated in three randomized, controlled trials of prevention of CMV disease in organ transplant recipients. Trial ICM 1496: In a randomized, double-blind, placebo-controlled study of 149 heart transplant recipients at risk for CMV infection (CMV seropositive or a seronegative recipient of an organ from a CMV seropositive donor), there was a reduction in the overall incidence of CMV disease in patients treated with ganciclovir. Immediately post-transplant, patients received ganciclovir for injection solution 5 mg/kg twice daily for 14 days followed by 6 mg/kg once daily for 5 days/week for an additional 14 days. Twelve of the 76 (16%) patients treated with ganciclovir vs 31 of the 73 (43%) placebo-treated patients developed CMV disease during the 120-day post-transplant observation period. No significant differences in hematologic toxicities were seen between the two treatment groups [see Adverse Reactions ( 6.1 )] . Trial ICM 1689: In a randomized, double-blind, placebo-controlled study of 72 bone marrow transplant recipients with asymptomatic CMV infection (CMV positive culture of urine, throat or blood) there was a reduction in the incidence of CMV disease in patients treated with ganciclovir following successful hematopoietic engraftment. Patients with virologic evidence of CMV infection received ganciclovir for injection solution 5 mg/kg twice daily for 7 days followed by 5 mg/kg once daily through day 100 post-transplant. One of the 37 (3%) patients treated with ganciclovir vs 15 of the 35 (43%) placebo-treated patients developed CMV disease during the study. At 6 months post-transplant, there continued to be a reduction in the incidence of CMV disease in patients treated with ganciclovir. Six of 37 (16%) patients treated with ganciclovir vs 15 of the 35 (43%) placebo-treated patients developed disease through 6 months post- transplant. The overall rate of survival was higher in the group treated with ganciclovir, both at day 100 and day 180 post-transplant. Although the differences in hematologic toxicities were not statistically significant, the incidence of neutropenia was higher in the group treated with ganciclovir [ see Adverse Reactions ( 6.1 ) ] . Trial ICM 1570: This was a randomized, unblinded study evaluated 40 allogeneic bone marrow transplant recipients at risk for CMV disease. Patients underwent bronchoscopy and bronchoalveolar lavage (BAL) on day 35 post-transplant. Patients with histologic, immunologic or virologic evidence of CMV infection in the lung were then randomized to observation or treatment with ganciclovir for injection solution (5 mg/kg twice daily for 14 days followed by 5 mg/kg once daily 5 days/week until day 120). Four of 20 (20%) patients treated with ganciclovir and 14 of 20 (70%) control patients developed interstitial pneumonia. The incidence of CMV disease was lower in the group treated with ganciclovir, consistent with the results observed in ICM 1689.\n",
      "RESULT: \n",
      "outcome='Median time to first retinitis progression' value='105 days' regiment='ganciclovir for injection solution induction treatment'\n"
     ]
    },
    {
     "name": "stderr",
     "output_type": "stream",
     "text": [
      " 41%|████      | 13/32 [12:54:18<18:59:59, 3599.99s/it]"
     ]
    },
    {
     "name": "stdout",
     "output_type": "stream",
     "text": [
      "You are a professional medical practicioner with a medical degree. Other doctors send you clinical trial reports from which you need to extract:\n",
      "\n",
      "1. The primary outcome measure and measured value\n",
      "2. The therapeutic treatment regiment used to achieve the primary outcome\n",
      "\n",
      "# EXAMPLE\n",
      "CLINICAL_TRIAL: The median overall survival was 9.0 months in the triplet-therapy group and 5.4 months in the control group (hazard ratio for death, 0.52; 95% confidence interval [CI], 0.39 to 0.70; P<0.001). The confirmed response rate was 26% (95% CI, 18 to 35) in the triplet-therapy group and 2% (95% CI, 0 to 7) in the control group (P<0.001). The median overall survival in the doublet-therapy group was 8.4 months (hazard ratio for death vs. control, 0.60; 95% CI, 0.45 to 0.79; P<0.001). Adverse events of grade 3 or higher occurred in 58% of patients in the triplet-therapy group, in 50% in the doublet-therapy group, and in 61% in the control group.\n",
      "RESULT: {\"outcome\": \"Median overall survival\", \"value\": \"9.0 months\", \"regiment\":\"triplet-therapy group\"}\n",
      "\n",
      "# OUTPUT INSTRUCTIONS Answer in valid JSON. Here are different objects relevant for the output:\n",
      "\n",
      "ClinicalOutcome:\n",
      "    outcome (str): name of the primary outcome measure\n",
      "    value (str): the value that was measured from the outcome\n",
      "    regiment (str): the therapeutic treatment strategy used to obtain the outcome\n",
      "\n",
      "# OUTPUT\n",
      "\n",
      "CLINICAL_TRIAL: 14 CLINICAL STUDIES In relatively short-term clinical trials, adult obese subjects instructed in dietary management and treated with “anorectic” drugs lost more weight on the average than those treated with placebo and diet. The magnitude of increased weight loss of drug-treated patients over placebo-treated patients is only a fraction of a pound a week. The rate of weight loss is greatest in the first weeks of therapy for both drug and placebo subjects and tends to decrease in succeeding weeks. The possible origins of the increased weight loss due to the various drug effects are not established. The amount of weight loss associated with the use of an “anorectic” drug varies from trial to trial, and the increased weight loss appears to be related in part to variables other than the drugs prescribed, such as the physician-investigator, the population treated and the diet prescribed. Studies do not permit conclusions as to the relative importance of the drug and non-drug factors on weight loss. The natural history of obesity is measured over several years, whereas the studies cited are restricted to a few weeks’ duration; thus, the total impact of drug-induced weight loss over that of diet alone must be considered clinically limited.\n",
      "RESULT: \n",
      "outcome='average weight loss' value='fraction of a pound a week' regiment='drug-treated patients'\n"
     ]
    },
    {
     "name": "stderr",
     "output_type": "stream",
     "text": [
      " 44%|████▍     | 14/32 [14:07:47<19:13:21, 3844.54s/it]"
     ]
    },
    {
     "name": "stdout",
     "output_type": "stream",
     "text": [
      "You are a professional medical practicioner with a medical degree. Other doctors send you clinical trial reports from which you need to extract:\n",
      "\n",
      "1. The primary outcome measure and measured value\n",
      "2. The therapeutic treatment regiment used to achieve the primary outcome\n",
      "\n",
      "# EXAMPLE\n",
      "CLINICAL_TRIAL: The median overall survival was 9.0 months in the triplet-therapy group and 5.4 months in the control group (hazard ratio for death, 0.52; 95% confidence interval [CI], 0.39 to 0.70; P<0.001). The confirmed response rate was 26% (95% CI, 18 to 35) in the triplet-therapy group and 2% (95% CI, 0 to 7) in the control group (P<0.001). The median overall survival in the doublet-therapy group was 8.4 months (hazard ratio for death vs. control, 0.60; 95% CI, 0.45 to 0.79; P<0.001). Adverse events of grade 3 or higher occurred in 58% of patients in the triplet-therapy group, in 50% in the doublet-therapy group, and in 61% in the control group.\n",
      "RESULT: {\"outcome\": \"Median overall survival\", \"value\": \"9.0 months\", \"regiment\":\"triplet-therapy group\"}\n",
      "\n",
      "# OUTPUT INSTRUCTIONS Answer in valid JSON. Here are different objects relevant for the output:\n",
      "\n",
      "ClinicalOutcome:\n",
      "    outcome (str): name of the primary outcome measure\n",
      "    value (str): the value that was measured from the outcome\n",
      "    regiment (str): the therapeutic treatment strategy used to obtain the outcome\n",
      "\n",
      "# OUTPUT\n",
      "\n",
      "CLINICAL_TRIAL: Clinical Studies Tretinoin capsules have been investigated in 114 previously treated APL patients and in 67 previously untreated (“de novo”) patients in one open-label, uncontrolled single investigator clinical study (Memorial Sloan-Kettering Cancer Center [MSKCC]) and in two cohorts of compassionate cases treated by multiple investigators under the auspices of the National Cancer Institute (NCI). All patients received 45 mg/m 2 /day as a divided oral dose for up to 90 days or 30 days beyond the day that CR was reached. Results are shown in the following table: MSKCC NCI Cohort 1 NCI Cohort 2 Relapsed N=20 De Novo n=15 Relapsed* n=48 De Novo n=14 Relapsed n=46 De Novo† n=38 Complete Remission 16 (80%) 11 (73%) 24 (50%) 5 (36%) 24 (52%) 26 (68%) Median Survival (Mo) 10.8 NR 5.8 0.5 8.8 NR Median Follow-up (Mo) 9.9 42.9 5.6 1.2 8.0 13.1 RA-APL Syndrome 4 (20%) 5 (33%) 10 (21%) 6 (43%) NA NA NR = Not Reached NA = Not Available * Including 9 chemorefractory patients † Including 8 patients who received chemotherapy but failed to enter remission The median time to CR was between 40 and 50 days (range: 2 to 120 days). Most patients in these studies received cytotoxic chemotherapy during the remission phase. These results compare to the 30% to 50% CR rate and ≤6 month median survival reported for cytotoxic chemotherapy of APL in the treatment of relapse. Ten of 15 pediatric cases achieved CR (8 of 10 males and 2 of 5 females). There were insufficient patients of black, Hispanic or Asian derivation to estimate relative response rates in these groups, but responses were seen in each category. Responses were seen in 3 of 4 patients for whom cytogenetic analysis failed to detect the t(15;17) translocation typically seen in APL. The t(15;17) translocation results in the PML/RARα gene, which appears necessary for this disease. Molecular genetic studies were not conducted in these cases, but it is likely they represent cases with a masked translocation giving rise to PML/RARα. Responses to tretinoin have not been observed in cases in which PML/RARα fusion has been shown to be absent.\n",
      "RESULT: \n",
      "outcome='Median overall survival' value='10.8 months' regiment='up to 90 days or 30 days beyond the day that CR was reached'\n"
     ]
    },
    {
     "name": "stderr",
     "output_type": "stream",
     "text": [
      " 47%|████▋     | 15/32 [14:57:15<16:54:26, 3580.37s/it]"
     ]
    },
    {
     "name": "stdout",
     "output_type": "stream",
     "text": [
      "You are a professional medical practicioner with a medical degree. Other doctors send you clinical trial reports from which you need to extract:\n",
      "\n",
      "1. The primary outcome measure and measured value\n",
      "2. The therapeutic treatment regiment used to achieve the primary outcome\n",
      "\n",
      "# EXAMPLE\n",
      "CLINICAL_TRIAL: The median overall survival was 9.0 months in the triplet-therapy group and 5.4 months in the control group (hazard ratio for death, 0.52; 95% confidence interval [CI], 0.39 to 0.70; P<0.001). The confirmed response rate was 26% (95% CI, 18 to 35) in the triplet-therapy group and 2% (95% CI, 0 to 7) in the control group (P<0.001). The median overall survival in the doublet-therapy group was 8.4 months (hazard ratio for death vs. control, 0.60; 95% CI, 0.45 to 0.79; P<0.001). Adverse events of grade 3 or higher occurred in 58% of patients in the triplet-therapy group, in 50% in the doublet-therapy group, and in 61% in the control group.\n",
      "RESULT: {\"outcome\": \"Median overall survival\", \"value\": \"9.0 months\", \"regiment\":\"triplet-therapy group\"}\n",
      "\n",
      "# OUTPUT INSTRUCTIONS Answer in valid JSON. Here are different objects relevant for the output:\n",
      "\n",
      "ClinicalOutcome:\n",
      "    outcome (str): name of the primary outcome measure\n",
      "    value (str): the value that was measured from the outcome\n",
      "    regiment (str): the therapeutic treatment strategy used to obtain the outcome\n",
      "\n",
      "# OUTPUT\n",
      "\n",
      "CLINICAL_TRIAL: 14 CLINICAL STUDIES 14.1 Secondary Hyperparathyroidism in Patients with Chronic Kidney Disease on Dialysis Three 6-month, multicenter, randomized, double-blind, placebo-controlled clinical studies of similar design were conducted in patients with CKD on dialysis. A total of 665 patients were randomized to cinacalcet and 471 patients to placebo. The mean age of the patients was 54 years, 62% were male, and 52% were Caucasian. The average baseline iPTH level by the Nichols IRMA was 712 pg/mL, with 26% of the patients having a baseline iPTH level > 800 pg/mL. The mean baseline Ca x P product was 61 mg 2 /dL 2 . The average duration of dialysis prior to study enrollment was 67 months. Ninety-six percent of patients were on hemodialysis and 4% on peritoneal dialysis. At study entry, 66% of the patients were receiving vitamin D sterols and 93% were receiving phosphate binders. Cinacalcet (or placebo) was initiated at a dose of 30 mg once daily and titrated every 3 or 4 weeks to a maximum dose of 180 mg once daily to achieve an iPTH of ≤ 250 pg/mL. The dose was not increased if a patient had any of the following: iPTH ≤ 200 pg/mL, serum calcium < 7.8 mg/dL, or any symptoms of hypocalcemia. If a patient experienced symptoms of hypocalcemia or had a serum calcium < 8.4 mg/dL, calcium supplements and/or calcium-based phosphate binders could be increased. If these measures were insufficient, the vitamin D dose could be increased. Approximately 70% of patients in the cinacalcet arm and 80% of the patients in the placebo arm completed the 6-month studies. In the primary efficacy analysis, 40% of the patients on cinacalcet and 5% of placebo-treated patients achieved an iPTH ≤ 250 pg/mL (p < 0.001) (Table 7, Figure 1). These studies showed that cinacalcet reduced iPTH while lowering Ca x P, calcium, and phosphorus levels (Table 7, Figure 2). The median dose of cinacalcet at the completion of the studies was 90 mg. Patients with milder disease typically required lower doses. Similar results were observed when either the iPTH or biointact PTH (biPTH) assay was used to measure PTH levels in CKD patients on dialysis; treatment with cinacalcet did not alter the relationship between iPTH and biPTH. Table 7. Effects of Cinacalcet on iPTH, Ca x P, Serum Calcium, and Serum Phosphorus in 6-month Phase 3 Studies (Patients on Dialysis) Study 1 Study 2 Study 3 Placebo (n = 205) Cinacalcet (n = 205) Placebo (n = 165) Cinacalcet (n = 166) Placebo (n = 101) Cinacalcet (n = 294) iPTH Baseline (pg/mL): Median Mean (SD) 535 651(398) 537 636 (341) 556 630 (317) 547 652 (372) 670 832 (486) 703 848 (685) Evaluation Phase (pg/mL) 563 275 592 238 737 339 Median Percent Change +3.8 -48.3 +8.4 -54.1 +2.3 -48.2 Patients Achieving Primary Endpoint (iPTH ≤ 250 pg/mL) (%) a 4% 41%** 7% 46%** 6% 35%** Patients Achieving ≥ 30% Reduction in iPTH (%) a 11% 61% 12% 68% 10% 59% Patients Achieving iPTH ≤ 250 pg/mL and Ca x P < 55 mg 2 /dL 2 (%) 1% 32% 5% 35% 5% 28% Ca x P Baseline (mg 2 /dL 2 ) 62 61 61 61 61 59 Evaluation Phase (mg 2 /dL 2 ) 59 52 59 47 57 48 Median Percent Change -2.0 -14.9 -3.1 -19.7 -4.8 -15.7 Calcium Baseline (mg/dL) 9.8 9.8 9.9 10.0 9.9 9.8 Evaluation Phase (mg/dL) 9.9 9.1 9.9 9.1 10.0 9.1 Median Percent Change +0.5 -5.5 +0.1 -7.4 +0.3 -6.0 Phosphorus Baseline (mg/dL) 6.3 6.1 6.1 6.0 6.1 6.0 Evaluation Phase (mg/dL) 6.0 5.6 5.9 5.1 5.6 5.3 Median Percent Change -1.0 -9.0 -2.4 -12.4 -5.6 -8.6 ** p < 0.001 compared with placebo; p-values presented for primary endpoint only. a iPTH value based on averaging over the evaluation phase (defined as weeks 13 to 26 in studies 1 and 2 and weeks 17 to 26 in study 3). Values shown are medians unless indicated otherwise. Figure 1. Mean (SE) iPTH Values (Pooled Phase 3 Studies) Data are presented for patients who completed the studies; Placebo (n = 342), Cinacalcet (n = 439). Figure 2. Mean (SE) Ca x P Values (Pooled Phase 3 Studies) Data are presented for patients who completed the studies; Placebo (n = 342), Cinacalcet (n = 439). Reductions in iPTH and Ca x P were maintained for up to 12 months of treatment. Cinacalcet decreased iPTH and Ca x P levels regardless of disease severity (i.e., baseline iPTH value), duration of dialysis, and whether or not vitamin D sterols were administered. Approximately 60% of patients with mild (iPTH ≥ 300 to ≤ 500 pg/mL), 41% with moderate (iPTH > 500 to 800 pg/mL), and 11% with severe (iPTH > 800 pg/mL) secondary HPT achieved a mean iPTH value of ≤ 250 pg/mL. Plasma iPTH levels were measured using the Nichols IRMA. 14.2 Parathyroid Carcinoma Twenty-nine patients with Parathyroid Carcinoma were enrolled in a single-arm, open-label study. The study consisted of two phases, a dose-titration phase and a maintenance phase. Patients initially received 30 mg cinacalcet twice daily and then were titrated every 2 weeks to a maximum dose of 90 mg four times daily. Dosage escalation during the variable-length (2 to 16 weeks) titration phase continued until the serum calcium concentration was ≤ 10 mg/dL (2.5 mmol/L), the patient reached the highest possible dosage, or adverse events precluded further dosage increases. Twenty-nine patients entered the study. The median exposure to cinacalcet was 229 days (range: 1 to 1,051). At baseline the mean (SE) serum calcium was 14.1 (0.4) mg/dL. At the end of the titration phase, the mean (SE) serum calcium was 12.4 (0.5) mg/dL, which is a mean reduction of 1.7 (0.6) mg/dL from baseline. Figure 3 illustrates mean serum calcium (mg/dL) over time for all patients still on study at each time point from the beginning of titration to study visit week 80. Daily dose during the study ranged from 30 mg twice daily to 90 mg four times daily. Figure 3. Serum Calcium Values in Patients with Parathyroid Carcinoma Receiving Cinacalcet at Baseline, Titration, and Maintenance Phase n = Number of patients with non-missing values at the timepoint. End of Titration (EOT) phase could occur at any visit from week 2 to 16. Patients at EOT are those who completed titration. 14.3 Patients with Hypercalcemia Due to Primary Hyperparathyroidism Seventeen patients with severe hypercalcemia due to primary HPT, who had failed or had contraindications to parathyroidectomy, participated in an open-label, single-arm study. The study consisted of two phases, a dose-titration phase and a maintenance phase. In this trial, severe hypercalcemia was defined as a screening serum calcium level of > 12.5 mg/dL. Patients initially received 30 mg cinacalcet twice daily and then were titrated every 2 weeks to a maximum dose of 90 mg 4 times daily. Dosage escalation during the variable-length (2 to 16 weeks) titration phase continued until the serum calcium concentration was ≤ 10 mg/dL (2.5 mmol/L), the patient reached the highest possible dosage, or adverse events precluded further dosage increases. Seventeen patients entered the study. The median exposure to cinacalcet was 270 days (range: 32 to 1,105). At baseline the mean (SE) serum calcium was 12.7 (0.2) mg/dL. At the end of the titration phase the mean (SE) serum calcium was 10.4 (0.3) mg/dL, which is a mean reduction of 2.3 (0.3) mg/dL from baseline. Figure 4 illustrates mean serum calcium (mg/dL) over time for all patients still on study at each time point from the beginning of titration to study visit week 80. Daily dose during the study ranged from 30 mg twice a day to 90 mg four times a day. Figure 4. Mean Serum Calcium (SE) at Baseline, End of Titration, and Scheduled Maintenance Visits (Patients with Severe intractable primary HPT) n = Number of patients with non-missing values at the timepoint. End of Titration (EOT) phase could occur at any visit from week 2 to 16. Patients at EOT are those who completed titration. Sixty-seven patients with primary HPT who met criteria for parathyroidectomy on the basis of corrected total serum calcium (> 11.3 mg/dL [2.82 mmol/L] and ≤ 12.5 mg/dL [3.12 mmol/L]), but who were unable to undergo parathyroidectomy participated in a randomized, double-blind, placebo-controlled study. A total of 33 patients were randomized to cinacalcet and 34 patients randomized to placebo. The mean age of the patients was 72 years, 52% were female, 61% were Caucasian, and 5% were Blacks. The study started with a 12-week titration phase, followed by a 16-week efficacy-assessment phase. Cinacalcet was initiated at a dose of 30 mg twice daily and titrated to maintain a corrected total serum calcium concentration within the normal range. During the efficacy period a significantly higher percentage of cinacalcet-treated patients compared with the placebo-treated patients achieved mean corrected total serum calcium concentration (≤ 10.3 mg/dL [2.57 mmol/L], 75.8% vs 0%, p < 0.001) and ≥ 1 mg/dL [0.25 mmol/L] decrease from baseline in mean corrected total serum calcium concentration (84.8% vs 5.9%, p < 0.001). The median dose of cinacalcet at the completion of the study was 60 mg/day.\n",
      "RESULT: \n",
      "outcome='Deduction' value='0.3' regiment='90 mg four times daily'\n"
     ]
    },
    {
     "name": "stderr",
     "output_type": "stream",
     "text": [
      " 50%|█████     | 16/32 [16:34:33<18:55:55, 4259.73s/it]"
     ]
    },
    {
     "name": "stdout",
     "output_type": "stream",
     "text": [
      "You are a professional medical practicioner with a medical degree. Other doctors send you clinical trial reports from which you need to extract:\n",
      "\n",
      "1. The primary outcome measure and measured value\n",
      "2. The therapeutic treatment regiment used to achieve the primary outcome\n",
      "\n",
      "# EXAMPLE\n",
      "CLINICAL_TRIAL: The median overall survival was 9.0 months in the triplet-therapy group and 5.4 months in the control group (hazard ratio for death, 0.52; 95% confidence interval [CI], 0.39 to 0.70; P<0.001). The confirmed response rate was 26% (95% CI, 18 to 35) in the triplet-therapy group and 2% (95% CI, 0 to 7) in the control group (P<0.001). The median overall survival in the doublet-therapy group was 8.4 months (hazard ratio for death vs. control, 0.60; 95% CI, 0.45 to 0.79; P<0.001). Adverse events of grade 3 or higher occurred in 58% of patients in the triplet-therapy group, in 50% in the doublet-therapy group, and in 61% in the control group.\n",
      "RESULT: {\"outcome\": \"Median overall survival\", \"value\": \"9.0 months\", \"regiment\":\"triplet-therapy group\"}\n",
      "\n",
      "# OUTPUT INSTRUCTIONS Answer in valid JSON. Here are different objects relevant for the output:\n",
      "\n",
      "ClinicalOutcome:\n",
      "    outcome (str): name of the primary outcome measure\n",
      "    value (str): the value that was measured from the outcome\n",
      "    regiment (str): the therapeutic treatment strategy used to obtain the outcome\n",
      "\n",
      "# OUTPUT\n",
      "\n",
      "CLINICAL_TRIAL: 14 CLINICAL STUDIES Pantoprazole sodium delayed-release tablets were used in the following clinical trials. 14.1 Erosive Esophagitis (EE) Associated with Gastroesophageal Reflux Disease (GERD) Adult Patients A US multicenter, double-blind, placebo-controlled study of pantoprazole 10 mg, 20 mg, or 40 mg once daily was conducted in 603 patients with reflux symptoms and endoscopically diagnosed EE of grade 2 or above (Hetzel-Dent scale). In this study, approximately 25% of enrolled patients had severe EE of grade 3, and 10% had grade 4. The percentages of patients healed (per protocol, n = 541) in this study are shown in Table 8. Table 8: Erosive Esophagitis Healing Rates (Per Protocol) ––––––––––––––– Pantoprazole ––––––––––––––– Placebo Week 10 mg daily (n = 153) 20 mg daily (n = 158) 40 mg daily (n = 162) (n = 68) 4 8 45.6% + 66.0% + 58.4% + # 83.5 % + # 75.0% + * 92.6% + * 14.3% 39.7% + (p < 0.001) pantoprazole versus placebo * (p < 0.05) versus 10 mg or 20 mg pantoprazole # (p < 0.05) versus 10 mg pantoprazole In this study, all pantoprazole treatment groups had significantly greater healing rates than the placebo group. This was true regardless of H. pylori status for the 40 mg and 20 mg pantoprazole treatment groups. The 40 mg dose of pantoprazole resulted in healing rates significantly greater than those found with either the 20 mg or 10 mg dose. A significantly greater proportion of patients taking pantoprazole 40 mg experienced complete relief of daytime and nighttime heartburn and the absence of regurgitation, starting from the first day of treatment, compared with placebo. Patients taking pantoprazole consumed significantly fewer antacid tablets per day than those taking placebo. Pantoprazole 40 mg and 20 mg once daily were also compared with nizatidine 150 mg twice daily in a US multicenter, double-blind study of 243 patients with reflux symptoms and endoscopically diagnosed EE of grade 2 or above. The percentages of patients healed (per protocol, n = 212) are shown in Table 9. Table 9: Erosive Esophagitis Healing Rates (Per Protocol) –––––––––––– Pantoprazole –––––––––––– Nizatidine Week 20 mg daily (n = 72) 40 mg daily (n = 70) 150 mg twice daily (n = 70) 4 8 61.4% + 79.2% + 64.0% + 82.9% + 22.2% 41.4% + (p < 0.001) pantoprazole versus nizatidine Once-daily treatment with pantoprazole 40 mg or 20 mg resulted in significantly superior rates of healing at both 4 and 8 weeks compared with twice-daily treatment with 150 mg of nizatidine. For the 40 mg treatment group, significantly greater healing rates compared to nizatidine were achieved regardless of the H. pylori status. A significantly greater proportion of the patients in the pantoprazole treatment groups experienced complete relief of nighttime heartburn and regurgitation, starting on the first day and of daytime heartburn on the second day, compared with those taking nizatidine 150 mg twice daily. Patients taking pantoprazole consumed significantly fewer antacid tablets per day than those taking nizatidine. Pediatric Patients Ages 5 Years through 16 Years The efficacy of pantoprazole in the treatment of EE associated with GERD in pediatric patients ages 5 years through 16 years is extrapolated from adequate and well-conducted trials in adults, as the pathophysiology is thought to be the same. Four pediatric patients with endoscopically diagnosed EE were studied in multicenter, randomized, double-blind, parallel-treatment trials. Children with endoscopically diagnosed EE (defined as an endoscopic Hetzel-Dent score ≥2) were treated once daily for 8 weeks with one of two dose levels of pantoprazole (20 mg or 40 mg). All 4 patients with EE were healed (Hetzel-Dent score of 0 or 1) at 8 weeks. 14.2 Long-Term Maintenance of Healing of Erosive Esophagitis Two independent, multicenter, randomized, double-blind, comparator-controlled trials of identical design were conducted in adult GERD patients with endoscopically confirmed healed EE to demonstrate efficacy of pantoprazole in long-term maintenance of healing. The two US studies enrolled 386 and 404 patients, respectively, to receive either 10 mg, 20 mg, or 40 mg of pantoprazole sodium delayed-release tablets once daily or 150 mg of ranitidine twice daily. As demonstrated in Table 10, pantoprazole 40 mg and 20 mg were significantly superior to ranitidine at every timepoint with respect to the maintenance of healing. In addition, pantoprazole 40 mg was superior to all other treatments studied. Table 10: Long-Term Maintenance of Healing of Erosive Gastroesophageal Reflux Disease (GERD Maintenance): Percentage of Patients Who Remained Healed Pantoprazole 20 mg daily Pantoprazole 40 mg daily Ranitidine 150 mg twice daily Study 1 n = 75 n = 74 n = 75 Month 1 91 * 99 * 68 Month 3 82 * 93 *# 54 Month 6 76 * 90 *# 44 Month 12 70 * 86 *# 35 Study 2 n = 74 n = 88 n = 84 Month 1 89 * 92 *# 62 Month 3 78 * 91 *# 47 Month 6 72 * 88 *# 39 Month 12 72 * 83 * 37 * (p <0.05 vs. ranitidine) # (p <0.05 vs. pantoprazole 20 mg) Note: pantoprazole 10 mg was superior (p <0.05) to ranitidine in Study 2, but not Study 1. Pantoprazole 40 mg was superior to ranitidine in reducing the number of daytime and nighttime heartburn episodes from the first through the twelfth month of treatment. Pantoprazole 20 mg, administered once daily, was also effective in reducing episodes of daytime and nighttime heartburn in one trial, as presented in Table 11. Table 11: Number of Episodes of Heartburn (mean ± SD) Pantoprazole 40 mg daily Ranitidine 150 mg twice daily Month 1 Daytime Nighttime 5.1 ± 1.6 * 3.9 ± 1.1 * 18.3 ± 1.6 11.9 ± 1.1 Month 12 Daytime Nighttime 2.9 ± 1.5 * 2.5 ± 1.2 * 17.5 ± 1.5 13.8 ± 1.3 *(p <0.001 vs. ranitidine, combined data from the two US studies) 14.3 Pathological Hypersecretory Conditions Including Zollinger-Ellison Syndrome In a multicenter, open-label trial of 35 patients with pathological hypersecretory conditions, such as Zollinger-Ellison Syndrome, with or without multiple endocrine neoplasia-type I, pantoprazole successfully controlled gastric acid secretion. Doses ranging from 80 mg daily to 240 mg daily maintained gastric acid output below 10 mEq/h in patients without prior acid-reducing surgery and below 5 mEq/h in patients with prior acid-reducing surgery. Doses were initially titrated to the individual patient needs, and adjusted in some patients based on the clinical response with time [see Dosage and Administration ( 2 )]. Pantoprazole was well tolerated at these dose levels for prolonged periods (greater than 2 years in some patients).\n",
      "RESULT: \n",
      "outcome='Erosive Esophagitis (EE), Maintenance of Healing' value='86% in Pantoprazole when compared to Ranitidine' regiment='Pantoprazole 40 mg daily'\n"
     ]
    },
    {
     "name": "stderr",
     "output_type": "stream",
     "text": [
      " 53%|█████▎    | 17/32 [17:54:13<18:24:03, 4416.22s/it]"
     ]
    },
    {
     "name": "stdout",
     "output_type": "stream",
     "text": [
      "You are a professional medical practicioner with a medical degree. Other doctors send you clinical trial reports from which you need to extract:\n",
      "\n",
      "1. The primary outcome measure and measured value\n",
      "2. The therapeutic treatment regiment used to achieve the primary outcome\n",
      "\n",
      "# EXAMPLE\n",
      "CLINICAL_TRIAL: The median overall survival was 9.0 months in the triplet-therapy group and 5.4 months in the control group (hazard ratio for death, 0.52; 95% confidence interval [CI], 0.39 to 0.70; P<0.001). The confirmed response rate was 26% (95% CI, 18 to 35) in the triplet-therapy group and 2% (95% CI, 0 to 7) in the control group (P<0.001). The median overall survival in the doublet-therapy group was 8.4 months (hazard ratio for death vs. control, 0.60; 95% CI, 0.45 to 0.79; P<0.001). Adverse events of grade 3 or higher occurred in 58% of patients in the triplet-therapy group, in 50% in the doublet-therapy group, and in 61% in the control group.\n",
      "RESULT: {\"outcome\": \"Median overall survival\", \"value\": \"9.0 months\", \"regiment\":\"triplet-therapy group\"}\n",
      "\n",
      "# OUTPUT INSTRUCTIONS Answer in valid JSON. Here are different objects relevant for the output:\n",
      "\n",
      "ClinicalOutcome:\n",
      "    outcome (str): name of the primary outcome measure\n",
      "    value (str): the value that was measured from the outcome\n",
      "    regiment (str): the therapeutic treatment strategy used to obtain the outcome\n",
      "\n",
      "# OUTPUT\n",
      "\n",
      "CLINICAL_TRIAL: 14 CLINICAL STUDIES In controlled clinical trials involving over 100 patients who received drug, 82% of patients treated for functional bowel/irritable bowel syndrome with dicyclomine hydrochloride at initial doses of 160 mg daily (40 mg 4 times daily) demonstrated a favorable clinical response compared with 55% treated with placebo (p < 0.05).\n",
      "RESULT: \n",
      "outcome='favorable clinical response' value='82%' regiment='160 mg daily (40 mg 4 times daily) dicyclomine hydrochloride'\n"
     ]
    },
    {
     "name": "stderr",
     "output_type": "stream",
     "text": [
      " 56%|█████▋    | 18/32 [18:58:28<16:31:06, 4247.62s/it]"
     ]
    },
    {
     "name": "stdout",
     "output_type": "stream",
     "text": [
      "You are a professional medical practicioner with a medical degree. Other doctors send you clinical trial reports from which you need to extract:\n",
      "\n",
      "1. The primary outcome measure and measured value\n",
      "2. The therapeutic treatment regiment used to achieve the primary outcome\n",
      "\n",
      "# EXAMPLE\n",
      "CLINICAL_TRIAL: The median overall survival was 9.0 months in the triplet-therapy group and 5.4 months in the control group (hazard ratio for death, 0.52; 95% confidence interval [CI], 0.39 to 0.70; P<0.001). The confirmed response rate was 26% (95% CI, 18 to 35) in the triplet-therapy group and 2% (95% CI, 0 to 7) in the control group (P<0.001). The median overall survival in the doublet-therapy group was 8.4 months (hazard ratio for death vs. control, 0.60; 95% CI, 0.45 to 0.79; P<0.001). Adverse events of grade 3 or higher occurred in 58% of patients in the triplet-therapy group, in 50% in the doublet-therapy group, and in 61% in the control group.\n",
      "RESULT: {\"outcome\": \"Median overall survival\", \"value\": \"9.0 months\", \"regiment\":\"triplet-therapy group\"}\n",
      "\n",
      "# OUTPUT INSTRUCTIONS Answer in valid JSON. Here are different objects relevant for the output:\n",
      "\n",
      "ClinicalOutcome:\n",
      "    outcome (str): name of the primary outcome measure\n",
      "    value (str): the value that was measured from the outcome\n",
      "    regiment (str): the therapeutic treatment strategy used to obtain the outcome\n",
      "\n",
      "# OUTPUT\n",
      "\n",
      "CLINICAL_TRIAL: 14 CLINICAL STUDIES Four placebo-controlled clinical studies and one active-controlled clinical study enrolled a total of 2296 patients (1003 received FLOMAX capsules 0.4 mg once daily, 491 received FLOMAX capsules 0.8 mg once daily, and 802 were control patients) in the U.S. and Europe. In the two U.S. placebo-controlled, double-blind, 13-week, multicenter studies (Study 1 [US92-03A] and Study 2 [US93-01]), 1486 men with the signs and symptoms of BPH were enrolled. In both studies, patients were randomized to either placebo, FLOMAX capsules 0.4 mg once daily, or FLOMAX capsules 0.8 mg once daily. Patients in FLOMAX capsules 0.8 mg once-daily treatment groups received a dose of 0.4 mg once daily for one week before increasing to the 0.8 mg once-daily dose. The primary efficacy assessments included: 1) total American Urological Association (AUA) Symptom Score questionnaire, which evaluated irritative (frequency, urgency, and nocturia), and obstructive (hesitancy, incomplete emptying, intermittency, and weak stream) symptoms, where a decrease in score is consistent with improvement in symptoms; and 2) peak urine flow rate, where an increased peak urine flow rate value over baseline is consistent with decreased urinary obstruction. Mean changes from baseline to Week 13 in total AUA Symptom Score were significantly greater for groups treated with FLOMAX capsules 0.4 mg and 0.8 mg once daily compared to placebo in both U.S. studies (Table 3, Figures 2A and 2B). The changes from baseline to Week 13 in peak urine flow rate were also significantly greater for the FLOMAX capsules 0.4 mg and 0.8 mg once-daily groups compared to placebo in Study 1, and for the FLOMAX capsules 0.8 mg once-daily group in Study 2 (Table 3, Figures 3A and 3B). Overall there were no significant differences in improvement observed in total AUA Symptom Scores or peak urine flow rates between the 0.4 mg and the 0.8 mg dose groups with the exception that the 0.8 mg dose in Study 1 had a significantly greater improvement in total AUA Symptom Score compared to the 0.4 mg dose. Table 3: Mean (±S.D.) Changes from Baseline to Week 13 in Total AUA Symptom Score Total AUA Symptom Scores ranged from 0 to 35. and Peak Urine Flow Rate (mL/sec) Total AUA Symptom Score Peak Urine Flow Rate Mean Baseline Value Mean Change Mean Baseline Value Mean Change Week 13: For patients not completing the 13-week study, the last observation was carried forward. Study 1 Peak urine flow rate measured 4 to 8 hours post dose at Week 13. FLOMAX capsules 0.8 mg once daily 19.9 ± 4.9 n=247 -9.6 Statistically significant difference from placebo (p-value ≤0.050; Bonferroni-Holm multiple test procedure). ± 6.7 n=237 9.57 ± 2.51 n=247 1.78 ± 3.35 n=247 FLOMAX capsules 0.4 mg once daily 19.8 ± 5.0 n=254 -8.3 ± 6.5 n=246 9.46 ± 2.49 n=254 1.75 ± 3.57 n=254 Placebo 19.6 ± 4.9 n=254 -5.5 ± 6.6 n=246 9.75 ± 2.54 n=254 0.52 ± 3.39 n=253 Study 2 Peak urine flow rate measured 24 to 27 hours post dose at Week 13. FLOMAX capsules 0.8 mg once daily 18.2 ± 5.6 n=244 -5.8 ± 6.4 n=238 9.96 ± 3.16 n=244 1.79 ± 3.36 n=237 FLOMAX capsules 0.4 mg once daily 17.9 ± 5.8 n=248 -5.1 ± 6.4 n=244 9.94 ± 3.14 n=248 1.52 ± 3.64 n=244 Placebo 19.2 ± 6.0 n=239 -3.6 ± 5.7 n=235 9.95 ± 3.12 n=239 0.93 ± 3.28 n=235 Mean total AUA Symptom Scores for both FLOMAX capsules 0.4 mg and 0.8 mg once-daily groups showed a rapid decrease starting at 1 week after dosing and remained decreased through 13 weeks in both studies (Figures 2A and 2B). In Study 1, 400 patients (53% of the originally randomized group) elected to continue in their originally assigned treatment groups in a double-blind, placebo-controlled, 40-week extension trial (138 patients on 0.4 mg, 135 patients on 0.8 mg, and 127 patients on placebo). Three hundred twenty-three patients (43% of the originally randomized group) completed one year. Of these, 81% (97 patients) on 0.4 mg, 74% (75 patients) on 0.8 mg, and 56% (57 patients) on placebo had a response ≥25% above baseline in total AUA Symptom Score at one year. Figure 2A: Mean Change from Baseline in Total AUA Symptom Score (0–35) Study 1 * indicates significant difference from placebo (p-value ≤0.050). B = Baseline determined approximately one week prior to the initial dose of double-blind medication at Week 0. Subsequent values are observed cases. LOCF = Last observation carried forward for patients not completing the 13-week study. Note: Patients in the 0.8 mg treatment group received 0.4 mg for the first week. Note: Total AUA Symptom Scores range from 0 to 35. Figure 2B: Mean Change from Baseline in Total AUA Symptom Score (0–35) Study 2 * indicates significant difference from placebo (p-value ≤0.050). Baseline measurement was taken Week 0. Subsequent values are observed cases. LOCF = Last observation carried forward for patients not completing the 13-week study. Note: Patients in the 0.8 mg treatment group received 0.4 mg for the first week. Note: Total AUA Symptom Scores range from 0 to 35. Figure 3A: Mean Increase in Peak Urine Flow Rate (mL/Sec) Study 1 * indicates significant difference from placebo (p-value ≤0.050). B = Baseline determined approximately one week prior to the initial dose of double-blind medication at Week 0. Subsequent values are observed cases. LOCF = Last observation carried forward for patients not completing the 13-week study. Note: The uroflowmetry assessments at Week 0 were recorded 4 to 8 hours after patients received the first dose of double-blind medication. Measurements at each visit were scheduled 4 to 8 hours after dosing (approximate peak plasma tamsulosin concentration). Note: Patients in the 0.8 mg treatment groups received 0.4 mg for the first week. Figure 3B: Mean Increase in Peak Urine Flow Rate (mL/Sec) Study 2 * indicates significant difference from placebo (p-value ≤0.050). Baseline measurement was taken Week 0. Subsequent values are observed cases. LOCF = Last observation carried forward for patients not completing the 13-week study. Note: Patients in the 0.8 mg treatment group received 0.4 mg for the first week. Note: Week 1 and Week 2 measurements were scheduled 4 to 8 hours after dosing (approximate peak plasma tamsulosin concentration). All other visits were scheduled 24 to 27 hours after dosing (approximate trough tamsulosin concentration). Figure 2A Figure 2B Figure 3A Figure 3B\n",
      "RESULT: \n",
      "outcome='Total AUA Symptom Score' value='-8.3' regiment='FLOMAX capsules 0.4 mg once daily'\n"
     ]
    },
    {
     "name": "stderr",
     "output_type": "stream",
     "text": [
      " 59%|█████▉    | 19/32 [19:53:32<14:18:56, 3964.36s/it]"
     ]
    },
    {
     "name": "stdout",
     "output_type": "stream",
     "text": [
      "You are a professional medical practicioner with a medical degree. Other doctors send you clinical trial reports from which you need to extract:\n",
      "\n",
      "1. The primary outcome measure and measured value\n",
      "2. The therapeutic treatment regiment used to achieve the primary outcome\n",
      "\n",
      "# EXAMPLE\n",
      "CLINICAL_TRIAL: The median overall survival was 9.0 months in the triplet-therapy group and 5.4 months in the control group (hazard ratio for death, 0.52; 95% confidence interval [CI], 0.39 to 0.70; P<0.001). The confirmed response rate was 26% (95% CI, 18 to 35) in the triplet-therapy group and 2% (95% CI, 0 to 7) in the control group (P<0.001). The median overall survival in the doublet-therapy group was 8.4 months (hazard ratio for death vs. control, 0.60; 95% CI, 0.45 to 0.79; P<0.001). Adverse events of grade 3 or higher occurred in 58% of patients in the triplet-therapy group, in 50% in the doublet-therapy group, and in 61% in the control group.\n",
      "RESULT: {\"outcome\": \"Median overall survival\", \"value\": \"9.0 months\", \"regiment\":\"triplet-therapy group\"}\n",
      "\n",
      "# OUTPUT INSTRUCTIONS Answer in valid JSON. Here are different objects relevant for the output:\n",
      "\n",
      "ClinicalOutcome:\n",
      "    outcome (str): name of the primary outcome measure\n",
      "    value (str): the value that was measured from the outcome\n",
      "    regiment (str): the therapeutic treatment strategy used to obtain the outcome\n",
      "\n",
      "# OUTPUT\n",
      "\n",
      "CLINICAL_TRIAL: CLINICAL STUDIES Following therapy with ciprofloxacin ophthalmic solution, 76% of the patients with corneal ulcers and positive bacterial cultures were clinically cured and complete re-epithelialization occurred in about 92% of the ulcers. In 3 and 7 day multicenter clinical trials, 52% of the patients with conjunctivitis and positive conjunctival cultures were clinically cured and 70% to 80% had all causative pathogens eradicated by the end of treatment. In a randomized, double-masked, multicenter, parallel-group clinical trial of pediatric patients with bacterial conjunctivitis, between birth and 31 days of age, patients were dosed with ciprofloxacin or another anti-infective agent. Clinical outcomes for the trial demonstrated a clinical cure rate of 80% at Day 9 and a microbiological eradication success rate of 85% at Day 9. Please note that microbiologic eradication does not always correlate with clinical outcome in anti-infective trials. Rx Only ©2003, 2004, 2006, 2016, 2018 Novartis Manufactured by Alcon Laboratories, Inc. Fort Worth, Texas 76134 for Sandoz Inc. Princeton, NJ 08540 Revised: April 2018 T2019-06 300050715 USG\n",
      "RESULT: \n",
      "outcome=' Clinical cure rate at Day 9' value=' 80%' regiment='ciprofloxacin'\n"
     ]
    },
    {
     "name": "stderr",
     "output_type": "stream",
     "text": [
      " 62%|██████▎   | 20/32 [20:59:19<13:11:47, 3958.94s/it]"
     ]
    },
    {
     "name": "stdout",
     "output_type": "stream",
     "text": [
      "You are a professional medical practicioner with a medical degree. Other doctors send you clinical trial reports from which you need to extract:\n",
      "\n",
      "1. The primary outcome measure and measured value\n",
      "2. The therapeutic treatment regiment used to achieve the primary outcome\n",
      "\n",
      "# EXAMPLE\n",
      "CLINICAL_TRIAL: The median overall survival was 9.0 months in the triplet-therapy group and 5.4 months in the control group (hazard ratio for death, 0.52; 95% confidence interval [CI], 0.39 to 0.70; P<0.001). The confirmed response rate was 26% (95% CI, 18 to 35) in the triplet-therapy group and 2% (95% CI, 0 to 7) in the control group (P<0.001). The median overall survival in the doublet-therapy group was 8.4 months (hazard ratio for death vs. control, 0.60; 95% CI, 0.45 to 0.79; P<0.001). Adverse events of grade 3 or higher occurred in 58% of patients in the triplet-therapy group, in 50% in the doublet-therapy group, and in 61% in the control group.\n",
      "RESULT: {\"outcome\": \"Median overall survival\", \"value\": \"9.0 months\", \"regiment\":\"triplet-therapy group\"}\n",
      "\n",
      "# OUTPUT INSTRUCTIONS Answer in valid JSON. Here are different objects relevant for the output:\n",
      "\n",
      "ClinicalOutcome:\n",
      "    outcome (str): name of the primary outcome measure\n",
      "    value (str): the value that was measured from the outcome\n",
      "    regiment (str): the therapeutic treatment strategy used to obtain the outcome\n",
      "\n",
      "# OUTPUT\n",
      "\n",
      "CLINICAL_TRIAL: 14 CLINICAL STUDIES In clinical studies, sildenafil tablets were assessed for its effect on the ability of men with erectile dysfunction (ED) to engage in sexual activity and in many cases specifically on the ability to achieve and maintain an erection sufficient for satisfactory sexual activity. Sildenafil tablets were evaluated primarily at doses of 25 mg, 50 mg and 100 mg in 21 randomized, double-blind, placebo-controlled trials of up to 6 months in duration, using a variety of study designs (fixed dose, titration, parallel, crossover). Sildenafil tablets were administered to more than 3,000 patients aged 19 to 87 years, with ED of various etiologies (organic, psychogenic, mixed) with a mean duration of 5 years. Sildenafil tablets demonstrated statistically significant improvement compared to placebo in all 21 studies. The studies that established benefit demonstrated improvements in success rates for sexual intercourse compared with placebo. Efficacy Endpoints in Controlled Clinical Studies The effectiveness of sildenafil tablets were evaluated in most studies using several assessment instruments. The primary measure in the principal studies was a sexual function questionnaire (the International Index of Erectile Function - IIEF) administered during a 4-week treatment-free run-in period, at baseline, at follow-up visits, and at the end of double-blind, placebo-controlled, at-home treatment. Two of the questions from the IIEF served as primary study endpoints; categorical responses were elicited to questions about (1) the ability to achieve erections sufficient for sexual intercourse and (2) the maintenance of erections after penetration. The patient addressed both questions at the final visit for the last 4 weeks of the study. The possible categorical responses to these questions were (0) no attempted intercourse, (1) never or almost never, (2) a few times, (3) sometimes, (4) most times, and (5) almost always or always. Also collected as part of the IIEF was information about other aspects of sexual function, including information on erectile function, orgasm, desire, satisfaction with intercourse, and overall sexual satisfaction. Sexual function data were also recorded by patients in a daily diary. In addition, patients were asked a global efficacy question and an optional partner questionnaire was administered. Efficacy Results from Controlled Clinical Studies The effect on one of the major end points, maintenance of erections after penetration, is shown in Figure 6, for the pooled results of 5 fixed-dose, dose-response studies of greater than one month duration, showing response according to baseline function. Results with all doses have been pooled, but scores showed greater improvement at the 50 and 100 mg doses than at 25 mg. The pattern of responses was similar for the other principal question, the ability to achieve an erection sufficient for intercourse. The titration studies, in which most patients received 100 mg, showed similar results. Figure 6 shows that regardless of the baseline levels of function, subsequent function in patients treated with sildenafil tablets were better than that seen in patients treated with placebo. At the same time, on-treatment function was better in treated patients who were less impaired at baseline. Effect of sildenafil tablets on Maintenance of Erection by Baseline Score Effect of Placebo on Maintenance of Erection by Baseline Score Figure 6. Effect of sildenafil tablets and Placebo on Maintenance of Erection by Baseline Score. The frequency of patients reporting improvement of erections in response to a global question in four of the randomized, double-blind, parallel, placebo-controlled fixed dose studies (1797 patients) of 12 to 24 weeks duration is shown in Figure 7. These patients had erectile dysfunction at baseline that was characterized by median categorical scores of 2 (a few times) on principal IIEF questions. Erectile dysfunction was attributed to organic (58%; generally not characterized, but including diabetes and excluding spinal cord injury), psychogenic (17%), or mixed (24%) etiologies. Sixty-three percent, 74%, and 82% of the patients on 25 mg, 50 mg and 100 mg of sildenafil tablets, respectively, reported an improvement in their erections, compared to 24% on placebo. In the titration studies (n=644) (with most patients eventually receiving 100 mg), results were similar. Overall treatment p<0.0001 Figure 7. Percentage of Patients Reporting an Improvement in Erections. The patients in studies had varying degrees of ED. One-third to one-half of the subjects in these studies reported successful intercourse at least once during a 4-week, treatment-free run-in period. In many of the studies, of both fixed dose and titration designs, daily diaries were kept by patients. In these studies, involving about 1600 patients, analyses of patient diaries showed no effect of sildenafil tablets on rates of attempted intercourse (about 2 per week), but there was clear treatment-related improvement in sexual function: per patient weekly success rates averaged 1.3 on 50-100 mg of sildenafil tablets vs 0.4 on placebo; similarly, group mean success rates (total successes divided by total attempts) were about 66% on sildenafil tablets vs about 20% on placebo. During 3 to 6 months of double-blind treatment or longer-term (1 year), open-label studies, few patients withdrew from active treatment for any reason, including lack of effectiveness. At the end of the long-term study, 88% of patients reported that sildenafil tablets improved their erections. Men with untreated ED had relatively low baseline scores for all aspects of sexual function measured (again using a 5-point scale) in the IIEF. Sildenafil tablets improved these aspects of sexual function: frequency, firmness and maintenance of erections; frequency of orgasm; frequency and level of desire; frequency, satisfaction and enjoyment of intercourse; and overall relationship satisfaction. One randomized, double-blind, flexible-dose, placebo-controlled study included only patients with erectile dysfunction attributed to complications of diabetes mellitus (n=268). As in the other titration studies, patients were started on 50 mg and allowed to adjust the dose up to 100 mg or down to 25 mg of sildenafil tablets; all patients, however, were receiving 50 mg or 100 mg at the end of the study. There were highly statistically significant improvements on the two principal IIEF questions (frequency of successful penetration during sexual activity and maintenance of erections after penetration) on sildenafil tablets compared to placebo. On a global improvement question, 57% of sildenafil tablets patients reported improved erections versus 10% on placebo. Diary data indicated that on sildenafil tablets, 48% of intercourse attempts were successful versus 12% on placebo. One randomized, double-blind, placebo-controlled, crossover, flexible-dose (up to 100 mg) study of patients with erectile dysfunction resulting from spinal cord injury (n=178) was conducted. The changes from baseline in scoring on the two end point questions (frequency of successful penetration during sexual activity and maintenance of erections after penetration) were highly statistically significantly in favor of sildenafil tablets. On a global improvement question, 83% of patients reported improved erections on sildenafil tablets versus 12% on placebo. Diary data indicated that on sildenafil tablets, 59% of attempts at sexual intercourse were successful compared to 13% on placebo. Across all trials, sildenafil tablets improved the erections of 43% of radical prostatectomy patients compared to 15% on placebo. Subgroup analyses of responses to a global improvement question in patients with psychogenic etiology in two fixed-dose studies (total n=179) and two titration studies (total n=149) showed 84% of sildenafil tablets patients reported improvement in erections compared with 26% of placebo. The changes from baseline in scoring on the two end point questions (frequency of successful penetration during sexual activity and maintenance of erections after penetration) were highly statistically significantly in favor of sildenafil tablets . Diary data in two of the studies (n=178) showed rates of successful intercourse per attempt of 70% for sildenafil tablets and 29% for placebo. Efficacy Results in Subpopulations in Controlled Clinical Studies A review of population subgroups demonstrated efficacy regardless of baseline severity, etiology, race and age. Sildenafil citrate was effective in a broad range of ED patients, including those with a history of coronary artery disease, hypertension, other cardiac disease, peripheral vascular disease, diabetes mellitus, depression, coronary artery bypass graft (CABG), radical prostatectomy, transurethral resection of the prostate (TURP) and spinal cord injury, and in patients taking antidepressants/antipsychotics and anti-hypertensives/diuretics. sildenafil_fig6a sildenafil_fig6b sildenafil-fig7\n",
      "RESULT: \n",
      "outcome='ability to achieve and maintain an erection sufficient for satisfactory sexual activity' value=' improved' regiment='sildenafil tablets'\n"
     ]
    },
    {
     "name": "stderr",
     "output_type": "stream",
     "text": [
      " 66%|██████▌   | 21/32 [21:43:15<10:52:59, 3561.77s/it]"
     ]
    },
    {
     "name": "stdout",
     "output_type": "stream",
     "text": [
      "You are a professional medical practicioner with a medical degree. Other doctors send you clinical trial reports from which you need to extract:\n",
      "\n",
      "1. The primary outcome measure and measured value\n",
      "2. The therapeutic treatment regiment used to achieve the primary outcome\n",
      "\n",
      "# EXAMPLE\n",
      "CLINICAL_TRIAL: The median overall survival was 9.0 months in the triplet-therapy group and 5.4 months in the control group (hazard ratio for death, 0.52; 95% confidence interval [CI], 0.39 to 0.70; P<0.001). The confirmed response rate was 26% (95% CI, 18 to 35) in the triplet-therapy group and 2% (95% CI, 0 to 7) in the control group (P<0.001). The median overall survival in the doublet-therapy group was 8.4 months (hazard ratio for death vs. control, 0.60; 95% CI, 0.45 to 0.79; P<0.001). Adverse events of grade 3 or higher occurred in 58% of patients in the triplet-therapy group, in 50% in the doublet-therapy group, and in 61% in the control group.\n",
      "RESULT: {\"outcome\": \"Median overall survival\", \"value\": \"9.0 months\", \"regiment\":\"triplet-therapy group\"}\n",
      "\n",
      "# OUTPUT INSTRUCTIONS Answer in valid JSON. Here are different objects relevant for the output:\n",
      "\n",
      "ClinicalOutcome:\n",
      "    outcome (str): name of the primary outcome measure\n",
      "    value (str): the value that was measured from the outcome\n",
      "    regiment (str): the therapeutic treatment strategy used to obtain the outcome\n",
      "\n",
      "# OUTPUT\n",
      "\n",
      "CLINICAL_TRIAL: 14 CLINICAL STUDIES In U.S. clinical studies, a total of 1137 patients received rocuronium bromide injection, including 176 pediatric, 140 geriatric, 55 obstetric, and 766 other adults. Most patients (90%) were ASA physical status I or II, about 9% were ASA III, and 10 patients (undergoing coronary artery bypass grafting or valvular surgery) were ASA IV. In European clinical studies, a total of 1394 patients received rocuronium bromide injection, including 52 pediatric, 128 geriatric (65 years or greater) and 1214 other adults. 14.1 Adult Patients Intubation using doses of rocuronium bromide 0.6 to 0.85 mg/kg was evaluated in 203 adults in 11 clinical studies. Excellent to good intubating conditions were generally achieved within 2 minutes and maximum block occurred within 3 minutes in most patients. Doses within this range provide clinical relaxation for a median (range) time of 33 (14 to 85) minutes under opioid/nitrous oxide/oxygen anesthesia. Larger doses (0.9 and 1.2 mg/kg) were evaluated in 2 studies with 19 and 16 patients under opioid/nitrous oxide/oxygen anesthesia and provided 58 (27 to 111) and 67 (38 to 160) minutes of clinical relaxation, respectively. Cardiovascular Disease In 1 clinical study, 10 patients with clinically significant cardiovascular disease undergoing coronary artery bypass graft received an initial dose of 0.6 mg/kg rocuronium bromide. Neuromuscular block was maintained during surgery with bolus maintenance doses of 0.3 mg/kg. Following induction, continuous 8 mcg/kg/min infusion of rocuronium bromide produced relaxation sufficient to support mechanical ventilation for 6 to 12 hours in the surgical intensive care unit (SICU) while the patients were recovering from surgery. Rapid Sequence Intubation Intubation was assessed in patients in 6 clinical studies where anesthesia was induced with either thiopental (3 to 6 mg/kg) or propofol (1.5 to 2.5 mg/kg) in combination with either fentanyl (2 to 5 mcg/kg) or alfentanil (1 mg). Most of the patients also received a premedication such as midazolam or temazepam. Most patients had intubation attempted within 60 to 90 seconds of administration of rocuronium bromide 0.6 mg/kg or succinylcholine 1 to 1.5 mg/kg. Excellent or good intubating conditions were achieved in 119/120 (99% [95% confidence interval 95% to 99.9%]) patients receiving rocuronium bromide and in 108/110 (98% [94% to 99.8%]) patients receiving succinylcholine. The duration of action of rocuronium bromide 0.6 mg/kg is longer than succinylcholine and at this dose is approximately equivalent to the duration of other intermediate-acting neuromuscular blocking drugs. Obese Patients Rocuronium bromide was dosed according to actual body weight (ABW) in most clinical studies. The administration of rocuronium bromide in the 47 of 330 (14%) patients who were at least 30% or more above their ideal body weight (IBW) was not associated with clinically significant differences in the onset, duration, recovery, or reversal of rocuronium bromide-induced neuromuscular block. In 1 clinical study in obese patients, rocuronium bromide 0.6 mg/kg was dosed according to ABW (n=12) or IBW (n=11). Obese patients dosed according to IBW had a longer time to maximum block, a shorter median (range) clinical duration of 25 (14 to 29) minutes, and did not achieve intubating conditions comparable to those dosed based on ABW. These results support the recommendation that obese patients be dosed based on actual body weight [see Dosage and Administration (2.6) ]. Obstetric Patients Rocuronium bromide 0.6 mg/kg was administered with thiopental, 3 to 4 mg/kg (n=13) or 4 to 6 mg/kg (n=42), for rapid sequence induction of anesthesia for Cesarean section. No neonate had APGAR scores greater than 7 at 5 minutes. The umbilical venous plasma concentrations were 18% of maternal concentrations at delivery. Intubating conditions were poor or inadequate in 5 of 13 women receiving 3 to 4 mg/kg thiopental when intubation was attempted 60 seconds after drug injection. Therefore, rocuronium bromide is not recommended for rapid sequence induction in Cesarean section patients. 14.2 Geriatric Patients Rocuronium bromide was evaluated in 55 geriatric patients (ages 65 to 80 years) in 6 clinical studies.Doses of 0.6 mg/kg provided excellent to good intubating conditions in a median (range) time of 2.3 (1 to 8) minutes. Recovery times from 25% to 75% after these doses were not prolonged in geriatric patients compared to other adult patients [see Dosage and Administration (2.6) and Use in Specific Populations (8.5) ]. 14.3 Pediatric Patients Rocuronium bromide 0.45, 0.6, or 1 mg/kg was evaluated under sevoflurane (induction) and isoflurane/nitrous oxide (maintenance) anesthesia for intubation in 326 patients in 2 studies. In 1 of these studies maintenance bolus and infusion requirements were evaluated in 137 patients. In all age groups, doses of 0.6 mg/kg provided time to maximum block in about 1 minute. Across all age groups, median (range) time to reappearance of T 3 for doses of 0.6 mg/kg was shortest in the children [36.7 (20.1 to 65.9) minutes] and longest in infants [59.8 (32.3 to 87.8) minutes]. For pediatric patients older than 3 months, the time to recovery was shorter after stopping infusion maintenance when compared with bolus maintenance [see Dosage and Administration (2.6) and Use in Specific Populations (8.4) ]. Rocuronium bromide 0.6 or 0.8 mg/kg was evaluated for intubation in 75 pediatric patients (n=28; age 3 to 12 months, n=47; age 1 to 12 years) in 3 studies using halothane (1% to 5%) and nitrous oxide (60% to 70%) in oxygen. Doses of 0.6 mg/kg provided a median (range) time to maximum block of 1 (0.5 to 3.3) minute(s). This dose provided a median (range) time of clinical relaxation of 41 (24 to 68) minutes in 3-month to 1-year-old infants and 26 (17 to 39) minutes in 1- to 12-year-old pediatric patients [see Dosage and Administration (2.6) and Use in Specific Populations (8.4) ].\n",
      "RESULT: \n",
      "outcome='Median overall survival' value='9.0 months' regiment='triplet-therapy group'\n"
     ]
    },
    {
     "name": "stderr",
     "output_type": "stream",
     "text": [
      " 69%|██████▉   | 22/32 [23:09:40<11:14:51, 4049.14s/it]"
     ]
    },
    {
     "name": "stdout",
     "output_type": "stream",
     "text": [
      "You are a professional medical practicioner with a medical degree. Other doctors send you clinical trial reports from which you need to extract:\n",
      "\n",
      "1. The primary outcome measure and measured value\n",
      "2. The therapeutic treatment regiment used to achieve the primary outcome\n",
      "\n",
      "# EXAMPLE\n",
      "CLINICAL_TRIAL: The median overall survival was 9.0 months in the triplet-therapy group and 5.4 months in the control group (hazard ratio for death, 0.52; 95% confidence interval [CI], 0.39 to 0.70; P<0.001). The confirmed response rate was 26% (95% CI, 18 to 35) in the triplet-therapy group and 2% (95% CI, 0 to 7) in the control group (P<0.001). The median overall survival in the doublet-therapy group was 8.4 months (hazard ratio for death vs. control, 0.60; 95% CI, 0.45 to 0.79; P<0.001). Adverse events of grade 3 or higher occurred in 58% of patients in the triplet-therapy group, in 50% in the doublet-therapy group, and in 61% in the control group.\n",
      "RESULT: {\"outcome\": \"Median overall survival\", \"value\": \"9.0 months\", \"regiment\":\"triplet-therapy group\"}\n",
      "\n",
      "# OUTPUT INSTRUCTIONS Answer in valid JSON. Here are different objects relevant for the output:\n",
      "\n",
      "ClinicalOutcome:\n",
      "    outcome (str): name of the primary outcome measure\n",
      "    value (str): the value that was measured from the outcome\n",
      "    regiment (str): the therapeutic treatment strategy used to obtain the outcome\n",
      "\n",
      "# OUTPUT\n",
      "\n",
      "CLINICAL_TRIAL: 14 CLINICAL STUDIES 14.1 Hypertension Ramipril has been compared with other ACE inhibitors, beta-blockers, and thiazide diuretics as monotherapy for hypertension. It was approximately as effective as other ACE inhibitors and as atenolol. Administration of ramipril to patients with mild to moderate hypertension results in a reduction of both supine and standing blood pressure to about the same extent with no compensatory tachycardia. Symptomatic postural hypotension is infrequent, although it can occur in patients who are salt- and/or volume-depleted [see WARNINGS AND PRECAUTIONS ( 5.5 )] . Use of ramipril in combination with thiazide diuretics gives a blood pressure lowering effect greater than that seen with either agent alone. In single-dose studies, doses of 5 mg to 20 mg of ramipril lowered blood pressure within 1 to 2 hours, with peak reductions achieved 3 to 6 hours after dosing. The antihypertensive effect of a single dose persisted for 24 hours. In longer term (4 to 12 weeks) controlled studies, once-daily doses of 2.5 mg to 10 mg were similar in their effect, lowering supine or standing systolic and diastolic blood pressures 24 hours after dosing by about 6/4 mmHg more than placebo. In comparisons of peak vs. trough effect, the trough effect represented about 50 to 60% of the peak response. In a titration study comparing divided (bid) vs. qd treatment, the divided regimen was superior, indicating that for some patients, the antihypertensive effect with once-daily dosing is not adequately maintained. In most trials, the antihypertensive effect of ramipril increased during the first several weeks of repeated measurements. The antihypertensive effect of ramipril has been shown to continue during long-term therapy for at least 2 years. Abrupt withdrawal of ramipril has not resulted in a rapid increase in blood pressure. Ramipril has been compared with other ACE inhibitors, beta-blockers, and thiazide diuretics. Ramipril was approximately as effective as other ACE inhibitors and as atenolol. In both Caucasians and Blacks, hydrochlorothiazide (25 or 50 mg) was significantly more effective than ramipril. Ramipril was less effective in blacks than in Caucasians. The effectiveness of ramipril was not influenced by age, sex, or weight. In a baseline controlled study of 10 patients with mild essential hypertension, blood pressure reduction was accompanied by a 15% increase in renal blood flow. In healthy volunteers, glomerular filtration rate was unchanged. 14.2 Reduction in Risk of Myocardial Infarction, Stroke, and Death from Cardiovascular Causes The HOPE study was a large, multicenter, randomized, double-blind, placebo-controlled, 2 x 2 factorial design study conducted in 9541 patients (4645 on ramipril) who were 55 years or older and considered at high risk of developing a major cardiovascular event because of a history of coronary artery disease, stroke, peripheral vascular disease, or diabetes that was accompanied by at least one other cardiovascular risk factor (hypertension, elevated total cholesterol levels, low HDL levels, cigarette smoking, or documented microalbuminuria). Patients were either normotensive or under treatment with other antihypertensive agents. Patients were excluded if they had clinical heart failure or were known to have a low ejection fraction (<0.40). This study was designed to examine the long-term (mean of 5 years) effects of ramipril (10 mg orally once daily) on the combined endpoint of myocardial infarction, stroke, or death from cardiovascular causes. The HOPE study results showed that ramipril (10 mg/day) significantly reduced the rate of myocardial infarction, stroke, or death from cardiovascular causes (826/4652 vs. 651/4645, relative risk 0.78), as well as the rates of the 3 components of the combined endpoint. The relative risk of the composite outcomes in the ramipril group as compared to the placebo group was 0.78% (95% confidence interval, 0.70–0.86). The effect was evident after about 1 year of treatment. Table 3. Summary of Combined Components and Endpoints—HOPE Study Outcome Placebo (N=4652) n (%) Ramipril (N=4645) n (%) Relative Risk (95% CI) P-Value Combined Endpoint Myocardial infarction, stroke, or death from cardiovascular cause 826 (17.8%) 651 (14.0%) 0.78 (0.70–0.86) P=0.0001 Component Endpoint Death from cardiovascular causes 377 (8.1%) 282 (6.1%) 0.74 (0.64–0.87) P=0.0002 Myocardial infarction 570 (12.3%) 459 (9.9%) 0.80 (0.70–0.90) P=0.0003 Stroke 226 (4.9%) 156 (3.4%) 0.68 (0.56–0.84) P=0.0002 Overall Mortality Death from any cause 569 (12.2%) 482 (10.4%) 0.84 (0.75–0.95) P=0.005 Figure 1. Kaplan-Meier Estimates of the Composite Outcome of Myocardial Infarction, Stroke, or Death from Cardiovascular Causes in the Ramipril Group and the Placebo Group Ramipril was effective in different demographic subgroups (i.e., gender, age), subgroups defined by underlying disease (e.g., cardiovascular disease, hypertension), and subgroups defined by concomitant medication. There were insufficient data to determine whether or not ramipril was equally effective in ethnic subgroups. This study was designed with a prespecified substudy in diabetics with at least one other cardiovascular risk factor. Effects of ramipril on the combined endpoint and its components were similar in diabetics (N=3577) to those in the overall study population. Table 4. Summary of Combined Endpoints and Components in Diabetics—HOPE Study Outcome Placebo (N=1769) n (%) Ramipril (N=1808) n (%) Relative Risk Reduction (95% CI) P-Value Combined Endpoint Myocardial infarction, stroke, or death from cardiovascular cause 351 (19.8%) 277 (15.3%) 0.25 (0.12–0.36) P=0.0004 Component Endpoint Death from cardiovascular causes 172 (9.7%) 112 (6.2%) 0.37 (0.21–0.51) P=0.0001 Myocardial infarction 229 (12.9%) 185 (10.2%) 0.22 (0.06–0.36) P=0.01 Stroke 108 (6.1%) 76 (4.2%) 0.33 (0.10–0.50) P=0.007 Figure 2. The Beneficial Effect of Treatment with Ramipril on the Composite Outcome of Myocardial Infarction, Stroke, or Death from Cardiovascular Causes Overall and in Various Subgroups Cerebrovascular disease was defined as stroke or transient ischemic attacks. The size of each symbol is proportional to the number of patients in each group. The dashed line indicates overall relative risk. The benefits of Ramipril were observed among patients who were taking aspirin or other antiplatelet agents, beta- blockers, and lipid-lowering agents as well as diuretics and calcium channel blockers. graph1 graph2 14.3 Heart Failure Post-Myocardial Infarction Ramipril was studied in the AIRE trial. This was a multinational (mainly European) 161-center, 2006-patient, double-blind, randomized, parallel-group study comparing ramipril to placebo in stable patients, 2 to 9 days after an acute myocardial infarction, who had shown clinical signs of congestive heart failure at any time after the myocardial infarction. Patients in severe (NYHA class IV) heart failure, patients with unstable angina, patients with heart failure of congenital or valvular etiology, and patients with contraindications to ACE inhibitors were all excluded. The majority of patients had received thrombolytic therapy at the time of the index infarction, and the average time between infarction and initiation of treatment was 5 days. Patients randomized to ramipril treatment were given an initial dose of 2.5 mg twice daily. If the initial regimen caused undue hypotension, the dose was reduced to 1.25 mg, but in either event doses were titrated upward (as tolerated) to a target regimen (achieved in 77% of patients randomized to ramipril) of 5 mg twice daily. Patients were then followed for an average of 15 months, with the range of follow-up between 6 and 46 months. The use of ramipril was associated with a 27% reduction (p=0.002) in the risk of death from any cause; about 90% of the deaths that occurred were cardiovascular, mainly sudden death. The risks of progression to severe heart failure and of congestive heart failure-related hospitalization were also reduced, by 23% (p=0.017) and 26% (p=0.011), respectively. The benefits of ramipril therapy were seen in both genders, and they were not affected by the exact timing of the initiation of therapy, but older patients may have had a greater benefit than those under 65. The benefits were seen in patients on (and not on) various concomitant medications. At the time of randomization these included aspirin (about 80% of patients), diuretics (about 60%), organic nitrates (about 55%), beta-blockers (about 20%), calcium channel blockers (about 15%), and digoxin (about 12%).\n",
      "RESULT: \n",
      "outcome='Risk of myocardial infarction, stroke, or death from cardiovascular causes' value='0.78' regiment='ramipril (10 mg/day)'\n"
     ]
    },
    {
     "name": "stderr",
     "output_type": "stream",
     "text": [
      " 72%|███████▏  | 23/32 [24:16:17<10:05:00, 4033.38s/it]"
     ]
    },
    {
     "name": "stdout",
     "output_type": "stream",
     "text": [
      "You are a professional medical practicioner with a medical degree. Other doctors send you clinical trial reports from which you need to extract:\n",
      "\n",
      "1. The primary outcome measure and measured value\n",
      "2. The therapeutic treatment regiment used to achieve the primary outcome\n",
      "\n",
      "# EXAMPLE\n",
      "CLINICAL_TRIAL: The median overall survival was 9.0 months in the triplet-therapy group and 5.4 months in the control group (hazard ratio for death, 0.52; 95% confidence interval [CI], 0.39 to 0.70; P<0.001). The confirmed response rate was 26% (95% CI, 18 to 35) in the triplet-therapy group and 2% (95% CI, 0 to 7) in the control group (P<0.001). The median overall survival in the doublet-therapy group was 8.4 months (hazard ratio for death vs. control, 0.60; 95% CI, 0.45 to 0.79; P<0.001). Adverse events of grade 3 or higher occurred in 58% of patients in the triplet-therapy group, in 50% in the doublet-therapy group, and in 61% in the control group.\n",
      "RESULT: {\"outcome\": \"Median overall survival\", \"value\": \"9.0 months\", \"regiment\":\"triplet-therapy group\"}\n",
      "\n",
      "# OUTPUT INSTRUCTIONS Answer in valid JSON. Here are different objects relevant for the output:\n",
      "\n",
      "ClinicalOutcome:\n",
      "    outcome (str): name of the primary outcome measure\n",
      "    value (str): the value that was measured from the outcome\n",
      "    regiment (str): the therapeutic treatment strategy used to obtain the outcome\n",
      "\n",
      "# OUTPUT\n",
      "\n",
      "CLINICAL_TRIAL: 14 CLINICAL STUDIES In clinical studies up to 24 months in duration, patients with open-angle glaucoma or ocular hypertension and baseline pressure of 23 to 26 mmHg who were treated with Tafluprost Ophthalmic Solution dosed once daily in the evening demonstrated reductions in intraocular pressure at 3 and 6 months of 6 to 8 mmHg and 5 to 8 mmHg, respectively.\n",
      "RESULT: \n",
      "outcome='Reduction in intraocular pressure' value='5 to 8 mmHg' regiment='Tafluprost Ophthalmic Solution'\n"
     ]
    },
    {
     "name": "stderr",
     "output_type": "stream",
     "text": [
      " 75%|███████▌  | 24/32 [27:39:27<14:24:06, 6480.86s/it]"
     ]
    },
    {
     "name": "stdout",
     "output_type": "stream",
     "text": [
      "You are a professional medical practicioner with a medical degree. Other doctors send you clinical trial reports from which you need to extract:\n",
      "\n",
      "1. The primary outcome measure and measured value\n",
      "2. The therapeutic treatment regiment used to achieve the primary outcome\n",
      "\n",
      "# EXAMPLE\n",
      "CLINICAL_TRIAL: The median overall survival was 9.0 months in the triplet-therapy group and 5.4 months in the control group (hazard ratio for death, 0.52; 95% confidence interval [CI], 0.39 to 0.70; P<0.001). The confirmed response rate was 26% (95% CI, 18 to 35) in the triplet-therapy group and 2% (95% CI, 0 to 7) in the control group (P<0.001). The median overall survival in the doublet-therapy group was 8.4 months (hazard ratio for death vs. control, 0.60; 95% CI, 0.45 to 0.79; P<0.001). Adverse events of grade 3 or higher occurred in 58% of patients in the triplet-therapy group, in 50% in the doublet-therapy group, and in 61% in the control group.\n",
      "RESULT: {\"outcome\": \"Median overall survival\", \"value\": \"9.0 months\", \"regiment\":\"triplet-therapy group\"}\n",
      "\n",
      "# OUTPUT INSTRUCTIONS Answer in valid JSON. Here are different objects relevant for the output:\n",
      "\n",
      "ClinicalOutcome:\n",
      "    outcome (str): name of the primary outcome measure\n",
      "    value (str): the value that was measured from the outcome\n",
      "    regiment (str): the therapeutic treatment strategy used to obtain the outcome\n",
      "\n",
      "# OUTPUT\n",
      "\n",
      "CLINICAL_TRIAL: 14 CLINICAL STUDIES 14.1 Effects on Vasomotor Symptoms in Postmenopausal Women A randomized, double-blind, placebo-controlled trial evaluated the efficacy of 12-week treatment with three different daily doses of estradiol gel for vasomotor symptoms in 495 postmenopausal women (86.5 percent White; 10.1 percent Black) between 34 and 89 years of age (mean age 54.6) who had at least 50 moderate to severe hot flushes per week at baseline (2-week period prior to treatment). Women applied placebo, estradiol gel 0.25 grams (0.25 mg estradiol), estradiol gel 0.5 grams (0.5 mg estradiol) or estradiol gel 1.0 gram (1.0 mg estradiol) once daily to the thigh. Reductions in both the median daily frequency and the median daily severity of moderate to severe hot flushes were statistically significant for the 0.5 grams per day and the 1.0 gram per day estradiol gel doses when compared to placebo at week 4. Statistically significant reductions in both the median daily frequency and the median daily severity of moderate to severe hot flushes for the estradiol gel 0.25 grams per day dose when compared to placebo were delayed to week 7. There were statistically significant reductions in median daily frequency and severity of hot flushes for all three estradiol gel doses (0.25 grams per day, 0.5 grams per day and 1.0 gram per day) compared to placebo at week 12. See Table 3 for results. Table 3: Summary of Change From Baseline in the Median Daily Frequency and Severity of Hot Flushes during Estradiol Gel Treatment (ITT Population) Estradiol Gel Placebo Evaluation 0.25 grams/day N=121 0.5 grams/day N=119 1.0 gram/day N=124 N=124 Frequency of Daily Hot Flushes Baseline Median 9.72 9.24 9.64 9.32 Median Change: Week 4 p-value † -5.00 0.132 -5.73 0.011 -7.20 <0.001 -3.63 Median Change: Week 7 p-value † -6.62 <0.001 -7.14 <0.001 -7.71 <0.001 -4.37 Median Change: Week 12 p-value † -6.88 <0.001 -7.29 <0.001 -8.35 <0.001 -4.48 Severity of Daily Hot Flushes Baseline Median 2.52 2.51 2.52 2.54 Median Change: Week 4 p-value † -0.07 0.283 -0.18 <0.001 -0.47 <0.001 -0.04 Median Change: Week 7 p-value † -0.24 <0.001 -0.46 <0.001 -1.06 <0.001 -0.06 Median Change: Week 12 p-value † -0.33 0.021 -0.56 0.002 -1.69 <0.001 -0.13 † p-values from the van Elteren’s test stratified by pooled center; comparison in median change was significant if p<0.05. 14.2 Women’s Health Initiative Studies The WHI enrolled approximately 27,000 predominantly healthy postmenopausal women in two substudies to assess the risks and benefits of daily oral CE (0.625 mg)-alone or in combination with MPA (2.5 mg) compared to placebo in the prevention of certain chronic diseases. The primary endpoint was the incidence of CHD (defined as nonfatal MI, silent MI and CHD death), with invasive breast cancer as the primary adverse outcome. A \"global index\" included the earliest occurrence of CHD, invasive breast cancer, stroke, PE, endometrial cancer (only in the CE plus MPA substudy), colorectal cancer, hip fracture, or death due to other cause. These substudies did not evaluate the effects of CE-alone or CE plus MPA on menopausal symptoms. WHI Estrogen-Alone Substudy The WHI estrogen-alone substudy was stopped early because an increased risk of stroke was observed, and it was deemed that no further information would be obtained regarding the risks and benefits of estrogen-alone in predetermined primary endpoints. Results of the estrogen-alone substudy, which included 10,739 women (average 63 years of age, range 50 to 79; 75.3 percent White, 15.1 percent Black, 6.1 percent Hispanic, 3.6 percent Other), after an average follow-up of 7.1 years are presented in Table 4. Table 4: Relative And Absolute Risk Seen In The Estrogen-Alone Substudy Of WHI a Event Relative Risk CE vs. Placebo (95% nCl b ) CE n = 5,310 Placebo n = 5,429 Absolute Risk per 10,000 Women-Years CHD events c Nonfatal MI c CHD death c 0.95 (0.78 – 1.16) 0.91 (0.73 – 1.14) 1.01 (0.71 – 1.43) 54 40 16 57 43 16 All strokes c 1.33 (1.05 – 1.68) 45 33 Ischemic stroke c 1.55 (1.19 – 2.01) 38 25 Deep vein thrombosis c,d 1.47 (1.06 – 2.06) 23 15 Pulmonary embolism c 1.37 (0.90 – 2.07) 14 10 Invasive breast cancer c 0.80 (0.62 – 1.04) 28 34 Colorectal cancer e 1.08 (0.75 – 1.55) 17 16 Hip fracture c 0.65 (0.45 – 0.94) 12 19 Vertebral fractures c,d 0.64 (0.44 – 0.93) 11 18 Lower arm/wrist fractures c,d 0.58 (0.47 – 0.72) 35 59 Total fractures c,d 0.71 (0.64 – 0.80) 144 197 Death due to other causes e,f 1.08 (0.88 – 1.32) 53 50 Overall mortality c,d 1.04 (0.88 – 1.22) 79 75 Global Index g 1.02 (0.91 – 1.13) 206 201 a Adapted from numerous WHI publications. WHI publications can be viewed at www.nhlbi.nih.gov/whi. b Nominal confidence intervals unadjusted for multiple looks and multiple comparisons. c Results are based on centrally adjudicated data for an average follow-up of 7.1 years. d Not included in “global index”. e Results are based on an average follow-up of 6.8 years. f All deaths, except from breast or colorectal cancer, definite or probable CHD, PE or cerebrovascular disease. g A subset of the events was combined in a “global index”, defined as the earliest occurrence of CHD events, invasive breast cancer, stroke, pulmonary embolism, colorectal cancer, hip fracture, or death due to other causes. For those outcomes included in the WHI \"global index\" that reached statistical significance, the absolute excess risk per 10,000 women-years in the group treated with CE-alone was 12 more strokes, while the absolute risk reduction per 10,000 women-years was 7 fewer hip fractures. 9 The absolute excess risk of events included in the \"global index\" was a nonsignificant 5 events per 10,000 women-years. There was no difference between the groups in terms of all-cause mortality. No overall difference for primary CHD events (nonfatal MI, silent MI and CHD death) and invasive breast cancer incidence in women receiving CE-alone compared with placebo was reported in final centrally adjudicated results from the estrogen-alone substudy, after an average follow-up of 7.1 years. See Table 4. Centrally adjudicated results for stroke events from the estrogen-alone substudy, after an average follow-up of 7.1 years, reported no significant difference in distribution of stroke subtype or severity, including fatal strokes, in women receiving CE-alone compared to placebo. Estrogen-alone increased the risk for ischemic stroke, and this excess risk was present in all subgroups of women examined. 10 Timing of the initiation of estrogen-alone therapy relative to the start of menopause may affect the overall risk benefit profile. The WHI estrogen-alone substudy stratified by age showed in women 50 to 59 years of age a non-significant trend toward reduced risk for CHD [hazard ratio (HR) 0.63 (95 percent CI, 0.36–1.09)] and overall mortality [HR 0.71 (95 percent CI, 0.46–1.11)] . WHI Estrogen Plus Progestin Substudy The WHI estrogen plus progestin substudy was stopped early. According to the predefined stopping rule, after an average follow-up of 5.6 years of treatment, the increased risk of breast cancer and cardiovascular events exceeded the specified benefits included in the \"global index\". The absolute excess risk of events included in the \"global index\" was 19 per 10,000 women-years. For those outcomes included in the WHI \"global index\" that reached statistical significance after 5.6 years of follow-up, the absolute excess risks per 10,000 women-years in the group treated with CE plus MPA were 7 more CHD events, 8 more strokes, 10 more PEs, and 8 more invasive breast cancers, while the absolute risk reductions per 10,000 women-years were 6 fewer colorectal cancers and 5 fewer hip fractures. Results of the CE plus MPA substudy, which included 16,608 women (average 63 years of age, range 50 to 79; 83.9 percent White, 6.8 percent Black, 5.4 percent Hispanic, 3.9 percent Other), are presented in Table 5. These results reflect centrally adjudicated data after an average follow-up of 5.6 years. Table 5: Relative And Absolute Risk Seen In the Estrogen Plus Progestin Substudy of WHI at an Average of 5.6 Years a,b Event c Relative Risk CE/MPA vs. Placebo (95% nCl c ) CE/MPA n = 8,506 Placebo n = 8,102 Absolute Risk per 10,000 Women-Years CHD events Nonfatal MI CHD death 1.23 (0.99 – 1.53) 1.28 (1.00 – 1.63) 1.10 (0.70 – 1.75) 41 31 8 34 25 8 All strokes 1.31 (1.03 – 1.68) 33 25 Ischemic stroke 1.44 (1.09 – 1.90) 26 18 Deep vein thrombosis d 1.95 (1.43 – 2.67) 26 13 Pulmonary embolism 2.13 (1.45 – 3.11) 18 8 Invasive breast cancer e 1.24 (1.01 – 1.54) 41 33 Colorectal cancer 0.61 (0.42 – 0.87) 10 16 Endometrial cancer d 0.81 (0.48 – 1.36) 6 7 Cervical cancer d 1.44 (0.47 – 4.42) 2 1 Hip fracture 0.67 (0.47 – 0.96) 11 16 Vertebral fractures d 0.65 (0.46 – 0.92) 11 17 Lower arm/wrist fractures d 0.71 (0.59 – 0.85) 44 62 Total fractures d 0.76 (0.69 – 0.83) 152 199 Overall mortality f 1.00 (0.83 – 1.19) 52 52 Global Index g 1.13 (1.02 – 1.25) 184 165 a Adapted from numerous WHI publications. WHI publications can be viewed at www.nhlbi.nih.gov/whi. b Results are based on centrally adjudicated data. c Nominal confidence intervals unadjusted for multiple looks and multiple comparisons. d Not included in “global index”. e Includes metastatic and non-metastatic breast cancer, with the exception of in situ breast cancer. f All deaths, except from breast or colorectal cancer, definite or probable CHD, PE or cerebrovascular disease. g A subset of the events was combined in a “global index”, defined as the earliest occurrence of CHD events, invasive breast cancer, stroke, pulmonary embolism, colorectal cancer, hip fracture, or death due to other causes. Timing of the initiation of estrogen plus progestin therapy relative to the start of menopause may affect the overall risk benefit profile. The WHI estrogen plus progestin substudy stratified for age showed in women 50 to 59 years of age a non-significant trend toward reduced risk for overall mortality [HR 0.69 (95 percent CI, 0.44–1.07)] . 14.3 Women's Health Initiative Memory Study The WHIMS estrogen-alone ancillary study of WHI enrolled 2,947 predominantly healthy hysterectomized postmenopausal women 65 to 79 years of age (45 percent were 65 to 69 years of age, 36 percent were 70 to 74 years of age, and 19 percent were 75 years of age and older) to evaluate the effects of daily CE (0.625 mg)-alone on the incidence of probable dementia (primary outcome) compared to placebo. After an average follow-up of 5.2 years, the relative risk of probable dementia for CE-alone versus placebo was 1.49 (95 percent CI, 0.83–2.66). The absolute risk of probable dementia for CE-alone versus placebo was 37 versus 25 cases per 10,000 women-years. Probable dementia as defined in this study included Alzheimer disease (AD), vascular dementia (VaD) and mixed type (having features of both AD and VaD). The most common classification of probable dementia in the treatment group and the placebo group was AD. Since the ancillary study was conducted in women 65 to 79 years of age, it is unknown whether these findings apply to younger postmenopausal women [see Warnings and Precautions ( 5.3 ), and Use in Specific Populations ( 8.5 )] . The WHIMS estrogen plus progestin ancillary study enrolled 4,532 predominantly healthy postmenopausal women 65 years of age and older (47 percent were 65 to 69 years of age, 35 percent were 70 to 74 years of age, and 18 percent were 75 years of age and older) to evaluate the effects of daily CE (0.625 mg) plus MPA (2.5 mg) on the incidence of probable dementia (primary outcome) compared to placebo. After an average follow-up of 4 years, the relative risk of probable dementia for CE plus MPA versus placebo was 2.05 (95 percent CI, 1.21–3.48). The absolute risk of probable dementia for CE plus MPA versus placebo was 45 versus 22 per 10,000 women-years. Probable dementia as defined in this study included AD, VaD and mixed type (having features of both AD and VaD). The most common classification of probable dementia in the treatment group and the placebo group was AD. Since the ancillary study was conducted in women 65 to 79 years of age, it is unknown whether these findings apply to younger postmenopausal women [see Warnings and Precautions ( 5.3 ), and Use in Specific Populations ( 8.5 )] . When data from the two populations were pooled as planned in the WHIMS protocol, the reported overall relative risk for probable dementia was 1.76 (95 percent CI, 1.19–2.60). Differences between groups became apparent in the first year of treatment. It is unknown whether these findings apply to younger postmenopausal women [see Warnings and Precautions ( 5.3 ), and Use in Specific Populations ( 8.5 )] .\n",
      "RESULT: \n",
      "outcome='median change in daily frequency and severity of hot flushes (itos population) during estradiol gel treatment' value='baseline to week 4: -5.00 (p-value: † 0.132); baseline to week 7: -7.14 (p-value: † 0.001); baseline to week 12: -8.35 (p-value: † 0.001)' regiment='estradiol gel'\n"
     ]
    },
    {
     "name": "stderr",
     "output_type": "stream",
     "text": [
      " 78%|███████▊  | 25/32 [28:53:21<11:24:26, 5866.60s/it]"
     ]
    },
    {
     "name": "stdout",
     "output_type": "stream",
     "text": [
      "You are a professional medical practicioner with a medical degree. Other doctors send you clinical trial reports from which you need to extract:\n",
      "\n",
      "1. The primary outcome measure and measured value\n",
      "2. The therapeutic treatment regiment used to achieve the primary outcome\n",
      "\n",
      "# EXAMPLE\n",
      "CLINICAL_TRIAL: The median overall survival was 9.0 months in the triplet-therapy group and 5.4 months in the control group (hazard ratio for death, 0.52; 95% confidence interval [CI], 0.39 to 0.70; P<0.001). The confirmed response rate was 26% (95% CI, 18 to 35) in the triplet-therapy group and 2% (95% CI, 0 to 7) in the control group (P<0.001). The median overall survival in the doublet-therapy group was 8.4 months (hazard ratio for death vs. control, 0.60; 95% CI, 0.45 to 0.79; P<0.001). Adverse events of grade 3 or higher occurred in 58% of patients in the triplet-therapy group, in 50% in the doublet-therapy group, and in 61% in the control group.\n",
      "RESULT: {\"outcome\": \"Median overall survival\", \"value\": \"9.0 months\", \"regiment\":\"triplet-therapy group\"}\n",
      "\n",
      "# OUTPUT INSTRUCTIONS Answer in valid JSON. Here are different objects relevant for the output:\n",
      "\n",
      "ClinicalOutcome:\n",
      "    outcome (str): name of the primary outcome measure\n",
      "    value (str): the value that was measured from the outcome\n",
      "    regiment (str): the therapeutic treatment strategy used to obtain the outcome\n",
      "\n",
      "# OUTPUT\n",
      "\n",
      "CLINICAL_TRIAL: 14 CLINICAL STUDIES 14.1 Major Depressive Disorder The efficacy of bupropion in the treatment of major depressive disorder was established with the immediate-release formulation of bupropion hydrochloride in two 4-week, placebo-controlled trials in adult inpatients with MDD and in one 6-week, placebo-controlled trial in adult outpatients with MDD. In the first study, the bupropion dose range was 300 mg to 600 mg per day administered in 3 divided doses; 78% of patients were treated with doses of 300 mg to 450 mg per day. The trial demonstrated the efficacy of bupropion as measured by the Hamilton Depression Rating Scale (HAMD) total score, the HAMD depressed mood item (item 1), and the Clinical Global Impressions-Severity Scale (CGI-S). The second study included 2 fixed doses of bupropion (300 mg and 450 mg per day) and placebo. This trial demonstrated the efficacy of bupropion for only the 450 mg dose. The efficacy results were significant for the HAMD total score and the CGI-S severity score, but not for HAMD item 1. In the third study, outpatients were treated with bupropion 300 mg per day. This study demonstrated the efficacy of bupropion as measured by the HAMD total score, the HAMD item 1, the Montgomery-Asberg Depression Rating Scale (MADRS), the CGI-S score, and the CGI-Improvement Scale (CGI-I) score. A longer-term, placebo-controlled, randomized withdrawal trial demonstrated the efficacy of bupropion HCl sustained-release in the maintenance treatment of MDD. The trial included adult outpatients meeting DSM-IV criteria for MDD, recurrent type, who had responded during an 8-week open-label trial of bupropion 300 mg per day. Responders were randomized to continuation of bupropion 300 mg per day or placebo for up to 44 weeks of observation for relapse. Response during the open-label phase was defined as a CGI-Improvement Scale score of 1 (very much improved) or 2 (much improved) for each of the final 3 weeks. Relapse during the double-blind phase was defined as the investigator’s judgment that drug treatment was needed for worsening depressive symptoms. Patients in the bupropion group experienced significantly lower relapse rates over the subsequent 44 weeks compared to those in the placebo group. Although there are no independent trials demonstrating the efficacy of bupropion hydrochloride extended-release tablets (XL) in the acute treatment of MDD, studies have demonstrated similar bioavailability between the immediate-, sustained-, and extended-release formulations of bupropion HCl under steady-state conditions (i.e., the exposures [C max and AUC] for bupropion and its metabolites are similar among the 3 formulations). 14.2 Seasonal Affective Disorder The efficacy of bupropion hydrochloride extended-release tablets (XL) in the prevention of seasonal major depressive episodes associated with SAD was established in 3 randomized, double-blind, placebo-controlled trials in adult outpatients with a history of MDD with an autumn-winter seasonal pattern (as defined by DSM-IV criteria) . Bupropion treatment was initiated prior to the onset of symptoms in the autumn (September to November). Treatment was discontinued following a 2-week taper that began during the first week of spring (fourth week of March), resulting in a treatment duration of approximately 4 to 6 months for the majority of patients. Patients were randomized to treatment with bupropion hydrochloride extended-release tablets (XL) or placebo. The initial bupropion dose was 150 mg once daily for 1 week, followed by up-titration to 300 mg once daily. Patients who were deemed by the investigator to be unlikely or unable to tolerate 300 mg once daily were allowed to remain on, or had their dose reduced to, 150 mg once daily. The mean bupropion doses in the 3 trials ranged from 257 mg per day to 280 mg per day. Approximately 59% of patients continued in the study for 3 to 6 months; 26% continued for <3 months, 15% continued for >6 months. To enter the trials, patients must have had a low level of depressive symptoms, as demonstrated by a score of <7 on the Hamilton Depression Rating Scale-17 (HAMD17) and a HAMD24 score of <14. The primary efficacy measure was the Structured Interview Guide for the Hamilton Depression Rating Scale, Seasonal Affective Disorders (SIGH-SAD), which is identical to the HAMD24. The SIGH-SAD consists of the HAMD17 plus 7 items specifically assessing core symptoms of seasonal affective disorder: social withdrawal, weight gain, increased appetite, increased eating, carbohydrate craving, hypersomnia, and fatigability. The primary efficacy endpoint was the onset of a seasonal major depressive episode. The criteria for defining an episode included: 1) the investigator’s judgment that a major depressive episode had occurred or that the patient required intervention for depressive symptoms, or 2) a SIGH-SAD score of >20 on 2 consecutive weeks. The primary analysis was a comparison of depression-free rates between the bupropion and placebo groups. In these 3 trials, the percentage of patients who were depression-free (did not have an episode of MDD) at the end of treatment was significantly higher in the bupropion group than in the placebo group: 81.4% vs. 69.7%, 87.2% vs. 78.7%, and 84.0% vs. 69.0% for Trials 1, 2 and 3, respectively. For the 3 trials combined, the depression-free rate was 84.3% versus 72.0%, in the bupropion and placebo group, respectively .\n",
      "RESULT: \n",
      "outcome='onset of seasonal major depressive episode' value='0' regiment='bupropion hydrochloride extended-release tablets (XL)'\n"
     ]
    },
    {
     "name": "stderr",
     "output_type": "stream",
     "text": [
      " 81%|████████▏ | 26/32 [29:45:48<8:25:05, 5050.88s/it] "
     ]
    },
    {
     "name": "stdout",
     "output_type": "stream",
     "text": [
      "You are a professional medical practicioner with a medical degree. Other doctors send you clinical trial reports from which you need to extract:\n",
      "\n",
      "1. The primary outcome measure and measured value\n",
      "2. The therapeutic treatment regiment used to achieve the primary outcome\n",
      "\n",
      "# EXAMPLE\n",
      "CLINICAL_TRIAL: The median overall survival was 9.0 months in the triplet-therapy group and 5.4 months in the control group (hazard ratio for death, 0.52; 95% confidence interval [CI], 0.39 to 0.70; P<0.001). The confirmed response rate was 26% (95% CI, 18 to 35) in the triplet-therapy group and 2% (95% CI, 0 to 7) in the control group (P<0.001). The median overall survival in the doublet-therapy group was 8.4 months (hazard ratio for death vs. control, 0.60; 95% CI, 0.45 to 0.79; P<0.001). Adverse events of grade 3 or higher occurred in 58% of patients in the triplet-therapy group, in 50% in the doublet-therapy group, and in 61% in the control group.\n",
      "RESULT: {\"outcome\": \"Median overall survival\", \"value\": \"9.0 months\", \"regiment\":\"triplet-therapy group\"}\n",
      "\n",
      "# OUTPUT INSTRUCTIONS Answer in valid JSON. Here are different objects relevant for the output:\n",
      "\n",
      "ClinicalOutcome:\n",
      "    outcome (str): name of the primary outcome measure\n",
      "    value (str): the value that was measured from the outcome\n",
      "    regiment (str): the therapeutic treatment strategy used to obtain the outcome\n",
      "\n",
      "# OUTPUT\n",
      "\n",
      "CLINICAL_TRIAL: 14 CLINICAL STUDIES 14.1 Controlled Clinical Trials Chronic Insomnia Three randomized, double-blind trials in subjects with chronic insomnia employing polysomnography (PSG) were provided as objective support of Ramelteon's effectiveness in sleep initiation. One study enrolled younger adults (aged 18 to 64 years, inclusive) with chronic insomnia and employed a parallel design in which the subjects received a single, nightly dose of Ramelteon Tablets (8 or 16 mg) or matching placebo for 35 days. PSG was performed on the first two nights in each of Weeks 1, 3, and 5 of treatment. Ramelteon Tablets reduced the average latency to persistent sleep at each of the time points when compared to placebo. The 16 mg dose conferred no additional benefit for sleep initiation. The second study employing PSG was a three-period crossover trial performed in subjects aged 65 years and older with a history of chronic insomnia. Subjects received Ramelteon Tablets (4 or 8 mg) or placebo and underwent PSG assessment in a sleep laboratory for two consecutive nights in each of the three study periods. Both doses of Ramelteon Tablets reduced latency to persistent sleep when compared to placebo. The third study evaluated long term efficacy and safety in adults with chronic insomnia. Subjects received a single, nightly dose of Ramelteon Tablets 8 mg or matching placebo for six months. PSG was performed on the first two nights of Week 1 and Months 1, 3, 5, and 6. Ramelteon Tablets reduced sleep latency at each time point when compared to placebo. In this study, when the PSG results from nights 1 and 2 of Month 7 were compared to the results from nights 22 and 23 of Month 6, there was a statistically significant increase in LPS of 33% (9.5 minutes) in the ramelteon group. There was no increase in LPS in the placebo group when the same time periods were compared. A randomized, double-blind, parallel group study was conducted in outpatients aged 65 years and older with chronic insomnia and employed subjective measures of efficacy (sleep diaries). Subjects received Ramelteon Tablets (4 or 8 mg) or placebo for 35 nights. Ramelteon Tablets reduced patient-reported sleep latency compared to placebo. A similarly designed study performed in younger adults (aged 18 to 64 years) using 8 and 16 mg of ramelteon did not replicate this finding of reduced patient-reported sleep latency compared to placebo. While the 16 mg dose was evaluated as a potential treatment for adults, it was shown to confer no additional benefit for sleep initiation and was associated with higher incidences of fatigue, headache and next-day somnolence. Transient Insomnia In a randomized, double-blind, parallel-group trial using a first-night-effect model, healthy adults received placebo or Ramelteon Tablets before spending one night in a sleep laboratory and being evaluated with PSG. Ramelteon Tablets demonstrated a decrease in mean latency to persistent sleep as compared to placebo. 14.2 Studies Pertinent to Safety Concerns for Sleep-Promoting Drugs Results from Human Laboratory Abuse Liability Studies A human laboratory abuse potential study was performed in 14 subjects with a history of sedative/hypnotic or anxiolytic drug abuse. Subjects received single oral doses of Ramelteon Tablets (16, 80, or 160 mg), triazolam (0.25, 0.50, or 0.75 mg) or placebo. All subjects received each of the seven treatments separated by a wash-out period and underwent multiple standard tests of abuse potential. No differences in subjective responses indicative of abuse potential were found between Ramelteon Tablets and placebo at doses up to 20 times the recommended therapeutic dose. The positive control drug, triazolam, consistently showed a dose-response effect on these subjective measures, as demonstrated by the differences from placebo in peak effect and overall 24 hour effect. Residual Pharmacological Effect in Insomnia Trials In order to evaluate potential next-day residual effects, the following scales were used: a Memory Recall Test, a Word List Memory Test, a Visual Analog Mood and Feeling Scale, the Digit-Symbol Substitution Test, and a post sleep questionnaire to assess alertness and ability to concentrate. There was no evidence of next-day residual effect seen after two nights of ramelteon use during the crossover studies. In a 35 night, double-blind, placebo-controlled, parallel-group study in adults with chronic insomnia, measures of residual effects were performed at three time points. Overall, the magnitudes of any observed differences were small. At Week 1, patients who received 8 mg of Ramelteon Tablets had a mean VAS score (46 mm on a 100 mm scale) indicating more fatigue in comparison to patients who received placebo (42 mm). At Week 3, patients who received 8 mg of Ramelteon Tablets had a lower mean score for immediate recall (7.5 out of 16 words) compared to patients who received placebo (8.2 words); and the patients treated with Ramelteon Tablets had a mean VAS score indicating more sluggishness (27 mm on a 100 mm VAS) in comparison to the placebo-treated patients (22 mm). Patients who received Ramelteon Tablets did not have next-morning residual effects that were different from placebo at Week 5. Rebound Insomnia/Withdrawal Potential rebound insomnia and withdrawal effects were assessed in four studies in which subjects received Ramelteon Tablets or placebo for up to six months; three were 35 day studies, one was a six month study. These studies included a total of 2533 subjects, of whom 854 were elderly. Tyrer Benzodiazepine Withdrawal Symptom Questionnaire (BWSQ) The BWSQ is a self-report questionnaire that solicits specific information on 20 symptoms commonly experienced during withdrawal from benzodiazepine receptor agonists; Ramelteon Tablets are not a benzodiazepine receptor agonist. In two of the three 35 day insomnia studies, the questionnaire was administered one week after completion of treatment; in the third study, the questionnaire was administered on Days 1 and 2 after completion. In all three of the 35 day studies, subjects receiving Ramelteon Tablets 4, 8, or 16 mg daily reported BWSQ scores similar to those of subjects receiving placebo. In the six month study, there was no evidence of withdrawal from the 8 mg dose as measured by the BWSQ. Rebound Insomnia Rebound insomnia was assessed in the 35 day studies by measuring sleep latency after abrupt treatment discontinuation. One of these studies employed PSG in younger adult subjects receiving Ramelteon Tablets 8 or 16 mg; the other two studies employed subjective measures of sleep-onset insomnia in elderly subjects receiving Ramelteon Tablets 4 or 8 mg, and in younger adult subjects receiving Ramelteon Tablets 8 or 16 mg. There was no evidence that Ramelteon Tablets caused rebound insomnia during the posttreatment period. 14.3 Studies to Evaluate Effects on Endocrine Function Two controlled studies evaluated the effects of Ramelteon Tablets on endocrine function. In the first trial, Ramelteon Tablets 16 mg once daily or placebo was administered to 99 healthy volunteer subjects for four weeks. This study evaluated the thyroid axis, adrenal axis and reproductive axis. No clinically significant endocrinopathies were demonstrated in this study. However, the study was limited in its ability to detect such abnormalities due to its limited duration. In the second trial, Ramelteon Tablets 16 mg once daily or placebo was administered to 122 subjects with chronic insomnia for six months. This study evaluated the thyroid axis, adrenal axis and reproductive axis. There were no significant abnormalities seen in either the thyroid or the adrenal axes. Abnormalities were, however, noted within the reproductive axis. Overall, the mean serum prolactin level change from baseline was 4.9 mcg/L (34% increase) for women in the Ramelteon Tablet group compared with -0.6 mcg/L (4% decrease) for women in the placebo group (p=0.003). No differences between active- and placebo-treated groups occurred among men. Thirty two percent of all patients who were treated with ramelteon in this study (women and men) had prolactin levels that increased from normal baseline levels compared to 19% of patients who were treated with placebo. Subject-reported menstrual patterns were similar between the two treatment groups. In a 12 month, open-label study in adult and elderly patients, there were two patients who were noted to have abnormal morning cortisol levels, and subsequent abnormal ACTH stimulation tests. A 29-year-old female patient was diagnosed with a prolactinoma. The relationship of these events to Ramelteon Tablets therapy is not clear.\n",
      "RESULT: \n",
      "outcome='Median overall survival' value='9.0 months' regiment='triplet-therapy group'\n"
     ]
    },
    {
     "name": "stderr",
     "output_type": "stream",
     "text": [
      " 84%|████████▍ | 27/32 [30:42:31<6:19:42, 4556.41s/it]"
     ]
    },
    {
     "name": "stdout",
     "output_type": "stream",
     "text": [
      "You are a professional medical practicioner with a medical degree. Other doctors send you clinical trial reports from which you need to extract:\n",
      "\n",
      "1. The primary outcome measure and measured value\n",
      "2. The therapeutic treatment regiment used to achieve the primary outcome\n",
      "\n",
      "# EXAMPLE\n",
      "CLINICAL_TRIAL: The median overall survival was 9.0 months in the triplet-therapy group and 5.4 months in the control group (hazard ratio for death, 0.52; 95% confidence interval [CI], 0.39 to 0.70; P<0.001). The confirmed response rate was 26% (95% CI, 18 to 35) in the triplet-therapy group and 2% (95% CI, 0 to 7) in the control group (P<0.001). The median overall survival in the doublet-therapy group was 8.4 months (hazard ratio for death vs. control, 0.60; 95% CI, 0.45 to 0.79; P<0.001). Adverse events of grade 3 or higher occurred in 58% of patients in the triplet-therapy group, in 50% in the doublet-therapy group, and in 61% in the control group.\n",
      "RESULT: {\"outcome\": \"Median overall survival\", \"value\": \"9.0 months\", \"regiment\":\"triplet-therapy group\"}\n",
      "\n",
      "# OUTPUT INSTRUCTIONS Answer in valid JSON. Here are different objects relevant for the output:\n",
      "\n",
      "ClinicalOutcome:\n",
      "    outcome (str): name of the primary outcome measure\n",
      "    value (str): the value that was measured from the outcome\n",
      "    regiment (str): the therapeutic treatment strategy used to obtain the outcome\n",
      "\n",
      "# OUTPUT\n",
      "\n",
      "CLINICAL_TRIAL: 14 CLINICAL STUDIES Increases in systolic and mean blood pressure following administration of vasopressin were observed in 7 studies in septic shock and 8 in post-cardiotomy vasodilatory shock.\n",
      "RESULT: \n",
      "outcome='systolic blood pressure' value='increased in 7 studies' regiment='vasopressin administration'\n"
     ]
    },
    {
     "name": "stderr",
     "output_type": "stream",
     "text": [
      " 88%|████████▊ | 28/32 [31:54:00<4:58:24, 4476.11s/it]"
     ]
    },
    {
     "name": "stdout",
     "output_type": "stream",
     "text": [
      "You are a professional medical practicioner with a medical degree. Other doctors send you clinical trial reports from which you need to extract:\n",
      "\n",
      "1. The primary outcome measure and measured value\n",
      "2. The therapeutic treatment regiment used to achieve the primary outcome\n",
      "\n",
      "# EXAMPLE\n",
      "CLINICAL_TRIAL: The median overall survival was 9.0 months in the triplet-therapy group and 5.4 months in the control group (hazard ratio for death, 0.52; 95% confidence interval [CI], 0.39 to 0.70; P<0.001). The confirmed response rate was 26% (95% CI, 18 to 35) in the triplet-therapy group and 2% (95% CI, 0 to 7) in the control group (P<0.001). The median overall survival in the doublet-therapy group was 8.4 months (hazard ratio for death vs. control, 0.60; 95% CI, 0.45 to 0.79; P<0.001). Adverse events of grade 3 or higher occurred in 58% of patients in the triplet-therapy group, in 50% in the doublet-therapy group, and in 61% in the control group.\n",
      "RESULT: {\"outcome\": \"Median overall survival\", \"value\": \"9.0 months\", \"regiment\":\"triplet-therapy group\"}\n",
      "\n",
      "# OUTPUT INSTRUCTIONS Answer in valid JSON. Here are different objects relevant for the output:\n",
      "\n",
      "ClinicalOutcome:\n",
      "    outcome (str): name of the primary outcome measure\n",
      "    value (str): the value that was measured from the outcome\n",
      "    regiment (str): the therapeutic treatment strategy used to obtain the outcome\n",
      "\n",
      "# OUTPUT\n",
      "\n",
      "CLINICAL_TRIAL: Clinical studies In a series of small short-term (about 1 week) placebo-controlled studies in healthy human volunteers, doses of misoprostol were evaluated for their ability to reduce the risk of NSAID-induced mucosal injury. Studies of 200 mcg q.i.d. of misoprostol with tolmetin and naproxen, and of 100 and 200 mcg q.i.d. with ibuprofen, all showed reduction of the rate of significant endoscopic injury from about 70–75% on placebo to 10–30% on misoprostol. Doses of 25–200 mcg q.i.d. reduced aspirin-induced mucosal injury and bleeding.\n",
      "RESULT: \n",
      "outcome='Risk of NSAID-induced mucosal injury' value='10–30%' regiment='misoprostol'\n"
     ]
    },
    {
     "name": "stderr",
     "output_type": "stream",
     "text": [
      " 91%|█████████ | 29/32 [33:17:27<3:51:46, 4635.35s/it]"
     ]
    },
    {
     "name": "stdout",
     "output_type": "stream",
     "text": [
      "You are a professional medical practicioner with a medical degree. Other doctors send you clinical trial reports from which you need to extract:\n",
      "\n",
      "1. The primary outcome measure and measured value\n",
      "2. The therapeutic treatment regiment used to achieve the primary outcome\n",
      "\n",
      "# EXAMPLE\n",
      "CLINICAL_TRIAL: The median overall survival was 9.0 months in the triplet-therapy group and 5.4 months in the control group (hazard ratio for death, 0.52; 95% confidence interval [CI], 0.39 to 0.70; P<0.001). The confirmed response rate was 26% (95% CI, 18 to 35) in the triplet-therapy group and 2% (95% CI, 0 to 7) in the control group (P<0.001). The median overall survival in the doublet-therapy group was 8.4 months (hazard ratio for death vs. control, 0.60; 95% CI, 0.45 to 0.79; P<0.001). Adverse events of grade 3 or higher occurred in 58% of patients in the triplet-therapy group, in 50% in the doublet-therapy group, and in 61% in the control group.\n",
      "RESULT: {\"outcome\": \"Median overall survival\", \"value\": \"9.0 months\", \"regiment\":\"triplet-therapy group\"}\n",
      "\n",
      "# OUTPUT INSTRUCTIONS Answer in valid JSON. Here are different objects relevant for the output:\n",
      "\n",
      "ClinicalOutcome:\n",
      "    outcome (str): name of the primary outcome measure\n",
      "    value (str): the value that was measured from the outcome\n",
      "    regiment (str): the therapeutic treatment strategy used to obtain the outcome\n",
      "\n",
      "# OUTPUT\n",
      "\n",
      "CLINICAL_TRIAL: 14 CLINICAL STUDIES 14.1 Active Duodenal Ulcer In a multicenter, double-blind, placebo-controlled study of 147 patients with endoscopically documented duodenal ulcer, the percentage of patients healed (per protocol) at 2 and 4 weeks was significantly higher with omeprazole 20 mg once daily than with placebo (p ≤ 0.01). Treatment of Active Duodenal Ulcer % of Patients Healed 1 (p≤0.01) Omeprazole 20 mg a.m. (n = 99) Placebo a.m. (n = 48) Week 2 41 1 13 Week 4 75 1 27 Complete daytime and nighttime pain relief occurred significantly faster (p ≤ 0.01) in patients treated with omeprazole 20 mg than in patients treated with placebo. At the end of the study, significantly more patients who had received omeprazole had complete relief of daytime pain (p ≤ 0.05) and nighttime pain (p ≤ 0.01). In a multicenter, double-blind study of 293 patients with endoscopically documented duodenal ulcer, the percentage of patients healed (per protocol) at 4 weeks was significantly higher with omeprazole 20 mg once daily than with ranitidine 150 mg b.i.d. (p < 0.01). Treatment of Active Duodenal Ulcer % of Patients Healed 1 (p<0.01) Omeprazole 20 mg a.m. (n = 145) Ranitidine 150 mg twice daily (n = 148) Week 2 42 34 Week 4 82 1 63 Healing occurred significantly faster in patients treated with omeprazole than in those treated with ranitidine 150 mg b.i.d. (p < 0.01). In a foreign multinational randomized, double-blind study of 105 patients with endoscopically documented duodenal ulcer, 20 mg and 40 mg of omeprazole were compared with 150 mg b.i.d. of ranitidine at 2, 4 and 8 weeks. At 2 and 4 weeks both doses of omeprazole were statistically superior (per protocol) to ranitidine, but 40 mg was not superior to 20 mg of omeprazole, and at 8 weeks there was no significant difference between any of the active drugs. Treatment of Active Duodenal Ulcer % of Patients Healed 1 (p≤0.01) Omeprazole 20 mg (n = 34) Omeprazole 40 mg (n = 36) Ranitidine 150 mg twice daily (n = 35) Week 2 83 1 83 1 53 Week 4 97 1 100 1 82 Week 8 100 100 94 14.2 H. pylori Eradication in Patients with Duodenal Ulcer Disease Triple Therapy (omeprazole/clarithromycin/amoxicillin) Three U.S., randomized, double-blind clinical studies in patients with H. pylori infection and duodenal ulcer disease (n = 558) compared omeprazole plus clarithromycin plus amoxicillin with clarithromycin plus amoxicillin. Two studies (1 and 2) were conducted in patients with an active duodenal ulcer, and the other study (3) was conducted in patients with a history of a duodenal ulcer in the past 5 years but without an ulcer present at the time of enrollment. The dose regimen in the studies was omeprazole 20 mg twice daily plus clarithromycin 500 mg twice daily plus amoxicillin 1 g twice daily for 10 days; or clarithromycin 500 mg twice daily plus amoxicillin 1 g twice daily for 10 days. In studies 1 and 2, patients who took the omeprazole regimen also received an additional 18 days of omeprazole 20 mg once daily. Endpoints studied were eradication of H. pylori and duodenal ulcer healing (studies 1 and 2 only). H. pylori status was determined by CLOtest ® , histology and culture in all three studies. For a given patient, H. pylori was considered eradicated if at least two of these tests were negative, and none was positive. The combination of omeprazole plus clarithromycin plus amoxicillin was effective in eradicating H. pylori . Table 9: Per-Protocol and Intent-to-Treat H. pylori Eradication Rates % of Patients Cured [95% Confidence Interval] Omeprazole + clarithromycin + amoxicillin Clarithromycin + amoxicillin Per-Protocol 1 Intent-to-Treat 2 Per-Protocol 1 Intent-to-Treat 2 Study 1 77 3 [64, 86] (n = 64) 69 3 [57, 79] (n = 80) 43 [31, 56] (n = 67) 37 [27, 48] (n = 84) Study 2 78 3 [67, 88] (n = 65) 73 3 [61, 82] (n = 77) 41 [29, 54] (n = 68) 36 [26, 47] (n = 83) Study 3 90 3 [80, 96] (n = 69) 83 3 [74, 91] (n = 84) 33 [24, 44] (n = 93) 32 [23, 42] (n = 99) 1 Patients were included in the analysis if they had confirmed duodenal ulcer disease (active ulcer, studies 1 and 2; history of ulcer within 5 years, study 3) and H. pylori infection at baseline defined as at least two of three positive endoscopic tests from CLOtest ® , histology, and/or culture. Patients were included in the analysis if they completed the study. Additionally, if patients dropped out of the study due to an adverse event related to the study drug, they were included in the analysis as failures of therapy. The impact of eradication on ulcer recurrence has not been assessed in patients with a past history of ulcer. 2 Patients were included in the analysis if they had documented H. pylori infection at baseline and had confirmed duodenal ulcer disease. All dropouts were included as failures of therapy. 3 (p < 0.05) versus clarithromycin plus amoxicillin Dual Therapy (omeprazole/clarithromycin) Four randomized, double-blind, multi-center studies (4, 5, 6, and 7) evaluated omeprazole 40 mg once daily plus clarithromycin 500 mg three times daily for 14 days, followed by omeprazole 20 mg once daily, (Studies 4, 5, and 7) or by omeprazole 40 mg once daily (Study 6) for an additional 14 days in patients with active duodenal ulcer associated with H. pylori . Studies 4 and 5 were conducted in the U.S. and Canada and enrolled 242 and 256 patients, respectively. H. pylori infection and duodenal ulcer were confirmed in 219 patients in Study 4 and 228 patients in Study 5. These studies compared the combination regimen to omeprazole and clarithromycin monotherapies. Studies 6 and 7 were conducted in Europe and enrolled 154 and 215 patients, respectively. H. pylori infection and duodenal ulcer were confirmed in 148 patients in Study 6 and 208 patients in Study 7. These studies compared the combination regimen with omeprazole monotherapy. The results for the efficacy analyses for these studies are described below. H. pylori eradication was defined as no positive test (culture or histology) at 4 weeks following the end of treatment, and two negative tests were required to be considered eradicated of H. pylori . In the per-protocol analysis, the following patients were excluded: dropouts, patients with missing H. pylori tests post-treatment, and patients that were not assessed for H. pylori eradication because they were found to have an ulcer at the end of treatment. The combination of omeprazole and clarithromycin was effective in eradicating H. pylori. Table 10: H. pylori Eradication Rates (Per-Protocol Analysis at 4 to 6 Weeks) % of Patients Cured [95% Confidence Interval] 1 Statistically significantly higher than clarithromycin monotherapy (p < 0.05). 2 Statistically significantly higher than omeprazole monotherapy (p < 0.05). Omeprazole + Clarithromycin Omeprazole Clarithromycin U.S. Studies Study 4 74 [60, 85] 1,2 (n = 53) 0 [0, 7] (n = 54) 31 [18, 47] (n = 42) Study 5 64 [51, 76] 1,2 (n = 61) 0 [0, 6] (n = 59) 39 [24, 55] (n = 44) Non U.S. Studies Study 6 83 [71, 92] 2 (n = 60) 1 [0, 7] (n = 74) N/A Study 7 74 [64, 83] 2 (n = 86) 1 [0, 6] (n = 90) N/A Ulcer healing was not significantly different when clarithromycin was added to omeprazole therapy compared with omeprazole therapy alone. The combination of omeprazole and clarithromycin was effective in eradicating H. pylori and reduced duodenal ulcer recurrence. Table 11: Duodenal Ulcer Recurrence Rates by H. pylori Eradication Status % of Patients with Ulcer Recurrence 1 H. pylori eradication status assessed at same time point as ulcer recurrence. 2 Combined results for omeprazole + clarithromycin, omeprazole, and clarithromycin treatment arms. 3 Combined results for omeprazole + clarithromycin and omeprazole treatment arms. 4 (p ≤ 0.01) versus proportion with duodenal ulcer recurrence who were not H. pylori eradicated. H. pylori eradicated 1 H. pylori not eradicated 1 U.S. Studies 2 6 months post-treatment Study 4 35 4 (n=49) 60 (n=88) Study 5 8 4 (n=53) 4 60 (n=106) Non U.S. Studies 3 6 months post-treatment Study 6 5 4 (n=43) 46 (n=78) Study 7 6 4 (n=53) 4 43 (n=107) 12 months post-treatment Study 6 5 4 (n=39) 68 (n=71) 14.3 Active Benign Gastric Ulcer In a U.S. multicenter, double-blind, study of omeprazole 40 mg once daily, 20 mg once daily, and placebo in 520 patients with endoscopically diagnosed gastric ulcer, the following results were obtained. Treatment of Gastric Ulcer % of Patients Healed (All Patients Treated) 1 (p < 0.01) Omeprazole 40 mg or 20 mg versus placebo. 2 (p < 0.05) Omeprazole 40 mg versus 20 mg. Omeprazole 20 mg once daily (n = 202) Omeprazole 40 mg once daily (n = 214) Placebo (n = 104) Week 4 47.5 1 55.6 1 30.8 Week 8 74.8 1 82.7 1,2 48.1 For the stratified groups of patients with ulcer size less than or equal to 1 cm, no difference in healing rates between 40 mg and 20 mg was detected at either 4 or 8 weeks. For patients with ulcer size greater than 1 cm, 40 mg was significantly more effective than 20 mg at 8 weeks. In a foreign, multinational, double-blind study of 602 patients with endoscopically diagnosed gastric ulcer, omeprazole 40 mg once daily, 20 mg once daily, and ranitidine 150 mg twice a day were evaluated. Treatment of Gastric Ulcer % of Patients Healed (All Patients Treated) 1 (p < 0.01) omeprazole 40 mg versus ranitidine. 2 (p < 0.01) omeprazole 40 mg versus 20 mg. Omeprazole 20 mg once daily (n = 200) Omeprazole 40 mg once daily (n = 187) Ranitidine 150 mg twice daily (n = 199) Week 4 63.5 78.1 1,2 56.3 Week 8 81.5 91.4 1,2 78.4 14.4 Symptomatic GERD A placebo-controlled study was conducted in Scandinavia to compare the efficacy of omeprazole 20 mg or 10 mg once daily for up to 4 weeks in the treatment of heartburn and other symptoms in GERD patients without EE. Results are shown below. % Successful Symptomatic Outcome 1 1 Defined as complete resolution of heartburn. 2 (p < 0.005) versus 10 mg. 3 (p < 0.005) versus placebo. Omeprazole 20 mg a.m. Omeprazole 10 mg a.m. Placebo a.m. All patients 46 2,3 (n = 205) 31 3 (n = 199) 13 (n = 105) Patients with confirmed GERD 56 2,3 (n = 115) 36 3 (n = 109) 14 (n = 59) 14.5 EE due to Acid-Mediated GERD In a U.S. multicenter double-blind placebo controlled study of 20 mg or 40 mg of omeprazole delayed-release capsules in patients with symptoms of GERD and endoscopically diagnosed EE of grade 2 or above, the percentage healing rates (per protocol) were as follows: 1 (p < 0.01) omeprazole versus placebo. 20 mg Omeprazole (n = 83) 40 mg Omeprazole (n = 87) Placebo (n = 43) Week 4 39 1 45 1 7 Week 8 74 1 75 1 14 In this study, the 40 mg dose was not superior to the 20 mg dose of omeprazole in the percentage healing rate. Other controlled clinical trials have also shown that omeprazole is effective in severe GERD. In comparisons with histamine H 2 -receptor antagonists in patients with EE, grade 2 or above, omeprazole in a dose of 20 mg was significantly more effective than the active controls. Complete daytime and nighttime heartburn relief occurred significantly faster (p < 0.01) in patients treated with omeprazole than in those taking placebo or histamine H 2 -receptor antagonists. In this and five other controlled GERD studies, significantly more patients taking 20 mg omeprazole (84%) reported complete relief of GERD symptoms than patients receiving placebo (12%). 14.6 Maintenance of Healing of EE due to Acid-Mediated GERD In a U.S. double-blind, randomized, multicenter, placebo controlled study, two dose regimens of omeprazole were studied in patients with endoscopically confirmed healed esophagitis. Results to determine maintenance of healing of EE are shown below. Life Table Analysis 1 (p < 0.01) omeprazole 20 mg once daily versus omeprazole 20 mg 3 consecutive days per week or placebo. Omeprazole 20 mg once daily (n = 138) Omeprazole 20 mg 3 days per week (n = 137) Placebo (n = 131) Percent in endoscopic remission at 6 months 70 1 34 11 In an international multicenter double-blind study, omeprazole 20 mg daily and 10 mg daily were compared with ranitidine 150 mg twice daily in patients with endoscopically confirmed healed esophagitis. The table below provides the results of this study for maintenance of healing of EE. Life Table Analysis 1 (p = 0.01) omeprazole 20 mg once daily versus omeprazole 10 mg once daily or Ranitidine. 2 (p = 0.03) omeprazole 10 mg once daily versus Ranitidine. Omeprazole 20 mg once daily (n = 131) Omeprazole 10 mg once daily (n = 133) Ranitidine 150 mg twice daily (n = 128) Percent in endoscopic remission at 12 months 77 1 58 2 46 In patients who initially had grades 3 or 4 erosive esophagitis, for maintenance after healing 20 mg daily of omeprazole was effective, while 10 mg did not demonstrate effectiveness. 14.7 Pathological Hypersecretory Conditions In open studies of 136 patients with pathological hypersecretory conditions, such as Zollinger-Ellison (ZE) syndrome with or without multiple endocrine adenomas, omeprazole delayed-release capsules significantly inhibited gastric acid secretion and controlled associated symptoms of diarrhea, anorexia, and pain. Doses ranging from 20 mg every other day to 360 mg per day maintained basal acid secretion below 10 mEq/hr in patients without prior gastric surgery, and below 5 mEq/hr in patients with prior gastric surgery. Initial doses were titrated to the individual patient need, and adjustments were necessary with time in some patients [see Dosage and Administration ( 2 )]. Omeprazole was well tolerated at these high dose levels for prolonged periods (> 5 years in some patients). In most ZE patients, serum gastrin levels were not modified by omeprazole. However, in some patients serum gastrin increased to levels greater than those present prior to initiation of omeprazole therapy. At least 11 patients with ZE syndrome on long-term treatment with omeprazole developed gastric carcinoids. These findings are believed to be a manifestation of the underlying condition, which is known to be associated with such tumors, rather than the result of the administration of omeprazole [see Adverse Reactions ( 6 )]. 14.8 Pediatric Studies for the Treatment of Symptomatic GERD, Treatment of EE due to Acid-Mediated GERD, and Maintenance of Healing of EE due to Acid-Mediated GERD Treatment of Symptomatic GERD The effectiveness of omeprazole for the treatment of symptomatic GERD in pediatric patients 2 to 16 years of age is based in part on data obtained from pediatric patients in an uncontrolled clinical study. The study enrolled 113 pediatric patients 2 to 16 years of age with a history of symptoms suggestive of symptomatic GERD. Patients were administered a single dose of omeprazole (10 mg or 20 mg, based on body weight) for 4 weeks either as an intact capsule or as an open capsule in applesauce. Successful response was defined as no moderate or severe episodes of either pain-related symptoms or vomiting/regurgitation during the last 4 days of treatment. Results showed success rates of 60% (9/15; 10 mg omeprazole) and 59% (58/98; 20 mg omeprazole), respectively. Treatment of EE due to Acid-Mediated GERD In an uncontrolled, open-label dose-titration study, for the treatment of EE in pediatric patients 1 to 16 years of age required doses that ranged from 0.7 to 3.5 mg/kg/day (80 mg/day). Doses were initiated at 0.7 mg/kg/day. Doses were increased in increments of 0.7 mg/kg/day (if intraesophageal pH showed a pH of < 4 for less than 6% of a 24-hour study). After titration, patients remained on treatment for 3 months. Forty-four percent of the patients were healed on a dose of 0.7 mg/kg body weight; most of the remaining patients were healed with 1.4 mg/kg after an additional 3 months’ treatment. EE was healed in 51 of 57 (90%) children who completed the first course of treatment in the healing phase of the study. In addition, after 3 months of treatment, 33% of the children had no overall symptoms, 57% had mild reflux symptoms, and 40% had less frequent regurgitation/vomiting. Maintenance of Healing of EE due to Acid-Mediated GERD In an uncontrolled, open-label study of maintenance of healing of EE in 46 pediatric patients 1 to 16 years of age, 54% of patients required half the healing dose. The remaining patients increased the healing dose (0.7 to a maximum of 2.8 mg/kg/day) either for the entire maintenance period, or returned to half the dose before completion. Of the 46 patients who entered the maintenance phase, 19 (41%) had no relapse during follow-up (range 4 to 25 months). In addition, maintenance therapy in EE patients resulted in 63% of patients having no overall symptoms.\n",
      "RESULT: \n",
      "outcome='ulcer recurrence' value='4%' regiment='omeprazole + clarithromycin'\n"
     ]
    },
    {
     "name": "stderr",
     "output_type": "stream",
     "text": [
      " 94%|█████████▍| 30/32 [34:07:44<2:18:19, 4149.89s/it]"
     ]
    },
    {
     "name": "stdout",
     "output_type": "stream",
     "text": [
      "You are a professional medical practicioner with a medical degree. Other doctors send you clinical trial reports from which you need to extract:\n",
      "\n",
      "1. The primary outcome measure and measured value\n",
      "2. The therapeutic treatment regiment used to achieve the primary outcome\n",
      "\n",
      "# EXAMPLE\n",
      "CLINICAL_TRIAL: The median overall survival was 9.0 months in the triplet-therapy group and 5.4 months in the control group (hazard ratio for death, 0.52; 95% confidence interval [CI], 0.39 to 0.70; P<0.001). The confirmed response rate was 26% (95% CI, 18 to 35) in the triplet-therapy group and 2% (95% CI, 0 to 7) in the control group (P<0.001). The median overall survival in the doublet-therapy group was 8.4 months (hazard ratio for death vs. control, 0.60; 95% CI, 0.45 to 0.79; P<0.001). Adverse events of grade 3 or higher occurred in 58% of patients in the triplet-therapy group, in 50% in the doublet-therapy group, and in 61% in the control group.\n",
      "RESULT: {\"outcome\": \"Median overall survival\", \"value\": \"9.0 months\", \"regiment\":\"triplet-therapy group\"}\n",
      "\n",
      "# OUTPUT INSTRUCTIONS Answer in valid JSON. Here are different objects relevant for the output:\n",
      "\n",
      "ClinicalOutcome:\n",
      "    outcome (str): name of the primary outcome measure\n",
      "    value (str): the value that was measured from the outcome\n",
      "    regiment (str): the therapeutic treatment strategy used to obtain the outcome\n",
      "\n",
      "# OUTPUT\n",
      "\n",
      "CLINICAL_TRIAL: 14 CLINICAL STUDIES The efficacy of LUNSUMIO was evaluated in an open-label, multicenter, multi-cohort study (GO29781, NCT02500407) in patients with relapsed or refractory follicular lymphoma (FL) who had received at least two prior therapies, including an anti-CD20 monoclonal antibody and an alkylating agent. The study excluded patients with active infections, history of autoimmune disease, prior allogeneic transplant, or any history of CNS lymphoma or CNS disorders. Patients received step-up doses of 1 mg on Cycle 1 Day 1 and 2 mg on Cycle 1 Day 8, followed by 60 mg on Cycle 1 Day 15, and 60 mg on Cycle 2 Day 1, then 30 mg every 3 weeks in subsequent cycles. A treatment cycle was 21 days. LUNSUMIO was administered for 8 cycles unless patients experienced progressive disease or unacceptable toxicity. After 8 cycles, patients with a complete response discontinued therapy; patients with a partial response or stable disease continued treatment up to 17 cycles, unless patients experienced progressive disease or unacceptable toxicity. Among the 90 patients with relapsed or refractory FL, the median age was 60 years (range: 29 to 90 years), 33% were 65 years of age or older, 61% were male, 82% were White, 9% were Asian, 4% were Black or African American, and 8% were Hispanic or Latino. A total of 77% of patients had Stage III-IV disease, 34% had bulky disease, and all patients had an Eastern Cooperative Oncology Group (ECOG) performance status of 0 or 1. The median number of prior therapies was 3 (range: 2 to 10), with 38% receiving 2 prior therapies, 31% receiving 3 prior therapies, and 31% receiving more than 3 prior therapies. Seventy-nine percent of patients were refractory to prior anti-CD20 monoclonal antibody therapy, 53% were refractory to both anti-CD20 monoclonal antibody and alkylator therapy, 9% received prior rituximab plus lenalidomide therapy, 21% received prior autologous stem cell transplant, and 3% received prior CAR T therapy. Fifty-two percent of patients had progression of disease within 24 months of first systemic therapy. Efficacy was established on the basis of objective response rate (ORR) and duration of response (DOR) as assessed by an independent review facility according to standard criteria for NHL (Cheson 2007). The median follow-up for DOR was 14.9 months. The efficacy results are summarized in Table 11 . Table 11. Efficacy Results in Patients with Relapsed or Refractory FL Response LUNSUMIO N = 90 CI = confidence interval; NR = not reached Objective response rate (ORR), n (%) 72 (80) (95% CI) (70, 88) Complete response rate (CR), n (%) 54 (60) (95% CI) (49, 70) Partial response rate (PR), n (%) 18 (20) (95% CI) (12, 30) Duration of Response (DOR) N = 72 Median DOR DOR is defined as the time from the initial occurrence of a documented PR or CR until the patient experienced an event (documented disease progression or death due to any cause, whichever occurs first), among patients who achieved a PR or CR. , Kaplan-Meier estimate. , months (95% CI) 22.8 (10, NR) Rate of Continued Response At 12 months, % 62 (95% CI) (50, 74) At 18 months, % 57 (95% CI) (44, 70) The median time to first response was 1.4 months (range: 1.1 to 8.9).\n",
      "RESULT: \n",
      "outcome='Objective response rate' value='80%' regiment='LUNSUMIO treatment'\n"
     ]
    },
    {
     "name": "stderr",
     "output_type": "stream",
     "text": [
      " 97%|█████████▋| 31/32 [35:34:08<1:14:20, 4460.26s/it]"
     ]
    },
    {
     "name": "stdout",
     "output_type": "stream",
     "text": [
      "You are a professional medical practicioner with a medical degree. Other doctors send you clinical trial reports from which you need to extract:\n",
      "\n",
      "1. The primary outcome measure and measured value\n",
      "2. The therapeutic treatment regiment used to achieve the primary outcome\n",
      "\n",
      "# EXAMPLE\n",
      "CLINICAL_TRIAL: The median overall survival was 9.0 months in the triplet-therapy group and 5.4 months in the control group (hazard ratio for death, 0.52; 95% confidence interval [CI], 0.39 to 0.70; P<0.001). The confirmed response rate was 26% (95% CI, 18 to 35) in the triplet-therapy group and 2% (95% CI, 0 to 7) in the control group (P<0.001). The median overall survival in the doublet-therapy group was 8.4 months (hazard ratio for death vs. control, 0.60; 95% CI, 0.45 to 0.79; P<0.001). Adverse events of grade 3 or higher occurred in 58% of patients in the triplet-therapy group, in 50% in the doublet-therapy group, and in 61% in the control group.\n",
      "RESULT: {\"outcome\": \"Median overall survival\", \"value\": \"9.0 months\", \"regiment\":\"triplet-therapy group\"}\n",
      "\n",
      "# OUTPUT INSTRUCTIONS Answer in valid JSON. Here are different objects relevant for the output:\n",
      "\n",
      "ClinicalOutcome:\n",
      "    outcome (str): name of the primary outcome measure\n",
      "    value (str): the value that was measured from the outcome\n",
      "    regiment (str): the therapeutic treatment strategy used to obtain the outcome\n",
      "\n",
      "# OUTPUT\n",
      "\n",
      "CLINICAL_TRIAL: 14 CLINICAL STUDIES 14.1 Treatment of Influenza Adults Two randomized, placebo-controlled, double-blind clinical trials of oseltamivir phosphate were conducted in adults between 18 and 65 years old, one in the U.S. and one outside the U.S., for the treatment of acute uncomplicated influenza. Eligible subjects had fever of at least 100ºF, accompanied by at least one respiratory symptom (cough, nasal symptoms, or sore throat) and at least one systemic symptom (myalgia, chills/sweats, malaise, fatigue, or headache), and influenza virus was known to be circulating in the community. Subjects were randomized to receive oral oseltamivir phosphate or placebo for 5 days. All enrolled subjects were allowed to take fever- reducing medications. Of 1,355 subjects enrolled in these two trials, 849 (63%) subjects were influenza-infected (median age 34 years; 52% male; 90% Caucasian; 31% smokers). Of the 849 influenza-infected subjects, 95% were infected with influenza A, 3% with influenza B, and 2% with influenza of unknown type. Study medication was started within 40 hours of onset of symptoms and administered twice daily for 5 days. Subjects were required to self-assess the influenza-associated symptoms (nasal congestion, sore throat, cough, aches, fatigue, headaches, and chills/sweats) twice daily as \"none,\" \"mild,\" \"moderate,\" or \"severe\". Time to improvement was calculated from the time of treatment initiation to the time when all symptoms were assessed as \"none\" or \"mild\". In both trials, there was a 1.3-day reduction in the median time to improvement in influenza-infected subjects who received oseltamivir phosphate 75 mg twice a day for 5 days compared to subjects who received placebo. Subgroup analyses by gender showed no differences in the treatment effect of oseltamivir phosphate in men and women. In the treatment of influenza, no increased efficacy was demonstrated in subjects who received higher doses of oseltamivir phosphate. Adolescents and Adults with Chronic Cardiac or Respiratory Disease A double-blind, placebo-controlled, multicenter trial was unable to demonstrate efficacy of oseltamivir phosphate (75 mg twice daily for 5 days) in the treatment of influenza in adult and adolescent subjects (13 years or older) with chronic cardiac (excluding chronic idiopathic hypertension) or respiratory diseases, as measured by time to alleviation of all symptoms. However, in patients treated with oseltamivir phosphate there was a more rapid cessation of febrile illness. No difference in the incidence of influenza complications was observed between the treatment and placebo groups in this population. Geriatric Subjects Three double-blind placebo-controlled treatment trials were conducted in subjects who were at least 65 years of age in three consecutive seasons. The enrollment criteria were similar to that of adult trials with the exception of fever being defined as higher than 97.5 F. Of 741 subjects enrolled, 476 (65%) subjects were influenza- infected; of these, 95% were infected with influenza type A and 5% with influenza type B. In the pooled analysis, there was a 1-day reduction in the median time to improvement in influenza-infected subjects who received oseltamivir phosphate 75 mg twice daily for 5 days compared to those who received placebo (p=NS) [see Use in Specific Populations (8.5)] . Some seasonal variability was noted in the clinical efficacy outcomes. Pediatric Subjects (1 year to 12 years of age) One double-blind placebo-controlled treatment trial was conducted in pediatric subjects aged 1 year to 12 years (median age 5 years) who had fever (at least 100ºF) plus one respiratory symptom (cough or coryza) when influenza virus was known to be circulating in the community. Of 698 subjects enrolled in this trial, 452 (65%) were influenza-infected (50% male; 68% Caucasian). Of the 452 influenza-infected subjects, 67% were infected with influenza A and 33% with influenza B. Efficacy in this trial was determined by the time to alleviation or resolution of influenza signs and symptoms, measured by a composite endpoint that required the following four individual conditions be met: i) alleviation of cough, ii) alleviation of coryza, iii) resolution of fever, and iv) parental opinion of a return to normal health and activity. Oseltamivir phosphate treatment of 2 mg per kg twice daily, started within 48 hours of onset of symptoms, reduced the total composite time to freedom from illness by 1.5 days compared to placebo. Subgroup analyses by gender showed no differences in the treatment effect of oseltamivir phosphate in male and female pediatric subjects. Pediatric Subjects (2 weeks to less than 1 year of age) Two open-label trials evaluated the safety and pharmacokinetics of oseltamivir and oseltamivir carboxylate in influenza-infected pediatric subjects 2 weeks to less than 1 year of age (including premature infants at least 36 weeks post conceptional age). Subjects received oseltamivir phosphate at doses ranging from 2 to 3.5 mg per kg twice daily for 5 days depending on subject age. These clinical trials were not designed to evaluate clinical efficacy or virologic response. Of the 136 subjects under the age of 1 year enrolled and dosed in the trials, the majority of the subjects were male (55%), white (79%), non-Hispanic (74%), full term (76%) and infected with influenza A (80%). Pharmacokinetic data indicated that a dose of 3 mg per kg twice daily in pediatric subjects 2 weeks to less than 1 year of age provided oseltamivir phosphate concentrations similar to or higher than those observed in older pediatric subjects and adults receiving the approved dose and provided the basis for approval [see Adverse Reactions ( 6.1 ) and Use in Specific Populations ( 8.4 )] . 14.2 Prophylaxis of Influenza Adult and Adolescent Subjects (13 years of age and older) The efficacy of oseltamivir phosphate in preventing naturally occurring influenza illness has been demonstrated in three seasonal prophylaxis (community outbreak) clinical trials and one post-exposure prophylaxis trial in household contacts. The efficacy endpoint for all of these trials was the incidence of laboratory-confirmed clinical influenza defined as meeting all the following criteria (all signs and symptoms must have been recorded within 24 hours): oral temperature greater than or equal to 99.0ºF (37.2ºC), at least one respiratory symptom (cough, sore throat, nasal congestion), at least one constitutional symptom (aches and pain, fatigue, headache, chills/sweats), and either a positive virus isolation or a four-fold increase in virus antibody titers from baseline. In a pooled analysis of two seasonal prophylaxis trials in healthy unvaccinated adults (aged 18 to 65 years), oseltamivir phosphate 75 mg once daily taken for 42 days during a community outbreak reduced the incidence of laboratory-confirmed clinical influenza from 5% (25/519) for the placebo group to 1% (6/520) for the oseltamivir phosphate group. In the seasonal (community outbreak) prophylaxis trial in elderly residents of skilled nursing homes, about 80%, 43%, and 14% of the subjects were vaccinated, had cardiac disorders, and had chronic airway obstructive disorders, respectively. In this trial, subjects were randomized to oseltamivir phosphate 75 mg once daily or placebo taken orally for 42 days. The incidence of laboratory-confirmed clinical influenza was 4% (12/272) in the placebo- treated subjects compared to less than 1% (1/276) in the oseltamivir phosphate -treated subjects. In the post-exposure prophylaxis trial in household contacts (aged 13 years or older) of an index influenza case, oseltamivir phosphate 75 mg once daily or placebo taken orally was administered within 48 hours of onset of symptoms in the index case and continued for 7 days (index cases did not receive oseltamivir phosphate treatment). The incidence of laboratory-confirmed clinical influenza was 12% (24/200) in the placebo-treated subjects compared to 1% (2/205) in the oseltamivir phosphate -treated subjects. Pediatric Subjects (1 year to 12 years of age) The efficacy of oseltamivir phosphate in preventing naturally occurring influenza illness was demonstrated in a randomized, open-label post-exposure prophylaxis trial in household contacts that included pediatric subjects aged 1 year to 12 years, both as index cases and as family contacts. All index cases in this trial received oseltamivir phosphate for oral suspension 30 to 60 mg taken orally once daily for 10 days. The efficacy parameter was the incidence of laboratory-confirmed clinical influenza in the household. Laboratory-confirmed clinical influenza was defined as meeting all of the following criteria: oral temperature at least 100°F (37.8°C), cough and/or coryza recorded within 48 hours, and either a positive virus isolation or a four-fold or greater increase in virus antibody titers from baseline or at illness visits. Among household contacts 1 year to 12 years of age not already shedding virus at baseline, the incidence of laboratory-confirmed clinical influenza was lower in the group who received oseltamivir phosphate prophylaxis [3% (3/95)] compared to the group who did not receive oseltamivir phosphate prophylaxis [17% (18/106)]. Immunocompromised Subjects A double-blind, placebo-controlled trial was conducted for seasonal prophylaxis of influenza in 475 immunocompromised subjects (including 18 pediatric subjects 1 year to 12 years of age) who had received solid organ (n=388; liver, kidney, liver and kidney) or hematopoietic stem cell transplants (n=87). Median time since transplant for solid organ transplant recipients was 1,105 days for the placebo group and 1,379 days for the oseltamivir phosphate group. Median time since transplant for hematopoietic stem cell transplant recipients was 424 days for the placebo group and 367 days for the oseltamivir phosphate group. Approximately 40% of subjects received influenza vaccine prior to entering the study. The primary efficacy endpoint was the incidence of confirmed clinical influenza, defined as oral temperature higher than 99.0°F (37.2°C) plus cough and/or coryza, all recorded within 24 hours, plus either a positive virus culture or a four-fold increase in virus antibody titers from baseline. Subjects received treatment with oseltamivir phosphate 75 mg or placebo once daily by mouth for 12 weeks. The incidence of confirmed clinical influenza was 3% (7/238) in the placebo group compared with 2% (5/237) in the oseltamivir phosphate group; this difference was not statistically significant. A secondary analysis was performed using the same clinical symptoms and RT-PCR for laboratory confirmation of influenza infection. Among subjects who were not already shedding virus at baseline, the incidence of RT-PCR-confirmed clinical influenza infection was 3% (7/231) in the placebo group and <1% (1/232) in the oseltamivir phosphate group.\n",
      "RESULT: \n",
      "outcome='Median time to alleviation of influenza signs and symptoms' value='1.5 days' regiment='Oseltamivir phosphate treatment of 2 mg per kg twice daily'\n"
     ]
    },
    {
     "name": "stderr",
     "output_type": "stream",
     "text": [
      "100%|██████████| 32/32 [36:24:09<00:00, 4095.31s/it]  "
     ]
    },
    {
     "name": "stdout",
     "output_type": "stream",
     "text": [
      "You are a professional medical practicioner with a medical degree. Other doctors send you clinical trial reports from which you need to extract:\n",
      "\n",
      "1. The primary outcome measure and measured value\n",
      "2. The therapeutic treatment regiment used to achieve the primary outcome\n",
      "\n",
      "# EXAMPLE\n",
      "CLINICAL_TRIAL: The median overall survival was 9.0 months in the triplet-therapy group and 5.4 months in the control group (hazard ratio for death, 0.52; 95% confidence interval [CI], 0.39 to 0.70; P<0.001). The confirmed response rate was 26% (95% CI, 18 to 35) in the triplet-therapy group and 2% (95% CI, 0 to 7) in the control group (P<0.001). The median overall survival in the doublet-therapy group was 8.4 months (hazard ratio for death vs. control, 0.60; 95% CI, 0.45 to 0.79; P<0.001). Adverse events of grade 3 or higher occurred in 58% of patients in the triplet-therapy group, in 50% in the doublet-therapy group, and in 61% in the control group.\n",
      "RESULT: {\"outcome\": \"Median overall survival\", \"value\": \"9.0 months\", \"regiment\":\"triplet-therapy group\"}\n",
      "\n",
      "# OUTPUT INSTRUCTIONS Answer in valid JSON. Here are different objects relevant for the output:\n",
      "\n",
      "ClinicalOutcome:\n",
      "    outcome (str): name of the primary outcome measure\n",
      "    value (str): the value that was measured from the outcome\n",
      "    regiment (str): the therapeutic treatment strategy used to obtain the outcome\n",
      "\n",
      "# OUTPUT\n",
      "\n",
      "CLINICAL_TRIAL: 14 CLINICAL STUDIES 14.1 Heart Failure A total of 6,975 subjects with mild to severe heart failure were evaluated in placebo-controlled trials of carvedilol. Mild-to-Moderate Heart Failure Carvedilol was studied in 5 multicenter, placebo-controlled trials, and in 1 active-controlled trial (COMET trial) involving subjects with mild-to-moderate heart failure. Four US multicenter, double-blind, placebo-controlled trials enrolled 1,094 subjects (696 randomized to carvedilol) with NYHA class II-III heart failure and ejection fraction ≤0.35. The vast majority were on digitalis, diuretics, and an ACE inhibitor at trial entry. Patients were assigned to the trials based upon exercise ability. An Australia-New Zealand double-blind, placebo-controlled trial enrolled 415 subjects (half randomized to carvedilol) with less severe heart failure. All protocols excluded subjects expected to undergo cardiac transplantation during the 7.5 to 15 months of double-blind follow-up. All randomized subjects had tolerated a 2-week course on carvedilol 6.25 mg twice daily. In each trial, there was a primary end point, either progression of heart failure (1 US trial) or exercise tolerance (2 US trials meeting enrollment goals and the Australia-New Zealand trial). There were many secondary end points specified in these trials, including NYHA classification, patient and physician global assessments, and cardiovascular hospitalization. Other analyses not prospectively planned included the sum of deaths and total cardiovascular hospitalizations. In situations where the primary end points of a trial do not show a significant benefit of treatment, assignment of significance values to the other results is complex, and such values need to be interpreted cautiously. The results of the US and Australia-New Zealand trials were as follows: Slowing Progression of Heart Failure One US multicenter trial (366 subjects) had as its primary end point the sum of cardiovascular mortality, cardiovascular hospitalization, and sustained increase in heart failure medications. Heart failure progression was reduced, during an average follow-up of 7 months, by 48% (P = 0.008). In the Australia-New Zealand trial, death and total hospitalizations were reduced by about 25% over 18 to 24 months. In the 3 largest US trials, death and total hospitalizations were reduced by 19%, 39%, and 49%, nominally statistically significant in the last 2 trials. The Australia-New Zealand results were statistically borderline. Functional Measures None of the multicenter trials had NYHA classification as a primary end point, but all such trials had it as a secondary end point. There was at least a trend toward improvement in NYHA class in all trials. Exercise tolerance was the primary end point in 3 trials; in none was a statistically significant effect found. Subjective Measures Health-related quality of life, as measured with a standard questionnaire (a primary end point in 1 trials), was unaffected by carvedilol. However, patients’ and investigators’ global assessments showed significant improvement in most trials. Mortality Death was not a pre-specified end point in any trial, but was analyzed in all trials. Overall, in these 4 US trials, mortality was reduced, nominally significantly so in 2 trials. COMET Trial In this double-blind trial, 3,029 subjects with NYHA class II-IV heart failure (left ventricular ejection fraction ≤35%) were randomized to receive either carvedilol (target dose: 25 mg twice daily) or immediate-release metoprolol tartrate (target dose: 50 mg twice daily). The mean age of the subjects was approximately 62 years, 80% were males, and the mean left ventricular ejection fraction at baseline was 26%. Approximately 96% of the subjects had NYHA class II or III heart failure. Concomitant treatment included diuretics (99%), ACE inhibitors (91%), digitalis (59%), aldosterone antagonists (11%), and “statin” lipid-lowering agents (21%). The mean duration of follow-up was 4.8 years. The mean dose of carvedilol was 42 mg per day. The trial had 2 primary end points: all-cause mortality and the composite of death plus hospitalization for any reason. The results of COMET are presented in Table 3 below. All-cause mortality carried most of the statistical weight and was the primary determinant of the trial size. All-cause mortality was 34% in the subjects treated with carvedilol and was 40% in the immediate-release metoprolol group (P = 0.0017; hazard ratio = 0.83, 95%CI: 0.74 to 0.93). The effect on mortality was primarily due to a reduction in cardiovascular death. The difference between the 2 groups with respect to the composite end point was not significant (P = 0.122). The estimated mean survival was 8.0 years with carvedilol and 6.6 years with immediate-release metoprolol. Table 3. Results of COMET End point Carvedilol N = 1,511 Metoprolol N = 1,518 Hazard ratio (95% CI) All-cause mortality 34% 40% 0.83 0.74 – 0.93 Mortality + all hospitalization 74% 76% 0.94 0.86 – 1.02 Cardiovascular death 30% 35% 0.80 0.70 – 0.90 Sudden death 14% 17% 0.81 0.68 – 0.97 Death due to circulatory failure 11% 13% 0.83 0.67 – 1.02 Death due to stroke 0.9% 2.5% 0.33 0.18 – 0.62 It is not known whether this formulation of metoprolol at any dose or this low dose of metoprolol in any formulation has any effect on survival or hospitalization in patients with heart failure. Thus, this trial extends the time over which carvedilol manifests benefits on survival in 23 heart failure, but it is not evidence that carvedilol improves outcome over the formulation of metoprolol (TOPROL-XL®) with benefits in heart failure. Severe Heart Failure (COPERNICUS): In a double-blind trial (COPERNICUS), 2,289 subjects with heart failure at rest or with minimal exertion and left ventricular ejection fraction <25% (mean 20%), despite digitalis (66%), diuretics (99%), and ACE inhibitors (89%) were randomized to placebo or carvedilol. Carvedilol was titrated from a starting dose of 3.125 mg twice daily to the maximum tolerated dose or up to 25 mg twice daily over a minimum of 6 weeks. Most subjects achieved the target dose of 25 mg. The trial was conducted in Eastern and Western Europe, the United States, Israel, and Canada. Similar numbers of subjects per group (about 100) withdrew during the titration period. The primary end point of the trial was all-cause mortality, but cause-specific mortality and the risk of death or hospitalization (total, cardiovascular [CV], or heart failure [HF]) were also examined. The developing trial data were followed by a data monitoring committee, and mortality analyses were adjusted for these multiple looks. The trial was stopped after a median follow-up of 10 months because of an observed 35% reduction in mortality (from 19.7% per patient-year on placebo to 12.8% on carvedilol, hazard ratio 0.65, 95% CI: 0.52 to 0.81,P = 0.0014, adjusted) (see Figure 1). The results of COPERNICUS are shown in table 4. Table 4. Results of COPERNICUS Trial in Subjects with Severe Heart Failure Cardiovascular=CV; Heart failure=HF End point Placebo (N = 1,133) Carvedilol (N = 1,156) Hazard ratio (95% Cl) % Reduction Nominal P value Mortality 190 130 0.65 (0.52 –0.81) 35 0.00013 Mortality + all hospitalization 507 425 0.76 (0.67 – 0.87) 24 0.00004 Mortality + CV hospitalization 395 314 0.73 (0.63 – 0.84) 27 0.00002 Mortality + HF hospitalization 357 271 0.69 (0.59 – 0.81) 31 0.000004 Figure 1. Survival Analysis for COPERNICUS (Intent-to-Treat) The effect on mortality was principally the result of a reduction in the rate of sudden death among subjects without worsening heart failure. Patients' global assessments, in which carvedilol-treated subjects were compared with placebo, were based on pre-specified, periodic patient self-assessments regarding whether clinical status post-treatment showed improvement, worsening or no change compared with baseline. Subjects treated with carvedilol showed significant improvements in global assessments compared with those treated with placebo in COPERNICUS. The protocol also specified that hospitalizations would be assessed. Fewer subjects on Carvedilol Tablets than on placebo were hospitalized for any reason (372 versus 432, P = 0.0029), for cardiovascular reasons (246 versus 314, P = 0.0003), or for worsening heart failure (198 versus 268, P = 0.0001). Carvedilol Tablets had a consistent and beneficial effect on all-cause mortality as well as the combined end points of all-cause mortality plus hospitalization (total, CV, or for heart failure) in the overall trial population and in all subgroups examined, including men and women, elderly and non-elderly, blacks and non-blacks, and diabetics and non-diabetics (see Figure 2). Figure 2. Effects on Mortality for Subgroups in COPERNICUS Figure 1 Figure 2 14.2 Left Ventricular Dysfunction Following Myocardial Infarction CAPRICORN was a double-blind study comparing carvedilol and placebo in 1,959 subjects with a recent myocardial infarction (within 21 days) and left ventricular ejection fraction of less than or equal to 40%, with (47%) or without symptoms of heart failure. Subjects given carvedilol received 6.25 mg twice daily, titrated as tolerated to 25 mg twice daily. Subjects had to have a systolic blood pressure greater than 90 mm Hg, a sitting heart rate greater than 60 beats/minute, and no contraindication to β-blocker use. Treatment of the index infarction included aspirin (85%), IV or oral β-blockers (37%), nitrates (73%), heparin (64%), thrombolytics (40%), and acute angioplasty (12%). Background treatment included ACE inhibitors or angiotensin receptor blockers (97%), anticoagulants (20%), lipid-lowering agents (23%), and diuretics (34%). Baseline population characteristics included an average age of 63 years, 74% male, 95% Caucasian, mean blood pressure 121/74 mm Hg, 22% with diabetes, and 54% with a history of hypertension. Mean dosage achieved of carvedilol was 20 mg twice daily; mean duration of follow-up was 15 months. All-cause mortality was 15% in the placebo group and 12% in the carvedilol group, indicating a 23% risk reduction in patients treated with carvedilol (95% CI 2 to 40%, p = 0.03), as shown in Figure 3. The effects on mortality in various subgroups are shown in Figure 4. Nearly all deaths were cardiovascular (which were reduced by 25% by carvedilol), and most of these deaths were sudden or related to pump failure (both types of death were reduced by carvedilol). Another study end point, total mortality and all-cause hospitalization, did not show a significant improvement. There was also a significant 40% reduction in fatal or non-fatal myocardial infarction observed in the group treated with carvedilol (95% CI 11% to 60%, p = 0.01). A similar reduction in the risk of myocardial infarction was also observed in a meta-analysis of placebo-controlled trials of carvedilol in heart failure. Figure 3. Survival Analysis for CAPRICORN (Intent-to-Treat) Figure 4. Effects on Mortality for Subgroups in CAPRICORN Figure 3 Figure 4 14.3 Hypertension Carvedilol Tablet was studied in 2 placebo-controlled trials that utilized twice-daily dosing, at total daily doses of 12.5 to 50 mg. In these and other studies, the starting dose did not exceed 12.5 mg. At 50 mg/day, Carvedilol Tablet reduced sitting trough (12-hour) blood pressure by about 9/5.5 mm Hg; at 25 mg/day the effect was about 7.5/3.5 mm Hg. Comparisons of trough to peak blood pressure showed a trough to peak ratio for blood pressure response of about 65%. Heart rate fell by about 7.5 beats/minute at 50 mg/day. In general, as is true for other β-blockers, responses were smaller in black than non-black patients. There were no age- or gender-related differences in response. The peak antihypertensive effect occurred 1 to 2 hours after a dose. The dose-related blood pressure response was accompanied by a dose-related increase in adverse effects [ see Adverse Reactions ( 6 ) ]. 14.4 Hypertension With Type 2 Diabetes Mellitus In a double-blind study (GEMINI), Carvedilol Tablet, added to an ACE inhibitor or angiotensin receptor blocker, was evaluated in a population with mild-to-moderate hypertension and well-controlled type 2 diabetes mellitus. The mean HbA1c at baseline was 7.2%. Carvedilol Tablet was titrated to a mean dose of 17.5 mg twice daily and maintained for 5 months. Carvedilol Tablet had no adverse effect on glycemic control, based on HbA1c measurements (mean change from baseline of 0.02%, 95% CI -0.06 to 0.10, p = NS) [ see Warnings and Precautions ( 5.6 ) ].\n",
      "RESULT: \n",
      "outcome='Mortality' value='34%' regiment='Carvedilol Tablets'\n"
     ]
    },
    {
     "name": "stderr",
     "output_type": "stream",
     "text": [
      "\n"
     ]
    }
   ],
   "source": [
    "results = []\n",
    "for prompt in tqdm(prompts):\n",
    "    result = generator(prompt)\n",
    "    print(prompt)\n",
    "    print(result)\n",
    "    results.append(result)"
   ]
  },
  {
   "cell_type": "code",
   "execution_count": 30,
   "metadata": {},
   "outputs": [
    {
     "data": {
      "text/plain": [
       "ClinicalOutcome(outcome='primary', value='100%', regiment='duloxetine delayed-release capsules} 60-120 mg daily }')"
      ]
     },
     "execution_count": 30,
     "metadata": {},
     "output_type": "execute_result"
    }
   ],
   "source": [
    "results[0]"
   ]
  },
  {
   "cell_type": "markdown",
   "metadata": {},
   "source": [
    "### Group and Save\n",
    "Break apart each dictionary response and save as a new dataframe with explicit columns for each data point to make downstream evaluation just a little bit easier."
   ]
  },
  {
   "cell_type": "code",
   "execution_count": 37,
   "metadata": {},
   "outputs": [
    {
     "data": {
      "text/html": [
       "<div>\n",
       "<style scoped>\n",
       "    .dataframe tbody tr th:only-of-type {\n",
       "        vertical-align: middle;\n",
       "    }\n",
       "\n",
       "    .dataframe tbody tr th {\n",
       "        vertical-align: top;\n",
       "    }\n",
       "\n",
       "    .dataframe thead th {\n",
       "        text-align: right;\n",
       "    }\n",
       "</style>\n",
       "<table border=\"1\" class=\"dataframe\">\n",
       "  <thead>\n",
       "    <tr style=\"text-align: right;\">\n",
       "      <th></th>\n",
       "      <th>outcome</th>\n",
       "      <th>value</th>\n",
       "      <th>regiment</th>\n",
       "    </tr>\n",
       "  </thead>\n",
       "  <tbody>\n",
       "    <tr>\n",
       "      <th>0</th>\n",
       "      <td>Blood Pressure</td>\n",
       "      <td>decreased blood pressure</td>\n",
       "      <td>Felodipine treatment</td>\n",
       "    </tr>\n",
       "    <tr>\n",
       "      <th>1</th>\n",
       "      <td>Improvement of veins</td>\n",
       "      <td>4.5</td>\n",
       "      <td>Polidocanol</td>\n",
       "    </tr>\n",
       "    <tr>\n",
       "      <th>2</th>\n",
       "      <td>Median overall survival</td>\n",
       "      <td>9.0 months</td>\n",
       "      <td>triplet-therapy group</td>\n",
       "    </tr>\n",
       "    <tr>\n",
       "      <th>3</th>\n",
       "      <td>ADHD symptoms</td>\n",
       "      <td>statistically significantly improved on atomox...</td>\n",
       "      <td>atomoxetine</td>\n",
       "    </tr>\n",
       "    <tr>\n",
       "      <th>4</th>\n",
       "      <td>Responder rates</td>\n",
       "      <td>57%</td>\n",
       "      <td>Sandimmune ® and cyclosporine</td>\n",
       "    </tr>\n",
       "    <tr>\n",
       "      <th>5</th>\n",
       "      <td>completion of all weeks of study treatment or ...</td>\n",
       "      <td>42%</td>\n",
       "      <td>lamotrigine</td>\n",
       "    </tr>\n",
       "    <tr>\n",
       "      <th>6</th>\n",
       "      <td>primary_efficacy</td>\n",
       "      <td>better_than_Comparator</td>\n",
       "      <td>atorvastatin_calcium_10_mg_daily</td>\n",
       "    </tr>\n",
       "    <tr>\n",
       "      <th>7</th>\n",
       "      <td>VT/VF</td>\n",
       "      <td>double-blind</td>\n",
       "      <td>intravenous amiodarone</td>\n",
       "    </tr>\n",
       "    <tr>\n",
       "      <th>8</th>\n",
       "      <td>Median hemoglobin concentration</td>\n",
       "      <td>13.5 g/dL</td>\n",
       "      <td>VPRIV every other week</td>\n",
       "    </tr>\n",
       "    <tr>\n",
       "      <th>9</th>\n",
       "      <td>Symptom scores</td>\n",
       "      <td>6.2 units</td>\n",
       "      <td>combination therapy</td>\n",
       "    </tr>\n",
       "    <tr>\n",
       "      <th>10</th>\n",
       "      <td>H. pylori Eradication</td>\n",
       "      <td>92%</td>\n",
       "      <td>Triple therapy group</td>\n",
       "    </tr>\n",
       "    <tr>\n",
       "      <th>11</th>\n",
       "      <td>Median time to first retinitis progression</td>\n",
       "      <td>105 days</td>\n",
       "      <td>ganciclovir for injection solution induction t...</td>\n",
       "    </tr>\n",
       "    <tr>\n",
       "      <th>12</th>\n",
       "      <td>average weight loss</td>\n",
       "      <td>fraction of a pound a week</td>\n",
       "      <td>drug-treated patients</td>\n",
       "    </tr>\n",
       "    <tr>\n",
       "      <th>13</th>\n",
       "      <td>Median overall survival</td>\n",
       "      <td>10.8 months</td>\n",
       "      <td>up to 90 days or 30 days beyond the day that C...</td>\n",
       "    </tr>\n",
       "    <tr>\n",
       "      <th>14</th>\n",
       "      <td>Deduction</td>\n",
       "      <td>0.3</td>\n",
       "      <td>90 mg four times daily</td>\n",
       "    </tr>\n",
       "    <tr>\n",
       "      <th>15</th>\n",
       "      <td>Erosive Esophagitis (EE), Maintenance of Healing</td>\n",
       "      <td>86% in Pantoprazole when compared to Ranitidine</td>\n",
       "      <td>Pantoprazole 40 mg daily</td>\n",
       "    </tr>\n",
       "    <tr>\n",
       "      <th>16</th>\n",
       "      <td>favorable clinical response</td>\n",
       "      <td>82%</td>\n",
       "      <td>160 mg daily (40 mg 4 times daily) dicyclomine...</td>\n",
       "    </tr>\n",
       "    <tr>\n",
       "      <th>17</th>\n",
       "      <td>Total AUA Symptom Score</td>\n",
       "      <td>-8.3</td>\n",
       "      <td>FLOMAX capsules 0.4 mg once daily</td>\n",
       "    </tr>\n",
       "    <tr>\n",
       "      <th>18</th>\n",
       "      <td>Clinical cure rate at Day 9</td>\n",
       "      <td>80%</td>\n",
       "      <td>ciprofloxacin</td>\n",
       "    </tr>\n",
       "    <tr>\n",
       "      <th>19</th>\n",
       "      <td>ability to achieve and maintain an erection su...</td>\n",
       "      <td>improved</td>\n",
       "      <td>sildenafil tablets</td>\n",
       "    </tr>\n",
       "    <tr>\n",
       "      <th>20</th>\n",
       "      <td>Median overall survival</td>\n",
       "      <td>9.0 months</td>\n",
       "      <td>triplet-therapy group</td>\n",
       "    </tr>\n",
       "    <tr>\n",
       "      <th>21</th>\n",
       "      <td>Risk of myocardial infarction, stroke, or deat...</td>\n",
       "      <td>0.78</td>\n",
       "      <td>ramipril (10 mg/day)</td>\n",
       "    </tr>\n",
       "    <tr>\n",
       "      <th>22</th>\n",
       "      <td>Reduction in intraocular pressure</td>\n",
       "      <td>5 to 8 mmHg</td>\n",
       "      <td>Tafluprost Ophthalmic Solution</td>\n",
       "    </tr>\n",
       "    <tr>\n",
       "      <th>23</th>\n",
       "      <td>median change in daily frequency and severity ...</td>\n",
       "      <td>baseline to week 4: -5.00 (p-value: † 0.132); ...</td>\n",
       "      <td>estradiol gel</td>\n",
       "    </tr>\n",
       "    <tr>\n",
       "      <th>24</th>\n",
       "      <td>onset of seasonal major depressive episode</td>\n",
       "      <td>0</td>\n",
       "      <td>bupropion hydrochloride extended-release table...</td>\n",
       "    </tr>\n",
       "    <tr>\n",
       "      <th>25</th>\n",
       "      <td>Median overall survival</td>\n",
       "      <td>9.0 months</td>\n",
       "      <td>triplet-therapy group</td>\n",
       "    </tr>\n",
       "    <tr>\n",
       "      <th>26</th>\n",
       "      <td>systolic blood pressure</td>\n",
       "      <td>increased in 7 studies</td>\n",
       "      <td>vasopressin administration</td>\n",
       "    </tr>\n",
       "    <tr>\n",
       "      <th>27</th>\n",
       "      <td>Risk of NSAID-induced mucosal injury</td>\n",
       "      <td>10–30%</td>\n",
       "      <td>misoprostol</td>\n",
       "    </tr>\n",
       "    <tr>\n",
       "      <th>28</th>\n",
       "      <td>ulcer recurrence</td>\n",
       "      <td>4%</td>\n",
       "      <td>omeprazole + clarithromycin</td>\n",
       "    </tr>\n",
       "    <tr>\n",
       "      <th>29</th>\n",
       "      <td>Objective response rate</td>\n",
       "      <td>80%</td>\n",
       "      <td>LUNSUMIO treatment</td>\n",
       "    </tr>\n",
       "    <tr>\n",
       "      <th>30</th>\n",
       "      <td>Median time to alleviation of influenza signs ...</td>\n",
       "      <td>1.5 days</td>\n",
       "      <td>Oseltamivir phosphate treatment of 2 mg per kg...</td>\n",
       "    </tr>\n",
       "    <tr>\n",
       "      <th>31</th>\n",
       "      <td>Mortality</td>\n",
       "      <td>34%</td>\n",
       "      <td>Carvedilol Tablets</td>\n",
       "    </tr>\n",
       "  </tbody>\n",
       "</table>\n",
       "</div>"
      ],
      "text/plain": [
       "                                              outcome  \\\n",
       "0                                      Blood Pressure   \n",
       "1                                Improvement of veins   \n",
       "2                             Median overall survival   \n",
       "3                                       ADHD symptoms   \n",
       "4                                     Responder rates   \n",
       "5   completion of all weeks of study treatment or ...   \n",
       "6                                    primary_efficacy   \n",
       "7                                               VT/VF   \n",
       "8                     Median hemoglobin concentration   \n",
       "9                                      Symptom scores   \n",
       "10                              H. pylori Eradication   \n",
       "11         Median time to first retinitis progression   \n",
       "12                                average weight loss   \n",
       "13                            Median overall survival   \n",
       "14                                          Deduction   \n",
       "15   Erosive Esophagitis (EE), Maintenance of Healing   \n",
       "16                        favorable clinical response   \n",
       "17                            Total AUA Symptom Score   \n",
       "18                        Clinical cure rate at Day 9   \n",
       "19  ability to achieve and maintain an erection su...   \n",
       "20                            Median overall survival   \n",
       "21  Risk of myocardial infarction, stroke, or deat...   \n",
       "22                  Reduction in intraocular pressure   \n",
       "23  median change in daily frequency and severity ...   \n",
       "24         onset of seasonal major depressive episode   \n",
       "25                            Median overall survival   \n",
       "26                            systolic blood pressure   \n",
       "27               Risk of NSAID-induced mucosal injury   \n",
       "28                                   ulcer recurrence   \n",
       "29                            Objective response rate   \n",
       "30  Median time to alleviation of influenza signs ...   \n",
       "31                                          Mortality   \n",
       "\n",
       "                                                value  \\\n",
       "0                            decreased blood pressure   \n",
       "1                                                 4.5   \n",
       "2                                          9.0 months   \n",
       "3   statistically significantly improved on atomox...   \n",
       "4                                                 57%   \n",
       "5                                                 42%   \n",
       "6                              better_than_Comparator   \n",
       "7                                        double-blind   \n",
       "8                                           13.5 g/dL   \n",
       "9                                           6.2 units   \n",
       "10                                                92%   \n",
       "11                                           105 days   \n",
       "12                         fraction of a pound a week   \n",
       "13                                        10.8 months   \n",
       "14                                                0.3   \n",
       "15    86% in Pantoprazole when compared to Ranitidine   \n",
       "16                                                82%   \n",
       "17                                               -8.3   \n",
       "18                                                80%   \n",
       "19                                           improved   \n",
       "20                                         9.0 months   \n",
       "21                                               0.78   \n",
       "22                                        5 to 8 mmHg   \n",
       "23  baseline to week 4: -5.00 (p-value: † 0.132); ...   \n",
       "24                                                  0   \n",
       "25                                         9.0 months   \n",
       "26                             increased in 7 studies   \n",
       "27                                             10–30%   \n",
       "28                                                 4%   \n",
       "29                                                80%   \n",
       "30                                           1.5 days   \n",
       "31                                                34%   \n",
       "\n",
       "                                             regiment  \n",
       "0                                Felodipine treatment  \n",
       "1                                         Polidocanol  \n",
       "2                               triplet-therapy group  \n",
       "3                                         atomoxetine  \n",
       "4                       Sandimmune ® and cyclosporine  \n",
       "5                                         lamotrigine  \n",
       "6                    atorvastatin_calcium_10_mg_daily  \n",
       "7                              intravenous amiodarone  \n",
       "8                              VPRIV every other week  \n",
       "9                                 combination therapy  \n",
       "10                               Triple therapy group  \n",
       "11  ganciclovir for injection solution induction t...  \n",
       "12                              drug-treated patients  \n",
       "13  up to 90 days or 30 days beyond the day that C...  \n",
       "14                             90 mg four times daily  \n",
       "15                           Pantoprazole 40 mg daily  \n",
       "16  160 mg daily (40 mg 4 times daily) dicyclomine...  \n",
       "17                  FLOMAX capsules 0.4 mg once daily  \n",
       "18                                      ciprofloxacin  \n",
       "19                                 sildenafil tablets  \n",
       "20                              triplet-therapy group  \n",
       "21                               ramipril (10 mg/day)  \n",
       "22                     Tafluprost Ophthalmic Solution  \n",
       "23                                      estradiol gel  \n",
       "24  bupropion hydrochloride extended-release table...  \n",
       "25                              triplet-therapy group  \n",
       "26                         vasopressin administration  \n",
       "27                                        misoprostol  \n",
       "28                        omeprazole + clarithromycin  \n",
       "29                                 LUNSUMIO treatment  \n",
       "30  Oseltamivir phosphate treatment of 2 mg per kg...  \n",
       "31                                 Carvedilol Tablets  "
      ]
     },
     "execution_count": 37,
     "metadata": {},
     "output_type": "execute_result"
    }
   ],
   "source": [
    "outcomes = []\n",
    "values = []\n",
    "regiments = []\n",
    "\n",
    "for clinical_outcome in results:\n",
    "    outcomes.append(clinical_outcome.outcome)\n",
    "    values.append(clinical_outcome.value)\n",
    "    regiments.append(clinical_outcome.regiment)\n",
    "\n",
    "clinical_outcomes_df = pd.DataFrame().assign(outcome=outcomes,value=values,regiment=regiments)\n",
    "clinical_outcomes_df"
   ]
  },
  {
   "cell_type": "code",
   "execution_count": null,
   "metadata": {},
   "outputs": [],
   "source": [
    "list(search_space['brand_name'][5:35])"
   ]
  },
  {
   "cell_type": "code",
   "execution_count": 38,
   "metadata": {},
   "outputs": [
    {
     "data": {
      "text/html": [
       "<div>\n",
       "<style scoped>\n",
       "    .dataframe tbody tr th:only-of-type {\n",
       "        vertical-align: middle;\n",
       "    }\n",
       "\n",
       "    .dataframe tbody tr th {\n",
       "        vertical-align: top;\n",
       "    }\n",
       "\n",
       "    .dataframe thead th {\n",
       "        text-align: right;\n",
       "    }\n",
       "</style>\n",
       "<table border=\"1\" class=\"dataframe\">\n",
       "  <thead>\n",
       "    <tr style=\"text-align: right;\">\n",
       "      <th></th>\n",
       "      <th>outcome</th>\n",
       "      <th>value</th>\n",
       "      <th>regiment</th>\n",
       "      <th>brand_name</th>\n",
       "      <th>application_number</th>\n",
       "      <th>clinical_studies</th>\n",
       "    </tr>\n",
       "  </thead>\n",
       "  <tbody>\n",
       "    <tr>\n",
       "      <th>0</th>\n",
       "      <td>Blood Pressure</td>\n",
       "      <td>decreased blood pressure</td>\n",
       "      <td>Felodipine treatment</td>\n",
       "      <td>Felodipine</td>\n",
       "      <td>ANDA204800</td>\n",
       "      <td>Clinical Studies Felodipine produces dose rela...</td>\n",
       "    </tr>\n",
       "    <tr>\n",
       "      <th>1</th>\n",
       "      <td>Improvement of veins</td>\n",
       "      <td>4.5</td>\n",
       "      <td>Polidocanol</td>\n",
       "      <td>Asclera</td>\n",
       "      <td>NDA021201</td>\n",
       "      <td>14 CLINICAL STUDIES Asclera was evaluated in a...</td>\n",
       "    </tr>\n",
       "    <tr>\n",
       "      <th>2</th>\n",
       "      <td>Median overall survival</td>\n",
       "      <td>9.0 months</td>\n",
       "      <td>triplet-therapy group</td>\n",
       "      <td>Clofarabine</td>\n",
       "      <td>NDA021673</td>\n",
       "      <td>14 CLINICAL STUDIES Seventy-eight (78) pediatr...</td>\n",
       "    </tr>\n",
       "    <tr>\n",
       "      <th>3</th>\n",
       "      <td>ADHD symptoms</td>\n",
       "      <td>statistically significantly improved on atomox...</td>\n",
       "      <td>atomoxetine</td>\n",
       "      <td>Atomoxetine</td>\n",
       "      <td>ANDA202682</td>\n",
       "      <td>14 CLINICAL STUDIES 14.1 ADHD Studies in Child...</td>\n",
       "    </tr>\n",
       "    <tr>\n",
       "      <th>4</th>\n",
       "      <td>Responder rates</td>\n",
       "      <td>57%</td>\n",
       "      <td>Sandimmune ® and cyclosporine</td>\n",
       "      <td>Gengraf</td>\n",
       "      <td>ANDA065003</td>\n",
       "      <td>CLINICAL TRIALS Graph Rheumatoid Arthritis The...</td>\n",
       "    </tr>\n",
       "  </tbody>\n",
       "</table>\n",
       "</div>"
      ],
      "text/plain": [
       "                   outcome                                              value  \\\n",
       "0           Blood Pressure                           decreased blood pressure   \n",
       "1     Improvement of veins                                                4.5   \n",
       "2  Median overall survival                                         9.0 months   \n",
       "3            ADHD symptoms  statistically significantly improved on atomox...   \n",
       "4          Responder rates                                                57%   \n",
       "\n",
       "                        regiment   brand_name application_number  \\\n",
       "0           Felodipine treatment   Felodipine         ANDA204800   \n",
       "1                    Polidocanol      Asclera          NDA021201   \n",
       "2          triplet-therapy group  Clofarabine          NDA021673   \n",
       "3                    atomoxetine  Atomoxetine         ANDA202682   \n",
       "4  Sandimmune ® and cyclosporine      Gengraf         ANDA065003   \n",
       "\n",
       "                                    clinical_studies  \n",
       "0  Clinical Studies Felodipine produces dose rela...  \n",
       "1  14 CLINICAL STUDIES Asclera was evaluated in a...  \n",
       "2  14 CLINICAL STUDIES Seventy-eight (78) pediatr...  \n",
       "3  14 CLINICAL STUDIES 14.1 ADHD Studies in Child...  \n",
       "4  CLINICAL TRIALS Graph Rheumatoid Arthritis The...  "
      ]
     },
     "execution_count": 38,
     "metadata": {},
     "output_type": "execute_result"
    }
   ],
   "source": [
    "# search_space[5:35] #['brand_name']  ['application_number']  ['clinical_studies']\n",
    "clinical_outcomes_df['brand_name'] = list(search_space['brand_name'][68:100])\n",
    "clinical_outcomes_df['application_number'] = list(search_space['application_number'][68:100])\n",
    "clinical_outcomes_df['clinical_studies'] = list(search_space['clinical_studies'][68:100])\n",
    "\n",
    "\n",
    "clinical_outcomes_df[0:5]"
   ]
  },
  {
   "cell_type": "code",
   "execution_count": 39,
   "metadata": {},
   "outputs": [],
   "source": [
    "# clinical_outcomes_df.to_excel('20240611_llm-orca-ner-set3.xlsx')"
   ]
  }
 ],
 "metadata": {
  "kernelspec": {
   "display_name": "Python 3",
   "language": "python",
   "name": "python3"
  },
  "language_info": {
   "codemirror_mode": {
    "name": "ipython",
    "version": 3
   },
   "file_extension": ".py",
   "mimetype": "text/x-python",
   "name": "python",
   "nbconvert_exporter": "python",
   "pygments_lexer": "ipython3",
   "version": "3.10.14"
  }
 },
 "nbformat": 4,
 "nbformat_minor": 2
}

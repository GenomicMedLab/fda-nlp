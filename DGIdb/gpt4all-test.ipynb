{
 "cells": [
  {
   "cell_type": "code",
   "execution_count": 1,
   "metadata": {},
   "outputs": [
    {
     "name": "stdout",
     "output_type": "stream",
     "text": [
      " Hello, World!\n"
     ]
    }
   ],
   "source": [
    "import llm\n",
    "\n",
    "model = llm.get_model('mistral-7b-instruct-v0')\n",
    "response = model.prompt(\"Say hello world\")\n",
    "print(response)"
   ]
  },
  {
   "cell_type": "markdown",
   "metadata": {},
   "source": [
    "## Conversation"
   ]
  },
  {
   "cell_type": "code",
   "execution_count": 2,
   "metadata": {},
   "outputs": [
    {
     "name": "stdout",
     "output_type": "stream",
     "text": [
      " Text Chunk 2: BRAF is a Protein Coding gene that encodes for the protein B-Raf Proto-Oncogene, Serine/Threonine Kinase. This gene has been associated with several diseases such as Cardiofaciocutaneous Syndrome 1 and Lung Cancer. Additionally, it plays an important role in various signaling pathways including IL-9 Signaling Pathways and Prolactin Signaling. The Gene Ontology (GO) terms related to this gene include calcium ion binding and transferase activity, transferring phosphorus-containing groups. A notable paralog of BRAF is RAF1.\n"
     ]
    }
   ],
   "source": [
    "import llm\n",
    "\n",
    "model = llm.get_model('mistral-7b-instruct-v0')\n",
    "conversation = model.conversation()\n",
    "\n",
    "response = conversation.prompt(\"Here is Text Chunk 1: BRAF (B-Raf Proto-Oncogene, Serine/Threonine Kinase) is a Protein Coding gene. Diseases associated with BRAF include Cardiofaciocutaneous Syndrome 1 and Lung Cancer. Among its related pathways are IL-9 Signaling Pathways and Prolactin Signaling. Gene Ontology (GO) annotations related to this gene include calcium ion binding and transferase activity, transferring phosphorus-containing groups. An important paralog of this gene is RAF1.\")\n",
    "print(response)"
   ]
  },
  {
   "cell_type": "code",
   "execution_count": 3,
   "metadata": {},
   "outputs": [
    {
     "name": "stdout",
     "output_type": "stream",
     "text": [
      " Text Chunk 3: BRAF mutations are common in many cancer types, and the most prevalent is V600E. This mutation has been found to be an activating mutation and cells harboring it are sensitive to dabrafenib. However, some BRAF mutants may not respond well to BRAF inhibitors and instead require MEK inhibition. The sensitivity of BRAF mutations to inhibitors is divided into three categories: Class 1 (V600), Class 2 (K601E, K601N, K601T, L597Q, L597V, G469A, G469V, G469R, G464V, G464E, and fusions), and Class 3 (D287H, V459L, G466V\n"
     ]
    }
   ],
   "source": [
    "response2 = conversation.prompt(\"Here is Text Chunk 2: BRAF mutations are found to be recurrent in many cancer types. Of these, the mutation of valine 600 to glutamic acid (V600E) is the most prevalent. V600E has been determined to be an activating mutation, and cells that harbor it, along with other V600 mutations are sensitive to the BRAF inhibitor dabrafenib. It is also common to use MEK inhibition as a substitute for BRAF inhibitors, and the MEK inhibitor trametinib has seen some success in BRAF mutant melanomas. BRAF mutations have also been correlated with poor prognosis in many cancer types, although there is at least one study that questions this conclusion in papillary thyroid cancer. Oncogenic BRAF mutations are divided into three categories that determine their sensitivity to inhibitors. Class 1 BRAF mutations (V600) are RAS-independent, signal as monomers and are sensitive to current RAF monomer inhibitors. Class 2 BRAF mutations (K601E, K601N, K601T, L597Q, L597V, G469A, G469V, G469R, G464V, G464E, and fusions) are RAS-independent, signaling as constitutive dimers and are resistant to vemurafenib. Such mutants may be sensitive to novel RAF dimer inhibitors or MEK inhibitors. Class 3 BRAF mutations (D287H, V459L, G466V, G466E, G466A, S467L, G469E, N581S, N581I, D594N, D594G, D594A, D594H, F595L, G596D, and G596R) with low or absent kinase activity are RAS-dependent and they activate ERK by increasing their binding to activated RAS and wild-type CRAF. Class 3 BRAF mutations coexist with mutations in RAS or NF1 in melanoma may be treated with MEK inhibitors. In epithelial tumors such as CRC or NSCLC may be effectively treated with combinations that include inhibitors of receptor tyrosine kinase.\")\n",
    "print(response2)"
   ]
  },
  {
   "cell_type": "code",
   "execution_count": 4,
   "metadata": {},
   "outputs": [
    {
     "name": "stdout",
     "output_type": "stream",
     "text": [
      " Sure! Here's the extracted information in JSON format:\n",
      "```json\n",
      "{\n",
      "    \"Therapeutics\": [\"dabrafenib\", \"trametinib\"],\n",
      "    \"Diseases\": [\"Cardiofaciocutaneous Syndrome 1\", \"Lung Cancer\"],\n",
      "    \"Genes\": [\"BRAF\", \"RAF1\"],\n",
      "    \"Variants\": [\n",
      "        {\n",
      "            \"Name\": \"V600E\",\n",
      "            \"Category\": \"Class 1\"\n",
      "        },\n",
      "        {\n",
      "            \"Name\": \"K601E\",\n",
      "            \"Category\": \"Class 2\"\n",
      "        },\n",
      "        {\n",
      "            \"Name\": \"L597Q\",\n",
      "            \"Category\": \"Class 2\"\n",
      "        },\n",
      "        {\n",
      "            \"Name\": \"G469A\",\n",
      "            \"Category\": \"Class 2\"\n",
      "        },\n",
      "        {\n",
      "            \"Name\": \"G469V\",\n",
      "            \"Category\": \"Class 2\"\n",
      "        },\n",
      "        {\n",
      "            \"Name\": \"G469R\",\n",
      "            \"Category\": \"Class 2\"\n",
      "        },\n",
      "        {\n",
      "            \"Name\": \"G464V\",\n",
      "            \"Category\": \"Class 2\"\n",
      "        },\n",
      "        {\n",
      "            \"Name\": \"G464E\",\n",
      "            \"Category\": \"Class 2\"\n",
      "        },\n",
      "        {\n",
      "            \"Name\": \"D287H\",\n",
      "            \"Category\": \"Class 3\"\n",
      "        },\n",
      "        {\n",
      "            \"Name\": \"V459L\",\n",
      "            \"Category\": \"Class 3\"\n",
      "        },\n",
      "        {\n",
      "            \"Name\": \"G466V\",\n",
      "            \"Category\": \"Class 3\"\n",
      "        },\n",
      "        {\n",
      "            \"Name\": \"G466E\",\n",
      "            \"Category\": \"Class 3\"\n",
      "        },\n",
      "        {\n",
      "            \"Name\": \"G466A\",\n",
      "            \"Category\": \"Class 3\"\n",
      "        },\n",
      "        {\n",
      "            \"Name\": \"S467L\",\n",
      "            \"Category\": \"Class 3\"\n",
      "        },\n",
      "        {\n",
      "            \"Name\": \"G469E\",\n",
      "            \"Category\": \"Class 3\"\n",
      "        },\n",
      "        {\n",
      "            \"Name\": \"N581S\",\n",
      "            \"Category\": \"Class 3\"\n",
      "        },\n",
      "        {\n",
      "            \"Name\": \"N581I\",\n",
      "            \"Category\": \"Class 3\"\n",
      "        },\n",
      "        {\n",
      "            \"Name\": \"D594N\",\n",
      "            \"Category\": \"Class 3\"\n",
      "        },\n",
      "        {\n",
      "            \"Name\": \"D594G\",\n",
      "            \"Category\": \"Class 3\"\n",
      "        },\n",
      "        {\n",
      "            \"Name\": \"D594A\",\n",
      "            \"Category\": \"Class 3\"\n",
      "        },\n",
      "        {\n",
      "            \"Name\": \"D594H\",\n",
      "            \"Category\": \"Class 3\"\n",
      "        },\n",
      "        {\n",
      "            \"Name\": \"F595L\",\n",
      "            \"Category\": \"Class 3\"\n",
      "        },\n",
      "        {\n",
      "            \"Name\": \"G596D\",\n",
      "            \"Category\": \"Class 3\"\n",
      "        },\n",
      "        {\n",
      "            \"Name\": \"G596R\",\n",
      "            \"Category\": \"Class 3\"\n",
      "        }\n",
      "    ]\n",
      "}\n",
      "```\n"
     ]
    }
   ],
   "source": [
    "response3 = conversation.prompt(\"Can you extract all therapeutics, diseases, genes, and variants from Text Chunk 1 and Text Chunk 2? Format your answer as JSON\",max_tokens=1000)\n",
    "print(response3)"
   ]
  }
 ],
 "metadata": {
  "kernelspec": {
   "display_name": "projectname",
   "language": "python",
   "name": "projectname"
  },
  "language_info": {
   "codemirror_mode": {
    "name": "ipython",
    "version": 3
   },
   "file_extension": ".py",
   "mimetype": "text/x-python",
   "name": "python",
   "nbconvert_exporter": "python",
   "pygments_lexer": "ipython3",
   "version": "3.10.4"
  }
 },
 "nbformat": 4,
 "nbformat_minor": 2
}

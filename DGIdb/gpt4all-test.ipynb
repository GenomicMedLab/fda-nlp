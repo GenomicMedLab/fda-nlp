{
 "cells": [
  {
   "cell_type": "code",
   "execution_count": 1,
   "metadata": {},
   "outputs": [
    {
     "name": "stdout",
     "output_type": "stream",
     "text": [
      " Hello, World!\n"
     ]
    }
   ],
   "source": [
    "import llm\n",
    "\n",
    "model = llm.get_model('mistral-7b-instruct-v0')\n",
    "response = model.prompt(\"Say hello world\")\n",
    "print(response)"
   ]
  },
  {
   "cell_type": "markdown",
   "metadata": {},
   "source": [
    "## Conversation (w/ Gene Cards)"
   ]
  },
  {
   "cell_type": "code",
   "execution_count": 2,
   "metadata": {},
   "outputs": [
    {
     "name": "stdout",
     "output_type": "stream",
     "text": [
      " Text Chunk 2: BRAF is a Protein Coding gene that encodes for the protein B-Raf Proto-Oncogene, Serine/Threonine Kinase. This gene has been associated with several diseases such as Cardiofaciocutaneous Syndrome 1 and Lung Cancer. Additionally, it plays an important role in various signaling pathways including IL-9 Signaling Pathways and Prolactin Signaling. The Gene Ontology (GO) terms related to this gene include calcium ion binding and transferase activity, transferring phosphorus-containing groups. A notable paralog of BRAF is RAF1.\n"
     ]
    }
   ],
   "source": [
    "import llm\n",
    "\n",
    "model = llm.get_model('mistral-7b-instruct-v0')\n",
    "conversation = model.conversation()\n",
    "\n",
    "response = conversation.prompt(\"Here is Text Chunk 1: BRAF (B-Raf Proto-Oncogene, Serine/Threonine Kinase) is a Protein Coding gene. Diseases associated with BRAF include Cardiofaciocutaneous Syndrome 1 and Lung Cancer. Among its related pathways are IL-9 Signaling Pathways and Prolactin Signaling. Gene Ontology (GO) annotations related to this gene include calcium ion binding and transferase activity, transferring phosphorus-containing groups. An important paralog of this gene is RAF1.\")\n",
    "print(response)"
   ]
  },
  {
   "cell_type": "code",
   "execution_count": 3,
   "metadata": {},
   "outputs": [
    {
     "name": "stdout",
     "output_type": "stream",
     "text": [
      " Text Chunk 3: BRAF mutations are common in many cancer types, and the most prevalent is V600E. This mutation has been found to be an activating mutation and cells harboring it are sensitive to dabrafenib. However, some BRAF mutants may not respond well to BRAF inhibitors and instead require MEK inhibition. The sensitivity of BRAF mutations to inhibitors is divided into three categories: Class 1 (V600), Class 2 (K601E, K601N, K601T, L597Q, L597V, G469A, G469V, G469R, G464V, G464E, and fusions), and Class 3 (D287H, V459L, G466V\n"
     ]
    }
   ],
   "source": [
    "response2 = conversation.prompt(\"Here is Text Chunk 2: BRAF mutations are found to be recurrent in many cancer types. Of these, the mutation of valine 600 to glutamic acid (V600E) is the most prevalent. V600E has been determined to be an activating mutation, and cells that harbor it, along with other V600 mutations are sensitive to the BRAF inhibitor dabrafenib. It is also common to use MEK inhibition as a substitute for BRAF inhibitors, and the MEK inhibitor trametinib has seen some success in BRAF mutant melanomas. BRAF mutations have also been correlated with poor prognosis in many cancer types, although there is at least one study that questions this conclusion in papillary thyroid cancer. Oncogenic BRAF mutations are divided into three categories that determine their sensitivity to inhibitors. Class 1 BRAF mutations (V600) are RAS-independent, signal as monomers and are sensitive to current RAF monomer inhibitors. Class 2 BRAF mutations (K601E, K601N, K601T, L597Q, L597V, G469A, G469V, G469R, G464V, G464E, and fusions) are RAS-independent, signaling as constitutive dimers and are resistant to vemurafenib. Such mutants may be sensitive to novel RAF dimer inhibitors or MEK inhibitors. Class 3 BRAF mutations (D287H, V459L, G466V, G466E, G466A, S467L, G469E, N581S, N581I, D594N, D594G, D594A, D594H, F595L, G596D, and G596R) with low or absent kinase activity are RAS-dependent and they activate ERK by increasing their binding to activated RAS and wild-type CRAF. Class 3 BRAF mutations coexist with mutations in RAS or NF1 in melanoma may be treated with MEK inhibitors. In epithelial tumors such as CRC or NSCLC may be effectively treated with combinations that include inhibitors of receptor tyrosine kinase.\")\n",
    "print(response2)"
   ]
  },
  {
   "cell_type": "code",
   "execution_count": 4,
   "metadata": {},
   "outputs": [
    {
     "name": "stdout",
     "output_type": "stream",
     "text": [
      " Sure! Here's the extracted information in JSON format:\n",
      "```json\n",
      "{\n",
      "    \"Therapeutics\": [\"dabrafenib\", \"trametinib\"],\n",
      "    \"Diseases\": [\"Cardiofaciocutaneous Syndrome 1\", \"Lung Cancer\"],\n",
      "    \"Genes\": [\"BRAF\", \"RAF1\"],\n",
      "    \"Variants\": [\n",
      "        {\n",
      "            \"Name\": \"V600E\",\n",
      "            \"Category\": \"Class 1\"\n",
      "        },\n",
      "        {\n",
      "            \"Name\": \"K601E\",\n",
      "            \"Category\": \"Class 2\"\n",
      "        },\n",
      "        {\n",
      "            \"Name\": \"L597Q\",\n",
      "            \"Category\": \"Class 2\"\n",
      "        },\n",
      "        {\n",
      "            \"Name\": \"G469A\",\n",
      "            \"Category\": \"Class 2\"\n",
      "        },\n",
      "        {\n",
      "            \"Name\": \"G469V\",\n",
      "            \"Category\": \"Class 2\"\n",
      "        },\n",
      "        {\n",
      "            \"Name\": \"G469R\",\n",
      "            \"Category\": \"Class 2\"\n",
      "        },\n",
      "        {\n",
      "            \"Name\": \"G464V\",\n",
      "            \"Category\": \"Class 2\"\n",
      "        },\n",
      "        {\n",
      "            \"Name\": \"G464E\",\n",
      "            \"Category\": \"Class 2\"\n",
      "        },\n",
      "        {\n",
      "            \"Name\": \"D287H\",\n",
      "            \"Category\": \"Class 3\"\n",
      "        },\n",
      "        {\n",
      "            \"Name\": \"V459L\",\n",
      "            \"Category\": \"Class 3\"\n",
      "        },\n",
      "        {\n",
      "            \"Name\": \"G466V\",\n",
      "            \"Category\": \"Class 3\"\n",
      "        },\n",
      "        {\n",
      "            \"Name\": \"G466E\",\n",
      "            \"Category\": \"Class 3\"\n",
      "        },\n",
      "        {\n",
      "            \"Name\": \"G466A\",\n",
      "            \"Category\": \"Class 3\"\n",
      "        },\n",
      "        {\n",
      "            \"Name\": \"S467L\",\n",
      "            \"Category\": \"Class 3\"\n",
      "        },\n",
      "        {\n",
      "            \"Name\": \"G469E\",\n",
      "            \"Category\": \"Class 3\"\n",
      "        },\n",
      "        {\n",
      "            \"Name\": \"N581S\",\n",
      "            \"Category\": \"Class 3\"\n",
      "        },\n",
      "        {\n",
      "            \"Name\": \"N581I\",\n",
      "            \"Category\": \"Class 3\"\n",
      "        },\n",
      "        {\n",
      "            \"Name\": \"D594N\",\n",
      "            \"Category\": \"Class 3\"\n",
      "        },\n",
      "        {\n",
      "            \"Name\": \"D594G\",\n",
      "            \"Category\": \"Class 3\"\n",
      "        },\n",
      "        {\n",
      "            \"Name\": \"D594A\",\n",
      "            \"Category\": \"Class 3\"\n",
      "        },\n",
      "        {\n",
      "            \"Name\": \"D594H\",\n",
      "            \"Category\": \"Class 3\"\n",
      "        },\n",
      "        {\n",
      "            \"Name\": \"F595L\",\n",
      "            \"Category\": \"Class 3\"\n",
      "        },\n",
      "        {\n",
      "            \"Name\": \"G596D\",\n",
      "            \"Category\": \"Class 3\"\n",
      "        },\n",
      "        {\n",
      "            \"Name\": \"G596R\",\n",
      "            \"Category\": \"Class 3\"\n",
      "        }\n",
      "    ]\n",
      "}\n",
      "```\n"
     ]
    }
   ],
   "source": [
    "response3 = conversation.prompt(\"Can you extract all therapeutics, diseases, genes, and variants from Text Chunk 1 and Text Chunk 2? Format your answer as JSON\",max_tokens=1000)\n",
    "print(response3)"
   ]
  },
  {
   "cell_type": "markdown",
   "metadata": {},
   "source": [
    "## Conversation (w/ FDA Label)"
   ]
  },
  {
   "cell_type": "code",
   "execution_count": 1,
   "metadata": {},
   "outputs": [],
   "source": [
    "# from datasets import Dataset\n",
    "import pandas as pd\n",
    "drugs_at_fda = pd.read_excel('../data/openfda-2.xlsx').reset_index(drop=True).drop('Unnamed: 0', axis=1)"
   ]
  },
  {
   "cell_type": "code",
   "execution_count": 35,
   "metadata": {},
   "outputs": [
    {
     "data": {
      "text/plain": [
       "['12 CLINICAL PHARMACOLOGY 12.1 Mechanism of Action Encorafenib is a kinase inhibitor that targets BRAF V600E, as well as wild-type BRAF and CRAF in in vitro cell-free assays with IC 50 values of 0.35, 0.47, and 0.3 nM, respectively. Mutations in the BRAF gene, such as BRAF V600E, can result in constitutively activated BRAF kinases that may stimulate tumor cell growth. Encorafenib was also able to bind to other kinases in vitro including JNK1, JNK2, JNK3, LIMK1, LIMK2, MEK4, and STK36 and reduce l',\n",
       " 'gand binding to these kinases at clinically achievable concentrations (≤0.9 µM). Encorafenib inhibited in vitro growth of tumor cell lines expressing BRAF V600 E, D, and K mutations. In mice implanted with tumor cells expressing BRAF V600E , encorafenib induced tumor regressions associated with RAF/MEK/ERK pathway suppression. Encorafenib and binimetinib target two different kinases in the RAS/RAF/MEK/ERK pathway. Compared with either drug alone, coadministration of encorafenib and binimetinib ',\n",
       " 'esulted in greater anti-proliferative activity in vitro in BRAF mutation-positive cell lines and greater anti-tumor activity with respect to tumor growth inhibition in BRAF V600E mutant human melanoma xenograft studies in mice. Additionally, the combination of encorafenib and binimetinib delayed the emergence of resistance in BRAF V600E mutant human melanoma xenografts in mice compared to either drug alone. In the setting of BRAF-mutant CRC, induction of EGFR-mediated MAPK pathway activation ha',\n",
       " ' been identified as a mechanism of resistance to BRAF inhibitors. Combinations of a BRAF inhibitor and agents targeting EGFR have been shown to overcome this resistance mechanism in nonclinical models. Coadministration of encorafenib and cetuximab had an anti-tumor effect greater than either drug alone, in a mouse model of colorectal cancer with mutated BRAF V600E. 12.2 Pharmacodynamics Cardiac Electrophysiology A dedicated study to evaluate the QT prolongation potential of BRAFTOVI has not bee',\n",
       " ' conducted. BRAFTOVI is associated with dose-dependent QTc interval prolongation. Based on a central tendency analysis of QTc in a study of adult patients with melanoma who received the recommended dose of BRAFTOVI in combination with binimetinib, the largest mean (90% CI) QTcF change from baseline (ΔQTcF) was 18 (14 to 22) ms [see Warnings and Precautions (5.5) ] . 12.3 Pharmacokinetics The pharmacokinetics of encorafenib were studied in healthy subjects and patients with solid tumors, includi']"
      ]
     },
     "execution_count": 35,
     "metadata": {},
     "output_type": "execute_result"
    }
   ],
   "source": [
    "tdf = drugs_at_fda[drugs_at_fda['brand_name']==\"BRAFTOVI\"].reset_index(drop=True)\n",
    "test = tdf['clinical_pharmacology'][0]\n",
    "len(test)\n",
    "\n",
    "test_splits = [test[0:500],\n",
    "               test[501:1000],\n",
    "               test[1001:1500],\n",
    "               test[1501:2000],\n",
    "               test[2001:2500]]\n",
    "               # test[2501:3000]] # 10   had to break it down to this to not hit context window limit\n",
    "            #    test[3001:3500], # 9\n",
    "            #    test[3501:4000], # 8\n",
    "            #    test[4001:4500], # 7\n",
    "            #    test[4501:5000], # 6\n",
    "            #    test[5001:5500], # 5\n",
    "            #    test[5501:6000], # 4\n",
    "            #    test[6001:6500], # 3\n",
    "            #    test[6501:7000], # 2\n",
    "            #    test[7001:7036]] # 1\n",
    "test_splits"
   ]
  },
  {
   "cell_type": "code",
   "execution_count": 36,
   "metadata": {},
   "outputs": [
    {
     "name": "stdout",
     "output_type": "stream",
     "text": [
      " This text chunk describes the mechanism of action of encorafenib. It explains that encorafenib is a kinase inhibitor that targets BRAF V600E, as well as wild-type BRAF and CRAF in in vitro cell-free assays with IC 50 values of 0.35, 0.47, and 0.3 nM, respectively. The text also explains that mutations in the BRAF gene can result in constitutively activated BRAF kinases that may stimulate tumor cell growth. Encorafenib was able to bind to other kinases in vitro including JNK1, JNK2, JNK3, LIMK1, LIMK2, MEK4, and STK36 and reduce their activity.\n",
      " This text chunk describes the pharmacological effects of encorafenib. It explains that encorafenib binds to these kinases at clinically achievable concentrations (≤0.9 µM). The text also explains that encorafenib inhibited in vitro growth of tumor cell lines expressing BRAF V600 E, D, and K mutations. In mice implanted with tumor cells expressing BRAF V600E , encorafenib induced tumor regressions associated with RAF/MEK/ERK pathway suppression. The text also explains that encorafenib and binimetinib target two different kinases in the RAS/RAF/MEK/ERK pathway. Compared with either drug alone, coadministration of encorafenib and binimetinib resulted in greater tumor regression in mice impl\n",
      " This text chunk describes the clinical effects of encorafenib. It explains that the combination of encorafenib and binimetinib resulted in greater anti-proliferative activity in vitro in BRAF mutation-positive cell lines and greater anti-tumor activity with respect to tumor growth inhibition in BRAF V600E mutant human melanoma xenograft studies in mice. Additionally, the combination of encorafenib and binimetinib delayed the emergence of resistance in BRAF V600E mutant human melanoma xenografts in mice compared to either drug alone. In the setting of BRAF-mutant CRC, induction of EGFR-mediated MAPK pathway activation has been observed with encorafenib treatment.\n",
      " This text chunk describes the resistance mechanisms and pharmacodynamics of encorafenib. It explains that combinations of a BRAF inhibitor and agents targeting EGFR have been shown to overcome resistance mechanisms in nonclinical models. Coadministration of encorafenib and cetuximab had an anti-tumor effect greater than either drug alone, in a mouse model of colorectal cancer with mutated BRAF V600E. The text also explains that a dedicated study to evaluate the QT prolongation potential of BRAFTOVI has not been conducted.\n",
      " This text chunk describes the pharmacodynamics and pharmacokinetics of encorafenib. It explains that BRAFTOVI is associated with dose-dependent QTc interval prolongation. Based on a central tendency analysis of QTc in a study of adult patients with melanoma who received the recommended dose of BRAFTOVI in combination with binimetinib, the largest mean (90% CI) QTcF change from baseline (ΔQTcF) was 18 (14 to 22) ms. The text also explains that a dedicated study to evaluate the QT prolongation potential of BRAFTOVI has not been conducted. Additionally, it describes the pharmacokinetics of encorafenib which were studied in healthy subjects and patients with solid tumors, including pharmacodynamics such as drug absorption, distribution, metabolism, elimination, and pharmacodynamic\n"
     ]
    }
   ],
   "source": [
    "import llm\n",
    "\n",
    "model = llm.get_model('mistral-7b-instruct-v0')\n",
    "conversation = model.conversation()\n",
    "\n",
    "chunk_number = 1\n",
    "for split in test_splits:\n",
    "    response = conversation.prompt(f'This is Text Chunk {chunk_number}: {split}')\n",
    "    chunk_number += 1\n",
    "    print(response)"
   ]
  },
  {
   "cell_type": "code",
   "execution_count": 37,
   "metadata": {},
   "outputs": [
    {
     "name": "stdout",
     "output_type": "stream",
     "text": [
      "6\n"
     ]
    }
   ],
   "source": [
    "print(chunk_number)"
   ]
  },
  {
   "cell_type": "code",
   "execution_count": 38,
   "metadata": {},
   "outputs": [
    {
     "name": "stdout",
     "output_type": "stream",
     "text": [
      " {\n",
      "\"therapeutics\": [\"encorafenib\", \"binimetinib\"],\n",
      "\"diseases\": [\"melanoma\", \"colorectal cancer (CRC)\"],\n",
      "\"genes\": [\"BRAF\"],\n",
      "\"variants\": [\"V600E\", \"D\", \"K\"]\n",
      "}\n"
     ]
    }
   ],
   "source": [
    "extraction = conversation.prompt(\"Can you extract all therapeutics, diseases, genes, and variants from Text Chunks 1 through 16? Format your answer as JSON\",max_tokens=1000)\n",
    "print(extraction)"
   ]
  }
 ],
 "metadata": {
  "kernelspec": {
   "display_name": "projectname",
   "language": "python",
   "name": "projectname"
  },
  "language_info": {
   "codemirror_mode": {
    "name": "ipython",
    "version": 3
   },
   "file_extension": ".py",
   "mimetype": "text/x-python",
   "name": "python",
   "nbconvert_exporter": "python",
   "pygments_lexer": "ipython3",
   "version": "3.10.4"
  }
 },
 "nbformat": 4,
 "nbformat_minor": 2
}

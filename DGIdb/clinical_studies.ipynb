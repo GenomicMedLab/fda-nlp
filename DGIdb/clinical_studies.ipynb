{
 "cells": [
  {
   "cell_type": "markdown",
   "metadata": {},
   "source": [
    "# Load FDA Data\n",
    "Explore some Clinical Trials sectioning for FDA labels"
   ]
  },
  {
   "cell_type": "code",
   "execution_count": 1,
   "metadata": {},
   "outputs": [
    {
     "data": {
      "text/html": [
       "<div>\n",
       "<style scoped>\n",
       "    .dataframe tbody tr th:only-of-type {\n",
       "        vertical-align: middle;\n",
       "    }\n",
       "\n",
       "    .dataframe tbody tr th {\n",
       "        vertical-align: top;\n",
       "    }\n",
       "\n",
       "    .dataframe thead th {\n",
       "        text-align: right;\n",
       "    }\n",
       "</style>\n",
       "<table border=\"1\" class=\"dataframe\">\n",
       "  <thead>\n",
       "    <tr style=\"text-align: right;\">\n",
       "      <th></th>\n",
       "      <th>brand_name</th>\n",
       "      <th>application_number</th>\n",
       "      <th>adverse_reactions</th>\n",
       "      <th>clinical_studies</th>\n",
       "      <th>indications_and_usage</th>\n",
       "      <th>contraindications</th>\n",
       "      <th>warnings_and_cautions</th>\n",
       "      <th>warnings</th>\n",
       "      <th>precautions</th>\n",
       "      <th>pharmacokinetics</th>\n",
       "      <th>purpose</th>\n",
       "      <th>clinical_pharmacology</th>\n",
       "      <th>active_ingredient</th>\n",
       "      <th>stop_use</th>\n",
       "      <th>boxed_warning</th>\n",
       "      <th>pharmacodynamics</th>\n",
       "      <th>pharmacogenomics</th>\n",
       "    </tr>\n",
       "  </thead>\n",
       "  <tbody>\n",
       "    <tr>\n",
       "      <th>0</th>\n",
       "      <td>AMOXICILLIN AND CLAVULANATE POTASSIUM</td>\n",
       "      <td>ANDA065117</td>\n",
       "      <td>ADVERSE REACTIONS SECTION The following are di...</td>\n",
       "      <td>CLINICAL STUDIES SECTION 14.1 H. pylori Eradic...</td>\n",
       "      <td>INDICATIONS &amp; USAGE SECTION To reduce the deve...</td>\n",
       "      <td>CONTRAINDICATIONS SECTION Amoxicillinfor oral ...</td>\n",
       "      <td>WARNINGS AND PRECAUTIONS SECTION 5.1 Anaphylac...</td>\n",
       "      <td>NaN</td>\n",
       "      <td>NaN</td>\n",
       "      <td>NaN</td>\n",
       "      <td>NaN</td>\n",
       "      <td>CLINICAL PHARMACOLOGY SECTION 12.1 Mechanism o...</td>\n",
       "      <td>NaN</td>\n",
       "      <td>NaN</td>\n",
       "      <td>NaN</td>\n",
       "      <td>NaN</td>\n",
       "      <td>NaN</td>\n",
       "    </tr>\n",
       "    <tr>\n",
       "      <th>1</th>\n",
       "      <td>ARTHROTEC</td>\n",
       "      <td>NDA020607</td>\n",
       "      <td>6 ADVERSE REACTIONS The following adverse reac...</td>\n",
       "      <td>14 CLINICAL STUDIES Osteoarthritis Diclofenac ...</td>\n",
       "      <td>1 INDICATIONS AND USAGE ARTHROTEC is indicated...</td>\n",
       "      <td>4 CONTRAINDICATIONS ARTHROTEC is contraindicat...</td>\n",
       "      <td>5 WARNINGS AND PRECAUTIONS • Embryo-Fetal Toxi...</td>\n",
       "      <td>NaN</td>\n",
       "      <td>NaN</td>\n",
       "      <td>12.3 Pharmacokinetics General Pharmacokinetic ...</td>\n",
       "      <td>NaN</td>\n",
       "      <td>12 CLINICAL PHARMACOLOGY 12.1 Mechanism of Act...</td>\n",
       "      <td>NaN</td>\n",
       "      <td>NaN</td>\n",
       "      <td>WARNING: RISK OF UTERINE RUPTURE, ABORTION, PR...</td>\n",
       "      <td>NaN</td>\n",
       "      <td>NaN</td>\n",
       "    </tr>\n",
       "    <tr>\n",
       "      <th>2</th>\n",
       "      <td>Amoxicillin and Clavulanate Potassium</td>\n",
       "      <td>ANDA091569</td>\n",
       "      <td>6 ADVERSE REACTIONS The following are discusse...</td>\n",
       "      <td>14 CLINICAL STUDIES 14.1 Lower Respiratory Tra...</td>\n",
       "      <td>1 INDICATIONS AND USAGE Amoxicillin and clavul...</td>\n",
       "      <td>4 CONTRAINDICATIONS History of a serious hyper...</td>\n",
       "      <td>5 WARNINGS AND PRECAUTIONS Serious (including ...</td>\n",
       "      <td>NaN</td>\n",
       "      <td>NaN</td>\n",
       "      <td>12.3 Pharmacokinetics Mean amoxicillin and cla...</td>\n",
       "      <td>NaN</td>\n",
       "      <td>12 CLINICAL PHARMACOLOGY 12.1 Mechanism of Act...</td>\n",
       "      <td>NaN</td>\n",
       "      <td>NaN</td>\n",
       "      <td>NaN</td>\n",
       "      <td>NaN</td>\n",
       "      <td>NaN</td>\n",
       "    </tr>\n",
       "    <tr>\n",
       "      <th>3</th>\n",
       "      <td>ADVAIR DISKUS</td>\n",
       "      <td>NDA021077</td>\n",
       "      <td>6 ADVERSE REACTIONS Use of LABA may result in ...</td>\n",
       "      <td>14 CLINICAL STUDIES 14.1 Asthma Adult and Adol...</td>\n",
       "      <td>1 INDICATIONS AND USAGE ADVAIR DISKUS is a com...</td>\n",
       "      <td>4 CONTRAINDICATIONS The use of ADVAIR DISKUS i...</td>\n",
       "      <td>5 WARNINGS AND PRECAUTIONS • LABA monotherapy ...</td>\n",
       "      <td>NaN</td>\n",
       "      <td>NaN</td>\n",
       "      <td>12.3 Pharmacokinetics Absorption Fluticasone P...</td>\n",
       "      <td>NaN</td>\n",
       "      <td>12 CLINICAL PHARMACOLOGY 12.1 Mechanism of Act...</td>\n",
       "      <td>NaN</td>\n",
       "      <td>NaN</td>\n",
       "      <td>NaN</td>\n",
       "      <td>12.2 Pharmacodynamics ADVAIR DISKUS Healthy Su...</td>\n",
       "      <td>NaN</td>\n",
       "    </tr>\n",
       "    <tr>\n",
       "      <th>4</th>\n",
       "      <td>Ampicillin and Sulbactam</td>\n",
       "      <td>ANDA090579</td>\n",
       "      <td>ADVERSE REACTIONS Adult Patients Ampicillin an...</td>\n",
       "      <td>CLINICAL STUDIES Skin and Skin Structure Infec...</td>\n",
       "      <td>INDICATIONS AND USAGE Ampicillin and sulbactam...</td>\n",
       "      <td>CONTRAINDICATIONS The use of ampicillin and su...</td>\n",
       "      <td>NaN</td>\n",
       "      <td>WARNINGS Hypersensitivity Serious and occasion...</td>\n",
       "      <td>PRECAUTIONS General A high percentage of patie...</td>\n",
       "      <td>NaN</td>\n",
       "      <td>NaN</td>\n",
       "      <td>CLINICAL PHARMACOLOGY General Immediately afte...</td>\n",
       "      <td>NaN</td>\n",
       "      <td>NaN</td>\n",
       "      <td>NaN</td>\n",
       "      <td>NaN</td>\n",
       "      <td>NaN</td>\n",
       "    </tr>\n",
       "  </tbody>\n",
       "</table>\n",
       "</div>"
      ],
      "text/plain": [
       "                              brand_name application_number  \\\n",
       "0  AMOXICILLIN AND CLAVULANATE POTASSIUM         ANDA065117   \n",
       "1                              ARTHROTEC          NDA020607   \n",
       "2  Amoxicillin and Clavulanate Potassium         ANDA091569   \n",
       "3                          ADVAIR DISKUS          NDA021077   \n",
       "4               Ampicillin and Sulbactam         ANDA090579   \n",
       "\n",
       "                                   adverse_reactions  \\\n",
       "0  ADVERSE REACTIONS SECTION The following are di...   \n",
       "1  6 ADVERSE REACTIONS The following adverse reac...   \n",
       "2  6 ADVERSE REACTIONS The following are discusse...   \n",
       "3  6 ADVERSE REACTIONS Use of LABA may result in ...   \n",
       "4  ADVERSE REACTIONS Adult Patients Ampicillin an...   \n",
       "\n",
       "                                    clinical_studies  \\\n",
       "0  CLINICAL STUDIES SECTION 14.1 H. pylori Eradic...   \n",
       "1  14 CLINICAL STUDIES Osteoarthritis Diclofenac ...   \n",
       "2  14 CLINICAL STUDIES 14.1 Lower Respiratory Tra...   \n",
       "3  14 CLINICAL STUDIES 14.1 Asthma Adult and Adol...   \n",
       "4  CLINICAL STUDIES Skin and Skin Structure Infec...   \n",
       "\n",
       "                               indications_and_usage  \\\n",
       "0  INDICATIONS & USAGE SECTION To reduce the deve...   \n",
       "1  1 INDICATIONS AND USAGE ARTHROTEC is indicated...   \n",
       "2  1 INDICATIONS AND USAGE Amoxicillin and clavul...   \n",
       "3  1 INDICATIONS AND USAGE ADVAIR DISKUS is a com...   \n",
       "4  INDICATIONS AND USAGE Ampicillin and sulbactam...   \n",
       "\n",
       "                                   contraindications  \\\n",
       "0  CONTRAINDICATIONS SECTION Amoxicillinfor oral ...   \n",
       "1  4 CONTRAINDICATIONS ARTHROTEC is contraindicat...   \n",
       "2  4 CONTRAINDICATIONS History of a serious hyper...   \n",
       "3  4 CONTRAINDICATIONS The use of ADVAIR DISKUS i...   \n",
       "4  CONTRAINDICATIONS The use of ampicillin and su...   \n",
       "\n",
       "                               warnings_and_cautions  \\\n",
       "0  WARNINGS AND PRECAUTIONS SECTION 5.1 Anaphylac...   \n",
       "1  5 WARNINGS AND PRECAUTIONS • Embryo-Fetal Toxi...   \n",
       "2  5 WARNINGS AND PRECAUTIONS Serious (including ...   \n",
       "3  5 WARNINGS AND PRECAUTIONS • LABA monotherapy ...   \n",
       "4                                                NaN   \n",
       "\n",
       "                                            warnings  \\\n",
       "0                                                NaN   \n",
       "1                                                NaN   \n",
       "2                                                NaN   \n",
       "3                                                NaN   \n",
       "4  WARNINGS Hypersensitivity Serious and occasion...   \n",
       "\n",
       "                                         precautions  \\\n",
       "0                                                NaN   \n",
       "1                                                NaN   \n",
       "2                                                NaN   \n",
       "3                                                NaN   \n",
       "4  PRECAUTIONS General A high percentage of patie...   \n",
       "\n",
       "                                    pharmacokinetics purpose  \\\n",
       "0                                                NaN     NaN   \n",
       "1  12.3 Pharmacokinetics General Pharmacokinetic ...     NaN   \n",
       "2  12.3 Pharmacokinetics Mean amoxicillin and cla...     NaN   \n",
       "3  12.3 Pharmacokinetics Absorption Fluticasone P...     NaN   \n",
       "4                                                NaN     NaN   \n",
       "\n",
       "                               clinical_pharmacology active_ingredient  \\\n",
       "0  CLINICAL PHARMACOLOGY SECTION 12.1 Mechanism o...               NaN   \n",
       "1  12 CLINICAL PHARMACOLOGY 12.1 Mechanism of Act...               NaN   \n",
       "2  12 CLINICAL PHARMACOLOGY 12.1 Mechanism of Act...               NaN   \n",
       "3  12 CLINICAL PHARMACOLOGY 12.1 Mechanism of Act...               NaN   \n",
       "4  CLINICAL PHARMACOLOGY General Immediately afte...               NaN   \n",
       "\n",
       "  stop_use                                      boxed_warning  \\\n",
       "0      NaN                                                NaN   \n",
       "1      NaN  WARNING: RISK OF UTERINE RUPTURE, ABORTION, PR...   \n",
       "2      NaN                                                NaN   \n",
       "3      NaN                                                NaN   \n",
       "4      NaN                                                NaN   \n",
       "\n",
       "                                    pharmacodynamics pharmacogenomics  \n",
       "0                                                NaN              NaN  \n",
       "1                                                NaN              NaN  \n",
       "2                                                NaN              NaN  \n",
       "3  12.2 Pharmacodynamics ADVAIR DISKUS Healthy Su...              NaN  \n",
       "4                                                NaN              NaN  "
      ]
     },
     "execution_count": 1,
     "metadata": {},
     "output_type": "execute_result"
    }
   ],
   "source": [
    "# from datasets import Dataset\n",
    "import pandas as pd\n",
    "drugs_at_fda = pd.read_excel('../data/openfda-03072024.xlsx').reset_index(drop=True).drop('Unnamed: 0', axis=1)\n",
    "drugs_at_fda\n",
    "search_space = drugs_at_fda[drugs_at_fda['clinical_studies'].isnull()==False].reset_index(drop=True)\n",
    "search_space[0:5]"
   ]
  },
  {
   "cell_type": "code",
   "execution_count": 3,
   "metadata": {},
   "outputs": [
    {
     "data": {
      "text/plain": [
       "'14 CLINICAL STUDIES The efficacy of LUMOXITI was based upon Study 1053 titled “A Pivotal Multicenter Trial of Moxetumomab Pasudotox in Relapsed/Refractory Hairy Cell Leukemia” (NCT01829711). Study 1053 was conducted in patients with histologically confirmed HCL or HCL variant with a need for therapy based on presence of cytopenias or splenomegaly and who had received prior treatment with at least 2 systemic therapies, including 1 purine nucleoside analog (PNA). Eligible patients had serum creatinine ≤ 1.5 mg/dL or creatinine clearance ≥ 60 mL/min as estimated by the Cockcroft Gault equation. A total of 80 patients were enrolled; 77 with classic HCL and 3 with HCL variant. The median age was 60 years (range: 34 to 84) years, 79% were male, and 94% were Caucasian. At baseline, 98% of patients had an ECOG performance status of 0 or 1. The median number of prior treatments was 3 (range: 2 to 11); all patients received prior PNA therapy, including 29% in combination with rituximab. The most common other prior treatment regimens were rituximab monotherapy (51%), interferon-alpha (25%), and a BRAF inhibitor (18%). At baseline, 33% (26/80) of patients had low hemoglobin (< 10 g/dL), 68% (54/80) of patients had neutropenia (< 1000/mm 3 ), and 84% (67/80) patients had baseline platelet counts < 100,000/mm 3 . About 35% of patients had enlarged spleens (≥ 14 cm, assessed by BICR) at baseline. Patients received LUMOXITI 0.04 mg/kg as an intravenous infusion over 30 minutes on Days 1, 3, and 5 of each 28‑day cycle for a maximum of 6 cycles or until documentation of complete response (CR), disease progression, or unacceptable toxicity. The median duration of follow-up was 16.7 months (range: 2 to 49). An independent review committee (IRC) performed efficacy evaluations using blood, bone marrow, and imaging criteria adapted from previous HCL studies and consensus guidelines. Efficacy of LUMOXITI in HCL was evaluated by the IRC-assessed rate of durable CR, as confirmed by maintenance of hematologic remission (hemoglobin ≥ 11 g/dL, neutrophils ≥ 1500/mm 3 , and platelets ≥ 100,000/mm 3 without transfusions or growth factor for at least 4 weeks) more than 180 days after IRC-assessed CR. The IRC-assessed durable CR rate was 30% (24/80 patients; 95% CI: 20, 41). Additional efficacy outcome measures included overall response rate (ORR), CR, and duration of response (see Table 6). Table 6: Additional Efficacy Results in Patients with HCL in Study 1053 Independent Review Committee (IRC) Assessed N=80 Overall Response Rate Overall Response Rate ORR defined as best overall response of CR or PR. (%) [95% CI] 75 [64, 84] Complete Response CR defined as clearing of the bone marrow of hairy cells by routine Hematoxylin & Eosin stain, radiologic resolution of pre-existing lymphadenopathy and/or organomegaly, and hematologic remission. (%) [95% CI] 41 [30, 53] Partial Response PR defined as ≥ 50% decrease or normalization (< 500/mm 3 ) in peripheral blood lymphocyte count, reduction of pre-existing lymphadenopathy and/or organomegaly, and hematologic remission. (%) [95% CI] 34 [24, 45] Duration of Response Median in months [range] NR [0+ to 43+] Duration of CR Median in months [range] NR [0+ to 40+] CI=Confidence Interval; NR=Not Reached; + indicates censored observations The median time to ORR and CR was 5.7 months (range: 1.8 to 12.9) and 5.9 months (range 1.8 to 13.2), respectively. Sixty-four patients (80%) had normalization of hematologic parameters and achieved hematologic remission, with a median time to hematologic remission of 1.1 months (range: 0.2 to 13) and with a median duration of hematologic remission not reached (range: 0.3 to 48.2+).'"
      ]
     },
     "execution_count": 3,
     "metadata": {},
     "output_type": "execute_result"
    }
   ],
   "source": [
    "search_space['clinical_studies'][5]"
   ]
  },
  {
   "cell_type": "code",
   "execution_count": 4,
   "metadata": {},
   "outputs": [
    {
     "name": "stdout",
     "output_type": "stream",
     "text": [
      "LUMOXITI\n",
      "38499\n"
     ]
    }
   ],
   "source": [
    "print(search_space['brand_name'][5])\n",
    "print(len(search_space))"
   ]
  },
  {
   "cell_type": "markdown",
   "metadata": {},
   "source": [
    "### Therapeutic"
   ]
  },
  {
   "cell_type": "code",
   "execution_count": 8,
   "metadata": {},
   "outputs": [
    {
     "data": {
      "text/plain": [
       "' {\"therapeutic\": \"LUMOXITI\"}'"
      ]
     },
     "execution_count": 8,
     "metadata": {},
     "output_type": "execute_result"
    }
   ],
   "source": [
    "import llm\n",
    "model = llm.get_model('mistral-7b-instruct-v0')\n",
    "\n",
    "response = model.prompt(f'Read the follow clinical study for a therapeutic. Identify the primary therapeutic. Format your answer using this JSON format: {{\"therapeutic\": <value> }} \\n Text: {search_space[\"clinical_studies\"][5]}')\n",
    "\n",
    "response.text()\n"
   ]
  },
  {
   "cell_type": "code",
   "execution_count": 9,
   "metadata": {},
   "outputs": [
    {
     "data": {
      "text/plain": [
       "{'therapeutic': 'LUMOXITI'}"
      ]
     },
     "execution_count": 9,
     "metadata": {},
     "output_type": "execute_result"
    }
   ],
   "source": [
    "import ast\n",
    "\n",
    "f = ast.literal_eval(response.text())\n",
    "f"
   ]
  },
  {
   "cell_type": "markdown",
   "metadata": {},
   "source": [
    "### Outcome"
   ]
  },
  {
   "cell_type": "code",
   "execution_count": null,
   "metadata": {},
   "outputs": [
    {
     "data": {
      "text/plain": [
       "' {\\n\"outcome\": {\\n\"metric\": \"Durable Complete Response Rate\",\\n\"value\": \"30%\",\\n\"additional\\\\_descriptors\": [\"Independent Review Committee (IRC)-assessed rate of durable CR, as confirmed by maintenance of hematologic remission (hemoglobin ≥ 11 g/dL, neutrophils ≥ 1500/mm3 , and platelets ≥ 100,000/mm3 without transfusions or growth factor for at least 4 weeks) more than 180 days after IRC-assessed CR\"]\\n}\\n}'"
      ]
     },
     "execution_count": 8,
     "metadata": {},
     "output_type": "execute_result"
    }
   ],
   "source": [
    "import llm\n",
    "model = llm.get_model('mistral-7b-instruct-v0')\n",
    "\n",
    "response = model.prompt(f'Read the follow clinical studies for {search_space['brand_name'][5]}. Identify the primary treatment outcomes for each patient group. Format your answer using this JSON format: {{\"outcome\": {{\"metric\":<value>, \"value\":<value>,\"additional_descriptors\":[<value>] }} }} \\n Text: {search_space[\"clinical_studies\"][5]}')\n",
    "\n",
    "response.text()\n",
    "\n",
    "# response = model.prompt(f'Read the following text and identify the subject therapeutic, its indications for use, and any additional interactions. Format your answer using this JSON format: {{\"subject_therapeutic\": <value>, \"indications_for_use\": [<value>]}}. \\n Text: {indication}. Be sure to close your JSON tags. ')\n"
   ]
  },
  {
   "cell_type": "markdown",
   "metadata": {},
   "source": [
    "### Bulk Trial 1 (outcome)"
   ]
  },
  {
   "cell_type": "code",
   "execution_count": 4,
   "metadata": {},
   "outputs": [
    {
     "name": "stderr",
     "output_type": "stream",
     "text": [
      "/var/folders/m6/b6y4g9114836jky8p81w12mchscvrj/T/ipykernel_16891/673788648.py:2: SettingWithCopyWarning: \n",
      "A value is trying to be set on a copy of a slice from a DataFrame.\n",
      "Try using .loc[row_indexer,col_indexer] = value instead\n",
      "\n",
      "See the caveats in the documentation: https://pandas.pydata.org/pandas-docs/stable/user_guide/indexing.html#returning-a-view-versus-a-copy\n",
      "  test_run['outcome_raw'] = \"None\"\n",
      "/var/folders/m6/b6y4g9114836jky8p81w12mchscvrj/T/ipykernel_16891/673788648.py:3: SettingWithCopyWarning: \n",
      "A value is trying to be set on a copy of a slice from a DataFrame.\n",
      "Try using .loc[row_indexer,col_indexer] = value instead\n",
      "\n",
      "See the caveats in the documentation: https://pandas.pydata.org/pandas-docs/stable/user_guide/indexing.html#returning-a-view-versus-a-copy\n",
      "  test_run['outcome_json'] = \"None\"\n"
     ]
    },
    {
     "data": {
      "text/html": [
       "<div>\n",
       "<style scoped>\n",
       "    .dataframe tbody tr th:only-of-type {\n",
       "        vertical-align: middle;\n",
       "    }\n",
       "\n",
       "    .dataframe tbody tr th {\n",
       "        vertical-align: top;\n",
       "    }\n",
       "\n",
       "    .dataframe thead th {\n",
       "        text-align: right;\n",
       "    }\n",
       "</style>\n",
       "<table border=\"1\" class=\"dataframe\">\n",
       "  <thead>\n",
       "    <tr style=\"text-align: right;\">\n",
       "      <th></th>\n",
       "      <th>brand_name</th>\n",
       "      <th>application_number</th>\n",
       "      <th>adverse_reactions</th>\n",
       "      <th>clinical_studies</th>\n",
       "      <th>indications_and_usage</th>\n",
       "      <th>contraindications</th>\n",
       "      <th>warnings_and_cautions</th>\n",
       "      <th>warnings</th>\n",
       "      <th>precautions</th>\n",
       "      <th>pharmacokinetics</th>\n",
       "      <th>purpose</th>\n",
       "      <th>clinical_pharmacology</th>\n",
       "      <th>active_ingredient</th>\n",
       "      <th>stop_use</th>\n",
       "      <th>boxed_warning</th>\n",
       "      <th>pharmacodynamics</th>\n",
       "      <th>pharmacogenomics</th>\n",
       "      <th>outcome_raw</th>\n",
       "      <th>outcome_json</th>\n",
       "    </tr>\n",
       "  </thead>\n",
       "  <tbody>\n",
       "    <tr>\n",
       "      <th>0</th>\n",
       "      <td>AMOXICILLIN AND CLAVULANATE POTASSIUM</td>\n",
       "      <td>ANDA065117</td>\n",
       "      <td>ADVERSE REACTIONS SECTION The following are di...</td>\n",
       "      <td>CLINICAL STUDIES SECTION 14.1 H. pylori Eradic...</td>\n",
       "      <td>INDICATIONS &amp; USAGE SECTION To reduce the deve...</td>\n",
       "      <td>CONTRAINDICATIONS SECTION Amoxicillinfor oral ...</td>\n",
       "      <td>WARNINGS AND PRECAUTIONS SECTION 5.1 Anaphylac...</td>\n",
       "      <td>NaN</td>\n",
       "      <td>NaN</td>\n",
       "      <td>NaN</td>\n",
       "      <td>NaN</td>\n",
       "      <td>CLINICAL PHARMACOLOGY SECTION 12.1 Mechanism o...</td>\n",
       "      <td>NaN</td>\n",
       "      <td>NaN</td>\n",
       "      <td>NaN</td>\n",
       "      <td>NaN</td>\n",
       "      <td>NaN</td>\n",
       "      <td>None</td>\n",
       "      <td>None</td>\n",
       "    </tr>\n",
       "    <tr>\n",
       "      <th>1</th>\n",
       "      <td>ARTHROTEC</td>\n",
       "      <td>NDA020607</td>\n",
       "      <td>6 ADVERSE REACTIONS The following adverse reac...</td>\n",
       "      <td>14 CLINICAL STUDIES Osteoarthritis Diclofenac ...</td>\n",
       "      <td>1 INDICATIONS AND USAGE ARTHROTEC is indicated...</td>\n",
       "      <td>4 CONTRAINDICATIONS ARTHROTEC is contraindicat...</td>\n",
       "      <td>5 WARNINGS AND PRECAUTIONS • Embryo-Fetal Toxi...</td>\n",
       "      <td>NaN</td>\n",
       "      <td>NaN</td>\n",
       "      <td>12.3 Pharmacokinetics General Pharmacokinetic ...</td>\n",
       "      <td>NaN</td>\n",
       "      <td>12 CLINICAL PHARMACOLOGY 12.1 Mechanism of Act...</td>\n",
       "      <td>NaN</td>\n",
       "      <td>NaN</td>\n",
       "      <td>WARNING: RISK OF UTERINE RUPTURE, ABORTION, PR...</td>\n",
       "      <td>NaN</td>\n",
       "      <td>NaN</td>\n",
       "      <td>None</td>\n",
       "      <td>None</td>\n",
       "    </tr>\n",
       "    <tr>\n",
       "      <th>2</th>\n",
       "      <td>Amoxicillin and Clavulanate Potassium</td>\n",
       "      <td>ANDA091569</td>\n",
       "      <td>6 ADVERSE REACTIONS The following are discusse...</td>\n",
       "      <td>14 CLINICAL STUDIES 14.1 Lower Respiratory Tra...</td>\n",
       "      <td>1 INDICATIONS AND USAGE Amoxicillin and clavul...</td>\n",
       "      <td>4 CONTRAINDICATIONS History of a serious hyper...</td>\n",
       "      <td>5 WARNINGS AND PRECAUTIONS Serious (including ...</td>\n",
       "      <td>NaN</td>\n",
       "      <td>NaN</td>\n",
       "      <td>12.3 Pharmacokinetics Mean amoxicillin and cla...</td>\n",
       "      <td>NaN</td>\n",
       "      <td>12 CLINICAL PHARMACOLOGY 12.1 Mechanism of Act...</td>\n",
       "      <td>NaN</td>\n",
       "      <td>NaN</td>\n",
       "      <td>NaN</td>\n",
       "      <td>NaN</td>\n",
       "      <td>NaN</td>\n",
       "      <td>None</td>\n",
       "      <td>None</td>\n",
       "    </tr>\n",
       "    <tr>\n",
       "      <th>3</th>\n",
       "      <td>ADVAIR DISKUS</td>\n",
       "      <td>NDA021077</td>\n",
       "      <td>6 ADVERSE REACTIONS Use of LABA may result in ...</td>\n",
       "      <td>14 CLINICAL STUDIES 14.1 Asthma Adult and Adol...</td>\n",
       "      <td>1 INDICATIONS AND USAGE ADVAIR DISKUS is a com...</td>\n",
       "      <td>4 CONTRAINDICATIONS The use of ADVAIR DISKUS i...</td>\n",
       "      <td>5 WARNINGS AND PRECAUTIONS • LABA monotherapy ...</td>\n",
       "      <td>NaN</td>\n",
       "      <td>NaN</td>\n",
       "      <td>12.3 Pharmacokinetics Absorption Fluticasone P...</td>\n",
       "      <td>NaN</td>\n",
       "      <td>12 CLINICAL PHARMACOLOGY 12.1 Mechanism of Act...</td>\n",
       "      <td>NaN</td>\n",
       "      <td>NaN</td>\n",
       "      <td>NaN</td>\n",
       "      <td>12.2 Pharmacodynamics ADVAIR DISKUS Healthy Su...</td>\n",
       "      <td>NaN</td>\n",
       "      <td>None</td>\n",
       "      <td>None</td>\n",
       "    </tr>\n",
       "    <tr>\n",
       "      <th>4</th>\n",
       "      <td>Ampicillin and Sulbactam</td>\n",
       "      <td>ANDA090579</td>\n",
       "      <td>ADVERSE REACTIONS Adult Patients Ampicillin an...</td>\n",
       "      <td>CLINICAL STUDIES Skin and Skin Structure Infec...</td>\n",
       "      <td>INDICATIONS AND USAGE Ampicillin and sulbactam...</td>\n",
       "      <td>CONTRAINDICATIONS The use of ampicillin and su...</td>\n",
       "      <td>NaN</td>\n",
       "      <td>WARNINGS Hypersensitivity Serious and occasion...</td>\n",
       "      <td>PRECAUTIONS General A high percentage of patie...</td>\n",
       "      <td>NaN</td>\n",
       "      <td>NaN</td>\n",
       "      <td>CLINICAL PHARMACOLOGY General Immediately afte...</td>\n",
       "      <td>NaN</td>\n",
       "      <td>NaN</td>\n",
       "      <td>NaN</td>\n",
       "      <td>NaN</td>\n",
       "      <td>NaN</td>\n",
       "      <td>None</td>\n",
       "      <td>None</td>\n",
       "    </tr>\n",
       "  </tbody>\n",
       "</table>\n",
       "</div>"
      ],
      "text/plain": [
       "                              brand_name application_number  \\\n",
       "0  AMOXICILLIN AND CLAVULANATE POTASSIUM         ANDA065117   \n",
       "1                              ARTHROTEC          NDA020607   \n",
       "2  Amoxicillin and Clavulanate Potassium         ANDA091569   \n",
       "3                          ADVAIR DISKUS          NDA021077   \n",
       "4               Ampicillin and Sulbactam         ANDA090579   \n",
       "\n",
       "                                   adverse_reactions  \\\n",
       "0  ADVERSE REACTIONS SECTION The following are di...   \n",
       "1  6 ADVERSE REACTIONS The following adverse reac...   \n",
       "2  6 ADVERSE REACTIONS The following are discusse...   \n",
       "3  6 ADVERSE REACTIONS Use of LABA may result in ...   \n",
       "4  ADVERSE REACTIONS Adult Patients Ampicillin an...   \n",
       "\n",
       "                                    clinical_studies  \\\n",
       "0  CLINICAL STUDIES SECTION 14.1 H. pylori Eradic...   \n",
       "1  14 CLINICAL STUDIES Osteoarthritis Diclofenac ...   \n",
       "2  14 CLINICAL STUDIES 14.1 Lower Respiratory Tra...   \n",
       "3  14 CLINICAL STUDIES 14.1 Asthma Adult and Adol...   \n",
       "4  CLINICAL STUDIES Skin and Skin Structure Infec...   \n",
       "\n",
       "                               indications_and_usage  \\\n",
       "0  INDICATIONS & USAGE SECTION To reduce the deve...   \n",
       "1  1 INDICATIONS AND USAGE ARTHROTEC is indicated...   \n",
       "2  1 INDICATIONS AND USAGE Amoxicillin and clavul...   \n",
       "3  1 INDICATIONS AND USAGE ADVAIR DISKUS is a com...   \n",
       "4  INDICATIONS AND USAGE Ampicillin and sulbactam...   \n",
       "\n",
       "                                   contraindications  \\\n",
       "0  CONTRAINDICATIONS SECTION Amoxicillinfor oral ...   \n",
       "1  4 CONTRAINDICATIONS ARTHROTEC is contraindicat...   \n",
       "2  4 CONTRAINDICATIONS History of a serious hyper...   \n",
       "3  4 CONTRAINDICATIONS The use of ADVAIR DISKUS i...   \n",
       "4  CONTRAINDICATIONS The use of ampicillin and su...   \n",
       "\n",
       "                               warnings_and_cautions  \\\n",
       "0  WARNINGS AND PRECAUTIONS SECTION 5.1 Anaphylac...   \n",
       "1  5 WARNINGS AND PRECAUTIONS • Embryo-Fetal Toxi...   \n",
       "2  5 WARNINGS AND PRECAUTIONS Serious (including ...   \n",
       "3  5 WARNINGS AND PRECAUTIONS • LABA monotherapy ...   \n",
       "4                                                NaN   \n",
       "\n",
       "                                            warnings  \\\n",
       "0                                                NaN   \n",
       "1                                                NaN   \n",
       "2                                                NaN   \n",
       "3                                                NaN   \n",
       "4  WARNINGS Hypersensitivity Serious and occasion...   \n",
       "\n",
       "                                         precautions  \\\n",
       "0                                                NaN   \n",
       "1                                                NaN   \n",
       "2                                                NaN   \n",
       "3                                                NaN   \n",
       "4  PRECAUTIONS General A high percentage of patie...   \n",
       "\n",
       "                                    pharmacokinetics purpose  \\\n",
       "0                                                NaN     NaN   \n",
       "1  12.3 Pharmacokinetics General Pharmacokinetic ...     NaN   \n",
       "2  12.3 Pharmacokinetics Mean amoxicillin and cla...     NaN   \n",
       "3  12.3 Pharmacokinetics Absorption Fluticasone P...     NaN   \n",
       "4                                                NaN     NaN   \n",
       "\n",
       "                               clinical_pharmacology active_ingredient  \\\n",
       "0  CLINICAL PHARMACOLOGY SECTION 12.1 Mechanism o...               NaN   \n",
       "1  12 CLINICAL PHARMACOLOGY 12.1 Mechanism of Act...               NaN   \n",
       "2  12 CLINICAL PHARMACOLOGY 12.1 Mechanism of Act...               NaN   \n",
       "3  12 CLINICAL PHARMACOLOGY 12.1 Mechanism of Act...               NaN   \n",
       "4  CLINICAL PHARMACOLOGY General Immediately afte...               NaN   \n",
       "\n",
       "  stop_use                                      boxed_warning  \\\n",
       "0      NaN                                                NaN   \n",
       "1      NaN  WARNING: RISK OF UTERINE RUPTURE, ABORTION, PR...   \n",
       "2      NaN                                                NaN   \n",
       "3      NaN                                                NaN   \n",
       "4      NaN                                                NaN   \n",
       "\n",
       "                                    pharmacodynamics pharmacogenomics  \\\n",
       "0                                                NaN              NaN   \n",
       "1                                                NaN              NaN   \n",
       "2                                                NaN              NaN   \n",
       "3  12.2 Pharmacodynamics ADVAIR DISKUS Healthy Su...              NaN   \n",
       "4                                                NaN              NaN   \n",
       "\n",
       "  outcome_raw outcome_json  \n",
       "0        None         None  \n",
       "1        None         None  \n",
       "2        None         None  \n",
       "3        None         None  \n",
       "4        None         None  "
      ]
     },
     "execution_count": 4,
     "metadata": {},
     "output_type": "execute_result"
    }
   ],
   "source": [
    "test_run = search_space[0:50]\n",
    "test_run['outcome_raw'] = \"None\"\n",
    "test_run['outcome_json'] = \"None\"\n",
    "test_run[0:5]"
   ]
  },
  {
   "cell_type": "code",
   "execution_count": 5,
   "metadata": {},
   "outputs": [
    {
     "name": "stderr",
     "output_type": "stream",
     "text": [
      "  0%|          | 0/50 [00:00<?, ?it/s]/var/folders/m6/b6y4g9114836jky8p81w12mchscvrj/T/ipykernel_16891/3619346240.py:13: SettingWithCopyWarning: \n",
      "A value is trying to be set on a copy of a slice from a DataFrame\n",
      "\n",
      "See the caveats in the documentation: https://pandas.pydata.org/pandas-docs/stable/user_guide/indexing.html#returning-a-view-versus-a-copy\n",
      "  test_run['outcome_raw'][position] = response.text()\n",
      "  2%|▏         | 1/50 [02:03<1:40:58, 123.64s/it]"
     ]
    },
    {
     "name": "stdout",
     "output_type": "stream",
     "text": [
      " {\n",
      "\"outcome\": {\n",
      "\"metric\": \"H. pylori eradication\",\n",
      "\"value\": \"Triple therapy was more effective than all possible dual therapy combinations.\",\n",
      "\"additional\\_descriptors\": [\"Triple Therapy: Amoxicillin 1 gram twice daily/clarithromycin 500 mg twice daily/lansoprazole 30 mg twice daily\"]\n",
      "}\n",
      "{\n",
      "\"outcome\": {\n",
      "\"metric\": \"H. pylori eradication\",\n",
      "\"value\": \"Dual therapy was more effective than both monotherapies.\",\n",
      "\"additional\\_descriptors\": [\"Dual Therapy: Amoxicillin 1 gram three times daily/lansoprazole 30 mg three times daily\"]\n",
      "}\n",
      "{\n",
      "\"outcome\": {\n",
      "\"metric\": \"Risk of duodenal ulcer recurrence\",\n",
      "\"value\":\n"
     ]
    },
    {
     "name": "stderr",
     "output_type": "stream",
     "text": [
      "  4%|▍         | 2/50 [04:54<2:00:57, 151.20s/it]"
     ]
    },
    {
     "name": "stdout",
     "output_type": "stream",
     "text": [
      " {\n",
      "\"outcome\": {\n",
      "\"metric\": \"Gastric ulcer incidence\",\n",
      "\"value\": \"<6%>\",\n",
      "\"additional_descriptors\": [\"ARTHROTEC 50 three times a day\"]\n",
      "},\n",
      "{\n",
      "\"outcome\": {\n",
      "\"metric\": \"Duodenal ulcer incidence\",\n",
      "\"value\": \"<3%>\",\n",
      "\"additional_descriptors\": [\"ARTHROTEC 75 two times a day\"]\n",
      "}\n",
      "}\n"
     ]
    },
    {
     "name": "stderr",
     "output_type": "stream",
     "text": [
      "  6%|▌         | 3/50 [11:39<3:29:27, 267.40s/it]"
     ]
    },
    {
     "name": "stdout",
     "output_type": "stream",
     "text": [
      " {\n",
      "  \"outcome\": {\n",
      "    \"metric\": \"Bacteriological success rates\",\n",
      "    \"value\": \"81% (58) for every 12 hours regimen and 80% (54) for every 8 hours regimen at 2 to 4 days post-therapy in lower respiratory tract and complicated urinary tract infections.\",\n",
      "    \"additional_descriptors\": [\n",
      "      \"Bacteriologic efficacy rates were comparable at one of the follow-up visits (5 to 9 days post-therapy) and at a late post-therapy visit (in the majority of cases, this was 2 to 4 weeks post-therapy).\"\n",
      "    ]\n",
      "  },\n",
      "  {\n",
      "    \"metric\": \"Clinical efficacy rates\",\n",
      "    \"value\": \"87% (n equals 265) and 82\n"
     ]
    },
    {
     "name": "stderr",
     "output_type": "stream",
     "text": [
      "  8%|▊         | 4/50 [11:41<2:04:27, 162.33s/it]"
     ]
    },
    {
     "name": "stdout",
     "output_type": "stream",
     "text": [
      "ERROR: The prompt size exceeds the context window size and cannot be processed.\n"
     ]
    },
    {
     "name": "stderr",
     "output_type": "stream",
     "text": [
      " 10%|█         | 5/50 [13:25<1:46:01, 141.37s/it]"
     ]
    },
    {
     "name": "stdout",
     "output_type": "stream",
     "text": [
      " {\n",
      "\"outcome\": {\n",
      "\"metric\": \"Clinical Success\",\n",
      "\"value\": \"85%\",\n",
      "\"additional_descriptors\": [\"Ampicillin and Sulbactam for Injection\"]\n",
      "},\n",
      "{\n",
      "\"outcome\": {\n",
      "\"metric\": \"Clinical Failure\",\n",
      "\"value\": \"15%\",\n",
      "\"additional_descriptors\": [\"Ampicillin and Sulbactam for Injection\"]\n",
      "}\n",
      "}\n"
     ]
    },
    {
     "name": "stderr",
     "output_type": "stream",
     "text": [
      " 12%|█▏        | 6/50 [18:34<2:25:25, 198.32s/it]"
     ]
    },
    {
     "name": "stdout",
     "output_type": "stream",
     "text": [
      " {\n",
      "\"outcome\": {\n",
      "\"metric\": \"Durable Complete Response Rate\",\n",
      "\"value\": \"30%\",\n",
      "\"additional\\_descriptors\": [\"Independent Review Committee (IRC)-assessed rate of durable CR, as confirmed by maintenance of hematologic remission (hemoglobin ≥ 11 g/dL, neutrophils ≥ 1500/mm3 , and platelets ≥ 100,000/mm3 without transfusions or growth factor for at least 4 weeks) more than 180 days after IRC-assessed CR.\", \"95% Confidence Interval: 20%, 41.\"]\n",
      "}\n",
      "}\n"
     ]
    },
    {
     "name": "stderr",
     "output_type": "stream",
     "text": [
      " 14%|█▍        | 7/50 [18:35<1:35:57, 133.90s/it]"
     ]
    },
    {
     "name": "stdout",
     "output_type": "stream",
     "text": [
      "ERROR: The prompt size exceeds the context window size and cannot be processed.\n"
     ]
    },
    {
     "name": "stderr",
     "output_type": "stream",
     "text": [
      " 16%|█▌        | 8/50 [18:36<1:04:10, 91.67s/it] "
     ]
    },
    {
     "name": "stdout",
     "output_type": "stream",
     "text": [
      "ERROR: The prompt size exceeds the context window size and cannot be processed.\n"
     ]
    },
    {
     "name": "stderr",
     "output_type": "stream",
     "text": [
      " 18%|█▊        | 9/50 [18:37<43:19, 63.41s/it]  "
     ]
    },
    {
     "name": "stdout",
     "output_type": "stream",
     "text": [
      "ERROR: The prompt size exceeds the context window size and cannot be processed.\n"
     ]
    },
    {
     "name": "stderr",
     "output_type": "stream",
     "text": [
      " 20%|██        | 10/50 [18:39<29:29, 44.23s/it]"
     ]
    },
    {
     "name": "stdout",
     "output_type": "stream",
     "text": [
      "ERROR: The prompt size exceeds the context window size and cannot be processed.\n"
     ]
    },
    {
     "name": "stderr",
     "output_type": "stream",
     "text": [
      " 22%|██▏       | 11/50 [18:40<20:12, 31.09s/it]"
     ]
    },
    {
     "name": "stdout",
     "output_type": "stream",
     "text": [
      "ERROR: The prompt size exceeds the context window size and cannot be processed.\n"
     ]
    },
    {
     "name": "stderr",
     "output_type": "stream",
     "text": [
      " 24%|██▍       | 12/50 [18:41<13:57, 22.05s/it]"
     ]
    },
    {
     "name": "stdout",
     "output_type": "stream",
     "text": [
      "ERROR: The prompt size exceeds the context window size and cannot be processed.\n"
     ]
    },
    {
     "name": "stderr",
     "output_type": "stream",
     "text": [
      " 26%|██▌       | 13/50 [24:50<1:18:17, 126.97s/it]"
     ]
    },
    {
     "name": "stdout",
     "output_type": "stream",
     "text": [
      " {\"outcome\": {\n",
      "    \"metric\": [\"mean reduction in seated systolic blood pressure\", \"mean reduction in seated diastolic blood pressure\"],\n",
      "    \"value\": [-14, -9],\n",
      "    \"additional_descriptors\": [\"placebo-adjusted mean change\"]\n",
      "}}\n"
     ]
    },
    {
     "name": "stderr",
     "output_type": "stream",
     "text": [
      " 28%|██▊       | 14/50 [27:57<1:27:07, 145.22s/it]"
     ]
    },
    {
     "name": "stdout",
     "output_type": "stream",
     "text": [
      " {\n",
      "\"outcome\": {\n",
      "\"metric\": \"Mean coefficient of fat absorption (CFA)\",\n",
      "\"value\": 88%,\n",
      "\"additional_descriptors\": [\"Zenpep treatment\", \"EPI associated with cystic fibrosis\"]\n",
      "}\n",
      "},\n",
      "{\n",
      "\"outcome\": {\n",
      "\"metric\": \"Fat malabsorption control by spot fecal fat testing\",\n",
      "\"value\": \"Similar\",\n",
      "\"additional_descriptors\": [\"Zenpep treatment\", \"EPI associated with cystic fibrosis\"]\n",
      "}\n",
      "}\n"
     ]
    },
    {
     "name": "stderr",
     "output_type": "stream",
     "text": [
      " 30%|███       | 15/50 [33:01<1:52:32, 192.93s/it]"
     ]
    },
    {
     "name": "stdout",
     "output_type": "stream",
     "text": [
      " {\"outcome\": {\n",
      "\"metric\": \"blood pressure reduction\",\n",
      "\"value\": \"greater reductions in both systolic and diastolic blood pressures compared to each of the 3 dual combination therapies\",\n",
      "\"additional_descriptors\": [\"p<0.0001\"]\n",
      "}\n",
      "},\n",
      "{\"outcome\": {\n",
      "\"metric\": \"blood pressure reduction\",\n",
      "\"value\": \"attained within 2 weeks after a change in dose\",\n",
      "\"additional_descriptors\": []\n",
      "}\n",
      "},\n",
      "{\"outcome\": {\n",
      "\"metric\": \"sitting blood pressure reductions attributable to the addition of a single high-dose drug to each high-dose dual drug combination\",\n",
      "\"value\": \"all highly statistically significant\",\n",
      "\"additional_descriptors\": [\"8.4/4.5 mmHg\", \"7.6/5.4 mmHg\", \"8\n"
     ]
    },
    {
     "name": "stderr",
     "output_type": "stream",
     "text": [
      " 32%|███▏      | 16/50 [33:02<1:16:38, 135.25s/it]"
     ]
    },
    {
     "name": "stdout",
     "output_type": "stream",
     "text": [
      "ERROR: The prompt size exceeds the context window size and cannot be processed.\n"
     ]
    },
    {
     "name": "stderr",
     "output_type": "stream",
     "text": [
      " 34%|███▍      | 17/50 [37:54<1:40:24, 182.55s/it]"
     ]
    },
    {
     "name": "stdout",
     "output_type": "stream",
     "text": [
      " {\n",
      "\"outcome\": {\n",
      "\"metric\": \"blood pressure reduction\",\n",
      "\"value\": \"greater reductions in both systolic and diastolic blood pressures compared to each of the 3 dual combination therapies\",\n",
      "\"additional\\_descriptors\": [\"p<0.0001\"]\n",
      "}\n",
      "}, {\n",
      "\"outcome\": {\n",
      "\"metric\": \"seated blood pressure reduction\",\n",
      "\"value\": \"attained within 2 weeks after a change in dose\",\n",
      "\"additional\\_descriptors\": []\n",
      "}\n",
      "}, {\n",
      "\"outcome\": {\n",
      "\"metric\": \"ambulatory blood pressure monitoring\",\n",
      "\"value\": \"greater reductions in diastolic and systolic ambulatory blood pressure for olmesartan medoxomil/amlodipine/hydrochlorothiazide tablets 40/10/25 mg compared to each of the dual combination\n"
     ]
    },
    {
     "name": "stderr",
     "output_type": "stream",
     "text": [
      " 36%|███▌      | 18/50 [44:59<2:16:08, 255.26s/it]"
     ]
    },
    {
     "name": "stdout",
     "output_type": "stream",
     "text": [
      " {\"outcome\": {\n",
      "\"metric\": \"blood pressure\",\n",
      "\"value\": [\"systolic\", \"diastolic\"],\n",
      "\"additional_descriptors\": [\"reduction\"]\n",
      "} }\n"
     ]
    },
    {
     "name": "stderr",
     "output_type": "stream",
     "text": [
      " 38%|███▊      | 19/50 [50:50<2:26:46, 284.09s/it]"
     ]
    },
    {
     "name": "stdout",
     "output_type": "stream",
     "text": [
      " {\n",
      "    \"outcome\": {\n",
      "        \"metric\": [\"mortality\", \"clinical cure rate\", \"mycologic eradication rate\", \"therapeutic cure rate\"],\n",
      "        \"value\": [\n",
      "            {\"high risk patients\": 33%},\n",
      "            {\"fluconazole group\": 55%, \"vaginal products group\": 55%},\n",
      "            {\"fluconazole group\": 61%, \"vaginal products group\": 60%},\n",
      "            {\"fluconazole group\": 40%, \"vaginal products group\": 40%}\n",
      "        ],\n",
      "        \"additional_descriptors\": [\n",
      "            [\"abnormal mental status\", \"cerebrospinal fluid cryptococcal antigen titer greater than 1:1024\", \"cerebrospinal fluid white blood cell count of less than 20 cells/\n"
     ]
    },
    {
     "name": "stderr",
     "output_type": "stream",
     "text": [
      " 40%|████      | 20/50 [50:52<1:39:37, 199.26s/it]"
     ]
    },
    {
     "name": "stdout",
     "output_type": "stream",
     "text": [
      "ERROR: The prompt size exceeds the context window size and cannot be processed.\n"
     ]
    },
    {
     "name": "stderr",
     "output_type": "stream",
     "text": [
      " 42%|████▏     | 21/50 [55:17<1:45:54, 219.12s/it]"
     ]
    },
    {
     "name": "stdout",
     "output_type": "stream",
     "text": [
      " {\n",
      "\"outcome\": {\n",
      "\"metric\": \"mortality\",\n",
      "\"value\": \"reduced by 30%\",\n",
      "\"additional\\_descriptors\": [\"compared to placebo\"]\n",
      "}\n",
      "},\n",
      "{\n",
      "\"outcome\": {\n",
      "\"metric\": \"hospitalization for cardiac causes\",\n",
      "\"value\": \"reduced by 30%\",\n",
      "\"additional\\_descriptors\": [\"compared to placebo\"]\n",
      "}\n",
      "},\n",
      "{\n",
      "\"outcome\": {\n",
      "\"metric\": \"blood pressure reduction\",\n",
      "\"value\": \"observed at doses ranging from 25 to 100 mg/day\",\n",
      "\"additional\\_descriptors\": []\n",
      "}\n",
      "}\n"
     ]
    },
    {
     "name": "stderr",
     "output_type": "stream",
     "text": [
      " 44%|████▍     | 22/50 [59:02<1:42:58, 220.67s/it]"
     ]
    },
    {
     "name": "stdout",
     "output_type": "stream",
     "text": [
      " {\n",
      "\"outcome\": {\n",
      "\"metric\": \"response rate\",\n",
      "\"value\": \"3 (CR + PR)%\",\n",
      "\"additional\\_descriptors\": [\"North American Study\"]\n",
      "},\n",
      "{\n",
      "\"outcome\": {\n",
      "\"metric\": \"time to progression\",\n",
      "\"value\": \"median TTP (mo.)\",\n",
      "\"additional\\_descriptors\": [\"Eastern European and Nordic studies\"]\n",
      "},\n",
      "{\n",
      "\"outcome\": {\n",
      "\"metric\": \"survival\",\n",
      "\"value\": \"median S (mo.)\",\n",
      "\"additional\\_descriptors\": [\"North American Study\"]\n",
      "}\n",
      "}\n"
     ]
    },
    {
     "name": "stderr",
     "output_type": "stream",
     "text": [
      " 46%|████▌     | 23/50 [59:03<1:09:40, 154.83s/it]"
     ]
    },
    {
     "name": "stdout",
     "output_type": "stream",
     "text": [
      "ERROR: The prompt size exceeds the context window size and cannot be processed.\n"
     ]
    },
    {
     "name": "stderr",
     "output_type": "stream",
     "text": [
      " 48%|████▊     | 24/50 [59:04<47:07, 108.74s/it]  "
     ]
    },
    {
     "name": "stdout",
     "output_type": "stream",
     "text": [
      "ERROR: The prompt size exceeds the context window size and cannot be processed.\n"
     ]
    },
    {
     "name": "stderr",
     "output_type": "stream",
     "text": [
      " 50%|█████     | 25/50 [59:05<31:52, 76.50s/it] "
     ]
    },
    {
     "name": "stdout",
     "output_type": "stream",
     "text": [
      "ERROR: The prompt size exceeds the context window size and cannot be processed.\n"
     ]
    },
    {
     "name": "stderr",
     "output_type": "stream",
     "text": [
      " 52%|█████▏    | 26/50 [59:07<21:34, 53.93s/it]"
     ]
    },
    {
     "name": "stdout",
     "output_type": "stream",
     "text": [
      "ERROR: The prompt size exceeds the context window size and cannot be processed.\n"
     ]
    },
    {
     "name": "stderr",
     "output_type": "stream",
     "text": [
      " 54%|█████▍    | 27/50 [59:08<14:37, 38.13s/it]"
     ]
    },
    {
     "name": "stdout",
     "output_type": "stream",
     "text": [
      "ERROR: The prompt size exceeds the context window size and cannot be processed.\n"
     ]
    },
    {
     "name": "stderr",
     "output_type": "stream",
     "text": [
      " 56%|█████▌    | 28/50 [59:38<13:03, 35.62s/it]"
     ]
    },
    {
     "name": "stdout",
     "output_type": "stream",
     "text": [
      " {\n",
      "\"outcome\": {\n",
      "\"metric\": \"Efficacy\",\n",
      "\"value\": 14,\n",
      "\"additional_descriptors\": [\"clinical studies\"]\n",
      "}\n",
      "}\n"
     ]
    },
    {
     "name": "stderr",
     "output_type": "stream",
     "text": [
      " 58%|█████▊    | 29/50 [1:04:38<40:18, 115.16s/it]"
     ]
    },
    {
     "name": "stdout",
     "output_type": "stream",
     "text": [
      " {\n",
      "    \"outcome\": {\n",
      "        \"metric\": [\"clinical cure\", \"mycological eradication\"],\n",
      "        \"value\": [55%, 60%],\n",
      "        \"additional_descriptors\": []\n",
      "    }\n",
      "}\n"
     ]
    },
    {
     "name": "stderr",
     "output_type": "stream",
     "text": [
      " 60%|██████    | 30/50 [1:04:40<27:00, 81.00s/it] "
     ]
    },
    {
     "name": "stdout",
     "output_type": "stream",
     "text": [
      "ERROR: The prompt size exceeds the context window size and cannot be processed.\n"
     ]
    },
    {
     "name": "stderr",
     "output_type": "stream",
     "text": [
      " 62%|██████▏   | 31/50 [1:04:41<18:04, 57.08s/it]"
     ]
    },
    {
     "name": "stdout",
     "output_type": "stream",
     "text": [
      "ERROR: The prompt size exceeds the context window size and cannot be processed.\n"
     ]
    },
    {
     "name": "stderr",
     "output_type": "stream",
     "text": [
      " 64%|██████▍   | 32/50 [1:10:02<40:52, 136.24s/it]"
     ]
    },
    {
     "name": "stdout",
     "output_type": "stream",
     "text": [
      " {\n",
      "    \"outcome\": {\n",
      "        \"metric\": [\"stone-passage remission rate\", \"reduced stone formation rate\"],\n",
      "        \"value\": [67%, <13±27 to 1±2 per year],\n",
      "        \"additional_descriptors\": [\"inhibition of new stone formation in patients with distal tubular acidosis\", \"sustained increase in urinary citrate excretion and pH\"]\n",
      "    }\n",
      "}\n"
     ]
    },
    {
     "name": "stderr",
     "output_type": "stream",
     "text": [
      " 66%|██████▌   | 33/50 [1:10:03<27:07, 95.73s/it] "
     ]
    },
    {
     "name": "stdout",
     "output_type": "stream",
     "text": [
      "ERROR: The prompt size exceeds the context window size and cannot be processed.\n"
     ]
    },
    {
     "name": "stderr",
     "output_type": "stream",
     "text": [
      " 68%|██████▊   | 34/50 [1:10:04<17:58, 67.38s/it]"
     ]
    },
    {
     "name": "stdout",
     "output_type": "stream",
     "text": [
      "ERROR: The prompt size exceeds the context window size and cannot be processed.\n"
     ]
    },
    {
     "name": "stderr",
     "output_type": "stream",
     "text": [
      " 70%|███████   | 35/50 [1:10:06<11:53, 47.54s/it]"
     ]
    },
    {
     "name": "stdout",
     "output_type": "stream",
     "text": [
      "ERROR: The prompt size exceeds the context window size and cannot be processed.\n"
     ]
    },
    {
     "name": "stderr",
     "output_type": "stream",
     "text": [
      " 72%|███████▏  | 36/50 [1:10:07<07:51, 33.64s/it]"
     ]
    },
    {
     "name": "stdout",
     "output_type": "stream",
     "text": [
      "ERROR: The prompt size exceeds the context window size and cannot be processed.\n"
     ]
    },
    {
     "name": "stderr",
     "output_type": "stream",
     "text": [
      " 74%|███████▍  | 37/50 [1:10:08<05:10, 23.92s/it]"
     ]
    },
    {
     "name": "stdout",
     "output_type": "stream",
     "text": [
      "ERROR: The prompt size exceeds the context window size and cannot be processed.\n"
     ]
    },
    {
     "name": "stderr",
     "output_type": "stream",
     "text": [
      " 76%|███████▌  | 38/50 [1:10:09<03:25, 17.11s/it]"
     ]
    },
    {
     "name": "stdout",
     "output_type": "stream",
     "text": [
      "ERROR: The prompt size exceeds the context window size and cannot be processed.\n"
     ]
    },
    {
     "name": "stderr",
     "output_type": "stream",
     "text": [
      " 78%|███████▊  | 39/50 [1:10:10<02:15, 12.35s/it]"
     ]
    },
    {
     "name": "stdout",
     "output_type": "stream",
     "text": [
      "ERROR: The prompt size exceeds the context window size and cannot be processed.\n"
     ]
    },
    {
     "name": "stderr",
     "output_type": "stream",
     "text": [
      " 80%|████████  | 40/50 [1:11:28<05:18, 31.90s/it]"
     ]
    },
    {
     "name": "stdout",
     "output_type": "stream",
     "text": [
      " {\n",
      "\"outcome\": {\n",
      "\"metric\": \"clinical response\",\n",
      "\"value\": \"better\",\n",
      "\"additional_descriptors\": [\"at the first return visit\"]\n",
      "},\n",
      "{\n",
      "\"outcome\": {\n",
      "\"metric\": \"mycological cure rates\",\n",
      "\"value\": \"as good as, or better than\",\n",
      "\"additional_descriptors\": []\n",
      "}\n",
      "}\n"
     ]
    },
    {
     "name": "stderr",
     "output_type": "stream",
     "text": [
      " 82%|████████▏ | 41/50 [1:11:29<03:24, 22.74s/it]"
     ]
    },
    {
     "name": "stdout",
     "output_type": "stream",
     "text": [
      "ERROR: The prompt size exceeds the context window size and cannot be processed.\n"
     ]
    },
    {
     "name": "stderr",
     "output_type": "stream",
     "text": [
      " 84%|████████▍ | 42/50 [1:11:31<02:10, 16.31s/it]"
     ]
    },
    {
     "name": "stdout",
     "output_type": "stream",
     "text": [
      "ERROR: The prompt size exceeds the context window size and cannot be processed.\n"
     ]
    },
    {
     "name": "stderr",
     "output_type": "stream",
     "text": [
      " 86%|████████▌ | 43/50 [1:11:32<01:22, 11.82s/it]"
     ]
    },
    {
     "name": "stdout",
     "output_type": "stream",
     "text": [
      "ERROR: The prompt size exceeds the context window size and cannot be processed.\n"
     ]
    },
    {
     "name": "stderr",
     "output_type": "stream",
     "text": [
      " 88%|████████▊ | 44/50 [1:17:36<11:44, 117.42s/it]"
     ]
    },
    {
     "name": "stdout",
     "output_type": "stream",
     "text": [
      " {\n",
      "    \"outcome\": {\n",
      "        \"metric\": \"Change from baseline in daily awake percentage of 'off' time\",\n",
      "        \"value\": [65, -6.78],\n",
      "        \"additional_descriptors\": [\"% of awake 'off' hours\"]\n",
      "    },\n",
      "    {\n",
      "        \"metric\": \"Change from baseline in total daily 'off' time\",\n",
      "        \"value\": [-37.2, -126],\n",
      "        \"additional_descriptors\": [\"hours\"]\n",
      "    },\n",
      "    {\n",
      "        \"metric\": \"Change from baseline in 'on' time without troublesome dyskinesia\",\n",
      "        \"value\": [0.96, 0.55],\n",
      "        \"additional_descriptors\": [\"hours\"]\n",
      "    }\n",
      "}\n"
     ]
    },
    {
     "name": "stderr",
     "output_type": "stream",
     "text": [
      " 90%|█████████ | 45/50 [1:17:37<06:52, 82.58s/it] "
     ]
    },
    {
     "name": "stdout",
     "output_type": "stream",
     "text": [
      "ERROR: The prompt size exceeds the context window size and cannot be processed.\n"
     ]
    },
    {
     "name": "stderr",
     "output_type": "stream",
     "text": [
      " 92%|█████████▏| 46/50 [1:17:38<03:52, 58.20s/it]"
     ]
    },
    {
     "name": "stdout",
     "output_type": "stream",
     "text": [
      "ERROR: The prompt size exceeds the context window size and cannot be processed.\n"
     ]
    },
    {
     "name": "stderr",
     "output_type": "stream",
     "text": [
      " 94%|█████████▍| 47/50 [1:22:55<06:47, 135.74s/it]"
     ]
    },
    {
     "name": "stdout",
     "output_type": "stream",
     "text": [
      " {\n",
      "    \"outcome\": {\n",
      "        \"metric\": [\"clinical cure rates\", \"presumptive microbiologic eradication rates\"],\n",
      "        \"value\": [\n",
      "            {\"additional_descriptors\":[\"S. pneumoniae\", \"H. influenzae\", \"M. catarrhalis\", \"H. parainfluenzae\"]},\n",
      "            {\"additional_descriptors\":[\"S. pyogenes\"]}\n",
      "        ]\n",
      "    }\n",
      "}\n"
     ]
    },
    {
     "name": "stderr",
     "output_type": "stream",
     "text": [
      " 96%|█████████▌| 48/50 [1:25:29<04:42, 141.14s/it]"
     ]
    },
    {
     "name": "stdout",
     "output_type": "stream",
     "text": [
      " {\n",
      "\"outcome\": {\n",
      "\"metric\": \"blood pressure\",\n",
      "\"value\": \"additive placebo-adjusted decreases in systolic and diastolic blood pressures at trough of 16 to 21/9 to 11 mmHg for doses between 40 mg/12.5 mg and 80 mg/25 mg, compared with 9 to 13/7 to 8 mmHg for telmisartan 40 mg to 80 mg monotherapy and 4/4 mmHg for hydrochlorothiazide 12.5 mg monotherapy.\",\n",
      "\"additional_descriptors\": [\"treatment outcomes\", \"hypertension\"]\n",
      "}\n",
      "}\n"
     ]
    },
    {
     "name": "stderr",
     "output_type": "stream",
     "text": [
      " 98%|█████████▊| 49/50 [1:29:28<02:50, 170.56s/it]"
     ]
    },
    {
     "name": "stdout",
     "output_type": "stream",
     "text": [
      " {\"outcome\": {\n",
      "\"metric\": \"Relief from Starting Backache\",\n",
      "\"value\": \"1.8\",\n",
      "\"additional_descriptors\": [\"Mean\"]\n",
      "},\n",
      "{\"metric\": \"Global Impression of Change\",\n",
      "\"value\": \"2.2\",\n",
      "\"additional_descriptors\": [\"Mean\"]\n",
      "}\n"
     ]
    },
    {
     "name": "stderr",
     "output_type": "stream",
     "text": [
      "100%|██████████| 50/50 [1:29:29<00:00, 107.40s/it]"
     ]
    },
    {
     "name": "stdout",
     "output_type": "stream",
     "text": [
      "ERROR: The prompt size exceeds the context window size and cannot be processed.\n"
     ]
    },
    {
     "name": "stderr",
     "output_type": "stream",
     "text": [
      "\n"
     ]
    }
   ],
   "source": [
    "import llm\n",
    "import ast\n",
    "from tqdm import tqdm\n",
    "position = 0\n",
    "\n",
    "\n",
    "for clincal_study in tqdm(test_run['clinical_studies']):\n",
    "\n",
    "    model = llm.get_model('mistral-7b-instruct-v0')\n",
    "\n",
    "    response = model.prompt(f'Read the follow clinical studies for {test_run[\"brand_name\"][position]}. Identify the primary treatment outcomes for each patient group. Format your answer using this JSON format: {{\"outcome\": {{\"metric\":<value>, \"value\":<value>,\"additional_descriptors\":[<value>] }} }} \\n Text: {test_run[\"clinical_studies\"][position]}')\n",
    "\n",
    "    test_run['outcome_raw'][position] = response.text()\n",
    "    print(response.text())\n",
    "    position += 1\n",
    "\n"
   ]
  },
  {
   "cell_type": "code",
   "execution_count": 32,
   "metadata": {},
   "outputs": [
    {
     "data": {
      "text/plain": [
       "0     {\\n\"outcome\": {\\n\"metric\": \"H. pylori eradica...\n",
       "1     {\\n\"outcome\": {\\n\"metric\": \"Gastric ulcer inc...\n",
       "2     {\\n  \"outcome\": {\\n    \"metric\": \"Bacteriolog...\n",
       "3    ERROR: The prompt size exceeds the context win...\n",
       "4     {\\n\"outcome\": {\\n\"metric\": \"Clinical Success\"...\n",
       "Name: outcome_raw, dtype: object"
      ]
     },
     "execution_count": 32,
     "metadata": {},
     "output_type": "execute_result"
    }
   ],
   "source": [
    "test_run['outcome_raw'][0:5]\n",
    "# test_run.to_excel('20240318_clinical_trials_test_1.xlsx',sheet_name='20240318')"
   ]
  },
  {
   "cell_type": "markdown",
   "metadata": {},
   "source": [
    "### Fix JSON error types"
   ]
  },
  {
   "cell_type": "code",
   "execution_count": 30,
   "metadata": {},
   "outputs": [
    {
     "name": "stdout",
     "output_type": "stream",
     "text": [
      " {\n",
      "\"outcome\": {\n",
      "\"metric\": \"H. pylori eradication\",\n",
      "\"value\": \"Triple therapy was more effective than all possible dual therapy combinations.\",\n",
      "\"additional\\_descriptors\": [\"Triple Therapy: Amoxicillin 1 gram twice daily/clarithromycin 500 mg twice daily/lansoprazole 30 mg twice daily\"]\n",
      "}\n",
      "{\n",
      "\"outcome\": {\n",
      "\"metric\": \"H. pylori eradication\",\n",
      "\"value\": \"Dual therapy was more effective than both monotherapies.\",\n",
      "\"additional\\_descriptors\": [\"Dual Therapy: Amoxicillin 1 gram three times daily/lansoprazole 30 mg three times daily\"]\n",
      "}\n",
      "{\n",
      "\"outcome\": {\n",
      "\"metric\": \"Risk of duodenal ulcer recurrence\",\n",
      "\"value\":\n",
      "[5, 12, 17, 27, 46, 47] \n",
      " [[0, SyntaxError('invalid syntax', ('<unknown>', 7, 1, '{', 7, 2))], [1, SyntaxError(\"'{' was never closed\", ('<unknown>', 1, 1, '{', 1, 0))], [2, SyntaxError('unterminated string literal (detected at line 11)', ('<unknown>', 11, 14, '    \"value\": \"87% (n equals 265) and 82', 11, 14))], [3, SyntaxError('invalid syntax', ('<unknown>', 1, 6, 'ERROR: The prompt size exceeds the context window size and cannot be processed.', 1, 7))], [4, SyntaxError(\"'{' was never closed\", ('<unknown>', 1, 1, '{', 1, 0))], [6, SyntaxError('invalid syntax', ('<unknown>', 1, 6, 'ERROR: The prompt size exceeds the context window size and cannot be processed.', 1, 7))], [7, SyntaxError('invalid syntax', ('<unknown>', 1, 6, 'ERROR: The prompt size exceeds the context window size and cannot be processed.', 1, 7))], [8, SyntaxError('invalid syntax', ('<unknown>', 1, 6, 'ERROR: The prompt size exceeds the context window size and cannot be processed.', 1, 7))], [9, SyntaxError('invalid syntax', ('<unknown>', 1, 6, 'ERROR: The prompt size exceeds the context window size and cannot be processed.', 1, 7))], [10, SyntaxError('invalid syntax', ('<unknown>', 1, 6, 'ERROR: The prompt size exceeds the context window size and cannot be processed.', 1, 7))], [11, SyntaxError('invalid syntax', ('<unknown>', 1, 6, 'ERROR: The prompt size exceeds the context window size and cannot be processed.', 1, 7))], [13, SyntaxError('invalid syntax', ('<unknown>', 4, 13, '\"value\": 88%,\\n', 4, 14))], [14, SyntaxError('unterminated string literal (detected at line 16)', ('<unknown>', 16, 60, '\"additional_descriptors\": [\"8.4/4.5 mmHg\", \"7.6/5.4 mmHg\", \"8', 16, 60))], [15, SyntaxError('invalid syntax', ('<unknown>', 1, 6, 'ERROR: The prompt size exceeds the context window size and cannot be processed.', 1, 7))], [16, SyntaxError('unterminated string literal (detected at line 16)', ('<unknown>', 16, 10, '\"value\": \"greater reductions in diastolic and systolic ambulatory blood pressure for olmesartan medoxomil/amlodipine/hydrochlorothiazide tablets 40/10/25 mg compared to each of the dual combination', 16, 10))], [18, SyntaxError('unterminated string literal (detected at line 11)', ('<unknown>', 11, 110, '            [\"abnormal mental status\", \"cerebrospinal fluid cryptococcal antigen titer greater than 1:1024\", \"cerebrospinal fluid white blood cell count of less than 20 cells/', 11, 110))], [19, SyntaxError('invalid syntax', ('<unknown>', 1, 6, 'ERROR: The prompt size exceeds the context window size and cannot be processed.', 1, 7))], [20, SyntaxError('invalid syntax', ('<unknown>', 8, 1, '{\\n', 8, 2))], [21, SyntaxError(\"'{' was never closed\", ('<unknown>', 7, 1, '{', 7, 0))], [22, SyntaxError('invalid syntax', ('<unknown>', 1, 6, 'ERROR: The prompt size exceeds the context window size and cannot be processed.', 1, 7))], [23, SyntaxError('invalid syntax', ('<unknown>', 1, 6, 'ERROR: The prompt size exceeds the context window size and cannot be processed.', 1, 7))], [24, SyntaxError('invalid syntax', ('<unknown>', 1, 6, 'ERROR: The prompt size exceeds the context window size and cannot be processed.', 1, 7))], [25, SyntaxError('invalid syntax', ('<unknown>', 1, 6, 'ERROR: The prompt size exceeds the context window size and cannot be processed.', 1, 7))], [26, SyntaxError('invalid syntax', ('<unknown>', 1, 6, 'ERROR: The prompt size exceeds the context window size and cannot be processed.', 1, 7))], [28, SyntaxError(\"expression expected after dictionary key and ':'\", ('<unknown>', 4, 16, '        \"value\": [55%, 60%],\\n', 4, 17))], [29, SyntaxError('invalid syntax', ('<unknown>', 1, 6, 'ERROR: The prompt size exceeds the context window size and cannot be processed.', 1, 7))], [30, SyntaxError('invalid syntax', ('<unknown>', 1, 6, 'ERROR: The prompt size exceeds the context window size and cannot be processed.', 1, 7))], [31, SyntaxError('invalid decimal literal', ('<unknown>', 4, 26, '        \"value\": [67%, <13±27 to 1±2 per year],', 4, 26))], [32, SyntaxError('invalid syntax', ('<unknown>', 1, 6, 'ERROR: The prompt size exceeds the context window size and cannot be processed.', 1, 7))], [33, SyntaxError('invalid syntax', ('<unknown>', 1, 6, 'ERROR: The prompt size exceeds the context window size and cannot be processed.', 1, 7))], [34, SyntaxError('invalid syntax', ('<unknown>', 1, 6, 'ERROR: The prompt size exceeds the context window size and cannot be processed.', 1, 7))], [35, SyntaxError('invalid syntax', ('<unknown>', 1, 6, 'ERROR: The prompt size exceeds the context window size and cannot be processed.', 1, 7))], [36, SyntaxError('invalid syntax', ('<unknown>', 1, 6, 'ERROR: The prompt size exceeds the context window size and cannot be processed.', 1, 7))], [37, SyntaxError('invalid syntax', ('<unknown>', 1, 6, 'ERROR: The prompt size exceeds the context window size and cannot be processed.', 1, 7))], [38, SyntaxError('invalid syntax', ('<unknown>', 1, 6, 'ERROR: The prompt size exceeds the context window size and cannot be processed.', 1, 7))], [39, SyntaxError(\"'{' was never closed\", ('<unknown>', 1, 1, '{', 1, 0))], [40, SyntaxError('invalid syntax', ('<unknown>', 1, 6, 'ERROR: The prompt size exceeds the context window size and cannot be processed.', 1, 7))], [41, SyntaxError('invalid syntax', ('<unknown>', 1, 6, 'ERROR: The prompt size exceeds the context window size and cannot be processed.', 1, 7))], [42, SyntaxError('invalid syntax', ('<unknown>', 1, 6, 'ERROR: The prompt size exceeds the context window size and cannot be processed.', 1, 7))], [43, SyntaxError(\"':' expected after dictionary key\", ('<unknown>', 7, 5, '    {', 11, 0))], [44, SyntaxError('invalid syntax', ('<unknown>', 1, 6, 'ERROR: The prompt size exceeds the context window size and cannot be processed.', 1, 7))], [45, SyntaxError('invalid syntax', ('<unknown>', 1, 6, 'ERROR: The prompt size exceeds the context window size and cannot be processed.', 1, 7))], [48, SyntaxError(\"'{' was never closed\", ('<unknown>', 1, 1, '{\"outcome\": {', 1, 0))], [49, SyntaxError('invalid syntax', ('<unknown>', 1, 6, 'ERROR: The prompt size exceeds the context window size and cannot be processed.', 1, 7))]]\n"
     ]
    }
   ],
   "source": [
    "import ast\n",
    "\n",
    "print(test_run['outcome_raw'][0])\n",
    "\n",
    "broken_json = []\n",
    "working_json = []\n",
    "\n",
    "counter = 0\n",
    "for i in test_run['outcome_raw']:\n",
    "    try:\n",
    "        ast.literal_eval(i)\n",
    "        working_json.append(counter)\n",
    "    except Exception as e:\n",
    "        broken_json.append([counter,e])\n",
    "    finally:\n",
    "        counter += 1\n",
    "\n",
    "print(f'{working_json} \\n {broken_json}')"
   ]
  },
  {
   "cell_type": "code",
   "execution_count": 50,
   "metadata": {},
   "outputs": [
    {
     "data": {
      "text/plain": [
       "{'outcome': {'metric': 'Durable Complete Response Rate',\n",
       "  'value': '30%',\n",
       "  'additional\\\\_descriptors': ['Independent Review Committee (IRC)-assessed rate of durable CR, as confirmed by maintenance of hematologic remission (hemoglobin ≥ 11 g/dL, neutrophils ≥ 1500/mm3 , and platelets ≥ 100,000/mm3 without transfusions or growth factor for at least 4 weeks) more than 180 days after IRC-assessed CR.',\n",
       "   '95% Confidence Interval: 20%, 41.']}}"
      ]
     },
     "execution_count": 50,
     "metadata": {},
     "output_type": "execute_result"
    }
   ],
   "source": [
    "ast.literal_eval(test_run['outcome_raw'][5])"
   ]
  },
  {
   "cell_type": "code",
   "execution_count": 40,
   "metadata": {},
   "outputs": [
    {
     "name": "stdout",
     "output_type": "stream",
     "text": [
      "invalid syntax (<unknown>, line 7)\n",
      "'{' was never closed (<unknown>, line 1)\n",
      "unterminated string literal (detected at line 11) (<unknown>, line 11)\n",
      "invalid syntax (<unknown>, line 1)\n",
      "'{' was never closed (<unknown>, line 1)\n",
      "invalid syntax (<unknown>, line 1)\n",
      "invalid syntax (<unknown>, line 1)\n",
      "invalid syntax (<unknown>, line 1)\n",
      "invalid syntax (<unknown>, line 1)\n",
      "invalid syntax (<unknown>, line 1)\n",
      "invalid syntax (<unknown>, line 1)\n",
      "invalid syntax (<unknown>, line 4)\n",
      "unterminated string literal (detected at line 16) (<unknown>, line 16)\n",
      "invalid syntax (<unknown>, line 1)\n",
      "unterminated string literal (detected at line 16) (<unknown>, line 16)\n",
      "unterminated string literal (detected at line 11) (<unknown>, line 11)\n",
      "invalid syntax (<unknown>, line 1)\n",
      "invalid syntax (<unknown>, line 8)\n",
      "'{' was never closed (<unknown>, line 7)\n",
      "invalid syntax (<unknown>, line 1)\n",
      "invalid syntax (<unknown>, line 1)\n",
      "invalid syntax (<unknown>, line 1)\n",
      "invalid syntax (<unknown>, line 1)\n",
      "invalid syntax (<unknown>, line 1)\n",
      "expression expected after dictionary key and ':' (<unknown>, line 4)\n",
      "invalid syntax (<unknown>, line 1)\n",
      "invalid syntax (<unknown>, line 1)\n",
      "invalid decimal literal (<unknown>, line 4)\n",
      "invalid syntax (<unknown>, line 1)\n",
      "invalid syntax (<unknown>, line 1)\n",
      "invalid syntax (<unknown>, line 1)\n",
      "invalid syntax (<unknown>, line 1)\n",
      "invalid syntax (<unknown>, line 1)\n",
      "invalid syntax (<unknown>, line 1)\n",
      "invalid syntax (<unknown>, line 1)\n",
      "'{' was never closed (<unknown>, line 1)\n",
      "invalid syntax (<unknown>, line 1)\n",
      "invalid syntax (<unknown>, line 1)\n",
      "invalid syntax (<unknown>, line 1)\n",
      "':' expected after dictionary key (<unknown>, line 7)\n",
      "invalid syntax (<unknown>, line 1)\n",
      "invalid syntax (<unknown>, line 1)\n",
      "'{' was never closed (<unknown>, line 1)\n",
      "invalid syntax (<unknown>, line 1)\n"
     ]
    }
   ],
   "source": [
    "errors = []\n",
    "for error in broken_json:\n",
    "    errors.append(error[1])\n",
    "\n",
    "for error in errors:\n",
    "    print(error)"
   ]
  },
  {
   "cell_type": "markdown",
   "metadata": {},
   "source": [
    "### Bulk Trial 2 (Outcome)"
   ]
  },
  {
   "cell_type": "code",
   "execution_count": 10,
   "metadata": {},
   "outputs": [
    {
     "data": {
      "text/plain": [
       "{'result': {'outcome': {'metric': 'string',\n",
       "   'value': 'string or integer',\n",
       "   'unit_of_measure': 'string',\n",
       "   'descriptors': 'string'}}}"
      ]
     },
     "execution_count": 10,
     "metadata": {},
     "output_type": "execute_result"
    }
   ],
   "source": [
    "import json\n",
    "f = '''\n",
    "{\n",
    "  \"result\": {\n",
    "    \"outcome\": {\n",
    "      \"metric\": \"string\",\n",
    "      \"value\": \"string or integer\",\n",
    "      \"unit_of_measure\": \"string\",\n",
    "      \"descriptors\": \"string\"\n",
    "    }\n",
    "  }\n",
    "}\n",
    "'''\n",
    "json.loads(f)"
   ]
  },
  {
   "cell_type": "code",
   "execution_count": 6,
   "metadata": {},
   "outputs": [
    {
     "name": "stderr",
     "output_type": "stream",
     "text": [
      "/var/folders/m6/b6y4g9114836jky8p81w12mchscvrj/T/ipykernel_96298/673788648.py:2: SettingWithCopyWarning: \n",
      "A value is trying to be set on a copy of a slice from a DataFrame.\n",
      "Try using .loc[row_indexer,col_indexer] = value instead\n",
      "\n",
      "See the caveats in the documentation: https://pandas.pydata.org/pandas-docs/stable/user_guide/indexing.html#returning-a-view-versus-a-copy\n",
      "  test_run['outcome_raw'] = \"None\"\n",
      "/var/folders/m6/b6y4g9114836jky8p81w12mchscvrj/T/ipykernel_96298/673788648.py:3: SettingWithCopyWarning: \n",
      "A value is trying to be set on a copy of a slice from a DataFrame.\n",
      "Try using .loc[row_indexer,col_indexer] = value instead\n",
      "\n",
      "See the caveats in the documentation: https://pandas.pydata.org/pandas-docs/stable/user_guide/indexing.html#returning-a-view-versus-a-copy\n",
      "  test_run['outcome_json'] = \"None\"\n"
     ]
    },
    {
     "data": {
      "text/html": [
       "<div>\n",
       "<style scoped>\n",
       "    .dataframe tbody tr th:only-of-type {\n",
       "        vertical-align: middle;\n",
       "    }\n",
       "\n",
       "    .dataframe tbody tr th {\n",
       "        vertical-align: top;\n",
       "    }\n",
       "\n",
       "    .dataframe thead th {\n",
       "        text-align: right;\n",
       "    }\n",
       "</style>\n",
       "<table border=\"1\" class=\"dataframe\">\n",
       "  <thead>\n",
       "    <tr style=\"text-align: right;\">\n",
       "      <th></th>\n",
       "      <th>brand_name</th>\n",
       "      <th>application_number</th>\n",
       "      <th>adverse_reactions</th>\n",
       "      <th>clinical_studies</th>\n",
       "      <th>indications_and_usage</th>\n",
       "      <th>contraindications</th>\n",
       "      <th>warnings_and_cautions</th>\n",
       "      <th>warnings</th>\n",
       "      <th>precautions</th>\n",
       "      <th>pharmacokinetics</th>\n",
       "      <th>purpose</th>\n",
       "      <th>clinical_pharmacology</th>\n",
       "      <th>active_ingredient</th>\n",
       "      <th>stop_use</th>\n",
       "      <th>boxed_warning</th>\n",
       "      <th>pharmacodynamics</th>\n",
       "      <th>pharmacogenomics</th>\n",
       "      <th>outcome_raw</th>\n",
       "      <th>outcome_json</th>\n",
       "    </tr>\n",
       "  </thead>\n",
       "  <tbody>\n",
       "    <tr>\n",
       "      <th>0</th>\n",
       "      <td>AMOXICILLIN AND CLAVULANATE POTASSIUM</td>\n",
       "      <td>ANDA065117</td>\n",
       "      <td>ADVERSE REACTIONS SECTION The following are di...</td>\n",
       "      <td>CLINICAL STUDIES SECTION 14.1 H. pylori Eradic...</td>\n",
       "      <td>INDICATIONS &amp; USAGE SECTION To reduce the deve...</td>\n",
       "      <td>CONTRAINDICATIONS SECTION Amoxicillinfor oral ...</td>\n",
       "      <td>WARNINGS AND PRECAUTIONS SECTION 5.1 Anaphylac...</td>\n",
       "      <td>NaN</td>\n",
       "      <td>NaN</td>\n",
       "      <td>NaN</td>\n",
       "      <td>NaN</td>\n",
       "      <td>CLINICAL PHARMACOLOGY SECTION 12.1 Mechanism o...</td>\n",
       "      <td>NaN</td>\n",
       "      <td>NaN</td>\n",
       "      <td>NaN</td>\n",
       "      <td>NaN</td>\n",
       "      <td>NaN</td>\n",
       "      <td>None</td>\n",
       "      <td>None</td>\n",
       "    </tr>\n",
       "    <tr>\n",
       "      <th>1</th>\n",
       "      <td>ARTHROTEC</td>\n",
       "      <td>NDA020607</td>\n",
       "      <td>6 ADVERSE REACTIONS The following adverse reac...</td>\n",
       "      <td>14 CLINICAL STUDIES Osteoarthritis Diclofenac ...</td>\n",
       "      <td>1 INDICATIONS AND USAGE ARTHROTEC is indicated...</td>\n",
       "      <td>4 CONTRAINDICATIONS ARTHROTEC is contraindicat...</td>\n",
       "      <td>5 WARNINGS AND PRECAUTIONS • Embryo-Fetal Toxi...</td>\n",
       "      <td>NaN</td>\n",
       "      <td>NaN</td>\n",
       "      <td>12.3 Pharmacokinetics General Pharmacokinetic ...</td>\n",
       "      <td>NaN</td>\n",
       "      <td>12 CLINICAL PHARMACOLOGY 12.1 Mechanism of Act...</td>\n",
       "      <td>NaN</td>\n",
       "      <td>NaN</td>\n",
       "      <td>WARNING: RISK OF UTERINE RUPTURE, ABORTION, PR...</td>\n",
       "      <td>NaN</td>\n",
       "      <td>NaN</td>\n",
       "      <td>None</td>\n",
       "      <td>None</td>\n",
       "    </tr>\n",
       "    <tr>\n",
       "      <th>2</th>\n",
       "      <td>Amoxicillin and Clavulanate Potassium</td>\n",
       "      <td>ANDA091569</td>\n",
       "      <td>6 ADVERSE REACTIONS The following are discusse...</td>\n",
       "      <td>14 CLINICAL STUDIES 14.1 Lower Respiratory Tra...</td>\n",
       "      <td>1 INDICATIONS AND USAGE Amoxicillin and clavul...</td>\n",
       "      <td>4 CONTRAINDICATIONS History of a serious hyper...</td>\n",
       "      <td>5 WARNINGS AND PRECAUTIONS Serious (including ...</td>\n",
       "      <td>NaN</td>\n",
       "      <td>NaN</td>\n",
       "      <td>12.3 Pharmacokinetics Mean amoxicillin and cla...</td>\n",
       "      <td>NaN</td>\n",
       "      <td>12 CLINICAL PHARMACOLOGY 12.1 Mechanism of Act...</td>\n",
       "      <td>NaN</td>\n",
       "      <td>NaN</td>\n",
       "      <td>NaN</td>\n",
       "      <td>NaN</td>\n",
       "      <td>NaN</td>\n",
       "      <td>None</td>\n",
       "      <td>None</td>\n",
       "    </tr>\n",
       "    <tr>\n",
       "      <th>3</th>\n",
       "      <td>ADVAIR DISKUS</td>\n",
       "      <td>NDA021077</td>\n",
       "      <td>6 ADVERSE REACTIONS Use of LABA may result in ...</td>\n",
       "      <td>14 CLINICAL STUDIES 14.1 Asthma Adult and Adol...</td>\n",
       "      <td>1 INDICATIONS AND USAGE ADVAIR DISKUS is a com...</td>\n",
       "      <td>4 CONTRAINDICATIONS The use of ADVAIR DISKUS i...</td>\n",
       "      <td>5 WARNINGS AND PRECAUTIONS • LABA monotherapy ...</td>\n",
       "      <td>NaN</td>\n",
       "      <td>NaN</td>\n",
       "      <td>12.3 Pharmacokinetics Absorption Fluticasone P...</td>\n",
       "      <td>NaN</td>\n",
       "      <td>12 CLINICAL PHARMACOLOGY 12.1 Mechanism of Act...</td>\n",
       "      <td>NaN</td>\n",
       "      <td>NaN</td>\n",
       "      <td>NaN</td>\n",
       "      <td>12.2 Pharmacodynamics ADVAIR DISKUS Healthy Su...</td>\n",
       "      <td>NaN</td>\n",
       "      <td>None</td>\n",
       "      <td>None</td>\n",
       "    </tr>\n",
       "    <tr>\n",
       "      <th>4</th>\n",
       "      <td>Ampicillin and Sulbactam</td>\n",
       "      <td>ANDA090579</td>\n",
       "      <td>ADVERSE REACTIONS Adult Patients Ampicillin an...</td>\n",
       "      <td>CLINICAL STUDIES Skin and Skin Structure Infec...</td>\n",
       "      <td>INDICATIONS AND USAGE Ampicillin and sulbactam...</td>\n",
       "      <td>CONTRAINDICATIONS The use of ampicillin and su...</td>\n",
       "      <td>NaN</td>\n",
       "      <td>WARNINGS Hypersensitivity Serious and occasion...</td>\n",
       "      <td>PRECAUTIONS General A high percentage of patie...</td>\n",
       "      <td>NaN</td>\n",
       "      <td>NaN</td>\n",
       "      <td>CLINICAL PHARMACOLOGY General Immediately afte...</td>\n",
       "      <td>NaN</td>\n",
       "      <td>NaN</td>\n",
       "      <td>NaN</td>\n",
       "      <td>NaN</td>\n",
       "      <td>NaN</td>\n",
       "      <td>None</td>\n",
       "      <td>None</td>\n",
       "    </tr>\n",
       "  </tbody>\n",
       "</table>\n",
       "</div>"
      ],
      "text/plain": [
       "                              brand_name application_number  \\\n",
       "0  AMOXICILLIN AND CLAVULANATE POTASSIUM         ANDA065117   \n",
       "1                              ARTHROTEC          NDA020607   \n",
       "2  Amoxicillin and Clavulanate Potassium         ANDA091569   \n",
       "3                          ADVAIR DISKUS          NDA021077   \n",
       "4               Ampicillin and Sulbactam         ANDA090579   \n",
       "\n",
       "                                   adverse_reactions  \\\n",
       "0  ADVERSE REACTIONS SECTION The following are di...   \n",
       "1  6 ADVERSE REACTIONS The following adverse reac...   \n",
       "2  6 ADVERSE REACTIONS The following are discusse...   \n",
       "3  6 ADVERSE REACTIONS Use of LABA may result in ...   \n",
       "4  ADVERSE REACTIONS Adult Patients Ampicillin an...   \n",
       "\n",
       "                                    clinical_studies  \\\n",
       "0  CLINICAL STUDIES SECTION 14.1 H. pylori Eradic...   \n",
       "1  14 CLINICAL STUDIES Osteoarthritis Diclofenac ...   \n",
       "2  14 CLINICAL STUDIES 14.1 Lower Respiratory Tra...   \n",
       "3  14 CLINICAL STUDIES 14.1 Asthma Adult and Adol...   \n",
       "4  CLINICAL STUDIES Skin and Skin Structure Infec...   \n",
       "\n",
       "                               indications_and_usage  \\\n",
       "0  INDICATIONS & USAGE SECTION To reduce the deve...   \n",
       "1  1 INDICATIONS AND USAGE ARTHROTEC is indicated...   \n",
       "2  1 INDICATIONS AND USAGE Amoxicillin and clavul...   \n",
       "3  1 INDICATIONS AND USAGE ADVAIR DISKUS is a com...   \n",
       "4  INDICATIONS AND USAGE Ampicillin and sulbactam...   \n",
       "\n",
       "                                   contraindications  \\\n",
       "0  CONTRAINDICATIONS SECTION Amoxicillinfor oral ...   \n",
       "1  4 CONTRAINDICATIONS ARTHROTEC is contraindicat...   \n",
       "2  4 CONTRAINDICATIONS History of a serious hyper...   \n",
       "3  4 CONTRAINDICATIONS The use of ADVAIR DISKUS i...   \n",
       "4  CONTRAINDICATIONS The use of ampicillin and su...   \n",
       "\n",
       "                               warnings_and_cautions  \\\n",
       "0  WARNINGS AND PRECAUTIONS SECTION 5.1 Anaphylac...   \n",
       "1  5 WARNINGS AND PRECAUTIONS • Embryo-Fetal Toxi...   \n",
       "2  5 WARNINGS AND PRECAUTIONS Serious (including ...   \n",
       "3  5 WARNINGS AND PRECAUTIONS • LABA monotherapy ...   \n",
       "4                                                NaN   \n",
       "\n",
       "                                            warnings  \\\n",
       "0                                                NaN   \n",
       "1                                                NaN   \n",
       "2                                                NaN   \n",
       "3                                                NaN   \n",
       "4  WARNINGS Hypersensitivity Serious and occasion...   \n",
       "\n",
       "                                         precautions  \\\n",
       "0                                                NaN   \n",
       "1                                                NaN   \n",
       "2                                                NaN   \n",
       "3                                                NaN   \n",
       "4  PRECAUTIONS General A high percentage of patie...   \n",
       "\n",
       "                                    pharmacokinetics purpose  \\\n",
       "0                                                NaN     NaN   \n",
       "1  12.3 Pharmacokinetics General Pharmacokinetic ...     NaN   \n",
       "2  12.3 Pharmacokinetics Mean amoxicillin and cla...     NaN   \n",
       "3  12.3 Pharmacokinetics Absorption Fluticasone P...     NaN   \n",
       "4                                                NaN     NaN   \n",
       "\n",
       "                               clinical_pharmacology active_ingredient  \\\n",
       "0  CLINICAL PHARMACOLOGY SECTION 12.1 Mechanism o...               NaN   \n",
       "1  12 CLINICAL PHARMACOLOGY 12.1 Mechanism of Act...               NaN   \n",
       "2  12 CLINICAL PHARMACOLOGY 12.1 Mechanism of Act...               NaN   \n",
       "3  12 CLINICAL PHARMACOLOGY 12.1 Mechanism of Act...               NaN   \n",
       "4  CLINICAL PHARMACOLOGY General Immediately afte...               NaN   \n",
       "\n",
       "  stop_use                                      boxed_warning  \\\n",
       "0      NaN                                                NaN   \n",
       "1      NaN  WARNING: RISK OF UTERINE RUPTURE, ABORTION, PR...   \n",
       "2      NaN                                                NaN   \n",
       "3      NaN                                                NaN   \n",
       "4      NaN                                                NaN   \n",
       "\n",
       "                                    pharmacodynamics pharmacogenomics  \\\n",
       "0                                                NaN              NaN   \n",
       "1                                                NaN              NaN   \n",
       "2                                                NaN              NaN   \n",
       "3  12.2 Pharmacodynamics ADVAIR DISKUS Healthy Su...              NaN   \n",
       "4                                                NaN              NaN   \n",
       "\n",
       "  outcome_raw outcome_json  \n",
       "0        None         None  \n",
       "1        None         None  \n",
       "2        None         None  \n",
       "3        None         None  \n",
       "4        None         None  "
      ]
     },
     "execution_count": 6,
     "metadata": {},
     "output_type": "execute_result"
    }
   ],
   "source": [
    "test_run = search_space[0:50]\n",
    "test_run['outcome_raw'] = \"None\"\n",
    "test_run['outcome_json'] = \"None\"\n",
    "test_run[0:5]"
   ]
  },
  {
   "cell_type": "code",
   "execution_count": null,
   "metadata": {},
   "outputs": [],
   "source": [
    "import llm\n",
    "import ast\n",
    "from tqdm import tqdm\n",
    "position = 0\n",
    "\n",
    "\n",
    "for clincal_study in tqdm(test_run['clinical_studies']):\n",
    "\n",
    "    model = llm.get_model('mistral-7b-instruct-v0')\n",
    "\n",
    "    response = model.prompt(f'Read the follow clinical studies for {test_run[\"brand_name\"][position]}. Identify the primary treatment outcomes for each patient group. Format your answer using this JSON format: {{\"result\": {{\"outcome\": {{\"metric\": \"string\",\"value\": \"string\",\"descriptors\": \"string\"}}}}}} \\n Text: {test_run[\"clinical_studies\"][position]}')\n",
    "\n",
    "    test_run['outcome_raw'][position] = response.text()\n",
    "    print(response.text())\n",
    "    position += 1\n",
    "\n"
   ]
  },
  {
   "cell_type": "code",
   "execution_count": 8,
   "metadata": {},
   "outputs": [],
   "source": [
    "# test_run.to_excel('20240320_clinical_trials_test_2.xlsx',sheet_name='20240320')"
   ]
  },
  {
   "cell_type": "markdown",
   "metadata": {},
   "source": [
    "### Bulk Trial 2 (next 50)\n",
    "Kernel crashes every 60 iterations, get some more sample data\n"
   ]
  },
  {
   "cell_type": "code",
   "execution_count": 2,
   "metadata": {},
   "outputs": [
    {
     "name": "stderr",
     "output_type": "stream",
     "text": [
      "/var/folders/m6/b6y4g9114836jky8p81w12mchscvrj/T/ipykernel_55689/1525692394.py:2: SettingWithCopyWarning: \n",
      "A value is trying to be set on a copy of a slice from a DataFrame.\n",
      "Try using .loc[row_indexer,col_indexer] = value instead\n",
      "\n",
      "See the caveats in the documentation: https://pandas.pydata.org/pandas-docs/stable/user_guide/indexing.html#returning-a-view-versus-a-copy\n",
      "  test_run['outcome_raw'] = \"None\"\n",
      "/var/folders/m6/b6y4g9114836jky8p81w12mchscvrj/T/ipykernel_55689/1525692394.py:3: SettingWithCopyWarning: \n",
      "A value is trying to be set on a copy of a slice from a DataFrame.\n",
      "Try using .loc[row_indexer,col_indexer] = value instead\n",
      "\n",
      "See the caveats in the documentation: https://pandas.pydata.org/pandas-docs/stable/user_guide/indexing.html#returning-a-view-versus-a-copy\n",
      "  test_run['outcome_json'] = \"None\"\n",
      "  0%|          | 0/50 [00:00<?, ?it/s]/var/folders/m6/b6y4g9114836jky8p81w12mchscvrj/T/ipykernel_55689/1525692394.py:22: SettingWithCopyWarning: \n",
      "A value is trying to be set on a copy of a slice from a DataFrame\n",
      "\n",
      "See the caveats in the documentation: https://pandas.pydata.org/pandas-docs/stable/user_guide/indexing.html#returning-a-view-versus-a-copy\n",
      "  test_run['outcome_raw'][position] = response.text()\n",
      "  2%|▏         | 1/50 [02:53<2:21:35, 173.37s/it]"
     ]
    },
    {
     "name": "stdout",
     "output_type": "stream",
     "text": [
      " {\"result\": {\n",
      "\"outcome\": {\n",
      "\"metric\": \"pain\",\n",
      "\"value\": \"-6.0\",\n",
      "\"descriptors\": \"mean change in WOMAC pain score after 12 weeks of treatment in Study I\"\n",
      "}\n",
      "},\n",
      "{\"outcome\": {\n",
      "\"metric\": \"physical function\",\n",
      "\"value\": \"-15.7\",\n",
      "\"descriptors\": \"mean change in Western Ontario and McMaster Universities LK3.1 OA Index (WOMAC) physical function dimension after 12 weeks of treatment in Study I\"\n",
      "}\n",
      "},\n",
      "{\"outcome\": {\n",
      "\"metric\": \"patient overall health assessment\",\n",
      "\"value\": \"-1.0\",\n",
      "\"descriptors\": \"mean change in Patient Overall Health Assessment (POHA) score after 12 weeks of treatment in Study I\"\n",
      "}\n",
      "},\n",
      "{\"outcome\": {\n",
      "\"metric\": \"p\n"
     ]
    },
    {
     "name": "stderr",
     "output_type": "stream",
     "text": [
      "  4%|▍         | 2/50 [07:13<2:59:38, 224.55s/it]"
     ]
    },
    {
     "name": "stdout",
     "output_type": "stream",
     "text": [
      " {\"result\": {\n",
      "\"outcome\": {\n",
      "\"metric\": \"Bleeding\",\n",
      "\"value\": \"Increased incidence of major and minor bleeding compared to placebo.\",\n",
      "\"descriptors\": \"Clinically important adverse reactions observed in trials comparing clopidogrel plus aspirin to placebo plus aspirin.\"\n",
      "}\n",
      "},\n",
      "{\"outcome\": {\n",
      "\"metric\": \"Other Adverse Events\",\n",
      "\"value\": \"No difference in the rate of adverse events (other than bleeding) between clopidogrel bisulfate and placebo.\",\n",
      "\"descriptors\": \"Clinically important adverse reactions observed in trials comparing clopidogrel plus aspirin to placebo plus aspirin.\"\n",
      "}\n",
      "},\n",
      "{\"outcome\": {\n",
      "\"metric\": \"Bleeding\",\n",
      "\"value\": \"Similar rates of major bleeding were observed in the clopidogrel bisulfate and placebo\n"
     ]
    },
    {
     "name": "stderr",
     "output_type": "stream",
     "text": [
      "  6%|▌         | 3/50 [07:15<1:36:06, 122.70s/it]"
     ]
    },
    {
     "name": "stdout",
     "output_type": "stream",
     "text": [
      "ERROR: The prompt size exceeds the context window size and cannot be processed.\n"
     ]
    },
    {
     "name": "stderr",
     "output_type": "stream",
     "text": [
      "  8%|▊         | 4/50 [08:33<1:20:45, 105.34s/it]"
     ]
    },
    {
     "name": "stdout",
     "output_type": "stream",
     "text": [
      " {\n",
      "\"result\": {\n",
      "\"outcome\": {\n",
      "\"metric\": \"IOP reduction\",\n",
      "\"value\": \"4 mmHg to 5 mmHg\",\n",
      "\"descriptors\": \"significant reductions in IOPs observed in patients with elevated IOP, equivalent to the reductions observed with dorzolamide hydrochloride ophthalmic solution, 2% dosed 3 times per day.\"\n",
      "}\n",
      "},\n",
      "{\n",
      "\"metric\": \"stinging and burning\",\n",
      "\"value\": \"less stinging and burning upon instillation than dorzolamide hydrochloride ophthalmic solution, 2%\",\n",
      "\"descriptors\": \"brinzolamide ophthalmic suspension associated with less discomfort during use compared to dorzolamide hydrochloride ophthalmic solution.\"\n",
      "}\n",
      "}\n"
     ]
    },
    {
     "name": "stderr",
     "output_type": "stream",
     "text": [
      " 10%|█         | 5/50 [11:55<1:45:00, 140.00s/it]"
     ]
    },
    {
     "name": "stdout",
     "output_type": "stream",
     "text": [
      " {\"result\": {\n",
      "\"outcome\": {\n",
      "\"metric\": \"Primary treatment outcomes\",\n",
      "\"value\": \"Improvement in investigator's global assessment, patient global assessment, patient pain assessment, total WOMAC score, and ACR20 response rate compared to placebo.\",\n",
      "\"descriptors\": \"Studies evaluated the efficacy of meloxicam for osteoarthritis, rheumatoid arthritis, juvenile rheumatoid arthritis (pauciarticular and polyarticular course), and found significant improvement in primary endpoints such as investigator's global assessment, patient global assessment, patient pain assessment, total WOMAC score, and ACR20 response rate compared to placebo.\"\n",
      "}\n",
      "}}\n"
     ]
    },
    {
     "name": "stderr",
     "output_type": "stream",
     "text": [
      " 12%|█▏        | 6/50 [11:56<1:08:07, 92.90s/it] "
     ]
    },
    {
     "name": "stdout",
     "output_type": "stream",
     "text": [
      "ERROR: The prompt size exceeds the context window size and cannot be processed.\n"
     ]
    },
    {
     "name": "stderr",
     "output_type": "stream",
     "text": [
      " 14%|█▍        | 7/50 [14:16<1:17:38, 108.33s/it]"
     ]
    },
    {
     "name": "stdout",
     "output_type": "stream",
     "text": [
      " {\"result\": {\n",
      "\"outcome\": {\n",
      "\"metric\": \"Pain relief\",\n",
      "\"value\": \"Demonstrated in some patients at doses of 50 mg and 75 mg.\",\n",
      "\"descriptors\": \"Single-dose models of pain following oral surgery.\"\n",
      "},\n",
      "{\n",
      "\"metric\": \"Analgesia superiority\",\n",
      "\"value\": \"Tramadol hydrochloride tablets tended to provide analgesia superior to codeine sulfate 60 mg, but not as effective as the combination of aspirin 650 mg with codeine phosphate 60 mg.\",\n",
      "\"descriptors\": \"Single-dose models of pain following oral surgery.\"\n",
      "},\n",
      "{\n",
      "\"metric\": \"Chronic pain management\",\n",
      "\"value\": \"Tramadol hydrochloride tablets have been studied in three long-term controlled trials involving a total of 82\n"
     ]
    },
    {
     "name": "stderr",
     "output_type": "stream",
     "text": [
      " 16%|█▌        | 8/50 [14:18<52:01, 74.31s/it]   "
     ]
    },
    {
     "name": "stdout",
     "output_type": "stream",
     "text": [
      "ERROR: The prompt size exceeds the context window size and cannot be processed.\n"
     ]
    },
    {
     "name": "stderr",
     "output_type": "stream",
     "text": [
      " 18%|█▊        | 9/50 [21:15<2:03:58, 181.43s/it]"
     ]
    },
    {
     "name": "stdout",
     "output_type": "stream",
     "text": [
      " {\"result\": {\n",
      "\"outcome\": {\n",
      "\"metric\": \"ADHD Studies\",\n",
      "\"value\": \"Effective treatment for ADHD symptoms in children and adults\",\n",
      "\"descriptors\": \"Established through 4 acute studies in pediatric patients (ages 6 to 18) and 2 randomized, double-blind, placebo-controlled clinical studies of adult patients (age 18 and older). Signs and symptoms were evaluated using the ADHD Rating Scale-IV-Parent Version or Conners Adult ADHD Rating Scale Screening Version. Primary outcome measure was the investigator administered and scored ADHDRS total score including hyperactive/impulsive and inattentive subscales or 18-item Total ADHD Symptom score (sum of inattentive and hyperactivity/impulsivity subscales from CAARS).\"\n",
      "}\n",
      "}}\n"
     ]
    },
    {
     "name": "stderr",
     "output_type": "stream",
     "text": [
      " 20%|██        | 10/50 [21:16<1:23:55, 125.88s/it]"
     ]
    },
    {
     "name": "stdout",
     "output_type": "stream",
     "text": [
      "ERROR: The prompt size exceeds the context window size and cannot be processed.\n"
     ]
    },
    {
     "name": "stderr",
     "output_type": "stream",
     "text": [
      " 22%|██▏       | 11/50 [21:18<57:04, 87.80s/it]   "
     ]
    },
    {
     "name": "stdout",
     "output_type": "stream",
     "text": [
      "ERROR: The prompt size exceeds the context window size and cannot be processed.\n"
     ]
    },
    {
     "name": "stderr",
     "output_type": "stream",
     "text": [
      " 24%|██▍       | 12/50 [21:53<45:22, 71.65s/it]"
     ]
    },
    {
     "name": "stdout",
     "output_type": "stream",
     "text": [
      " {\n",
      "\"result\": {\n",
      "\"outcome\": {\n",
      "\"metric\": \"Blood Pressure\",\n",
      "\"value\": \"Increase\",\n",
      "\"descriptors\": \"Systolic and mean blood pressure\"\n",
      "}\n",
      "},\n",
      "\"patient\\_groups\": [\"Septic Shock\", \"Post-Cardiotomy Vasodilatory Shock\"]\n",
      "}\n"
     ]
    },
    {
     "name": "stderr",
     "output_type": "stream",
     "text": [
      " 26%|██▌       | 13/50 [21:54<31:04, 50.40s/it]"
     ]
    },
    {
     "name": "stdout",
     "output_type": "stream",
     "text": [
      "ERROR: The prompt size exceeds the context window size and cannot be processed.\n"
     ]
    },
    {
     "name": "stderr",
     "output_type": "stream",
     "text": [
      " 28%|██▊       | 14/50 [21:56<21:22, 35.62s/it]"
     ]
    },
    {
     "name": "stdout",
     "output_type": "stream",
     "text": [
      "ERROR: The prompt size exceeds the context window size and cannot be processed.\n"
     ]
    },
    {
     "name": "stderr",
     "output_type": "stream",
     "text": [
      " 32%|███▏      | 16/50 [21:57<11:01, 19.46s/it]"
     ]
    },
    {
     "name": "stdout",
     "output_type": "stream",
     "text": [
      "ERROR: The prompt size exceeds the context window size and cannot be processed.\n"
     ]
    },
    {
     "name": "stderr",
     "output_type": "stream",
     "text": [
      " 34%|███▍      | 17/50 [27:49<56:09, 102.12s/it]"
     ]
    },
    {
     "name": "stdout",
     "output_type": "stream",
     "text": [
      " {\"result\": {\n",
      "    \"outcome\": {\n",
      "        \"metric\": \"LDL-C\",\n",
      "        \"value\": \"-54.4\",\n",
      "        \"descriptors\": \"mg/dL\"\n",
      "    }\n",
      "}}\n"
     ]
    },
    {
     "name": "stderr",
     "output_type": "stream",
     "text": [
      " 36%|███▌      | 18/50 [27:50<40:22, 75.71s/it] "
     ]
    },
    {
     "name": "stdout",
     "output_type": "stream",
     "text": [
      "ERROR: The prompt size exceeds the context window size and cannot be processed.\n"
     ]
    },
    {
     "name": "stderr",
     "output_type": "stream",
     "text": [
      " 38%|███▊      | 19/50 [31:59<1:03:27, 122.81s/it]"
     ]
    },
    {
     "name": "stdout",
     "output_type": "stream",
     "text": [
      " {\"result\": {\n",
      "\"outcome\": {\n",
      "\"metric\": \"treatment efficacy\",\n",
      "\"value\": \"established\",\n",
      "\"descriptors\": \"acute treatment for major depressive disorder (MDD) in adolescent patients, acute treatment for MDD in adults, and acute treatment for generalized anxiety disorder (GAD) in adult outpatients between 18 and 80 years of age who met DSM-IV criteria\"\n",
      "}\n",
      "}}\n"
     ]
    },
    {
     "name": "stderr",
     "output_type": "stream",
     "text": [
      " 40%|████      | 20/50 [32:01<44:28, 88.96s/it]   "
     ]
    },
    {
     "name": "stdout",
     "output_type": "stream",
     "text": [
      "ERROR: The prompt size exceeds the context window size and cannot be processed.\n"
     ]
    },
    {
     "name": "stderr",
     "output_type": "stream",
     "text": [
      " 42%|████▏     | 21/50 [32:02<30:54, 63.94s/it]"
     ]
    },
    {
     "name": "stdout",
     "output_type": "stream",
     "text": [
      "ERROR: The prompt size exceeds the context window size and cannot be processed.\n"
     ]
    },
    {
     "name": "stderr",
     "output_type": "stream",
     "text": [
      " 44%|████▍     | 22/50 [36:54<1:00:36, 129.88s/it]"
     ]
    },
    {
     "name": "stdout",
     "output_type": "stream",
     "text": [
      " {\"result\": {\n",
      "\"outcome\": {\n",
      "\"metric\": \"treatment outcomes\",\n",
      "\"value\": \"Naproxen has been studied in patients with rheumatoid arthritis, osteoarthritis, polyarticular juvenile idiopathic arthritis, ankylosing spondylitis, tendonitis and bursitis, and acute gout. Improvement in patients treated for rheumatoid arthritis was demonstrated by a reduction in joint swelling, a reduction in duration of morning stiffness, a reduction in disease activity as assessed by both the investigator and patient, and by increased mobility as demonstrated by a reduction in walking time.\",\n",
      "\"descriptors\": \"Naproxen has been studied in patients with various types of arthritis and other conditions. The primary treatment outcomes for each patient group are listed.\"\n",
      "}\n",
      "}}\n"
     ]
    },
    {
     "name": "stderr",
     "output_type": "stream",
     "text": [
      " 46%|████▌     | 23/50 [36:55<41:31, 92.27s/it]   "
     ]
    },
    {
     "name": "stdout",
     "output_type": "stream",
     "text": [
      "ERROR: The prompt size exceeds the context window size and cannot be processed.\n"
     ]
    },
    {
     "name": "stderr",
     "output_type": "stream",
     "text": [
      " 48%|████▊     | 24/50 [36:57<28:22, 65.49s/it]"
     ]
    },
    {
     "name": "stdout",
     "output_type": "stream",
     "text": [
      "ERROR: The prompt size exceeds the context window size and cannot be processed.\n"
     ]
    },
    {
     "name": "stderr",
     "output_type": "stream",
     "text": [
      " 50%|█████     | 25/50 [36:58<19:22, 46.51s/it]"
     ]
    },
    {
     "name": "stdout",
     "output_type": "stream",
     "text": [
      "ERROR: The prompt size exceeds the context window size and cannot be processed.\n"
     ]
    },
    {
     "name": "stderr",
     "output_type": "stream",
     "text": [
      " 52%|█████▏    | 26/50 [37:00<13:14, 33.10s/it]"
     ]
    },
    {
     "name": "stdout",
     "output_type": "stream",
     "text": [
      "ERROR: The prompt size exceeds the context window size and cannot be processed.\n"
     ]
    },
    {
     "name": "stderr",
     "output_type": "stream",
     "text": [
      " 54%|█████▍    | 27/50 [40:58<36:12, 94.47s/it]"
     ]
    },
    {
     "name": "stdout",
     "output_type": "stream",
     "text": [
      " {\"result\": {\n",
      "\"outcome\": {\n",
      "\"metric\": \"corneal fluorescein staining (CFS) score\",\n",
      "\"value\": \"mean change from baseline at each visit\",\n",
      "\"descriptors\": \"VEKTIS Study NCT01751126, Full Analysis Set\"\n",
      "}\n",
      "},\n",
      "{\"outcome\": {\n",
      "\"metric\": \"itching score\",\n",
      "\"value\": \"mean change from baseline at each visit\",\n",
      "\"descriptors\": \"VEKTIS Study NCT01751126, Full Analysis Set\"\n",
      "}\n",
      "},\n",
      "{\"outcome\": {\n",
      "\"metric\": \"corneal fluorescein staining (CFS) score\",\n",
      "\"value\": \"mean change from baseline at each visit\",\n",
      "\"descriptors\": \"NOVATIVE Study NCT00328653, Full Analysis Set\"\n",
      "}\n",
      "},\n"
     ]
    },
    {
     "name": "stderr",
     "output_type": "stream",
     "text": [
      " 56%|█████▌    | 28/50 [41:00<24:26, 66.68s/it]"
     ]
    },
    {
     "name": "stdout",
     "output_type": "stream",
     "text": [
      "ERROR: The prompt size exceeds the context window size and cannot be processed.\n"
     ]
    },
    {
     "name": "stderr",
     "output_type": "stream",
     "text": [
      " 58%|█████▊    | 29/50 [42:49<27:49, 79.49s/it]"
     ]
    },
    {
     "name": "stdout",
     "output_type": "stream",
     "text": [
      " {\"result\": {\n",
      "\"outcome\": {\n",
      "\"metric\": \"Blood Pressure\",\n",
      "\"value\": \"Increased\",\n",
      "\"descriptors\": \"Mean Arterial Pressure (MAP) in patients with hypotension associated with septic shock.\"\n",
      "}\n",
      "},\n",
      "{\n",
      "\"outcome\": {\n",
      "\"metric\": \"Pupil Dilation\",\n",
      "\"value\": \"Improved\",\n",
      "\"descriptors\": \"Mydriasis was maintained better in the eyes receiving epinephrine by an average of one to two millimeters in pupil diameter.\"\n",
      "}\n",
      "},\n",
      "{\n",
      "\"outcome\": {\n",
      "\"metric\": \"Pupil Constriction\",\n",
      "\"value\": \"Reduced\",\n",
      "\"descriptors\": \"Pupil constriction to 5 mm or less occurred more often in the patients not receiving epinephrine.\"\n",
      "}\n",
      "},\n",
      "{\n",
      "\"outcome\":\n"
     ]
    },
    {
     "name": "stderr",
     "output_type": "stream",
     "text": [
      " 60%|██████    | 30/50 [45:56<37:14, 111.72s/it]"
     ]
    },
    {
     "name": "stdout",
     "output_type": "stream",
     "text": [
      " {\"result\": {\n",
      "\"outcome\": {\n",
      "\"metric\": \"clinical response\",\n",
      "\"value\": \"significant improvement\",\n",
      "\"descriptors\": \"improvement compared to placebo in investigator's global assessment, patient global assessment, patient pain assessment, and total WOMAC score for osteoarthritis; ACR20 response rate for rheumatoid arthritis; proportion of responders for juvenile rheumatoid arthritis\"\n",
      "}\n",
      "}}\n"
     ]
    },
    {
     "name": "stderr",
     "output_type": "stream",
     "text": [
      " 62%|██████▏   | 31/50 [45:58<24:55, 78.69s/it] "
     ]
    },
    {
     "name": "stdout",
     "output_type": "stream",
     "text": [
      "ERROR: The prompt size exceeds the context window size and cannot be processed.\n"
     ]
    },
    {
     "name": "stderr",
     "output_type": "stream",
     "text": [
      " 64%|██████▍   | 32/50 [45:59<16:39, 55.54s/it]"
     ]
    },
    {
     "name": "stdout",
     "output_type": "stream",
     "text": [
      "ERROR: The prompt size exceeds the context window size and cannot be processed.\n"
     ]
    },
    {
     "name": "stderr",
     "output_type": "stream",
     "text": [
      " 66%|██████▌   | 33/50 [46:43<14:44, 52.06s/it]"
     ]
    },
    {
     "name": "stdout",
     "output_type": "stream",
     "text": [
      " {\n",
      "\"result\": {\n",
      "\"outcome\": {\n",
      "\"metric\": \"clinical response\",\n",
      "\"value\": \"82%\",\n",
      "\"descriptors\": \"functional bowel/irritable bowel syndrome, dicyclomine hydrochloride, initial doses of 160 mg daily (40 mg four times daily), placebo\"\n",
      "}\n",
      "}\n",
      "}\n"
     ]
    },
    {
     "name": "stderr",
     "output_type": "stream",
     "text": [
      " 68%|██████▊   | 34/50 [46:45<09:50, 36.89s/it]"
     ]
    },
    {
     "name": "stdout",
     "output_type": "stream",
     "text": [
      "ERROR: The prompt size exceeds the context window size and cannot be processed.\n"
     ]
    },
    {
     "name": "stderr",
     "output_type": "stream",
     "text": [
      " 70%|███████   | 35/50 [46:46<06:33, 26.27s/it]"
     ]
    },
    {
     "name": "stdout",
     "output_type": "stream",
     "text": [
      "ERROR: The prompt size exceeds the context window size and cannot be processed.\n"
     ]
    },
    {
     "name": "stderr",
     "output_type": "stream",
     "text": [
      " 72%|███████▏  | 36/50 [46:48<04:23, 18.83s/it]"
     ]
    },
    {
     "name": "stdout",
     "output_type": "stream",
     "text": [
      "ERROR: The prompt size exceeds the context window size and cannot be processed.\n"
     ]
    },
    {
     "name": "stderr",
     "output_type": "stream",
     "text": [
      " 74%|███████▍  | 37/50 [46:49<02:57, 13.62s/it]"
     ]
    },
    {
     "name": "stdout",
     "output_type": "stream",
     "text": [
      "ERROR: The prompt size exceeds the context window size and cannot be processed.\n"
     ]
    },
    {
     "name": "stderr",
     "output_type": "stream",
     "text": [
      " 76%|███████▌  | 38/50 [53:45<26:50, 134.20s/it]"
     ]
    },
    {
     "name": "stdout",
     "output_type": "stream",
     "text": [
      " {\"result\": {\n",
      "\"outcome\": {\n",
      "\"metric\": \"Virologic Outcomes\",\n",
      "\"value\": \"Suppression of HIV-\n"
     ]
    },
    {
     "name": "stderr",
     "output_type": "stream",
     "text": [
      " 78%|███████▊  | 39/50 [55:02<21:26, 117.00s/it]"
     ]
    },
    {
     "name": "stdout",
     "output_type": "stream",
     "text": [
      " {\n",
      "\"result\": {\n",
      "\"outcome\": {\n",
      "\"metric\": \"NSAID-induced mucosal injury\",\n",
      "\"value\": \"Reduction of rate from 70-75% on placebo to 10-30% on misoprostol\",\n",
      "\"descriptors\": \"Studies with doses of 200 mcg q.i.d. of misoprostol and NSAIDs (tolmetin, naproxen) showed a reduction in the rate of significant endoscopic injury.\"\n",
      "}\n",
      "},\n",
      "{\n",
      "\"outcome\": {\n",
      "\"metric\": \"Aspirin-induced mucosal injury\",\n",
      "\"value\": \"Reduction of rate from 70-75% on placebo to 10-30% on misoprostol\",\n",
      "\"descriptors\": \"Studies with doses of 25-2\n"
     ]
    },
    {
     "name": "stderr",
     "output_type": "stream",
     "text": [
      " 80%|████████  | 40/50 [55:03<13:43, 82.30s/it] "
     ]
    },
    {
     "name": "stdout",
     "output_type": "stream",
     "text": [
      "ERROR: The prompt size exceeds the context window size and cannot be processed.\n"
     ]
    },
    {
     "name": "stderr",
     "output_type": "stream",
     "text": [
      " 82%|████████▏ | 41/50 [56:23<12:15, 81.71s/it]"
     ]
    },
    {
     "name": "stdout",
     "output_type": "stream",
     "text": [
      " {\n",
      "\"result\": {\n",
      "\"outcome\": {\n",
      "\"metric\": \"symptom control\",\n",
      "\"value\": \"decreased frequency and severity\",\n",
      "\"descriptors\": \"in patients with chronic asthma, including those requiring inhaled corticosteroids or alternate-day oral corticosteroids.\"\n",
      "},\n",
      "{\n",
      "\"metric\": \"exacerbation management\",\n",
      "\"value\": \"reduced need for short courses of daily oral prednisone to relieve exacerbations unresponsive to bronchodilators\",\n",
      "\"descriptors\": \"in asthmatics.\"\n",
      "},\n",
      "{\n",
      "\"metric\": \"symptom control\",\n",
      "\"value\": \"decreased dyspnea, air trapping, work of breathing, and improved diaphragmatic muscle contractility\",\n",
      "\"descriptors\": \"in patients with chronic obstructive pulmonary disease (COPD) with little or no improvement\n"
     ]
    },
    {
     "name": "stderr",
     "output_type": "stream",
     "text": [
      " 84%|████████▍ | 42/50 [56:25<07:40, 57.59s/it]"
     ]
    },
    {
     "name": "stdout",
     "output_type": "stream",
     "text": [
      "ERROR: The prompt size exceeds the context window size and cannot be processed.\n"
     ]
    },
    {
     "name": "stderr",
     "output_type": "stream",
     "text": [
      " 86%|████████▌ | 43/50 [1:02:55<18:22, 157.46s/it]"
     ]
    },
    {
     "name": "stdout",
     "output_type": "stream",
     "text": [
      " {\"result\": {\n",
      "\"outcome\": {\n",
      "\"metric\": \"relief\",\n",
      "\"value\": \"70%\",\n",
      "\"descriptors\": \"headache relief achieved within 1 hour of a single 6 mg subcutaneous dose of sumatriptan injection in patients with moderate or severe migraine pain.\"\n",
      "}\n",
      "}}\n"
     ]
    },
    {
     "name": "stderr",
     "output_type": "stream",
     "text": [
      " 88%|████████▊ | 44/50 [1:02:56<11:03, 110.62s/it]"
     ]
    },
    {
     "name": "stdout",
     "output_type": "stream",
     "text": [
      "ERROR: The prompt size exceeds the context window size and cannot be processed.\n"
     ]
    },
    {
     "name": "stderr",
     "output_type": "stream",
     "text": [
      " 90%|█████████ | 45/50 [1:02:58<06:29, 77.83s/it] "
     ]
    },
    {
     "name": "stdout",
     "output_type": "stream",
     "text": [
      "ERROR: The prompt size exceeds the context window size and cannot be processed.\n"
     ]
    },
    {
     "name": "stderr",
     "output_type": "stream",
     "text": [
      " 92%|█████████▏| 46/50 [1:02:59<03:39, 54.88s/it]"
     ]
    },
    {
     "name": "stdout",
     "output_type": "stream",
     "text": [
      "ERROR: The prompt size exceeds the context window size and cannot be processed.\n"
     ]
    },
    {
     "name": "stderr",
     "output_type": "stream",
     "text": [
      " 94%|█████████▍| 47/50 [1:04:59<03:43, 74.39s/it]"
     ]
    },
    {
     "name": "stdout",
     "output_type": "stream",
     "text": [
      " {\"result\": {\n",
      "\"outcome\": {\n",
      "\"metric\": \"Alprazolam vs Placebo\",\n",
      "\"value\": \"Significantly better than placebo at each evaluation period as judged by psychometric instruments.\",\n",
      "\"descriptors\": \"Physician's Global Impressions, Hamilton Anxiety Rating Scale, Target Symptoms, Patient's Global Impressions, Self-Rating Symptom Scale.\"\n",
      "}\n",
      "},\n",
      "{\n",
      "\"outcome\": {\n",
      "\"metric\": \"Alprazolam vs Placebo\",\n",
      "\"value\": \"Superior to placebo on a variable defined as 'the number of patients with zero panic attacks' and global improvement score.\",\n",
      "\"descriptors\": \"3 short-term, placebo-controlled studies.\"\n",
      "}\n",
      "},\n",
      "{\n",
      "\"outcome\": {\n",
      "\"metric\": \"Alprazolam vs Placebo\",\n",
      "\"value\": \"\n"
     ]
    },
    {
     "name": "stderr",
     "output_type": "stream",
     "text": [
      " 96%|█████████▌| 48/50 [1:11:38<05:43, 171.67s/it]"
     ]
    },
    {
     "name": "stdout",
     "output_type": "stream",
     "text": [
      " {\"result\": {\n",
      "\"outcome\": {\n",
      "\"metric\": \"clinical trial\",\n",
      "\"value\": \"14\",\n",
      "\"descriptors\": \"Studies enrolling more than 1,000 patients during migraine attacks who were experiencing moderate or severe pain and 1 or more of the symptoms enumerated in Table 3. Studies comparing different doses of sumatriptan injection with placebo.\"\n",
      "}\n",
      "}}\n"
     ]
    },
    {
     "name": "stderr",
     "output_type": "stream",
     "text": [
      " 98%|█████████▊| 49/50 [1:11:39<02:00, 120.62s/it]"
     ]
    },
    {
     "name": "stdout",
     "output_type": "stream",
     "text": [
      "ERROR: The prompt size exceeds the context window size and cannot be processed.\n"
     ]
    },
    {
     "name": "stderr",
     "output_type": "stream",
     "text": [
      "100%|██████████| 50/50 [1:16:03<00:00, 91.26s/it] "
     ]
    },
    {
     "name": "stdout",
     "output_type": "stream",
     "text": [
      " {\"result\": {\n",
      "\"outcome\": {\n",
      "\"metric\": \"blood pressure reduction\",\n",
      "\"value\": \"17/8 mm Hg\",\n",
      "\"descriptors\": \"mean placebo-adjusted trough blood pressure reduction at 24 hours post-dosing with once-daily dosing of olmesartan medoxomil (20 mg) and hydrochlorothiazide (12.5 mg)\"\n",
      "}\n",
      "},\n",
      "{\"outcome\": {\n",
      "\"metric\": \"blood pressure reduction\",\n",
      "\"value\": \"14/5 mm Hg\",\n",
      "\"descriptors\": \"mean placebo-adjusted trough blood pressure reduction at 24 hours post-dosing with once-daily dosing of olmesartan medoxomil (40 mg) and hydrochlorothiazide (12.5 mg)\"\n",
      "}\n",
      "},\n",
      "{\"outcome\": {\n",
      "\"\n"
     ]
    },
    {
     "name": "stderr",
     "output_type": "stream",
     "text": [
      "\n"
     ]
    }
   ],
   "source": [
    "test_run = search_space[450:500]\n",
    "test_run['outcome_raw'] = \"None\"\n",
    "test_run['outcome_json'] = \"None\"\n",
    "test_run[0:5]\n",
    "\n",
    "import llm\n",
    "import ast\n",
    "from tqdm import tqdm\n",
    "position = 450\n",
    "\n",
    "\n",
    "for clincal_study in tqdm(test_run['clinical_studies']):\n",
    "\n",
    "    if position == 464:\n",
    "        position += 1\n",
    "        pass\n",
    "    else:\n",
    "        model = llm.get_model('mistral-7b-instruct-v0')\n",
    "\n",
    "        response = model.prompt(f'Read the follow clinical studies for {test_run[\"brand_name\"][position]}. Identify the primary treatment outcomes for each patient group. Format your answer using this JSON format: {{\"result\": {{\"outcome\": {{\"metric\": \"string\",\"value\": \"string\",\"descriptors\": \"string\"}}}}}} \\n Text: {test_run[\"clinical_studies\"][position]}')\n",
    "\n",
    "        test_run['outcome_raw'][position] = response.text()\n",
    "        print(response.text())\n",
    "        position += 1\n",
    "\n"
   ]
  },
  {
   "cell_type": "code",
   "execution_count": 3,
   "metadata": {},
   "outputs": [],
   "source": [
    "test_run.to_excel('20240322_clinical_trials_test_2-10.xlsx',sheet_name='20240322')"
   ]
  }
 ],
 "metadata": {
  "kernelspec": {
   "display_name": "projectname",
   "language": "python",
   "name": "projectname"
  },
  "language_info": {
   "codemirror_mode": {
    "name": "ipython",
    "version": 3
   },
   "file_extension": ".py",
   "mimetype": "text/x-python",
   "name": "python",
   "nbconvert_exporter": "python",
   "pygments_lexer": "ipython3",
   "version": "3.10.4"
  }
 },
 "nbformat": 4,
 "nbformat_minor": 2
}
